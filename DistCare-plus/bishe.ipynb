{
 "cells": [
  {
   "cell_type": "code",
   "execution_count": 1,
   "metadata": {
    "ExecuteTime": {
     "end_time": "2021-02-10T14:55:29.996921Z",
     "start_time": "2021-02-10T14:55:28.704721Z"
    }
   },
   "outputs": [
    {
     "name": "stderr",
     "output_type": "stream",
     "text": [
      "/home/zzj/anaconda3/envs/distcare/lib/python3.7/site-packages/ipykernel_launcher.py:4: DeprecationWarning: the imp module is deprecated in favour of importlib; see the module's documentation for alternative uses\n",
      "  after removing the cwd from sys.path.\n"
     ]
    }
   ],
   "source": [
    "import numpy as np\n",
    "import argparse\n",
    "import os\n",
    "import imp\n",
    "import re\n",
    "import pickle5 as pickle\n",
    "import datetime\n",
    "import random\n",
    "import math\n",
    "import logging\n",
    "import copy\n",
    "import matplotlib.pyplot as plt\n",
    "import sklearn\n",
    "import logging\n",
    "from sklearn.cluster import KMeans\n",
    "from sklearn.model_selection import StratifiedKFold\n",
    "from sklearn.neighbors import kneighbors_graph\n",
    "\n",
    "from torch.nn.utils.rnn import pad_packed_sequence, pack_padded_sequence\n",
    "\n",
    "import torch\n",
    "from torch import nn\n",
    "import torch.nn.utils.rnn as rnn_utils\n",
    "from torch.utils import data\n",
    "from torch.autograd import Variable\n",
    "import torch.nn.functional as F\n",
    "from torch.nn import Parameter\n",
    "\n",
    "from utils import utils\n",
    "from utils.readers import InHospitalMortalityReader\n",
    "from utils.preprocessing import Discretizer, Normalizer\n",
    "from utils import metrics\n",
    "from utils import common_utils"
   ]
  },
  {
   "cell_type": "code",
   "execution_count": 2,
   "metadata": {
    "ExecuteTime": {
     "end_time": "2021-02-10T14:55:52.924543Z",
     "start_time": "2021-02-10T14:55:52.918220Z"
    }
   },
   "outputs": [
    {
     "name": "stdout",
     "output_type": "stream",
     "text": [
      "available device: cuda:0\n"
     ]
    }
   ],
   "source": [
    "# Select the target dataset: COVID-19 Dataset from TJ Hospital or HM Hospital\n",
    "target_dataset = 'TJ' # 'TJ' or 'HM'\n",
    "\n",
    "# Use CUDA if available\n",
    "device = torch.device(\"cuda:0\" if torch.cuda.is_available() == True else 'cpu')\n",
    "print(\"available device: {}\".format(device))"
   ]
  },
  {
   "cell_type": "code",
   "execution_count": 3,
   "metadata": {},
   "outputs": [
    {
     "name": "stderr",
     "output_type": "stream",
     "text": [
      "2025-02-23 11:54:27,865 - INFO - 这是希望输出的info内容\n",
      "2025-02-23 11:54:27,875 - WARNING - 这是希望输出的warning内容\n"
     ]
    }
   ],
   "source": [
    "def get_logger(name):\n",
    "    logger = logging.getLogger(name)\n",
    "    logger.setLevel(logging.INFO)\n",
    "    \n",
    "    # 以下两行是为了在jupyter notebook 中不重复输出日志\n",
    "    if logger.root.handlers:\n",
    "        logger.root.handlers[0].setLevel(logging.WARNING)\n",
    " \n",
    "    handler_stdout = logging.StreamHandler()\n",
    "    handler_stdout.setLevel(logging.INFO)\n",
    "    handler_stdout.setFormatter(logging.Formatter('%(asctime)s - %(levelname)s - %(message)s'))\n",
    "    logger.addHandler(handler_stdout)\n",
    " \n",
    "    handler_file = logging.FileHandler('log_file.log', encoding='utf-8')\n",
    "    handler_file.setLevel(logging.DEBUG)\n",
    "    handler_file.setFormatter(logging.Formatter('%(asctime)s - %(name)s - %(levelname)s - %(message)s'))\n",
    "    logger.addHandler(handler_file)\n",
    " \n",
    "    return logger\n",
    "\n",
    "logger = get_logger(__name__)\n",
    "\n",
    "logger.debug('这是希望输出的debug内容')\n",
    "logger.info('这是希望输出的info内容')\n",
    "logger.warning('这是希望输出的warning内容')"
   ]
  },
  {
   "cell_type": "markdown",
   "metadata": {},
   "source": [
    "### Transfer Source Data & Model: \n",
    "#### Teacher Model\n"
   ]
  },
  {
   "cell_type": "code",
   "execution_count": 4,
   "metadata": {
    "ExecuteTime": {
     "end_time": "2021-02-10T14:55:32.579746Z",
     "start_time": "2021-02-10T14:55:32.571939Z"
    }
   },
   "outputs": [],
   "source": [
    "data_path = './data/Challenge/'\n",
    "small_part = False\n",
    "teacher_flag = True\n",
    "arg_timestep = 1.0\n",
    "batch_size = 256\n",
    "epochs = 100"
   ]
  },
  {
   "cell_type": "code",
   "execution_count": 5,
   "metadata": {
    "ExecuteTime": {
     "end_time": "2021-01-30T04:27:29.073353Z",
     "start_time": "2021-01-30T04:27:12.159717Z"
    }
   },
   "outputs": [],
   "source": [
    "all_x = pickle.load(open(data_path + 'new_x_front_fill.dat', 'rb'))\n",
    "all_y = pickle.load(open(data_path + 'new_y_front_fill.dat', 'rb'))\n",
    "all_names = pickle.load(open(data_path + 'new_name.dat', 'rb'))\n",
    "static = pickle.load(open(data_path + 'new_demo_front_fill.dat', 'rb'))\n",
    "mask_x = pickle.load(open(data_path + 'new_mask_x.dat', 'rb'))\n",
    "mask_demo = pickle.load(open(data_path + 'new_mask_demo.dat', 'rb'))\n",
    "all_x_len = [len(i) for i in all_x]\n",
    "\n",
    "# print(all_x[0])\n",
    "# print(mask_x[0])\n",
    "# print(all_names[0])\n",
    "# print(static[0])\n",
    "# logger.info(all_x[0])\n",
    "# logger.info(mask_x[0])\n",
    "# logger.info(all_names[0])\n",
    "# logger.info(static[0])"
   ]
  },
  {
   "cell_type": "code",
   "execution_count": 6,
   "metadata": {
    "ExecuteTime": {
     "end_time": "2021-01-30T04:27:41.051036Z",
     "start_time": "2021-01-30T04:27:29.075798Z"
    }
   },
   "outputs": [],
   "source": [
    "if target_dataset == 'TJ':\n",
    "    subset_idx = [27, 29, 18, 16, 26, 33, 28, 31, 32, 15, 11, 25, 21, 20, 9, 17, 30, 19]\n",
    "elif target_dataset == 'HM':\n",
    "    subset_idx = [0, 1, 2, 3, 5, 9, 11, 12, 13, 17, 18, 19, 20, 21, 22, 23, 24, 25, 26, 27, 28, 29, 30, 31, 32, 33]\n",
    "\n",
    "subset_cnt = len(subset_idx)\n",
    "other_idx = []\n",
    "for i in range(len(all_x[0][0])):\n",
    "    if i not in subset_idx:\n",
    "        other_idx.append(i)\n",
    "\n",
    "for i in range(len(all_x)):\n",
    "    cur = np.array(all_x[i], dtype=float)\n",
    "    cur_mask = np.array(mask_x[i])\n",
    "    cur_subset = cur[:, subset_idx]\n",
    "    cur_other = cur[:, other_idx]\n",
    "    cur_mask_subset = cur_mask[:, subset_idx]\n",
    "    cur_mask_other = cur_mask[:, other_idx]\n",
    "    all_x[i] = np.concatenate((cur_subset, cur_other), axis=1).tolist()\n",
    "    mask_x[i] = np.concatenate((cur_mask_subset, cur_mask_other), axis=1).tolist()\n",
    "# print(all_x[0])\n",
    "# print(mask_x[0])\n",
    "# print(len(all_x[0][0]))\n",
    "# logger.info(all_x[0])\n",
    "# logger.info(mask_x[0])\n",
    "# logger.info(len(all_x[0][0]))"
   ]
  },
  {
   "cell_type": "code",
   "execution_count": 7,
   "metadata": {
    "ExecuteTime": {
     "end_time": "2021-01-30T04:28:59.378928Z",
     "start_time": "2021-01-30T04:28:57.102580Z"
    }
   },
   "outputs": [
    {
     "name": "stderr",
     "output_type": "stream",
     "text": [
      "2025-02-23 11:54:57,591 - INFO - 32269\n",
      "2025-02-23 11:54:57,594 - INFO - 4034\n",
      "2025-02-23 11:54:57,595 - INFO - 4033\n"
     ]
    },
    {
     "name": "stdout",
     "output_type": "stream",
     "text": [
      "32269\n",
      "4034\n",
      "4033\n"
     ]
    }
   ],
   "source": [
    "train_num =int( len(all_x) * 0.8) + 1\n",
    "print(train_num)\n",
    "logger.info(train_num)\n",
    "dev_num =int( len(all_x) * 0.1) + 1\n",
    "print(dev_num)\n",
    "logger.info(dev_num)\n",
    "test_num =int( len(all_x) * 0.1)\n",
    "print(test_num)\n",
    "logger.info(test_num)\n",
    "assert(train_num+dev_num+test_num == len(all_x))\n",
    "\n",
    "train_x = []\n",
    "train_y = []\n",
    "train_names = []\n",
    "train_static = []\n",
    "train_x_len = []\n",
    "train_mask_x = []\n",
    "for idx in range(train_num):\n",
    "    train_x.append(all_x[idx])\n",
    "    train_y.append(int(all_y[idx][-1]))\n",
    "    train_names.append(all_names[idx])\n",
    "    train_static.append(static[idx])\n",
    "    train_x_len.append(all_x_len[idx])\n",
    "    train_mask_x.append(mask_x[idx])\n",
    "\n",
    "dev_x = []\n",
    "dev_y = []\n",
    "dev_names = []\n",
    "dev_static = []\n",
    "dev_x_len = []\n",
    "dev_mask_x = []\n",
    "for idx in range(train_num, train_num + dev_num):\n",
    "    dev_x.append(all_x[idx])\n",
    "    dev_y.append(int(all_y[idx][-1]))\n",
    "    dev_names.append(all_names[idx])\n",
    "    dev_static.append(static[idx])\n",
    "    dev_x_len.append(all_x_len[idx])\n",
    "    dev_mask_x.append(mask_x[idx])\n",
    "\n",
    "\n",
    "test_x = []\n",
    "test_y = []\n",
    "test_names = []\n",
    "test_static = []\n",
    "test_x_len = []\n",
    "test_mask_x = []\n",
    "for idx in range(train_num + dev_num, train_num + dev_num + test_num):\n",
    "    test_x.append(all_x[idx])\n",
    "    test_y.append(int(all_y[idx][-1]))\n",
    "    test_names.append(all_names[idx])\n",
    "    test_static.append(static[idx])\n",
    "    test_x_len.append(all_x_len[idx])\n",
    "    test_mask_x.append(mask_x[idx])\n",
    "\n",
    "\n",
    "assert(len(train_x) == train_num)\n",
    "assert(len(dev_x) == dev_num)\n",
    "assert(len(test_x) == test_num)"
   ]
  },
  {
   "cell_type": "code",
   "execution_count": 8,
   "metadata": {
    "ExecuteTime": {
     "end_time": "2021-01-30T04:29:02.456915Z",
     "start_time": "2021-01-30T04:29:02.443296Z"
    }
   },
   "outputs": [],
   "source": [
    "long_x = all_x\n",
    "long_y = [y[-1] for y in all_y]"
   ]
  },
  {
   "cell_type": "code",
   "execution_count": 9,
   "metadata": {
    "ExecuteTime": {
     "end_time": "2021-02-10T15:05:38.783950Z",
     "start_time": "2021-02-10T15:05:38.778517Z"
    }
   },
   "outputs": [],
   "source": [
    "def get_loss(y_pred, y_true):\n",
    "    loss = torch.nn.BCELoss()\n",
    "    return loss(y_pred, y_true)"
   ]
  },
  {
   "cell_type": "code",
   "execution_count": 10,
   "metadata": {
    "ExecuteTime": {
     "end_time": "2021-02-10T15:05:39.004588Z",
     "start_time": "2021-02-10T15:05:38.999638Z"
    }
   },
   "outputs": [],
   "source": [
    "def get_re_loss(y_pred, y_true):\n",
    "    loss = torch.nn.MSELoss()\n",
    "    return loss(y_pred, y_true)"
   ]
  },
  {
   "cell_type": "code",
   "execution_count": 11,
   "metadata": {
    "ExecuteTime": {
     "end_time": "2021-02-10T15:05:39.151905Z",
     "start_time": "2021-02-10T15:05:39.147577Z"
    }
   },
   "outputs": [],
   "source": [
    "def get_kl_loss(x_pred, x_target):\n",
    "    loss = torch.nn.KLDivLoss(reduce=True, size_average=True)\n",
    "    return loss(x_pred, x_target)"
   ]
  },
  {
   "cell_type": "code",
   "execution_count": 12,
   "metadata": {
    "ExecuteTime": {
     "end_time": "2021-02-10T15:05:39.322887Z",
     "start_time": "2021-02-10T15:05:39.313036Z"
    }
   },
   "outputs": [],
   "source": [
    "def get_wass_dist(x_pred, x_target):\n",
    "    m1 = torch.mean(x_pred, dim=0)\n",
    "    m2 = torch.mean(x_target, dim=0)\n",
    "    v1 = torch.var(x_pred, dim=0)\n",
    "    v2 = torch.var(x_target, dim=0)\n",
    "    p1 = torch.sum(torch.pow((m1 - m2), 2))\n",
    "    p2 = torch.sum(torch.pow(torch.pow(v1, 1/2) - torch.pow(v2, 1/2), 2))\n",
    "    return torch.pow(p1+p2, 1/2)"
   ]
  },
  {
   "cell_type": "code",
   "execution_count": 13,
   "metadata": {
    "ExecuteTime": {
     "end_time": "2021-02-10T15:05:41.142115Z",
     "start_time": "2021-02-10T15:05:41.134517Z"
    }
   },
   "outputs": [],
   "source": [
    "def pad_sents(sents, pad_token):\n",
    "\n",
    "    sents_padded = []\n",
    "\n",
    "    max_length = max([len(_) for _ in sents])\n",
    "    for i in sents:\n",
    "        padded = list(i) + [pad_token]*(max_length-len(i))\n",
    "        sents_padded.append(np.array(padded))\n",
    "\n",
    "\n",
    "    return np.array(sents_padded)"
   ]
  },
  {
   "cell_type": "code",
   "execution_count": 14,
   "metadata": {
    "ExecuteTime": {
     "end_time": "2021-02-10T15:05:41.301945Z",
     "start_time": "2021-02-10T15:05:41.287538Z"
    }
   },
   "outputs": [],
   "source": [
    "def batch_iter(x, y, mask, lens, batch_size, shuffle=False):\n",
    "    \"\"\" Yield batches of source and target sentences reverse sorted by length (largest to smallest).\n",
    "    @param data (list of (src_sent, tgt_sent)): list of tuples containing source and target sentence\n",
    "    @param batch_size (int): batch size\n",
    "    @param shuffle (boolean): whether to randomly shuffle the dataset\n",
    "    \"\"\"\n",
    "    batch_num = math.ceil(len(x) / batch_size) # 向下取整\n",
    "    index_array = list(range(len(x)))\n",
    "\n",
    "    if shuffle:\n",
    "        np.random.shuffle(index_array)\n",
    "\n",
    "    for i in range(batch_num):\n",
    "        indices = index_array[i * batch_size: (i + 1) * batch_size] #  fetch out all the induces\n",
    "        \n",
    "        examples = []\n",
    "        for idx in indices:\n",
    "            examples.append((x[idx], y[idx], mask[idx], lens[idx]))\n",
    "       \n",
    "        examples = sorted(examples, key=lambda e: len(e[0]), reverse=True)\n",
    "    \n",
    "        batch_x = [e[0] for e in examples]\n",
    "        batch_y = [e[1] for e in examples]\n",
    "        batch_mask_x = [e[2] for e in examples]\n",
    "#         batch_name = [e[2] for e in examples]\n",
    "        batch_lens = [e[3] for e in examples]\n",
    "\n",
    "        yield batch_x, batch_y, batch_mask_x, batch_lens"
   ]
  },
  {
   "cell_type": "code",
   "execution_count": 15,
   "metadata": {
    "ExecuteTime": {
     "end_time": "2021-02-10T15:05:41.394432Z",
     "start_time": "2021-02-10T15:05:41.386828Z"
    }
   },
   "outputs": [],
   "source": [
    "def length_to_mask(length, max_len=None, dtype=None):\n",
    "    \"\"\"length: B.\n",
    "    return B x max_len.\n",
    "    If max_len is None, then max of length will be used.\n",
    "    \"\"\"\n",
    "    assert len(length.shape) == 1, 'Length shape should be 1 dimensional.'\n",
    "    max_len = max_len or length.max().item()\n",
    "    mask = torch.arange(max_len, device=length.device,\n",
    "                        dtype=length.dtype).expand(len(length), max_len) < length.unsqueeze(1)\n",
    "    if dtype is not None:\n",
    "        mask = torch.as_tensor(mask, dtype=dtype, device=length.device)\n",
    "    return mask"
   ]
  },
  {
   "cell_type": "code",
   "execution_count": 16,
   "metadata": {
    "ExecuteTime": {
     "end_time": "2021-02-10T15:05:41.786588Z",
     "start_time": "2021-02-10T15:05:41.673200Z"
    }
   },
   "outputs": [],
   "source": [
    "class SingleAttention(nn.Module):\n",
    "    def __init__(self, attention_input_dim, attention_hidden_dim, attention_type='add', demographic_dim=12, time_aware=False, use_demographic=False):\n",
    "        super(SingleAttention, self).__init__()\n",
    "        \n",
    "        self.attention_type = attention_type\n",
    "        self.attention_hidden_dim = attention_hidden_dim\n",
    "        self.attention_input_dim = attention_input_dim\n",
    "        self.use_demographic = use_demographic\n",
    "        self.demographic_dim = demographic_dim\n",
    "        self.time_aware = time_aware\n",
    "\n",
    "        # batch_time = torch.arange(0, batch_mask.size()[1], dtype=torch.float32).reshape(1, batch_mask.size()[1], 1)\n",
    "        # batch_time = batch_time.repeat(batch_mask.size()[0], 1, 1)\n",
    "        \n",
    "        if attention_type == 'add':\n",
    "            if self.time_aware == True:\n",
    "                # self.Wx = nn.Parameter(torch.randn(attention_input_dim+1, attention_hidden_dim))\n",
    "                self.Wx = nn.Parameter(torch.randn(attention_input_dim, attention_hidden_dim))\n",
    "                self.Wtime_aware = nn.Parameter(torch.randn(1, attention_hidden_dim))\n",
    "                nn.init.kaiming_uniform_(self.Wtime_aware, a=math.sqrt(5))\n",
    "            else:\n",
    "                self.Wx = nn.Parameter(torch.randn(attention_input_dim, attention_hidden_dim))\n",
    "            self.Wt = nn.Parameter(torch.randn(attention_input_dim, attention_hidden_dim))\n",
    "            self.Wd = nn.Parameter(torch.randn(demographic_dim, attention_hidden_dim))\n",
    "            self.bh = nn.Parameter(torch.zeros(attention_hidden_dim,))\n",
    "            self.Wa = nn.Parameter(torch.randn(attention_hidden_dim, 1))\n",
    "            self.ba = nn.Parameter(torch.zeros(1,))\n",
    "            \n",
    "            nn.init.kaiming_uniform_(self.Wd, a=math.sqrt(5))\n",
    "            nn.init.kaiming_uniform_(self.Wx, a=math.sqrt(5))\n",
    "            nn.init.kaiming_uniform_(self.Wt, a=math.sqrt(5))\n",
    "            nn.init.kaiming_uniform_(self.Wa, a=math.sqrt(5))\n",
    "        elif attention_type == 'mul':\n",
    "            self.Wa = nn.Parameter(torch.randn(attention_input_dim, attention_input_dim))\n",
    "            self.ba = nn.Parameter(torch.zeros(1,))\n",
    "            \n",
    "            nn.init.kaiming_uniform_(self.Wa, a=math.sqrt(5))\n",
    "        elif attention_type == 'concat':\n",
    "            if self.time_aware == True:\n",
    "                self.Wh = nn.Parameter(torch.randn(2*attention_input_dim+1, attention_hidden_dim))\n",
    "            else:\n",
    "                self.Wh = nn.Parameter(torch.randn(2*attention_input_dim, attention_hidden_dim))\n",
    "\n",
    "            self.Wa = nn.Parameter(torch.randn(attention_hidden_dim, 1))\n",
    "            self.ba = nn.Parameter(torch.zeros(1,))\n",
    "            \n",
    "            nn.init.kaiming_uniform_(self.Wh, a=math.sqrt(5))\n",
    "            nn.init.kaiming_uniform_(self.Wa, a=math.sqrt(5))\n",
    "        else:\n",
    "            raise RuntimeError('Wrong attention type.')\n",
    "        \n",
    "        self.tanh = nn.Tanh()\n",
    "        self.softmax = nn.Softmax()\n",
    "    \n",
    "    def forward(self, input, demo=None):\n",
    " \n",
    "        batch_size, time_step, input_dim = input.size() # batch_size * time_step * hidden_dim(i)\n",
    "        time_decays = torch.tensor(range(time_step-1,-1,-1), dtype=torch.float32).unsqueeze(-1).unsqueeze(0).to(device)# 1*t*1\n",
    "        b_time_decays = time_decays.repeat(batch_size,1,1)# b t 1\n",
    "        \n",
    "        if self.attention_type == 'add': #B*T*I  @ H*I\n",
    "            q = torch.matmul(input[:,-1,:], self.Wt)# b h\n",
    "            q = torch.reshape(q, (batch_size, 1, self.attention_hidden_dim)) #B*1*H\n",
    "            if self.time_aware == True:\n",
    "                # k_input = torch.cat((input, time), dim=-1)\n",
    "                k = torch.matmul(input, self.Wx)#b t h\n",
    "                # k = torch.reshape(k, (batch_size, 1, time_step, self.attention_hidden_dim)) #B*1*T*H\n",
    "                time_hidden = torch.matmul(b_time_decays, self.Wtime_aware)#  b t h\n",
    "            else:\n",
    "                k = torch.matmul(input, self.Wx)# b t h\n",
    "                # k = torch.reshape(k, (batch_size, 1, time_step, self.attention_hidden_dim)) #B*1*T*H\n",
    "            if self.use_demographic == True:\n",
    "                d = torch.matmul(demo, self.Wd) #B*H\n",
    "                d = torch.reshape(d, (batch_size, 1, self.attention_hidden_dim)) # b 1 h\n",
    "            h = q + k + self.bh # b t h\n",
    "            if self.time_aware == True:\n",
    "                h += time_hidden\n",
    "            h = self.tanh(h) #B*T*H\n",
    "            e = torch.matmul(h, self.Wa) + self.ba #B*T*1\n",
    "            e = torch.reshape(e, (batch_size, time_step))# b t\n",
    "        elif self.attention_type == 'mul':\n",
    "            e = torch.matmul(input[:,-1,:], self.Wa)#b i\n",
    "            e = torch.matmul(e.unsqueeze(1), input.permute(0,2,1)).squeeze() + self.ba #b t\n",
    "        elif self.attention_type == 'concat':\n",
    "            q = input[:,-1,:].unsqueeze(1).repeat(1,time_step,1)# b t i\n",
    "            k = input\n",
    "            c = torch.cat((q, k), dim=-1) #B*T*2I\n",
    "            if self.time_aware == True:\n",
    "                c = torch.cat((c, b_time_decays), dim=-1) #B*T*2I+1\n",
    "            h = torch.matmul(c, self.Wh)\n",
    "            h = self.tanh(h)\n",
    "            e = torch.matmul(h, self.Wa) + self.ba #B*T*1\n",
    "            e = torch.reshape(e, (batch_size, time_step)) # b t \n",
    "        \n",
    "        a = self.softmax(e) #B*T\n",
    "        v = torch.matmul(a.unsqueeze(1), input).squeeze() #B*I\n",
    "\n",
    "        return v, a\n",
    "\n",
    "class FinalAttentionQKV(nn.Module):\n",
    "    def __init__(self, attention_input_dim, attention_hidden_dim, attention_type='add', dropout=None):\n",
    "        super(FinalAttentionQKV, self).__init__()\n",
    "        \n",
    "        self.attention_type = attention_type\n",
    "        self.attention_hidden_dim = attention_hidden_dim\n",
    "        self.attention_input_dim = attention_input_dim\n",
    "\n",
    "\n",
    "        self.W_q = nn.Linear(attention_input_dim, attention_hidden_dim)\n",
    "        self.W_k = nn.Linear(attention_input_dim, attention_hidden_dim)\n",
    "        self.W_v = nn.Linear(attention_input_dim, attention_hidden_dim)\n",
    "\n",
    "        self.W_out = nn.Linear(attention_hidden_dim, 1)\n",
    "\n",
    "        self.b_in = nn.Parameter(torch.zeros(1,))\n",
    "        self.b_out = nn.Parameter(torch.zeros(1,))\n",
    "\n",
    "        nn.init.kaiming_uniform_(self.W_q.weight, a=math.sqrt(5))\n",
    "        nn.init.kaiming_uniform_(self.W_k.weight, a=math.sqrt(5))\n",
    "        nn.init.kaiming_uniform_(self.W_v.weight, a=math.sqrt(5))\n",
    "        nn.init.kaiming_uniform_(self.W_out.weight, a=math.sqrt(5))\n",
    "\n",
    "        self.Wh = nn.Parameter(torch.randn(2*attention_input_dim, attention_hidden_dim))\n",
    "        self.Wa = nn.Parameter(torch.randn(attention_hidden_dim, 1))\n",
    "        self.ba = nn.Parameter(torch.zeros(1,))\n",
    "        \n",
    "        nn.init.kaiming_uniform_(self.Wh, a=math.sqrt(5))\n",
    "        nn.init.kaiming_uniform_(self.Wa, a=math.sqrt(5))\n",
    "        \n",
    "        self.dropout = nn.Dropout(p=dropout)\n",
    "        self.tanh = nn.Tanh()\n",
    "        self.softmax = nn.Softmax()\n",
    "        self.sigmoid = nn.Sigmoid()\n",
    "    \n",
    "    def forward(self, input):\n",
    " \n",
    "        batch_size, time_step, input_dim = input.size() # batch_size * input_dim + 1 * hidden_dim(i)\n",
    "        input_q = self.W_q(torch.mean(input, dim=1)) # b h\n",
    "        input_k = self.W_k(input)# b t h\n",
    "        input_v = self.W_v(input)# b t h\n",
    "\n",
    "        if self.attention_type == 'add': #B*T*I  @ H*I\n",
    "\n",
    "            q = torch.reshape(input_q, (batch_size, 1, self.attention_hidden_dim)) #B*1*H\n",
    "            h = q + input_k + self.b_in # b t h\n",
    "            h = self.tanh(h) #B*T*H\n",
    "            e = self.W_out(h) # b t 1\n",
    "            e = torch.reshape(e, (batch_size, time_step))# b t\n",
    "\n",
    "        elif self.attention_type == 'mul':\n",
    "            q = torch.reshape(input_q, (batch_size, self.attention_hidden_dim, 1)) #B*h 1\n",
    "            e = torch.matmul(input_k, q).squeeze()#b t\n",
    "            \n",
    "        elif self.attention_type == 'concat':\n",
    "            q = input_q.unsqueeze(1).repeat(1,time_step,1)# b t h\n",
    "            k = input_k\n",
    "            c = torch.cat((q, k), dim=-1) #B*T*2I\n",
    "            h = torch.matmul(c, self.Wh)\n",
    "            h = self.tanh(h)\n",
    "            e = torch.matmul(h, self.Wa) + self.ba #B*T*1\n",
    "            e = torch.reshape(e, (batch_size, time_step)) # b t \n",
    "        \n",
    "        a = self.softmax(e) #B*T\n",
    "        if self.dropout is not None:\n",
    "            a = self.dropout(a)\n",
    "        v = torch.matmul(a.unsqueeze(1), input_v).squeeze() #B*I\n",
    "\n",
    "        return v, a\n",
    "\n",
    "def clones(module, N):\n",
    "    \"Produce N identical layers.\"\n",
    "    return nn.ModuleList([copy.deepcopy(module) for _ in range(N)])\n",
    "\n",
    "def tile(a, dim, n_tile):\n",
    "    init_dim = a.size(dim)\n",
    "    repeat_idx = [1] * a.dim()\n",
    "    repeat_idx[dim] = n_tile\n",
    "    a = a.repeat(*(repeat_idx))\n",
    "    order_index = torch.LongTensor(np.concatenate([init_dim * np.arange(n_tile) + i for i in range(init_dim)])).to(device)\n",
    "    return torch.index_select(a, dim, order_index).to(device)\n",
    "\n",
    "class PositionwiseFeedForward(nn.Module): # new added\n",
    "    \"Implements FFN equation.\"\n",
    "    def __init__(self, d_model, d_ff, dropout=0.1):\n",
    "        super(PositionwiseFeedForward, self).__init__()\n",
    "        self.w_1 = nn.Linear(d_model, d_ff)\n",
    "        self.w_2 = nn.Linear(d_ff, d_model)\n",
    "        self.dropout = nn.Dropout(dropout)\n",
    "\n",
    "    def forward(self, x):\n",
    "        return self.w_2(self.dropout(F.relu(self.w_1(x)))), None\n",
    "\n",
    "    \n",
    "class PositionalEncoding(nn.Module): # new added / not use anymore\n",
    "    \"Implement the PE function.\"\n",
    "    def __init__(self, d_model, dropout, max_len=400):\n",
    "        super(PositionalEncoding, self).__init__()\n",
    "        self.dropout = nn.Dropout(p=dropout)\n",
    "        \n",
    "        # Compute the positional encodings once in log space.\n",
    "        pe = torch.zeros(max_len, d_model)\n",
    "        position = torch.arange(0., max_len).unsqueeze(1)\n",
    "        div_term = torch.exp(torch.arange(0., d_model, 2) * -(math.log(10000.0) / d_model))\n",
    "        pe[:, 0::2] = torch.sin(position * div_term)\n",
    "        pe[:, 1::2] = torch.cos(position * div_term)\n",
    "        pe = pe.unsqueeze(0)\n",
    "        self.register_buffer('pe', pe)\n",
    "        \n",
    "    def forward(self, x):\n",
    "        x = x + Variable(self.pe[:, :x.size(1)], \n",
    "                         requires_grad=False)\n",
    "        return self.dropout(x)\n",
    "\n",
    "def subsequent_mask(size):\n",
    "    \"Mask out subsequent positions.\"\n",
    "    attn_shape = (1, size, size)\n",
    "    subsequent_mask = np.triu(np.ones(attn_shape), k=1).astype('uint8')\n",
    "    return torch.from_numpy(subsequent_mask) == 0 \n",
    "\n",
    "def attention(query, key, value, mask=None, dropout=None):\n",
    "    \"Compute 'Scaled Dot Product Attention'\"\n",
    "    d_k = query.size(-1)# b h t d_k\n",
    "    scores = torch.matmul(query, key.transpose(-2, -1)) \\\n",
    "             / math.sqrt(d_k) # b h t t\n",
    "    if mask is not None:# 1 1 t t\n",
    "        scores = scores.masked_fill(mask == 0, -1e9)# b h t t \n",
    "    p_attn = F.softmax(scores, dim = -1)# b h t t\n",
    "    if dropout is not None:\n",
    "        p_attn = dropout(p_attn)\n",
    "    return torch.matmul(p_attn, value), p_attn # b h t v (d_k) \n",
    "    \n",
    "class MultiHeadedAttention(nn.Module):\n",
    "    def __init__(self, h, d_model, dropout=0):\n",
    "        \"Take in model size and number of heads.\"\n",
    "        super(MultiHeadedAttention, self).__init__()\n",
    "        assert d_model % h == 0\n",
    "        # We assume d_v always equals d_k\n",
    "        self.d_k = d_model // h\n",
    "        self.h = h\n",
    "        self.linears = clones(nn.Linear(d_model, self.d_k * self.h), 3)\n",
    "        self.final_linear = nn.Linear(d_model, d_model)\n",
    "        self.attn = None\n",
    "        self.dropout = nn.Dropout(p=dropout)\n",
    "        \n",
    "    def forward(self, query, key, value, mask=None):\n",
    "        if mask is not None:\n",
    "            # Same mask applied to all h heads.\n",
    "            mask = mask.unsqueeze(1) # 1 1 t t\n",
    "\n",
    "        nbatches = query.size(0)# b\n",
    "        input_dim = query.size(1)# i+1\n",
    "        feature_dim = query.size(-1)# i+1\n",
    "\n",
    "        #input size -> # batch_size * d_input * hidden_dim\n",
    "        \n",
    "        # d_model => h * d_k \n",
    "        query, key, value = \\\n",
    "            [l(x).view(nbatches, -1, self.h, self.d_k).transpose(1, 2)\n",
    "             for l, x in zip(self.linears, (query, key, value))] # b num_head d_input d_k\n",
    "        \n",
    "       \n",
    "        x, self.attn = attention(query, key, value, mask=mask, \n",
    "                                 dropout=self.dropout)# b num_head d_input d_v (d_k) \n",
    "        \n",
    "        x = x.transpose(1, 2).contiguous() \\\n",
    "             .view(nbatches, -1, self.h * self.d_k)# batch_size * d_input * hidden_dim\n",
    "\n",
    "        #DeCov \n",
    "        DeCov_contexts = x.transpose(0, 1).transpose(1, 2) # I+1 H B\n",
    "#         print(DeCov_contexts.shape)\n",
    "        Covs = cov(DeCov_contexts[0,:,:])\n",
    "        DeCov_loss = 0.5 * (torch.norm(Covs, p = 'fro')**2 - torch.norm(torch.diag(Covs))**2 ) \n",
    "        for i in range(11 -1):\n",
    "            Covs = cov(DeCov_contexts[i+1,:,:])\n",
    "            DeCov_loss += 0.5 * (torch.norm(Covs, p = 'fro')**2 - torch.norm(torch.diag(Covs))**2 ) \n",
    "\n",
    "\n",
    "        return self.final_linear(x), DeCov_loss\n",
    "\n",
    "class LayerNorm(nn.Module):\n",
    "    def __init__(self, features, eps=1e-7):\n",
    "        super(LayerNorm, self).__init__()\n",
    "        self.a_2 = nn.Parameter(torch.ones(features))\n",
    "        self.b_2 = nn.Parameter(torch.zeros(features))\n",
    "        self.eps = eps\n",
    "\n",
    "    def forward(self, x):\n",
    "        mean = x.mean(-1, keepdim=True)\n",
    "        std = x.std(-1, keepdim=True)\n",
    "        return self.a_2 * (x - mean) / (std + self.eps) + self.b_2\n",
    "\n",
    "def cov(m, y=None):\n",
    "    if y is not None:\n",
    "        m = torch.cat((m, y), dim=0)\n",
    "    m_exp = torch.mean(m, dim=1)\n",
    "    x = m - m_exp[:, None]\n",
    "    cov = 1 / (x.size(1) - 1) * x.mm(x.t())\n",
    "    return cov\n",
    "\n",
    "class SublayerConnection(nn.Module):\n",
    "    \"\"\"\n",
    "    A residual connection followed by a layer norm.\n",
    "    Note for code simplicity the norm is first as opposed to last.\n",
    "    \"\"\"\n",
    "    def __init__(self, size, dropout):\n",
    "        super(SublayerConnection, self).__init__()\n",
    "        self.norm = LayerNorm(size)\n",
    "        self.dropout = nn.Dropout(dropout)\n",
    "\n",
    "    def forward(self, x, sublayer):\n",
    "        \"Apply residual connection to any sublayer with the same size.\"\n",
    "        returned_value = sublayer(self.norm(x))\n",
    "        return x + self.dropout(returned_value[0]) , returned_value[1]\n",
    "\n",
    "class distcare_teacher(nn.Module):\n",
    "    def __init__(self, input_dim, hidden_dim, d_model,  MHD_num_head, d_ff, output_dim, keep_prob=0.5):\n",
    "        super(distcare_teacher, self).__init__()\n",
    "\n",
    "        # hyperparameters\n",
    "        self.input_dim = input_dim  \n",
    "        self.hidden_dim = hidden_dim  # d_model\n",
    "        self.d_model = d_model\n",
    "        self.MHD_num_head = MHD_num_head\n",
    "        self.d_ff = d_ff\n",
    "        self.output_dim = output_dim\n",
    "        self.keep_prob = keep_prob\n",
    "\n",
    "        # layers\n",
    "        self.PositionalEncoding = PositionalEncoding(self.d_model, dropout = 0, max_len = 400)\n",
    "\n",
    "        self.GRUs = clones(nn.GRU(1, self.hidden_dim, batch_first = True), self.input_dim)\n",
    "        self.LastStepAttentions = clones(SingleAttention(self.hidden_dim, 8, attention_type='concat', demographic_dim=12, time_aware=True, use_demographic=False),self.input_dim)\n",
    "        \n",
    "        self.FinalAttentionQKV = FinalAttentionQKV(self.hidden_dim, self.hidden_dim, attention_type='mul',dropout = 1 - self.keep_prob)\n",
    "\n",
    "        self.MultiHeadedAttention = MultiHeadedAttention(self.MHD_num_head, self.d_model,dropout = 1 - self.keep_prob)\n",
    "        self.SublayerConnection = SublayerConnection(self.d_model, dropout = 1 - self.keep_prob)\n",
    "\n",
    "        self.PositionwiseFeedForward = PositionwiseFeedForward(self.d_model, self.d_ff, dropout=0.1)\n",
    "\n",
    "        self.demo_proj_main = nn.Linear(12, self.hidden_dim)\n",
    "        self.demo_proj = nn.Linear(12, self.hidden_dim)\n",
    "        self.Linear = nn.Linear(self.hidden_dim, 1)\n",
    "        self.output = nn.Linear(self.input_dim, self.output_dim)\n",
    "\n",
    "        self.dropout = nn.Dropout(p = 1 - self.keep_prob)\n",
    "        self.tanh=nn.Tanh()\n",
    "        self.softmax = nn.Softmax()\n",
    "        self.sigmoid = nn.Sigmoid()\n",
    "        self.relu=nn.ReLU()\n",
    "\n",
    "    def forward(self, input, lens):\n",
    "        lens = lens.to('cpu')\n",
    "        # input shape [batch_size, timestep, feature_dim]\n",
    "#         demo_main = self.tanh(self.demo_proj_main(demo_input)).unsqueeze(1)# b hidden_dim\n",
    "        \n",
    "        batch_size = input.size(0)\n",
    "        time_step = input.size(1)\n",
    "        feature_dim = input.size(2)\n",
    "        assert(feature_dim == self.input_dim)# input Tensor : 256 * 48 * 76\n",
    "        assert(self.d_model % self.MHD_num_head == 0)\n",
    "\n",
    "        \n",
    "        GRU_embeded_input = self.GRUs[0](pack_padded_sequence(input[:,:,0].unsqueeze(-1), lens, batch_first=True))[1].squeeze().unsqueeze(1) # b 1 h\n",
    "#         print(GRU_embeded_input.shape)\n",
    "        for i in range(feature_dim-1):\n",
    "            embeded_input = self.GRUs[i+1](pack_padded_sequence(input[:,:,i+1].unsqueeze(-1), lens, batch_first=True))[1].squeeze().unsqueeze(1) # b 1 h\n",
    "            GRU_embeded_input = torch.cat((GRU_embeded_input, embeded_input), 1)\n",
    "\n",
    "#         GRU_embeded_input = torch.cat((GRU_embeded_input, demo_main), 1)# b i+1 h\n",
    "        posi_input = self.dropout(GRU_embeded_input) # batch_size * d_input * hidden_dim\n",
    "\n",
    "\n",
    "#         #mask = subsequent_mask(time_step).to(device) # 1 t t \n",
    "#         contexts = self.SublayerConnection(posi_input, lambda x: self.MultiHeadedAttention(posi_input, posi_input, posi_input, None))# # batch_size * d_input * hidden_dim\n",
    "    \n",
    "#         DeCov_loss = contexts[1]\n",
    "#         contexts = contexts[0]\n",
    "\n",
    "#         contexts = self.SublayerConnection(contexts, lambda x: self.PositionwiseFeedForward(contexts))[0]# # batch_size * d_input * hidden_dim\n",
    "#         #contexts = contexts.view(batch_size, feature_dim * self.hidden_dim)#\n",
    "#         # contexts = torch.matmul(self.Wproj, contexts) + self.bproj\n",
    "#         # contexts = contexts.squeeze()\n",
    "#         # demo_key = self.demo_proj(demo_input)# b hidden_dim\n",
    "#         # demo_key = self.relu(demo_key)\n",
    "#         # input_dim_scores = torch.matmul(contexts, demo_key.unsqueeze(-1)).squeeze() # b i\n",
    "#         # input_dim_scores = self.dropout(self.sigmoid(input_dim_scores)).unsqueeze(1)# b i\n",
    "        \n",
    "#         # weighted_contexts = torch.matmul(input_dim_scores, contexts).squeeze()\n",
    "# #         print(contexts.shape)\n",
    "\n",
    "#         weighted_contexts = self.FinalAttentionQKV(contexts)[0]\n",
    "        contexts = self.Linear(posi_input).squeeze()# b i\n",
    "        output = self.output(self.dropout(contexts))# b 1\n",
    "        output = self.sigmoid(output)\n",
    "#         print(weighted_contexts.shape)\n",
    "          \n",
    "        return output, None, contexts\n",
    "    #, self.MultiHeadedAttention.attn"
   ]
  },
  {
   "cell_type": "code",
   "execution_count": 17,
   "metadata": {
    "ExecuteTime": {
     "end_time": "2021-02-10T15:05:51.991644Z",
     "start_time": "2021-02-10T15:05:42.504740Z"
    }
   },
   "outputs": [],
   "source": [
    "RANDOM_SEED = 43\n",
    "np.random.seed(RANDOM_SEED) #numpy\n",
    "random.seed(RANDOM_SEED)\n",
    "torch.manual_seed(RANDOM_SEED) # cpu\n",
    "torch.cuda.manual_seed(RANDOM_SEED) #gpu\n",
    "torch.backends.cudnn.deterministic=True # cudnn\n",
    "    \n",
    "epochs = 150\n",
    "batch_size = 256\n",
    "input_dim = 34\n",
    "hidden_dim = 32\n",
    "d_model = 32\n",
    "MHD_num_head = 4\n",
    "d_ff = 64\n",
    "output_dim = 1\n",
    "\n",
    "model = distcare_teacher(input_dim = input_dim, hidden_dim = hidden_dim, d_model=d_model, MHD_num_head=MHD_num_head, d_ff=d_ff, output_dim = output_dim).to(device)\n",
    "# input_dim, d_model, d_k, d_v, MHD_num_head, d_ff, output_dim\n",
    "optimizer = torch.optim.Adam(model.parameters(), lr=1e-3)"
   ]
  },
  {
   "cell_type": "code",
   "execution_count": 18,
   "metadata": {
    "ExecuteTime": {
     "end_time": "2021-01-30T09:16:04.789735Z",
     "start_time": "2021-01-30T04:30:23.650979Z"
    },
    "pycharm": {
     "is_executing": true
    },
    "scrolled": true
   },
   "outputs": [],
   "source": [
    "# Training Teacher\n",
    "# If you don't want to train Teacher Model:\n",
    "# - The pretrained taecher model is in direcrtory './model/', and can be directly loaded, \n",
    "# - Simply skip this cell and load the model to validate on Dev Dataset.\n",
    "# logger.info('Training Teacher')\n",
    "\n",
    "# total_train_loss = []\n",
    "# total_valid_loss = []\n",
    "# global_best = 0\n",
    "# auroc = []\n",
    "# auprc = []\n",
    "# minpse = []\n",
    "# history = []\n",
    "\n",
    "# pad_token = np.zeros(input_dim)\n",
    "# # begin_time = time.time()\n",
    "# best_auroc = 0\n",
    "# best_auprc = 0\n",
    "# best_minpse = 0\n",
    "    \n",
    "# if target_dataset == 'TJ':    \n",
    "#     file_name = './model/pretrained-challenge-front-fill-teacher-2covid'\n",
    "# elif target_dataset == 'HM':\n",
    "#     file_name = './model/pretrained-challenge-front-fill-teacher-2spain'\n",
    "\n",
    "# for each_epoch in range(epochs):\n",
    "\n",
    "#     epoch_loss = []\n",
    "#     counter_batch = 0\n",
    "#     model.train()  \n",
    "\n",
    "#     for step, (batch_x, batch_y, batch_mask_x, batch_lens) in enumerate(batch_iter(train_x, train_y, train_mask_x, train_x_len, batch_size, shuffle=True)):  \n",
    "#         optimizer.zero_grad()\n",
    "#         batch_x = torch.tensor(pad_sents(batch_x, pad_token), dtype=torch.float32).to(device)\n",
    "#         batch_y = torch.tensor(batch_y, dtype=torch.float32).to(device)\n",
    "#         batch_lens = torch.tensor(batch_lens, dtype=torch.float32).to(device).int()\n",
    "#         batch_mask_x = torch.tensor(pad_sents(batch_mask_x, pad_token), dtype=torch.float32).to(device)\n",
    "\n",
    "# #        masks = length_to_mask(batch_lens).unsqueeze(-1).float()\n",
    "\n",
    "#         opt, decov_loss, emb = model(batch_x, batch_lens)\n",
    "\n",
    "#         BCE_Loss = get_loss(opt, batch_y.unsqueeze(-1)) # b t 1\n",
    "# #             REC_Loss = F.mse_loss(masks * recon, masks * batch_x, reduction='mean').to(device)\n",
    "\n",
    "#         loss = BCE_Loss #+ 1000 * decov_loss\n",
    "\n",
    "#         epoch_loss.append(BCE_Loss.cpu().detach().numpy())\n",
    "#         loss.backward()\n",
    "#         torch.nn.utils.clip_grad_norm_(model.parameters(), 20)\n",
    "#         optimizer.step()\n",
    "\n",
    "#         if step % 20 == 0:\n",
    "#             print('Epoch %d Batch %d: Train Loss = %.4f'%(each_epoch, step, loss.cpu().detach().numpy()))\n",
    "#             logger.info('Epoch %d Batch %d: Train Loss = %.4f'%(each_epoch, step, loss.cpu().detach().numpy()))\n",
    "\n",
    "#     epoch_loss = np.mean(epoch_loss)\n",
    "#     total_train_loss.append(epoch_loss)\n",
    "\n",
    "#     #Validation\n",
    "#     y_true = []\n",
    "#     y_pred = []\n",
    "#     with torch.no_grad():\n",
    "#         model.eval()\n",
    "#         valid_loss = []\n",
    "#         valid_true = []\n",
    "#         valid_pred = []\n",
    "#         for batch_x, batch_y, batch_mask_x, batch_lens in batch_iter(dev_x, dev_y, dev_mask_x, dev_x_len, batch_size):\n",
    "#             batch_x = torch.tensor(pad_sents(batch_x, pad_token), dtype=torch.float32).to(device)\n",
    "#             batch_y = torch.tensor(batch_y, dtype=torch.float32).to(device)\n",
    "#             batch_lens = torch.tensor(batch_lens, dtype=torch.float32).to(device).int()\n",
    "#             batch_mask_x = torch.tensor(pad_sents(batch_mask_x, pad_token), dtype=torch.float32).to(device)\n",
    "# #            masks = length_to_mask(batch_lens).unsqueeze(-1).float()\n",
    "\n",
    "\n",
    "#             opt, decov_loss, emb = model(batch_x, batch_lens)\n",
    "\n",
    "#             BCE_Loss = get_loss(opt, batch_y.unsqueeze(-1))\n",
    "# #                 REC_Loss = F.mse_loss(recon, batch_x, reduction='mean').to(device)\n",
    "\n",
    "#             valid_loss.append(BCE_Loss.cpu().detach().numpy())\n",
    "\n",
    "#             y_pred += list(opt.cpu().detach().numpy().flatten())\n",
    "#             y_true += list(batch_y.cpu().numpy().flatten())\n",
    "\n",
    "#         valid_loss = np.mean(valid_loss)\n",
    "#         total_valid_loss.append(valid_loss)\n",
    "#         ret = metrics.print_metrics_binary(y_true, y_pred,verbose = 0)\n",
    "#         history.append(ret)\n",
    "#         #print()\n",
    "\n",
    "#         print('Epoch %d: Loss = %.4f Valid loss = %.4f roc = %.4f'%(each_epoch, total_train_loss[-1], total_valid_loss[-1], ret['auroc']))\n",
    "#         logger.info('Epoch %d: Loss = %.4f Valid loss = %.4f roc = %.4f'%(each_epoch, total_train_loss[-1], total_valid_loss[-1], ret['auroc']))\n",
    "#         metrics.print_metrics_binary(y_true, y_pred)\n",
    "\n",
    "#         cur_auroc = ret['auroc']\n",
    "#         if cur_auroc > best_auroc:\n",
    "#             best_auroc = cur_auroc\n",
    "#             best_auprc = ret['auprc']\n",
    "#             best_minpse = ret['minpse']\n",
    "#             state = {\n",
    "#                 'net': model.state_dict(),\n",
    "#                 'optimizer': optimizer.state_dict(),\n",
    "#                 'epoch': each_epoch\n",
    "#             }\n",
    "#             torch.save(state, file_name)\n",
    "#             print('------------ Save best model - AUROC: %.4f ------------'%cur_auroc)       \n",
    "\n",
    "# print('auroc %.4f'%(best_auroc))\n",
    "# print('auprc %.4f'%(best_auprc))\n",
    "# print('minpse %.4f'%(best_minpse))  \n",
    "# logger.info('auroc %.4f'%(best_auroc))\n",
    "# logger.info('auprc %.4f'%(best_auprc))\n",
    "# logger.info('minpse %.4f'%(best_minpse))"
   ]
  },
  {
   "cell_type": "code",
   "execution_count": 19,
   "metadata": {
    "ExecuteTime": {
     "end_time": "2021-01-30T10:41:54.613732Z",
     "start_time": "2021-01-30T10:41:54.090698Z"
    },
    "scrolled": true
   },
   "outputs": [
    {
     "name": "stderr",
     "output_type": "stream",
     "text": [
      "2025-02-23 11:55:03,787 - INFO - last saved model is in epoch 116\n"
     ]
    },
    {
     "name": "stdout",
     "output_type": "stream",
     "text": [
      "last saved model is in epoch 116\n"
     ]
    },
    {
     "data": {
      "text/plain": [
       "distcare_teacher(\n",
       "  (PositionalEncoding): PositionalEncoding(\n",
       "    (dropout): Dropout(p=0, inplace=False)\n",
       "  )\n",
       "  (GRUs): ModuleList(\n",
       "    (0): GRU(1, 32, batch_first=True)\n",
       "    (1): GRU(1, 32, batch_first=True)\n",
       "    (2): GRU(1, 32, batch_first=True)\n",
       "    (3): GRU(1, 32, batch_first=True)\n",
       "    (4): GRU(1, 32, batch_first=True)\n",
       "    (5): GRU(1, 32, batch_first=True)\n",
       "    (6): GRU(1, 32, batch_first=True)\n",
       "    (7): GRU(1, 32, batch_first=True)\n",
       "    (8): GRU(1, 32, batch_first=True)\n",
       "    (9): GRU(1, 32, batch_first=True)\n",
       "    (10): GRU(1, 32, batch_first=True)\n",
       "    (11): GRU(1, 32, batch_first=True)\n",
       "    (12): GRU(1, 32, batch_first=True)\n",
       "    (13): GRU(1, 32, batch_first=True)\n",
       "    (14): GRU(1, 32, batch_first=True)\n",
       "    (15): GRU(1, 32, batch_first=True)\n",
       "    (16): GRU(1, 32, batch_first=True)\n",
       "    (17): GRU(1, 32, batch_first=True)\n",
       "    (18): GRU(1, 32, batch_first=True)\n",
       "    (19): GRU(1, 32, batch_first=True)\n",
       "    (20): GRU(1, 32, batch_first=True)\n",
       "    (21): GRU(1, 32, batch_first=True)\n",
       "    (22): GRU(1, 32, batch_first=True)\n",
       "    (23): GRU(1, 32, batch_first=True)\n",
       "    (24): GRU(1, 32, batch_first=True)\n",
       "    (25): GRU(1, 32, batch_first=True)\n",
       "    (26): GRU(1, 32, batch_first=True)\n",
       "    (27): GRU(1, 32, batch_first=True)\n",
       "    (28): GRU(1, 32, batch_first=True)\n",
       "    (29): GRU(1, 32, batch_first=True)\n",
       "    (30): GRU(1, 32, batch_first=True)\n",
       "    (31): GRU(1, 32, batch_first=True)\n",
       "    (32): GRU(1, 32, batch_first=True)\n",
       "    (33): GRU(1, 32, batch_first=True)\n",
       "  )\n",
       "  (LastStepAttentions): ModuleList(\n",
       "    (0): SingleAttention(\n",
       "      (tanh): Tanh()\n",
       "      (softmax): Softmax(dim=None)\n",
       "    )\n",
       "    (1): SingleAttention(\n",
       "      (tanh): Tanh()\n",
       "      (softmax): Softmax(dim=None)\n",
       "    )\n",
       "    (2): SingleAttention(\n",
       "      (tanh): Tanh()\n",
       "      (softmax): Softmax(dim=None)\n",
       "    )\n",
       "    (3): SingleAttention(\n",
       "      (tanh): Tanh()\n",
       "      (softmax): Softmax(dim=None)\n",
       "    )\n",
       "    (4): SingleAttention(\n",
       "      (tanh): Tanh()\n",
       "      (softmax): Softmax(dim=None)\n",
       "    )\n",
       "    (5): SingleAttention(\n",
       "      (tanh): Tanh()\n",
       "      (softmax): Softmax(dim=None)\n",
       "    )\n",
       "    (6): SingleAttention(\n",
       "      (tanh): Tanh()\n",
       "      (softmax): Softmax(dim=None)\n",
       "    )\n",
       "    (7): SingleAttention(\n",
       "      (tanh): Tanh()\n",
       "      (softmax): Softmax(dim=None)\n",
       "    )\n",
       "    (8): SingleAttention(\n",
       "      (tanh): Tanh()\n",
       "      (softmax): Softmax(dim=None)\n",
       "    )\n",
       "    (9): SingleAttention(\n",
       "      (tanh): Tanh()\n",
       "      (softmax): Softmax(dim=None)\n",
       "    )\n",
       "    (10): SingleAttention(\n",
       "      (tanh): Tanh()\n",
       "      (softmax): Softmax(dim=None)\n",
       "    )\n",
       "    (11): SingleAttention(\n",
       "      (tanh): Tanh()\n",
       "      (softmax): Softmax(dim=None)\n",
       "    )\n",
       "    (12): SingleAttention(\n",
       "      (tanh): Tanh()\n",
       "      (softmax): Softmax(dim=None)\n",
       "    )\n",
       "    (13): SingleAttention(\n",
       "      (tanh): Tanh()\n",
       "      (softmax): Softmax(dim=None)\n",
       "    )\n",
       "    (14): SingleAttention(\n",
       "      (tanh): Tanh()\n",
       "      (softmax): Softmax(dim=None)\n",
       "    )\n",
       "    (15): SingleAttention(\n",
       "      (tanh): Tanh()\n",
       "      (softmax): Softmax(dim=None)\n",
       "    )\n",
       "    (16): SingleAttention(\n",
       "      (tanh): Tanh()\n",
       "      (softmax): Softmax(dim=None)\n",
       "    )\n",
       "    (17): SingleAttention(\n",
       "      (tanh): Tanh()\n",
       "      (softmax): Softmax(dim=None)\n",
       "    )\n",
       "    (18): SingleAttention(\n",
       "      (tanh): Tanh()\n",
       "      (softmax): Softmax(dim=None)\n",
       "    )\n",
       "    (19): SingleAttention(\n",
       "      (tanh): Tanh()\n",
       "      (softmax): Softmax(dim=None)\n",
       "    )\n",
       "    (20): SingleAttention(\n",
       "      (tanh): Tanh()\n",
       "      (softmax): Softmax(dim=None)\n",
       "    )\n",
       "    (21): SingleAttention(\n",
       "      (tanh): Tanh()\n",
       "      (softmax): Softmax(dim=None)\n",
       "    )\n",
       "    (22): SingleAttention(\n",
       "      (tanh): Tanh()\n",
       "      (softmax): Softmax(dim=None)\n",
       "    )\n",
       "    (23): SingleAttention(\n",
       "      (tanh): Tanh()\n",
       "      (softmax): Softmax(dim=None)\n",
       "    )\n",
       "    (24): SingleAttention(\n",
       "      (tanh): Tanh()\n",
       "      (softmax): Softmax(dim=None)\n",
       "    )\n",
       "    (25): SingleAttention(\n",
       "      (tanh): Tanh()\n",
       "      (softmax): Softmax(dim=None)\n",
       "    )\n",
       "    (26): SingleAttention(\n",
       "      (tanh): Tanh()\n",
       "      (softmax): Softmax(dim=None)\n",
       "    )\n",
       "    (27): SingleAttention(\n",
       "      (tanh): Tanh()\n",
       "      (softmax): Softmax(dim=None)\n",
       "    )\n",
       "    (28): SingleAttention(\n",
       "      (tanh): Tanh()\n",
       "      (softmax): Softmax(dim=None)\n",
       "    )\n",
       "    (29): SingleAttention(\n",
       "      (tanh): Tanh()\n",
       "      (softmax): Softmax(dim=None)\n",
       "    )\n",
       "    (30): SingleAttention(\n",
       "      (tanh): Tanh()\n",
       "      (softmax): Softmax(dim=None)\n",
       "    )\n",
       "    (31): SingleAttention(\n",
       "      (tanh): Tanh()\n",
       "      (softmax): Softmax(dim=None)\n",
       "    )\n",
       "    (32): SingleAttention(\n",
       "      (tanh): Tanh()\n",
       "      (softmax): Softmax(dim=None)\n",
       "    )\n",
       "    (33): SingleAttention(\n",
       "      (tanh): Tanh()\n",
       "      (softmax): Softmax(dim=None)\n",
       "    )\n",
       "  )\n",
       "  (FinalAttentionQKV): FinalAttentionQKV(\n",
       "    (W_q): Linear(in_features=32, out_features=32, bias=True)\n",
       "    (W_k): Linear(in_features=32, out_features=32, bias=True)\n",
       "    (W_v): Linear(in_features=32, out_features=32, bias=True)\n",
       "    (W_out): Linear(in_features=32, out_features=1, bias=True)\n",
       "    (dropout): Dropout(p=0.5, inplace=False)\n",
       "    (tanh): Tanh()\n",
       "    (softmax): Softmax(dim=None)\n",
       "    (sigmoid): Sigmoid()\n",
       "  )\n",
       "  (MultiHeadedAttention): MultiHeadedAttention(\n",
       "    (linears): ModuleList(\n",
       "      (0): Linear(in_features=32, out_features=32, bias=True)\n",
       "      (1): Linear(in_features=32, out_features=32, bias=True)\n",
       "      (2): Linear(in_features=32, out_features=32, bias=True)\n",
       "    )\n",
       "    (final_linear): Linear(in_features=32, out_features=32, bias=True)\n",
       "    (dropout): Dropout(p=0.5, inplace=False)\n",
       "  )\n",
       "  (SublayerConnection): SublayerConnection(\n",
       "    (norm): LayerNorm()\n",
       "    (dropout): Dropout(p=0.5, inplace=False)\n",
       "  )\n",
       "  (PositionwiseFeedForward): PositionwiseFeedForward(\n",
       "    (w_1): Linear(in_features=32, out_features=64, bias=True)\n",
       "    (w_2): Linear(in_features=64, out_features=32, bias=True)\n",
       "    (dropout): Dropout(p=0.1, inplace=False)\n",
       "  )\n",
       "  (demo_proj_main): Linear(in_features=12, out_features=32, bias=True)\n",
       "  (demo_proj): Linear(in_features=12, out_features=32, bias=True)\n",
       "  (Linear): Linear(in_features=32, out_features=1, bias=True)\n",
       "  (output): Linear(in_features=34, out_features=1, bias=True)\n",
       "  (dropout): Dropout(p=0.5, inplace=False)\n",
       "  (tanh): Tanh()\n",
       "  (softmax): Softmax(dim=None)\n",
       "  (sigmoid): Sigmoid()\n",
       "  (relu): ReLU()\n",
       ")"
      ]
     },
     "execution_count": 19,
     "metadata": {},
     "output_type": "execute_result"
    }
   ],
   "source": [
    "if target_dataset == 'TJ':    \n",
    "    file_name = './model/pretrained-challenge-front-fill-teacher-2covid'\n",
    "elif target_dataset == 'HM':\n",
    "    file_name = './model/pretrained-challenge-front-fill-teacher-2spain'\n",
    "    \n",
    "checkpoint = torch.load(file_name, \\\n",
    "                        map_location=torch.device(\"cuda:0\" if torch.cuda.is_available() == True else 'cpu') )\n",
    "save_epoch = checkpoint['epoch']\n",
    "print(\"last saved model is in epoch {}\".format(save_epoch))\n",
    "logger.info(\"last saved model is in epoch {}\".format(save_epoch))\n",
    "model.load_state_dict(checkpoint['net'])\n",
    "optimizer.load_state_dict(checkpoint['optimizer'])\n",
    "model.eval()\n"
   ]
  },
  {
   "cell_type": "code",
   "execution_count": 20,
   "metadata": {
    "ExecuteTime": {
     "end_time": "2021-01-30T10:42:04.714142Z",
     "start_time": "2021-01-30T10:41:56.611967Z"
    }
   },
   "outputs": [
    {
     "name": "stderr",
     "output_type": "stream",
     "text": [
      "2025-02-23 11:55:04,426 - INFO - Batch 0: Test Loss = 0.0983\n"
     ]
    },
    {
     "name": "stdout",
     "output_type": "stream",
     "text": [
      "Batch 0: Test Loss = 0.0983\n"
     ]
    },
    {
     "name": "stderr",
     "output_type": "stream",
     "text": [
      "2025-02-23 11:55:07,704 - INFO - \n",
      "==>Predicting on test\n",
      "2025-02-23 11:55:07,708 - INFO - Test Loss = 0.1233\n"
     ]
    },
    {
     "name": "stdout",
     "output_type": "stream",
     "text": [
      "\n",
      "==>Predicting on test\n",
      "Test Loss = 0.1233\n",
      "confusion matrix:\n",
      "[[3715   21]\n",
      " [ 134  163]]\n",
      "accuracy = 0.9615670442581177\n",
      "precision class 0 = 0.9651857614517212\n",
      "precision class 1 = 0.885869562625885\n",
      "recall class 0 = 0.9943790435791016\n",
      "recall class 1 = 0.5488215684890747\n",
      "AUC of ROC = 0.9414762363102834\n",
      "AUC of PRC = 0.7530980446603559\n",
      "min(+P, Se) = 0.6868686868686869\n",
      "f1_score = 0.6777546638356525\n"
     ]
    }
   ],
   "source": [
    "batch_loss = []\n",
    "y_true = []\n",
    "y_pred = []\n",
    "pad_token = np.zeros(34)\n",
    "with torch.no_grad():\n",
    "    model.eval()\n",
    "    for step, (batch_x, batch_y, batch_mask_x, batch_lens) in enumerate(batch_iter(test_x, test_y, test_mask_x, test_x_len, batch_size, shuffle=True)):  \n",
    "        optimizer.zero_grad()\n",
    "        batch_x = torch.tensor(pad_sents(batch_x, pad_token), dtype=torch.float32).to(device)\n",
    "        batch_y = torch.tensor(batch_y, dtype=torch.float32).to(device)\n",
    "        batch_lens = torch.tensor(batch_lens, dtype=torch.float32).to(device).int()\n",
    "        batch_mask_x = torch.tensor(pad_sents(batch_mask_x, pad_token), dtype=torch.float32).to(device)\n",
    "\n",
    "        masks = length_to_mask(batch_lens).unsqueeze(-1).float()\n",
    "\n",
    "        opt, decov_loss, emb = model(batch_x, batch_lens)\n",
    "\n",
    "        BCE_Loss = get_loss(opt, batch_y.unsqueeze(-1))\n",
    "#             REC_Loss = F.mse_loss(masks * recon, masks * batch_x, reduction='mean').to(device)\n",
    "\n",
    "        model_loss =  BCE_Loss \n",
    "\n",
    "        loss = model_loss\n",
    "        batch_loss.append(loss.cpu().detach().numpy())\n",
    "        if step % 20 == 0:\n",
    "            print('Batch %d: Test Loss = %.4f'%(step, loss.cpu().detach().numpy()))\n",
    "            logger.info('Batch %d: Test Loss = %.4f'%(step, loss.cpu().detach().numpy()))\n",
    "        y_pred += list(opt.cpu().detach().numpy().flatten())\n",
    "        y_true += list(batch_y.cpu().numpy().flatten())\n",
    "\n",
    "print(\"\\n==>Predicting on test\")\n",
    "print('Test Loss = %.4f'%(np.mean(np.array(batch_loss))))\n",
    "logger.info(\"\\n==>Predicting on test\")\n",
    "logger.info('Test Loss = %.4f'%(np.mean(np.array(batch_loss))))\n",
    "y_pred = np.array(y_pred)\n",
    "y_pred = np.stack([1 - y_pred, y_pred], axis=1)\n",
    "test_res = metrics.print_metrics_binary(y_true, y_pred)"
   ]
  },
  {
   "cell_type": "markdown",
   "metadata": {},
   "source": [
    "#### Student Model"
   ]
  },
  {
   "cell_type": "code",
   "execution_count": 21,
   "metadata": {
    "ExecuteTime": {
     "end_time": "2021-02-10T15:06:02.685007Z",
     "start_time": "2021-02-10T15:06:02.655919Z"
    }
   },
   "outputs": [],
   "source": [
    "class distcare_student(nn.Module):\n",
    "    def __init__(self, input_dim, hidden_dim, d_model,  MHD_num_head, d_ff, output_dim, keep_prob=0.5):\n",
    "        super(distcare_student, self).__init__()\n",
    "\n",
    "        # hyperparameters\n",
    "        self.input_dim = input_dim  \n",
    "        self.hidden_dim = hidden_dim  # d_model\n",
    "        self.d_model = d_model\n",
    "        self.MHD_num_head = MHD_num_head\n",
    "        self.d_ff = d_ff\n",
    "        self.output_dim = output_dim\n",
    "        self.keep_prob = keep_prob\n",
    "\n",
    "        # layers\n",
    "        self.PositionalEncoding = PositionalEncoding(self.d_model, dropout = 0, max_len = 400)\n",
    "\n",
    "        self.GRUs = clones(nn.GRU(1, self.hidden_dim, batch_first = True), self.input_dim)\n",
    "        self.generalGRU =  nn.GRU(1, self.hidden_dim, batch_first = True)\n",
    "        self.LastStepAttentions = clones(SingleAttention(self.hidden_dim, 8, attention_type='concat', demographic_dim=12, time_aware=True, use_demographic=False),self.input_dim)\n",
    "        \n",
    "        self.FinalAttentionQKV = FinalAttentionQKV(self.hidden_dim, self.hidden_dim, attention_type='mul',dropout = 1 - self.keep_prob)\n",
    "\n",
    "        self.MultiHeadedAttention = MultiHeadedAttention(self.MHD_num_head, self.d_model,dropout = 1 - self.keep_prob)\n",
    "        self.SublayerConnection = SublayerConnection(self.d_model, dropout = 1 - self.keep_prob)\n",
    "\n",
    "        self.PositionwiseFeedForward = PositionwiseFeedForward(self.d_model, self.d_ff, dropout=0.1)\n",
    "\n",
    "        self.demo_proj_main = nn.Linear(12, self.hidden_dim)\n",
    "        self.demo_proj = nn.Linear(12, self.hidden_dim)\n",
    "        self.Linear = nn.Linear(self.hidden_dim, 1)\n",
    "        self.output = nn.Linear(34, self.output_dim)\n",
    "\n",
    "        self.dropout = nn.Dropout(p = 1 - self.keep_prob)\n",
    "        self.FC_embed = nn.Linear(self.hidden_dim, self.hidden_dim)\n",
    "        self.tanh=nn.Tanh()\n",
    "        self.softmax = nn.Softmax()\n",
    "        self.sigmoid = nn.Sigmoid()\n",
    "        self.relu=nn.ReLU()\n",
    "        self.to_MMD = nn.Linear(self.hidden_dim, 1)\n",
    "\n",
    "    def forward(self, input, input_diff, lens, tar, train):\n",
    "        lens = lens.to('cpu')\n",
    "        tar_x, tar_lens = tar\n",
    "        # input shape [batch_size, timestep, feature_dim]\n",
    "#         demo_main = self.tanh(self.demo_proj_main(demo_input)).unsqueeze(1)# b hidden_dim\n",
    "        \n",
    "        batch_size = input.size(0)\n",
    "        time_step = input.size(1)\n",
    "        feature_dim = input.size(2)\n",
    "        feature_dim_diff = input_diff.size(2)\n",
    "        assert(feature_dim == self.input_dim)# input Tensor : 256 * 48 * 76\n",
    "        assert(self.d_model % self.MHD_num_head == 0)\n",
    "\n",
    "        # Initialization\n",
    "        #cur_hs = Variable(torch.zeros(batch_size, self.hidden_dim).unsqueeze(0))\n",
    "\n",
    "        # forward\n",
    "        # GRU_embeded_input = self.GRUs[0](input[:,:,0].unsqueeze(-1), Variable(torch.zeros(batch_size, self.hidden_dim).unsqueeze(0)).to(device))[0] # b t h\n",
    "        # Attention_embeded_input = self.LastStepAttentions[0](GRU_embeded_input)[0].unsqueeze(1)# b 1 h\n",
    "        # for i in range(feature_dim-1):\n",
    "        #     embeded_input = self.GRUs[i+1](input[:,:,i+1].unsqueeze(-1), Variable(torch.zeros(batch_size, self.hidden_dim).unsqueeze(0)).to(device))[0] # b 1 h\n",
    "        #     embeded_input = self.LastStepAttentions[i+1](embeded_input)[0].unsqueeze(1)# b 1 h\n",
    "        #     Attention_embeded_input = torch.cat((Attention_embeded_input, embeded_input), 1)# b i h\n",
    "\n",
    "        # Attention_embeded_input = torch.cat((Attention_embeded_input, demo_main), 1)# b i+1 h\n",
    "        # posi_input = self.dropout(Attention_embeded_input) # batch_size * d_input+1 * hidden_dim\n",
    "\n",
    "#         input = pack_padded_sequence(input, lens, batch_first=True)\n",
    "        \n",
    "        GRU_embeded_input = self.GRUs[0](pack_padded_sequence(input[:,:,0].unsqueeze(-1), lens, batch_first=True))[1].squeeze().unsqueeze(1) # b 1 h\n",
    "#         print(GRU_embeded_input.shape)\n",
    "        for i in range(feature_dim-1):\n",
    "            embeded_input = self.GRUs[i+1](pack_padded_sequence(input[:,:,i+1].unsqueeze(-1), lens, batch_first=True))[1].squeeze().unsqueeze(1) # b 1 h\n",
    "            GRU_embeded_input = torch.cat((GRU_embeded_input, embeded_input), 1)\n",
    "\n",
    "#         GRU_embeded_input = torch.cat((GRU_embeded_input, demo_main), 1)# b i+1 h\n",
    "        General_GRU_embeded_input = self.generalGRU(pack_padded_sequence(input_diff[:,:,0].unsqueeze(-1), lens, batch_first=True))[1].squeeze().unsqueeze(1) # b 1 h\n",
    "        for i in range(1,feature_dim_diff):\n",
    "            general_embeded_input = self.generalGRU(pack_padded_sequence(input_diff[:,:,i].unsqueeze(-1), lens, batch_first=True))[1].squeeze().unsqueeze(1) # b 1 h\n",
    "            General_GRU_embeded_input = torch.cat((General_GRU_embeded_input,general_embeded_input), 1)\n",
    "        \n",
    "#         posi_input = self.dropout(GRU_embeded_input) # batch_size * d_input * hidden_dim\n",
    "        posi_input = self.dropout(torch.cat((GRU_embeded_input, General_GRU_embeded_input), 1)) # batch_size * d_input * hidden_dim\n",
    "    \n",
    "        # cul tar loss\n",
    "        if train:\n",
    "            tar_lens = tar_lens.to('cpu')\n",
    "            GRU_tar_input = self.GRUs[0](pack_padded_sequence(tar_x[:,:,0].unsqueeze(-1), tar_lens, batch_first=True))[1].squeeze().unsqueeze(1) # b 1 h\n",
    "            for i in range(feature_dim-1):\n",
    "                tar_input = self.GRUs[i+1](pack_padded_sequence(tar_x[:,:,i+1].unsqueeze(-1), tar_lens, batch_first=True))[1].squeeze().unsqueeze(1) # b 1 h\n",
    "                GRU_tar_input = torch.cat((GRU_tar_input, tar_input), 1)\n",
    "            GRU_embeded_output = self.to_MMD(GRU_embeded_input)\n",
    "            GRU_tar_output = self.to_MMD(GRU_tar_input)\n",
    "        else:\n",
    "            GRU_embeded_output = []\n",
    "            GRU_tar_output = []\n",
    "        \n",
    "        #mask = subsequent_mask(time_step).to(device) # 1 t t 下三角 N to 1任务不用mask\n",
    "#         contexts = self.SublayerConnection(posi_input, lambda x: self.MultiHeadedAttention(posi_input, posi_input, posi_input, None))# # batch_size * d_input * hidden_dim\n",
    "    \n",
    "#         DeCov_loss = contexts[1]\n",
    "#         contexts = contexts[0]\n",
    "\n",
    "#         contexts = self.SublayerConnection(contexts, lambda x: self.PositionwiseFeedForward(contexts))[0]# # batch_size * d_input * hidden_dim\n",
    "#         #contexts = contexts.view(batch_size, feature_dim * self.hidden_dim)#\n",
    "#         # contexts = torch.matmul(self.Wproj, contexts) + self.bproj\n",
    "#         # contexts = contexts.squeeze()\n",
    "#         # demo_key = self.demo_proj(demo_input)# b hidden_dim\n",
    "#         # demo_key = self.relu(demo_key)\n",
    "#         # input_dim_scores = torch.matmul(contexts, demo_key.unsqueeze(-1)).squeeze() # b i\n",
    "#         # input_dim_scores = self.dropout(self.sigmoid(input_dim_scores)).unsqueeze(1)# b i\n",
    "        \n",
    "#         # weighted_contexts = torch.matmul(input_dim_scores, contexts).squeeze()\n",
    "# #         print(contexts.shape)\n",
    "\n",
    "#         weighted_contexts = self.FinalAttentionQKV(contexts)[0]\n",
    "#         output_embed = self.FC_embed(weighted_contexts)\n",
    "#         output = self.output(self.dropout(weighted_contexts))# b 1\n",
    "#         output = self.sigmoid(output)\n",
    "        contexts = self.Linear(posi_input).squeeze()# b i\n",
    "        output = self.output(self.dropout(contexts))# b 1\n",
    "        output = self.sigmoid(output)\n",
    "#         print(weighted_contexts.shape)\n",
    "          \n",
    "        return output, None, contexts, [GRU_embeded_output, GRU_tar_output]\n",
    "    #, self.MultiHeadedAttention.attn\n",
    "\n",
    "\n"
   ]
  },
  {
   "cell_type": "code",
   "execution_count": 22,
   "metadata": {},
   "outputs": [
    {
     "name": "stderr",
     "output_type": "stream",
     "text": [
      "2025-02-23 11:55:07,770 - INFO - load target data\n"
     ]
    }
   ],
   "source": [
    "logger.info(\"load target data\")\n",
    "if target_dataset == 'TJ':\n",
    "    data_path = './data/Tongji/'\n",
    "    tar_all_x = pickle.load(open(data_path + 'x.pkl', 'rb'))\n",
    "    tar_all_y = pickle.load(open(data_path + 'y.pkl', 'rb'))\n",
    "    tar_all_time = pickle.load(open(data_path + 'y.pkl', 'rb'))\n",
    "    tar_all_x_len = [len(i) for i in tar_all_x]\n",
    "\n",
    "    for i in range(len(tar_all_time)):\n",
    "        for j in range(len(tar_all_time[i])):\n",
    "            tar_all_time[i][j] = tar_all_time[i][j][-1]\n",
    "            tar_all_y[i][j] = tar_all_y[i][j][0]\n",
    "\n",
    "    tar_subset_idx = [2, 3, 4, 9, 13, 14, 26, 27, 30, 32, 34, 38, 39, 41, 52, 53, 66, 74]\n",
    "    tar_other_idx = list(range(75))\n",
    "    for i in tar_subset_idx:\n",
    "        tar_other_idx.remove(i)\n",
    "    for i in range(len(tar_all_x)):\n",
    "        cur = np.array(tar_all_x[i], dtype=float)\n",
    "        cur_subset = cur[:, tar_subset_idx]\n",
    "        cur_other = cur[:, tar_other_idx]\n",
    "    #     tar_all_x[i] = np.concatenate((cur_subset, cur_other), axis=1).tolist()\n",
    "        tar_all_x[i] = cur_subset\n",
    "elif target_dataset == 'HM':\n",
    "    data_path = './data/CDSL/'\n",
    "    tar_all_x = pickle.load(open(data_path + 'x.pkl', 'rb'))\n",
    "    tar_all_y = pickle.load(open(data_path + 'y.pkl', 'rb'))\n",
    "    tar_all_time = pickle.load(open(data_path + 'y.pkl', 'rb'))\n",
    "    tar_all_x_len = [len(i) for i in tar_all_x]\n",
    "\n",
    "    for i in range(len(tar_all_time)):\n",
    "        for j in range(len(tar_all_time[i])):\n",
    "            tar_all_time[i][j] = tar_all_time[i][j][-1]\n",
    "            tar_all_y[i][j] = tar_all_y[i][j][0]\n",
    "\n",
    "    tar_subset_idx = [5, 6, 4, 2, 3, 48, 79, 76, 87, 25, 30, 31, 18, 43, 58, 66, 40, 57, 23, 92, 50, 54, 91, 60, 39, 81]\n",
    "    tar_other_idx = list(range(99))\n",
    "    for i in tar_subset_idx:\n",
    "        tar_other_idx.remove(i)\n",
    "    for i in range(len(tar_all_x)):\n",
    "        cur = np.array(tar_all_x[i], dtype=float)\n",
    "        cur_subset = cur[:, tar_subset_idx]\n",
    "        cur_other = cur[:, tar_other_idx]\n",
    "    #     tar_all_x[i] = np.concatenate((cur_subset, cur_other), axis=1).tolist()\n",
    "        tar_all_x[i] = cur_subset\n",
    "    \n",
    "# print(tar_all_x[0])\n",
    "# print(len(tar_all_x[0][0]))\n",
    "# print(len(tar_all_x))\n",
    "# logger.info(tar_all_x[0])\n",
    "# logger.info(len(tar_all_x[0][0]))\n",
    "# logger.info(len(tar_all_x))\n",
    "\n",
    "assert(subset_cnt == len(tar_subset_idx))\n",
    "\n",
    "examples = []\n",
    "for idx in range(len(tar_all_x)):\n",
    "    examples.append((tar_all_x[idx], tar_all_y[idx], tar_all_time[idx], tar_all_x_len[idx]))\n",
    "examples = sorted(examples, key=lambda e: len(e[0]), reverse=True)\n",
    "tar_all_x = [e[0] for e in examples]\n",
    "tar_all_y = [e[1] for e in examples]\n",
    "tar_all_time = [e[2] for e in examples]\n",
    "tar_all_x_len = [e[3] for e in examples]"
   ]
  },
  {
   "cell_type": "code",
   "execution_count": 23,
   "metadata": {
    "ExecuteTime": {
     "end_time": "2021-02-10T15:06:06.077135Z",
     "start_time": "2021-02-10T15:06:05.101451Z"
    },
    "scrolled": true
   },
   "outputs": [],
   "source": [
    "epochs = 150\n",
    "batch_size = 256\n",
    "input_dim = subset_cnt\n",
    "hidden_dim = 32\n",
    "d_model = 32\n",
    "MHD_num_head = 4\n",
    "d_ff = 64\n",
    "output_dim = 1\n",
    "\n",
    "model_student = distcare_student(input_dim = input_dim, hidden_dim = hidden_dim, d_model=d_model, MHD_num_head=MHD_num_head, d_ff=d_ff, output_dim = output_dim).to(device)\n",
    "# input_dim, d_model, d_k, d_v, MHD_num_head, d_ff, output_dim\n",
    "optimizer_student = torch.optim.Adam(model_student.parameters(), lr=1e-3)"
   ]
  },
  {
   "cell_type": "code",
   "execution_count": 24,
   "metadata": {
    "ExecuteTime": {
     "end_time": "2021-01-30T10:43:10.804571Z",
     "start_time": "2021-01-30T10:42:10.264393Z"
    }
   },
   "outputs": [
    {
     "name": "stderr",
     "output_type": "stream",
     "text": [
      "2025-02-23 11:55:08,153 - INFO - Batch 0: Test Loss = 0.1227\n"
     ]
    },
    {
     "name": "stdout",
     "output_type": "stream",
     "text": [
      "Batch 0: Test Loss = 0.1227\n"
     ]
    },
    {
     "name": "stderr",
     "output_type": "stream",
     "text": [
      "2025-02-23 11:55:12,550 - INFO - Batch 20: Test Loss = 0.1455\n"
     ]
    },
    {
     "name": "stdout",
     "output_type": "stream",
     "text": [
      "Batch 20: Test Loss = 0.1455\n"
     ]
    },
    {
     "name": "stderr",
     "output_type": "stream",
     "text": [
      "2025-02-23 11:55:17,694 - INFO - Batch 40: Test Loss = 0.1408\n"
     ]
    },
    {
     "name": "stdout",
     "output_type": "stream",
     "text": [
      "Batch 40: Test Loss = 0.1408\n"
     ]
    },
    {
     "name": "stderr",
     "output_type": "stream",
     "text": [
      "2025-02-23 11:55:21,867 - INFO - Batch 60: Test Loss = 0.1223\n"
     ]
    },
    {
     "name": "stdout",
     "output_type": "stream",
     "text": [
      "Batch 60: Test Loss = 0.1223\n"
     ]
    },
    {
     "name": "stderr",
     "output_type": "stream",
     "text": [
      "2025-02-23 11:55:26,372 - INFO - Batch 80: Test Loss = 0.0873\n"
     ]
    },
    {
     "name": "stdout",
     "output_type": "stream",
     "text": [
      "Batch 80: Test Loss = 0.0873\n"
     ]
    },
    {
     "name": "stderr",
     "output_type": "stream",
     "text": [
      "2025-02-23 11:55:30,914 - INFO - Batch 100: Test Loss = 0.0720\n"
     ]
    },
    {
     "name": "stdout",
     "output_type": "stream",
     "text": [
      "Batch 100: Test Loss = 0.0720\n"
     ]
    },
    {
     "name": "stderr",
     "output_type": "stream",
     "text": [
      "2025-02-23 11:55:35,167 - INFO - Batch 120: Test Loss = 0.1043\n"
     ]
    },
    {
     "name": "stdout",
     "output_type": "stream",
     "text": [
      "Batch 120: Test Loss = 0.1043\n"
     ]
    }
   ],
   "source": [
    "#Generate Teacher model embedding\n",
    "model.load_state_dict(checkpoint['net'])\n",
    "optimizer.load_state_dict(checkpoint['optimizer'])\n",
    "model.eval()\n",
    "\n",
    "train_teacher_emb = []\n",
    "batch_loss = []\n",
    "y_true = []\n",
    "y_pred = []\n",
    "pad_token = np.zeros(34)\n",
    "with torch.no_grad():\n",
    "    model.eval()\n",
    "    for step, (batch_x, batch_y, batch_mask_x, batch_lens) in enumerate(batch_iter(train_x, train_y, train_mask_x, train_x_len, batch_size, shuffle=False)):  \n",
    "        optimizer.zero_grad()\n",
    "        batch_x = torch.tensor(pad_sents(batch_x, pad_token), dtype=torch.float32).to(device)\n",
    "        batch_y = torch.tensor(batch_y, dtype=torch.float32).to(device)\n",
    "        batch_lens = torch.tensor(batch_lens, dtype=torch.float32).to(device).int()\n",
    "        batch_mask_x = torch.tensor(pad_sents(batch_mask_x, pad_token), dtype=torch.float32).to(device)\n",
    "\n",
    "        masks = length_to_mask(batch_lens).unsqueeze(-1).float()\n",
    "\n",
    "        opt, decov_loss, emb = model(batch_x, batch_lens)\n",
    "        train_teacher_emb.append(emb.cpu().detach().numpy())\n",
    "\n",
    "        BCE_Loss = get_loss(opt, batch_y.unsqueeze(-1))\n",
    "#             REC_Loss = F.mse_loss(masks * recon, masks * batch_x, reduction='mean').to(device)\n",
    "\n",
    "        model_loss =  BCE_Loss \n",
    "        if step % 20 == 0:\n",
    "            print('Batch %d: Test Loss = %.4f'%(step, model_loss.cpu().detach().numpy()))\n",
    "            logger.info('Batch %d: Test Loss = %.4f'%(step, model_loss.cpu().detach().numpy()))"
   ]
  },
  {
   "cell_type": "code",
   "execution_count": 25,
   "metadata": {},
   "outputs": [],
   "source": [
    "tar_all_x = torch.tensor(pad_sents(tar_all_x, np.zeros(len(tar_subset_idx))), dtype=torch.float32).to(device)\n",
    "tar_all_x_len = torch.tensor(tar_all_x_len, dtype=torch.float32).to(device).int()"
   ]
  },
  {
   "cell_type": "code",
   "execution_count": 26,
   "metadata": {},
   "outputs": [],
   "source": [
    "class MMDLoss(nn.Module):\n",
    "    def __init__(self, kernel_type='rbf', kernel_mul=2.0, kernel_num=5, fix_sigma=None, **kwargs):\n",
    "        super(MMDLoss, self).__init__()\n",
    "        self.kernel_num = kernel_num\n",
    "        self.kernel_mul = kernel_mul\n",
    "        self.fix_sigma = None\n",
    "        self.kernel_type = kernel_type\n",
    "\n",
    "    def guassian_kernel(self, source, target, kernel_mul, kernel_num, fix_sigma):\n",
    "        n_samples = int(source.size()[0]) + int(target.size()[0])\n",
    "        total = torch.cat([source, target], dim=0)\n",
    "        total0 = total.unsqueeze(0).expand(\n",
    "            int(total.size(0)), int(total.size(0)), int(total.size(1)))\n",
    "        total1 = total.unsqueeze(1).expand(\n",
    "            int(total.size(0)), int(total.size(0)), int(total.size(1)))\n",
    "        L2_distance = ((total0-total1)**2).sum(2)\n",
    "        if fix_sigma:\n",
    "            bandwidth = fix_sigma\n",
    "        else:\n",
    "            bandwidth = torch.sum(L2_distance.data) / (n_samples**2-n_samples)\n",
    "        bandwidth /= kernel_mul ** (kernel_num // 2)\n",
    "        bandwidth_list = [bandwidth * (kernel_mul**i)\n",
    "                          for i in range(kernel_num)]\n",
    "        kernel_val = [torch.exp(-L2_distance / bandwidth_temp)\n",
    "                      for bandwidth_temp in bandwidth_list]\n",
    "        return sum(kernel_val)\n",
    "\n",
    "    def linear_mmd2(self, f_of_X, f_of_Y):\n",
    "        loss = 0.0\n",
    "        delta = f_of_X.float().mean(0) - f_of_Y.float().mean(0)\n",
    "        loss = delta.dot(delta.T)\n",
    "        return loss\n",
    "\n",
    "    def forward(self, source, target):\n",
    "        if self.kernel_type == 'linear':\n",
    "            return self.linear_mmd2(source, target)\n",
    "        elif self.kernel_type == 'rbf':\n",
    "            batch_size = int(source.size()[0])\n",
    "            kernels = self.guassian_kernel(\n",
    "                source, target, kernel_mul=self.kernel_mul, kernel_num=self.kernel_num, fix_sigma=self.fix_sigma)\n",
    "            XX = torch.mean(kernels[:batch_size, :batch_size])\n",
    "            YY = torch.mean(kernels[batch_size:, batch_size:])\n",
    "            XY = torch.mean(kernels[:batch_size, batch_size:])\n",
    "            YX = torch.mean(kernels[batch_size:, :batch_size])\n",
    "            loss = torch.mean(XX + YY - XY - YX)\n",
    "            return loss\n",
    "\n",
    "class MultitaskLoss(nn.Module):\n",
    "    def __init__(self, task_num=3):\n",
    "        super(MultitaskLoss, self).__init__()\n",
    "        self.task_num = task_num\n",
    "        self.alpha = nn.Parameter(torch.ones((task_num)), requires_grad=True)\n",
    "        self.bce = nn.BCELoss()\n",
    "        self.kl = nn.KLDivLoss(reduce=True, size_average=True)\n",
    "        self.tar = MMDLoss()\n",
    "\n",
    "    def forward(self, opt_student, batch_y, emb_student, emb_teacher, tar_source, tar_tar):\n",
    "        BCE_Loss = self.bce(opt_student, batch_y)\n",
    "        emb_Loss = self.kl(emb_student, emb_teacher)\n",
    "        tar_Loss = self.tar(source=tar_source, target=tar_tar)\n",
    "        if teacher_flag:\n",
    "            return BCE_Loss * self.alpha[0] + emb_Loss * self.alpha[1] + tar_Loss * self.alpha[2]\n",
    "        else:\n",
    "            return BCE_Loss * self.alpha[0] + tar_Loss * self.alpha[2]\n",
    "\n",
    "def get_multitask_loss(opt_student, batch_y, emb_student, emb_teacher, tar_source, tar_tar):\n",
    "    mtl = MultitaskLoss(task_num=3)\n",
    "    return mtl(opt_student, batch_y, emb_student, emb_teacher, tar_source, tar_tar)"
   ]
  },
  {
   "cell_type": "code",
   "execution_count": 27,
   "metadata": {
    "ExecuteTime": {
     "end_time": "2021-01-30T15:39:24.489286Z",
     "start_time": "2021-01-30T10:43:58.619303Z"
    },
    "scrolled": true
   },
   "outputs": [],
   "source": [
    "# Training Student\n",
    "# If you don't want to train Student Model:\n",
    "# - The pretrained student model is in direcrtory './model/', and can be directly loaded, \n",
    "# - Simply skip this cell and load the model to validate on Dev Dataset.\n",
    "\n",
    "# logger.info('Training Student')\n",
    "# total_train_loss = []\n",
    "# total_valid_loss = []\n",
    "# global_best = 0\n",
    "# auroc = []\n",
    "# auprc = []\n",
    "# minpse = []\n",
    "# history = []\n",
    "\n",
    "# pad_token = np.zeros(34)\n",
    "# # begin_time = time.time()\n",
    "# best_auroc = 0\n",
    "# best_auprc = 0\n",
    "# best_minpse = 0\n",
    "\n",
    "# if target_dataset == 'TJ':    \n",
    "#     data_str = 'covid'\n",
    "# elif target_dataset == 'HM':\n",
    "#     data_str = 'spain'\n",
    "\n",
    "# if teacher_flag:\n",
    "#     file_name = './model/pretrained-challenge-front-fill-2'+ data_str\n",
    "# else: \n",
    "#     file_name = './model/pretrained-challenge-front-fill-2'+ data_str + '-noteacher'\n",
    "\n",
    "# for each_epoch in range(epochs):\n",
    "\n",
    "#     epoch_loss = []\n",
    "#     counter_batch = 0\n",
    "#     model_student.train()  \n",
    "#     model.eval()\n",
    "#     for step, (batch_x, batch_y, batch_mask_x, batch_lens) in enumerate(batch_iter(train_x, train_y, train_mask_x, train_x_len, batch_size, shuffle=False)):  \n",
    "#         optimizer_student.zero_grad()\n",
    "#         batch_x = torch.tensor(pad_sents(batch_x, pad_token), dtype=torch.float32).to(device)\n",
    "#         batch_y = torch.tensor(batch_y, dtype=torch.float32).to(device)\n",
    "#         batch_lens = torch.tensor(batch_lens, dtype=torch.float32).to(device).int()\n",
    "#         batch_mask_x = torch.tensor(pad_sents(batch_mask_x, pad_token), dtype=torch.float32).to(device)\n",
    "\n",
    "# #        masks = length_to_mask(batch_lens).unsqueeze(-1).float()\n",
    "\n",
    "#         opt_student, decov_loss_student, emb_student, tar_result = model_student(batch_x[:,:,:subset_cnt], batch_x[:,:,subset_cnt:], batch_lens, [tar_all_x, tar_all_x_len], True)\n",
    "#         emb_teacher = torch.tensor(train_teacher_emb[step], dtype=torch.float32).to(device)\n",
    "#         # opt_teacher, decov_loss_teacher, emb_teacher = model(batch_x, batch_lens)\n",
    "# #         BCE_Loss = get_loss(opt_student, batch_y.unsqueeze(-1)) # b t 1\n",
    "#         #emb_Loss = 0.1 * get_re_loss(emb_student, emb_teacher.detach())\n",
    "#         emb_student = F.log_softmax(emb_student, dim=1)\n",
    "#         emb_teacher = F.softmax(emb_teacher.detach(), dim=1)\n",
    "# #             emb_Loss = get_kl_loss(emb_student, emb_teacher)\n",
    "            \n",
    "#         tar_source = F.softmax(tar_result[0].squeeze(), dim=-1)\n",
    "#         tar_tar = F.softmax(tar_result[1].squeeze(), dim=-1)\n",
    "# #             shrink_indices = torch.tensor(np.random.choice(range(len(tar_tar)), len(tar_source))).to(device)\n",
    "# #             tar_tar = torch.index_select(tar_tar, 0, shrink_indices)\n",
    "# #             tar_Loss = get_kl_loss(tar_source, tar_tar)\n",
    "# #             logger.info(tar_tar)\n",
    "# #             logger.info(tar_source)\n",
    "# #             logger.info(tar_Loss)\n",
    "#         loss = get_multitask_loss(opt_student, batch_y.unsqueeze(-1), emb_student, emb_teacher, tar_source, tar_tar)\n",
    "#         # emb_Loss = 0.1 * get_wass_dist(emb_student, emb_teacher.detach())\n",
    "# #             REC_Loss = F.mse_loss(masks * recon, masks * batch_x, reduction='mean').to(device)\n",
    "\n",
    "#         epoch_loss.append(BCE_Loss.cpu().detach().numpy())\n",
    "#         loss.backward()\n",
    "#         torch.nn.utils.clip_grad_norm_(model_student.parameters(), 20)\n",
    "#         optimizer_student.step()\n",
    "\n",
    "#         if step % 20 == 0:\n",
    "#             print('Epoch %d Batch %d: Train Loss = %.4f'%(each_epoch, step, loss.cpu().detach().numpy()))\n",
    "#             logger.info('Epoch %d Batch %d: Train Loss = %.4f'%(each_epoch, step, loss.cpu().detach().numpy()))\n",
    "\n",
    "#     epoch_loss = np.mean(epoch_loss)\n",
    "#     total_train_loss.append(epoch_loss)\n",
    "\n",
    "#     #Validation\n",
    "#     y_true = []\n",
    "#     y_pred = []\n",
    "#     with torch.no_grad():\n",
    "#         model_student.eval()\n",
    "#         valid_loss = []\n",
    "#         valid_true = []\n",
    "#         valid_pred = []\n",
    "#         for batch_x, batch_y, batch_mask_x, batch_lens in batch_iter(dev_x, dev_y, dev_mask_x, dev_x_len, batch_size):\n",
    "#             batch_x = torch.tensor(pad_sents(batch_x, pad_token), dtype=torch.float32).to(device)\n",
    "#             batch_y = torch.tensor(batch_y, dtype=torch.float32).to(device)\n",
    "#             batch_lens = torch.tensor(batch_lens, dtype=torch.float32).to(device).int()\n",
    "#             batch_mask_x = torch.tensor(pad_sents(batch_mask_x, pad_token), dtype=torch.float32).to(device)\n",
    "# #            masks = length_to_mask(batch_lens).unsqueeze(-1).float()\n",
    "\n",
    "\n",
    "#             opt_student, decov_loss_student, emb, tar_result = model_student(batch_x[:,:,:subset_cnt], batch_x[:,:,subset_cnt:], batch_lens, [[], []], False)\n",
    "\n",
    "#             BCE_Loss = get_loss(opt_student, batch_y.unsqueeze(-1))\n",
    "# #                 REC_Loss = F.mse_loss(recon, batch_x, reduction='mean').to(device)\n",
    "\n",
    "#             valid_loss.append(BCE_Loss.cpu().detach().numpy())\n",
    "\n",
    "#             y_pred += list(opt_student.cpu().detach().numpy().flatten())\n",
    "#             y_true += list(batch_y.cpu().numpy().flatten())\n",
    "\n",
    "#         valid_loss = np.mean(valid_loss)\n",
    "#         total_valid_loss.append(valid_loss)\n",
    "#         ret = metrics.print_metrics_binary(y_true, y_pred,verbose = 0)\n",
    "#         history.append(ret)\n",
    "#         #print()\n",
    "\n",
    "#         print('Epoch %d: Loss = %.4f Valid loss = %.4f roc = %.4f'%(each_epoch, total_train_loss[-1], total_valid_loss[-1], ret['auroc']))\n",
    "#         metrics.print_metrics_binary(y_true, y_pred)\n",
    "\n",
    "#         cur_auroc = ret['auroc']\n",
    "#         if cur_auroc > best_auroc:\n",
    "#             best_auroc = cur_auroc\n",
    "#             best_auprc = ret['auprc']\n",
    "#             best_minpse = ret['minpse']\n",
    "#             state = {\n",
    "#                 'net': model_student.state_dict(),\n",
    "#                 'optimizer': optimizer_student.state_dict(),\n",
    "#                 'epoch': each_epoch\n",
    "#             }\n",
    "#             torch.save(state, file_name)\n",
    "#             print('------------ Save best model - AUROC: %.4f ------------'%cur_auroc)\n",
    "#             logger.info('------------ Save best model - AUROC: %.4f ------------'%cur_auroc)\n",
    "\n",
    "# print('auroc %.4f'%(best_auroc))\n",
    "# print('auprc %.4f'%(best_auprc))\n",
    "# print('minpse %.4f'%(best_minpse)) \n",
    "# logger.info('auroc %.4f'%(best_auroc))\n",
    "# logger.info('auprc %.4f'%(best_auprc))\n",
    "# logger.info('minpse %.4f'%(best_minpse))"
   ]
  },
  {
   "cell_type": "code",
   "execution_count": 28,
   "metadata": {
    "ExecuteTime": {
     "end_time": "2021-02-10T15:06:17.118640Z",
     "start_time": "2021-02-10T15:06:15.660556Z"
    },
    "scrolled": true
   },
   "outputs": [
    {
     "name": "stderr",
     "output_type": "stream",
     "text": [
      "2025-02-23 11:55:36,462 - INFO - last saved model is in epoch 131\n"
     ]
    },
    {
     "name": "stdout",
     "output_type": "stream",
     "text": [
      "last saved model is in epoch 131\n"
     ]
    },
    {
     "data": {
      "text/plain": [
       "distcare_student(\n",
       "  (PositionalEncoding): PositionalEncoding(\n",
       "    (dropout): Dropout(p=0, inplace=False)\n",
       "  )\n",
       "  (GRUs): ModuleList(\n",
       "    (0): GRU(1, 32, batch_first=True)\n",
       "    (1): GRU(1, 32, batch_first=True)\n",
       "    (2): GRU(1, 32, batch_first=True)\n",
       "    (3): GRU(1, 32, batch_first=True)\n",
       "    (4): GRU(1, 32, batch_first=True)\n",
       "    (5): GRU(1, 32, batch_first=True)\n",
       "    (6): GRU(1, 32, batch_first=True)\n",
       "    (7): GRU(1, 32, batch_first=True)\n",
       "    (8): GRU(1, 32, batch_first=True)\n",
       "    (9): GRU(1, 32, batch_first=True)\n",
       "    (10): GRU(1, 32, batch_first=True)\n",
       "    (11): GRU(1, 32, batch_first=True)\n",
       "    (12): GRU(1, 32, batch_first=True)\n",
       "    (13): GRU(1, 32, batch_first=True)\n",
       "    (14): GRU(1, 32, batch_first=True)\n",
       "    (15): GRU(1, 32, batch_first=True)\n",
       "    (16): GRU(1, 32, batch_first=True)\n",
       "    (17): GRU(1, 32, batch_first=True)\n",
       "  )\n",
       "  (generalGRU): GRU(1, 32, batch_first=True)\n",
       "  (LastStepAttentions): ModuleList(\n",
       "    (0): SingleAttention(\n",
       "      (tanh): Tanh()\n",
       "      (softmax): Softmax(dim=None)\n",
       "    )\n",
       "    (1): SingleAttention(\n",
       "      (tanh): Tanh()\n",
       "      (softmax): Softmax(dim=None)\n",
       "    )\n",
       "    (2): SingleAttention(\n",
       "      (tanh): Tanh()\n",
       "      (softmax): Softmax(dim=None)\n",
       "    )\n",
       "    (3): SingleAttention(\n",
       "      (tanh): Tanh()\n",
       "      (softmax): Softmax(dim=None)\n",
       "    )\n",
       "    (4): SingleAttention(\n",
       "      (tanh): Tanh()\n",
       "      (softmax): Softmax(dim=None)\n",
       "    )\n",
       "    (5): SingleAttention(\n",
       "      (tanh): Tanh()\n",
       "      (softmax): Softmax(dim=None)\n",
       "    )\n",
       "    (6): SingleAttention(\n",
       "      (tanh): Tanh()\n",
       "      (softmax): Softmax(dim=None)\n",
       "    )\n",
       "    (7): SingleAttention(\n",
       "      (tanh): Tanh()\n",
       "      (softmax): Softmax(dim=None)\n",
       "    )\n",
       "    (8): SingleAttention(\n",
       "      (tanh): Tanh()\n",
       "      (softmax): Softmax(dim=None)\n",
       "    )\n",
       "    (9): SingleAttention(\n",
       "      (tanh): Tanh()\n",
       "      (softmax): Softmax(dim=None)\n",
       "    )\n",
       "    (10): SingleAttention(\n",
       "      (tanh): Tanh()\n",
       "      (softmax): Softmax(dim=None)\n",
       "    )\n",
       "    (11): SingleAttention(\n",
       "      (tanh): Tanh()\n",
       "      (softmax): Softmax(dim=None)\n",
       "    )\n",
       "    (12): SingleAttention(\n",
       "      (tanh): Tanh()\n",
       "      (softmax): Softmax(dim=None)\n",
       "    )\n",
       "    (13): SingleAttention(\n",
       "      (tanh): Tanh()\n",
       "      (softmax): Softmax(dim=None)\n",
       "    )\n",
       "    (14): SingleAttention(\n",
       "      (tanh): Tanh()\n",
       "      (softmax): Softmax(dim=None)\n",
       "    )\n",
       "    (15): SingleAttention(\n",
       "      (tanh): Tanh()\n",
       "      (softmax): Softmax(dim=None)\n",
       "    )\n",
       "    (16): SingleAttention(\n",
       "      (tanh): Tanh()\n",
       "      (softmax): Softmax(dim=None)\n",
       "    )\n",
       "    (17): SingleAttention(\n",
       "      (tanh): Tanh()\n",
       "      (softmax): Softmax(dim=None)\n",
       "    )\n",
       "  )\n",
       "  (FinalAttentionQKV): FinalAttentionQKV(\n",
       "    (W_q): Linear(in_features=32, out_features=32, bias=True)\n",
       "    (W_k): Linear(in_features=32, out_features=32, bias=True)\n",
       "    (W_v): Linear(in_features=32, out_features=32, bias=True)\n",
       "    (W_out): Linear(in_features=32, out_features=1, bias=True)\n",
       "    (dropout): Dropout(p=0.5, inplace=False)\n",
       "    (tanh): Tanh()\n",
       "    (softmax): Softmax(dim=None)\n",
       "    (sigmoid): Sigmoid()\n",
       "  )\n",
       "  (MultiHeadedAttention): MultiHeadedAttention(\n",
       "    (linears): ModuleList(\n",
       "      (0): Linear(in_features=32, out_features=32, bias=True)\n",
       "      (1): Linear(in_features=32, out_features=32, bias=True)\n",
       "      (2): Linear(in_features=32, out_features=32, bias=True)\n",
       "    )\n",
       "    (final_linear): Linear(in_features=32, out_features=32, bias=True)\n",
       "    (dropout): Dropout(p=0.5, inplace=False)\n",
       "  )\n",
       "  (SublayerConnection): SublayerConnection(\n",
       "    (norm): LayerNorm()\n",
       "    (dropout): Dropout(p=0.5, inplace=False)\n",
       "  )\n",
       "  (PositionwiseFeedForward): PositionwiseFeedForward(\n",
       "    (w_1): Linear(in_features=32, out_features=64, bias=True)\n",
       "    (w_2): Linear(in_features=64, out_features=32, bias=True)\n",
       "    (dropout): Dropout(p=0.1, inplace=False)\n",
       "  )\n",
       "  (demo_proj_main): Linear(in_features=12, out_features=32, bias=True)\n",
       "  (demo_proj): Linear(in_features=12, out_features=32, bias=True)\n",
       "  (Linear): Linear(in_features=32, out_features=1, bias=True)\n",
       "  (output): Linear(in_features=34, out_features=1, bias=True)\n",
       "  (dropout): Dropout(p=0.5, inplace=False)\n",
       "  (FC_embed): Linear(in_features=32, out_features=32, bias=True)\n",
       "  (tanh): Tanh()\n",
       "  (softmax): Softmax(dim=None)\n",
       "  (sigmoid): Sigmoid()\n",
       "  (relu): ReLU()\n",
       "  (to_MMD): Linear(in_features=32, out_features=1, bias=True)\n",
       ")"
      ]
     },
     "execution_count": 28,
     "metadata": {},
     "output_type": "execute_result"
    }
   ],
   "source": [
    "if target_dataset == 'TJ':    \n",
    "    data_str = 'covid'\n",
    "elif target_dataset == 'HM':\n",
    "    data_str = 'spain'\n",
    "\n",
    "if teacher_flag:\n",
    "    file_name = './model/pretrained-challenge-front-fill-2'+ data_str\n",
    "else: \n",
    "    file_name = './model/pretrained-challenge-front-fill-2'+ data_str + '-noteacher'\n",
    "\n",
    "checkpoint = torch.load(file_name, \\\n",
    "                        map_location=torch.device(\"cuda:0\" if torch.cuda.is_available() == True else 'cpu') )\n",
    "save_epoch = checkpoint['epoch']\n",
    "print(\"last saved model is in epoch {}\".format(save_epoch))\n",
    "logger.info(\"last saved model is in epoch {}\".format(save_epoch))\n",
    "model_student.load_state_dict(checkpoint['net'])\n",
    "optimizer_student.load_state_dict(checkpoint['optimizer'])\n",
    "model_student.eval()"
   ]
  },
  {
   "cell_type": "code",
   "execution_count": 29,
   "metadata": {
    "ExecuteTime": {
     "end_time": "2021-01-30T15:40:05.462185Z",
     "start_time": "2021-01-30T15:40:00.917653Z"
    }
   },
   "outputs": [
    {
     "name": "stderr",
     "output_type": "stream",
     "text": [
      "2025-02-23 11:55:36,919 - INFO - Batch 0: Test Loss = 0.2363\n"
     ]
    },
    {
     "name": "stdout",
     "output_type": "stream",
     "text": [
      "Batch 0: Test Loss = 0.2363\n"
     ]
    },
    {
     "name": "stderr",
     "output_type": "stream",
     "text": [
      "2025-02-23 11:55:41,178 - INFO - \n",
      "==>Predicting on test\n",
      "2025-02-23 11:55:41,179 - INFO - Test Loss = 0.1498\n"
     ]
    },
    {
     "name": "stdout",
     "output_type": "stream",
     "text": [
      "\n",
      "==>Predicting on test\n",
      "Test Loss = 0.1498\n",
      "confusion matrix:\n",
      "[[3716   20]\n",
      " [ 166  131]]\n",
      "accuracy = 0.9538804888725281\n",
      "precision class 0 = 0.9572385549545288\n",
      "precision class 1 = 0.8675496578216553\n",
      "recall class 0 = 0.9946466684341431\n",
      "recall class 1 = 0.44107744097709656\n",
      "AUC of ROC = 0.9145514747763142\n",
      "AUC of PRC = 0.691550074871662\n",
      "min(+P, Se) = 0.6464646464646465\n",
      "f1_score = 0.5848214126534154\n"
     ]
    }
   ],
   "source": [
    "batch_loss = []\n",
    "y_true = []\n",
    "y_pred = []\n",
    "with torch.no_grad():\n",
    "    model_student.eval()\n",
    "    for step, (batch_x, batch_y, batch_mask_x, batch_lens) in enumerate(batch_iter(test_x, test_y, test_mask_x, test_x_len, batch_size, shuffle=True)):  \n",
    "        optimizer_student.zero_grad()\n",
    "        batch_x = torch.tensor(pad_sents(batch_x, pad_token), dtype=torch.float32).to(device)\n",
    "        batch_y = torch.tensor(batch_y, dtype=torch.float32).to(device)\n",
    "        batch_lens = torch.tensor(batch_lens, dtype=torch.float32).to(device).int()\n",
    "        batch_mask_x = torch.tensor(pad_sents(batch_mask_x, pad_token), dtype=torch.float32).to(device)\n",
    "\n",
    "        masks = length_to_mask(batch_lens).unsqueeze(-1).float()\n",
    "\n",
    "        opt, decov_loss, emb, tar_result = model_student(batch_x[:,:,:subset_cnt], batch_x[:,:,subset_cnt:], batch_lens, [[], []], False)\n",
    "\n",
    "        BCE_Loss = get_loss(opt, batch_y.unsqueeze(-1))\n",
    "#             REC_Loss = F.mse_loss(masks * recon, masks * batch_x, reduction='mean').to(device)\n",
    "\n",
    "        model_loss =  BCE_Loss \n",
    "\n",
    "        loss = model_loss\n",
    "        batch_loss.append(loss.cpu().detach().numpy())\n",
    "        if step % 20 == 0:\n",
    "            print('Batch %d: Test Loss = %.4f'%(step, loss.cpu().detach().numpy()))\n",
    "            logger.info('Batch %d: Test Loss = %.4f'%(step, loss.cpu().detach().numpy()))\n",
    "        y_pred += list(opt.cpu().detach().numpy().flatten())\n",
    "        y_true += list(batch_y.cpu().numpy().flatten())\n",
    "\n",
    "print(\"\\n==>Predicting on test\")\n",
    "print('Test Loss = %.4f'%(np.mean(np.array(batch_loss))))\n",
    "logger.info(\"\\n==>Predicting on test\")\n",
    "logger.info('Test Loss = %.4f'%(np.mean(np.array(batch_loss))))\n",
    "y_pred = np.array(y_pred)\n",
    "y_pred = np.stack([1 - y_pred, y_pred], axis=1)\n",
    "test_res = metrics.print_metrics_binary(y_true, y_pred)"
   ]
  },
  {
   "cell_type": "markdown",
   "metadata": {},
   "source": [
    "### Transfer Target Dataset & Model"
   ]
  },
  {
   "cell_type": "code",
   "execution_count": 30,
   "metadata": {
    "ExecuteTime": {
     "end_time": "2021-02-10T15:06:28.889438Z",
     "start_time": "2021-02-10T15:06:28.597765Z"
    }
   },
   "outputs": [
    {
     "name": "stderr",
     "output_type": "stream",
     "text": [
      "2025-02-23 11:55:41,228 - INFO - Transfer Target Dataset & Model\n"
     ]
    }
   ],
   "source": [
    "logger.info(\"Transfer Target Dataset & Model\")\n",
    "# if target_dataset == 'TJ':\n",
    "#     data_path = './data/Tongji/'\n",
    "#     all_x = pickle.load(open(data_path + 'x.dat', 'rb'))\n",
    "#     all_y = pickle.load(open(data_path + 'y.dat', 'rb'))\n",
    "#     all_time = pickle.load(open(data_path + 'time_all.dat', 'rb'))\n",
    "#     all_x_len = [len(i) for i in all_x]\n",
    "\n",
    "#     tar_subset_idx = [0,1,2,7,11,12,24,25,28,30,32,36,37,39,50,51,65,73]\n",
    "#     tar_other_idx = list(range(74))\n",
    "#     for i in tar_subset_idx:\n",
    "#         tar_other_idx.remove(i)\n",
    "#     for i in range(len(all_x)):\n",
    "#         cur = np.array(all_x[i], dtype=float)\n",
    "#         cur_subset = cur[:, tar_subset_idx]\n",
    "#         cur_other = cur[:, tar_other_idx]\n",
    "#         all_x[i] = np.concatenate((cur_subset, cur_other), axis=1).tolist()\n",
    "#     print(all_x[0])\n",
    "#     print(len(all_x[0][0]))\n",
    "#     logger.info(all_x[0])\n",
    "#     logger.info(len(all_x[0][0]))\n",
    "    \n",
    "# elif target_dataset == 'HM':\n",
    "#     data_path = './data/Spain/'\n",
    "#     all_x = pickle.load(open(data_path + 'x.dat', 'rb'))\n",
    "#     all_y = pickle.load(open(data_path + 'y.dat', 'rb'))\n",
    "#     all_time = pickle.load(open(data_path + 'time_all.dat', 'rb'))\n",
    "#     all_x_len = [len(i) for i in all_x]\n",
    "    \n",
    "#     tar_subset_idx = [39, 35, 23, 47, 55, 51, 22, 53, 25, 15, 43, 65, 1, 2, 48, 12, 26, 44, 49]\n",
    "#     tar_other_idx = list(range(66))\n",
    "#     for i in tar_subset_idx:\n",
    "#         tar_other_idx.remove(i)\n",
    "#     for i in range(len(all_x)):\n",
    "#         cur = np.array(all_x[i], dtype=float)\n",
    "#         cur_subset = cur[:, tar_subset_idx]\n",
    "#         cur_other = cur[:, tar_other_idx]\n",
    "#         all_x[i] = np.concatenate((cur_subset, cur_other), axis=1).tolist()\n",
    "#     print(all_x[0])\n",
    "#     print(len(all_x[0][0]))\n",
    "#     print(all_y[0])\n",
    "#     logger.info(all_x[0])\n",
    "#     logger.info(len(all_x[0][0]))\n",
    "#     logger.info(all_y[0])\n",
    "if target_dataset == 'TJ':\n",
    "    data_path = './data/Tongji/'\n",
    "    all_x = pickle.load(open(data_path + 'x.pkl', 'rb'))\n",
    "    all_y = pickle.load(open(data_path + 'y.pkl', 'rb'))\n",
    "    all_time = pickle.load(open(data_path + 'y.pkl', 'rb'))\n",
    "    all_x_len = [len(i) for i in all_x]\n",
    "\n",
    "    for i in range(len(all_time)):\n",
    "        for j in range(len(all_time[i])):\n",
    "            all_time[i][j] = all_time[i][j][-1]\n",
    "            all_y[i][j] = all_y[i][j][0]\n",
    "\n",
    "    tar_subset_idx = [2, 3, 4, 9, 13, 14, 26, 27, 30, 32, 34, 38, 39, 41, 52, 53, 66, 74]\n",
    "    tar_other_idx = list(range(75))\n",
    "    for i in tar_subset_idx:\n",
    "        tar_other_idx.remove(i)\n",
    "    for i in range(len(all_x)):\n",
    "        cur = np.array(all_x[i], dtype=float)\n",
    "        cur_subset = cur[:, tar_subset_idx]\n",
    "        cur_other = cur[:, tar_other_idx]\n",
    "        all_x[i] = np.concatenate((cur_subset, cur_other), axis=1).tolist()\n",
    "elif target_dataset == 'HM':\n",
    "    data_path = './data/CDSL/'\n",
    "    all_x = pickle.load(open(data_path + 'x.pkl', 'rb'))\n",
    "    all_y = pickle.load(open(data_path + 'y.pkl', 'rb'))\n",
    "    all_time = pickle.load(open(data_path + 'y.pkl', 'rb'))\n",
    "    all_x_len = [len(i) for i in all_x]\n",
    "\n",
    "    for i in range(len(all_time)):\n",
    "        for j in range(len(all_time[i])):\n",
    "            all_time[i][j] = all_time[i][j][-1]\n",
    "            all_y[i][j] = all_y[i][j][0]\n",
    "\n",
    "    tar_subset_idx = [5, 6, 4, 2, 3, 48, 79, 76, 87, 25, 30, 31, 18, 43, 58, 66, 40, 57, 23, 92, 50, 54, 91, 60, 39, 81]\n",
    "    tar_other_idx = list(range(99))\n",
    "    for i in tar_subset_idx:\n",
    "        tar_other_idx.remove(i)\n",
    "    for i in range(len(all_x)):\n",
    "        cur = np.array(all_x[i], dtype=float)\n",
    "        cur_subset = cur[:, tar_subset_idx]\n",
    "        cur_other = cur[:, tar_other_idx]\n",
    "        all_x[i] = np.concatenate((cur_subset, cur_other), axis=1).tolist()\n",
    "    \n",
    "# print(all_x[0])\n",
    "# print(len(all_x[0][0]))\n",
    "# print(len(all_x))\n",
    "# logger.info(all_x[0])\n",
    "# logger.info(len(all_x[0][0]))\n",
    "# logger.info(len(all_x))"
   ]
  },
  {
   "cell_type": "code",
   "execution_count": 31,
   "metadata": {
    "ExecuteTime": {
     "end_time": "2021-02-10T15:06:34.621807Z",
     "start_time": "2021-02-10T15:06:34.616350Z"
    }
   },
   "outputs": [],
   "source": [
    "long_x = all_x\n",
    "long_y = all_y\n",
    "long_y_kfold = [each[-1] for each in all_y]\n",
    "long_time = all_time"
   ]
  },
  {
   "cell_type": "code",
   "execution_count": 32,
   "metadata": {
    "ExecuteTime": {
     "end_time": "2021-02-10T15:06:34.845288Z",
     "start_time": "2021-02-10T15:06:34.837259Z"
    }
   },
   "outputs": [],
   "source": [
    "# def get_n2n_data(x, y, x_len):\n",
    "#     length = len(x)\n",
    "#     assert length == len(y)\n",
    "#     assert length == len(x_len)\n",
    "#     new_x = []\n",
    "#     new_y = []\n",
    "#     new_x_len = []\n",
    "#     for i in range(length):\n",
    "#         for j in range(len(x[i])):\n",
    "#             new_x.append(x[i][:j+1])\n",
    "#             new_y.append(y[i][j])\n",
    "#             new_x_len.append(j+1)\n",
    "#     return new_x, new_y, new_x_len\n",
    "def get_n2n_data(x, y, x_len, outcome=None):\n",
    "    length = len(x)\n",
    "    assert length == len(y)\n",
    "    assert length == len(outcome)\n",
    "    assert length == len(x_len)\n",
    "    new_x = []\n",
    "    new_y = []\n",
    "    new_outcome = []\n",
    "    new_x_len = []\n",
    "    for i in range(length):\n",
    "        for j in range(len(x[i])):\n",
    "            new_x.append(x[i][:j+1])\n",
    "            new_y.append(y[i][j])\n",
    "            new_outcome.append(outcome[i][j])\n",
    "            new_x_len.append(j+1)\n",
    "    return new_x, new_y, new_x_len, new_outcome"
   ]
  },
  {
   "cell_type": "code",
   "execution_count": 104,
   "metadata": {
    "ExecuteTime": {
     "end_time": "2021-02-10T15:06:35.791565Z",
     "start_time": "2021-02-10T15:06:35.745700Z"
    }
   },
   "outputs": [],
   "source": [
    "class FeatureAttention(nn.Module):\n",
    "    def __init__(self, hidden_dim):\n",
    "        super(FeatureAttention, self).__init__()\n",
    "        # 注意力网络\n",
    "        self.attention = nn.Sequential(\n",
    "            nn.Linear(hidden_dim, hidden_dim // 2),  # 降维\n",
    "            nn.Tanh(),\n",
    "            nn.Linear(hidden_dim // 2, 1)  # 输出单个注意力分数\n",
    "        )\n",
    "\n",
    "    def forward(self, x):\n",
    "        \"\"\"\n",
    "        x: (batch_size, num_features, hidden_dim)\n",
    "        返回值：\n",
    "        - weighted_output: (batch_size, num_features, hidden_dim)\n",
    "        - attention_weights: (batch_size, num_features)\n",
    "        \"\"\"\n",
    "        # 计算注意力分数\n",
    "        attention_scores = self.attention(x)  # (batch_size, num_features, 1)\n",
    "        attention_weights = torch.softmax(attention_scores.squeeze(-1), dim=1)  # (batch_size, num_features)\n",
    "        \n",
    "        attention_weights = (attention_weights - attention_weights.mean(dim=1).unsqueeze(-1)) / attention_weights.std(dim=1).unsqueeze(-1)\n",
    "#         attention_weights = (attention_weights - attention_weights.min(dim=1).values.unsqueeze(-1)) / (attention_weights.max(dim=1).values.unsqueeze(-1) - attention_weights.min(dim=1).values.unsqueeze(-1))\n",
    "\n",
    "        # 加权求和\n",
    "        weighted_output = attention_weights.unsqueeze(-1) * x  # (batch_size, num_features, hidden_dim)\n",
    "        return weighted_output, attention_weights\n",
    "\n",
    "class distcare_target(nn.Module):\n",
    "    def __init__(self, input_dim, hidden_dim, d_model,  MHD_num_head, d_ff, output_dim, keep_prob=0.7):\n",
    "        super(distcare_target, self).__init__()\n",
    "\n",
    "        # hyperparameters\n",
    "        self.input_dim = input_dim  \n",
    "        self.hidden_dim = hidden_dim  # d_model\n",
    "        self.d_model = d_model\n",
    "        self.MHD_num_head = MHD_num_head\n",
    "        self.d_ff = d_ff\n",
    "        self.output_dim = output_dim\n",
    "        self.keep_prob = keep_prob\n",
    "\n",
    "        # layers\n",
    "        self.PositionalEncoding = PositionalEncoding(self.d_model, dropout = 0, max_len = 400)\n",
    "\n",
    "        self.GRUs = clones(nn.GRU(1, self.hidden_dim, batch_first = True), self.input_dim)\n",
    "        self.FeatureAttention = FeatureAttention(self.hidden_dim)\n",
    "        self.LastStepAttentions = clones(SingleAttention(self.hidden_dim, 16, attention_type='concat', demographic_dim=12, time_aware=True, use_demographic=False),self.input_dim)\n",
    "        \n",
    "        self.FinalAttentionQKV = FinalAttentionQKV(self.hidden_dim, self.hidden_dim, attention_type='mul',dropout = 1 - self.keep_prob)\n",
    "\n",
    "        self.MultiHeadedAttention = MultiHeadedAttention(self.MHD_num_head, self.d_model,dropout = 1 - self.keep_prob)\n",
    "        self.SublayerConnection = SublayerConnection(self.d_model, dropout = 1 - self.keep_prob)\n",
    "\n",
    "        self.PositionwiseFeedForward = PositionwiseFeedForward(self.d_model, self.d_ff, dropout=0.1)\n",
    "\n",
    "        self.demo_proj_main = nn.Linear(12, self.hidden_dim)\n",
    "        self.demo_proj = nn.Linear(12, self.hidden_dim)\n",
    "        self.output = nn.Linear(self.hidden_dim, self.output_dim)\n",
    "\n",
    "        self.dropout = nn.Dropout(p = 1 - self.keep_prob)\n",
    "        self.FC_embed = nn.Linear(self.hidden_dim, self.hidden_dim)\n",
    "        self.tanh=nn.Tanh()\n",
    "        self.Linear = nn.Linear(self.hidden_dim, 1)\n",
    "        self.Linear_los = nn.Linear(self.input_dim, self.output_dim)\n",
    "        self.Linear_outcome = nn.Linear(self.input_dim, self.output_dim)\n",
    "        self.softmax = nn.Softmax()\n",
    "        self.sigmoid = nn.Sigmoid()\n",
    "        self.relu=nn.ReLU()\n",
    "\n",
    "    def forward(self, input, lens):\n",
    "        lens = lens.to('cpu')\n",
    "        # input shape [batch_size, timestep, feature_dim]\n",
    "#         demo_main = self.tanh(self.demo_proj_main(demo_input)).unsqueeze(1)# b hidden_dim\n",
    "        \n",
    "        batch_size = input.size(0)\n",
    "        time_step = input.size(1)\n",
    "        feature_dim = input.size(2)\n",
    "        assert(feature_dim == self.input_dim)# input Tensor : 256 * 48 * 76\n",
    "        assert(self.d_model % self.MHD_num_head == 0)\n",
    "\n",
    "        # Initialization\n",
    "        #cur_hs = Variable(torch.zeros(batch_size, self.hidden_dim).unsqueeze(0))\n",
    "\n",
    "        # forward\n",
    "        # GRU_embeded_input = self.GRUs[0](input[:,:,0].unsqueeze(-1), Variable(torch.zeros(batch_size, self.hidden_dim).unsqueeze(0)).to(device))[0] # b t h\n",
    "        # Attention_embeded_input = self.LastStepAttentions[0](GRU_embeded_input)[0].unsqueeze(1)# b 1 h\n",
    "        # for i in range(feature_dim-1):\n",
    "        #     embeded_input = self.GRUs[i+1](input[:,:,i+1].unsqueeze(-1), Variable(torch.zeros(batch_size, self.hidden_dim).unsqueeze(0)).to(device))[0] # b 1 h\n",
    "        #     embeded_input = self.LastStepAttentions[i+1](embeded_input)[0].unsqueeze(1)# b 1 h\n",
    "        #     Attention_embeded_input = torch.cat((Attention_embeded_input, embeded_input), 1)# b i h\n",
    "\n",
    "        # Attention_embeded_input = torch.cat((Attention_embeded_input, demo_main), 1)# b i+1 h\n",
    "        # posi_input = self.dropout(Attention_embeded_input) # batch_size * d_input+1 * hidden_dim\n",
    "\n",
    "#         input = pack_padded_sequence(input, lens, batch_first=True)\n",
    "        \n",
    "        GRU_embeded_input = []\n",
    "        for i in range(feature_dim):\n",
    "            embeded_input = self.GRUs[i](pack_padded_sequence(input[:,:,i].unsqueeze(-1), lens, batch_first=True))[1].squeeze().unsqueeze(1) # b 1 h\n",
    "            GRU_embeded_input.append(embeded_input)\n",
    "        \n",
    "\n",
    "        GRU_embeded_input = torch.cat(GRU_embeded_input, 1)\n",
    "        weighted_input, feature_importance = self.FeatureAttention(GRU_embeded_input)\n",
    "        posi_input = self.dropout(weighted_input) # batch_size * d_input * hidden_dim\n",
    "\n",
    "\n",
    "#         #mask = subsequent_mask(time_step).to(device) # 1 t t 下三角 N to 1任务不用mask\n",
    "#         contexts = self.SublayerConnection(posi_input, lambda x: self.MultiHeadedAttention(posi_input, posi_input, posi_input, None))# # batch_size * d_input * hidden_dim\n",
    "    \n",
    "#         DeCov_loss = contexts[1]\n",
    "#         contexts = contexts[0]\n",
    "\n",
    "#         contexts = self.SublayerConnection(contexts, lambda x: self.PositionwiseFeedForward(contexts))[0]# # batch_size * d_input * hidden_dim\n",
    "#         #contexts = contexts.view(batch_size, feature_dim * self.hidden_dim)#\n",
    "#         # contexts = torch.matmul(self.Wproj, contexts) + self.bproj\n",
    "#         # contexts = contexts.squeeze()\n",
    "#         # demo_key = self.demo_proj(demo_input)# b hidden_dim\n",
    "#         # demo_key = self.relu(demo_key)\n",
    "#         # input_dim_scores = torch.matmul(contexts, demo_key.unsqueeze(-1)).squeeze() # b i\n",
    "#         # input_dim_scores = self.dropout(self.sigmoid(input_dim_scores)).unsqueeze(1)# b i\n",
    "        \n",
    "#         # weighted_contexts = torch.matmul(input_dim_scores, contexts).squeeze()\n",
    "# #         print(contexts.shape)\n",
    "\n",
    "#         weighted_contexts = self.FinalAttentionQKV(contexts)[0]\n",
    "#         #output_embed = self.FC_embed(weighted_contexts)\n",
    "        contexts = self.Linear(posi_input).squeeze()# b i\n",
    "        output = self.Linear_los(self.dropout(contexts))# b 1\n",
    "        outcome = self.Linear_outcome(self.dropout(contexts))# b 1\n",
    "        outcome = F.sigmoid(outcome)\n",
    "#         if self.output_dim != 1:\n",
    "#             output = F.softmax(output, dim=1)\n",
    "#         print(weighted_contexts.shape)\n",
    "          \n",
    "        return output, None, None, outcome, feature_importance\n",
    "    #, self.MultiHeadedAttention.attn"
   ]
  },
  {
   "cell_type": "code",
   "execution_count": 105,
   "metadata": {
    "ExecuteTime": {
     "end_time": "2021-02-10T15:06:37.622869Z",
     "start_time": "2021-02-10T15:06:37.615260Z"
    }
   },
   "outputs": [],
   "source": [
    "# def transfer_gru_dict(pretrain_dict, model_dict):\n",
    "#     state_dict = {}\n",
    "#     for k, v in pretrain_dict.items():\n",
    "#         if 'GRUs' in k:\n",
    "#             state_dict[k] = v\n",
    "#             print(\"transfered weight: {}\".format(k))\n",
    "#             logger.info(\"transfered weight: {}\".format(k))\n",
    "#         else:\n",
    "#             print(\"Other weight in model_dict: {}\".format(k))\n",
    "#             logger.info(\"Other weight in model_dict: {}\".format(k))\n",
    "#     return state_dict\n",
    "def transfer_gru_dict(pretrain_dict, model_dict):\n",
    "    state_dict = {}\n",
    "    for k, v in model_dict.items():\n",
    "        if \"GRUs\" in k:\n",
    "            if k in pretrain_dict:\n",
    "                state_dict[k] = pretrain_dict[k]\n",
    "            else:\n",
    "                target_k = \"generalGRU.\"\n",
    "                point_position1 = k.find('.')\n",
    "                point_position2 = k.find('.', point_position1+1)\n",
    "                target_k += k[point_position2+1:]\n",
    "                state_dict[k] = pretrain_dict[target_k]\n",
    "    return state_dict"
   ]
  },
  {
   "cell_type": "code",
   "execution_count": 106,
   "metadata": {
    "ExecuteTime": {
     "end_time": "2021-02-10T15:06:37.864449Z",
     "start_time": "2021-02-10T15:06:37.857471Z"
    }
   },
   "outputs": [],
   "source": [
    "if target_dataset == 'TJ':\n",
    "    input_dim = 75\n",
    "elif target_dataset == 'HM':\n",
    "    input_dim = 99\n",
    "    \n",
    "cell = 'GRU'\n",
    "hidden_dim = 32\n",
    "d_model = 32\n",
    "MHD_num_head = 4\n",
    "d_ff = 64\n",
    "output_dim = 1"
   ]
  },
  {
   "cell_type": "code",
   "execution_count": 107,
   "metadata": {
    "ExecuteTime": {
     "end_time": "2021-02-10T15:06:39.629505Z",
     "start_time": "2021-02-10T15:06:39.615897Z"
    }
   },
   "outputs": [],
   "source": [
    "def ckd_batch_iter(x, y, lens, batch_size, shuffle=False, outcome=None):\n",
    "    \"\"\" Yield batches of source and target sentences reverse sorted by length (largest to smallest).\n",
    "    @param data (list of (src_sent, tgt_sent)): list of tuples containing source and target sentence\n",
    "    @param batch_size (int): batch size\n",
    "    @param shuffle (boolean): whether to randomly shuffle the dataset\n",
    "    \"\"\"\n",
    "    batch_num = math.ceil(len(x) / batch_size) # 向下取整\n",
    "    index_array = list(range(len(x)))\n",
    "\n",
    "    if shuffle:\n",
    "        np.random.shuffle(index_array)\n",
    "\n",
    "    for i in range(batch_num):\n",
    "        indices = index_array[i * batch_size: (i + 1) * batch_size] #  fetch out all the induces\n",
    "        \n",
    "        examples = []\n",
    "        for idx in indices:\n",
    "            examples.append((x[idx], y[idx],  lens[idx], outcome[idx]))\n",
    "       \n",
    "        examples = sorted(examples, key=lambda e: len(e[0]), reverse=True)\n",
    "    \n",
    "        batch_x = [e[0] for e in examples]\n",
    "        batch_y = [e[1] for e in examples]\n",
    "#         batch_name = [e[2] for e in examples]\n",
    "        batch_lens = [e[2] for e in examples]\n",
    "        batch_outcome = [e[3] for e in examples]\n",
    "       \n",
    "\n",
    "        yield batch_x, batch_y, batch_lens, batch_outcome"
   ]
  },
  {
   "cell_type": "code",
   "execution_count": 108,
   "metadata": {},
   "outputs": [],
   "source": [
    "class TargetMultitaskLoss(nn.Module):\n",
    "    def __init__(self, task_num=2):\n",
    "        super(TargetMultitaskLoss, self).__init__()\n",
    "        self.task_num = task_num\n",
    "        self.alpha = nn.Parameter(torch.ones((task_num)), requires_grad=True)\n",
    "        self.mse = nn.MSELoss()\n",
    "        self.bce = nn.BCELoss()\n",
    "\n",
    "    def forward(self, opt_student, los, outcome, outcome_y):\n",
    "        MSE_Loss = self.mse(opt_student, los)\n",
    "        BCE_Loss = self.bce(outcome, outcome_y)\n",
    "        return MSE_Loss * self.alpha[0] + BCE_Loss * self.alpha[1]\n",
    "\n",
    "def get_target_multitask_loss(opt_student, los, outcome, outcome_y):\n",
    "    mtl = TargetMultitaskLoss(task_num=2)\n",
    "    return mtl(opt_student, los, outcome, outcome_y)\n",
    "\n",
    "def reverse_los(y, los_info):\n",
    "    return y * los_info[\"los_std\"] + los_info[\"los_mean\"]"
   ]
  },
  {
   "cell_type": "code",
   "execution_count": 109,
   "metadata": {},
   "outputs": [
    {
     "name": "stderr",
     "output_type": "stream",
     "text": [
      "2025-02-23 13:02:01,954 - INFO - {'los_mean': 6.927731092436975, 'los_std': 5.1253246527009555, 'los_median': 6.0, 'large_los': 26.649999999999977, 'threshold': 4.9562737642585555}\n"
     ]
    },
    {
     "name": "stdout",
     "output_type": "stream",
     "text": [
      "{'los_mean': 6.927731092436975, 'los_std': 5.1253246527009555, 'los_median': 6.0, 'large_los': 26.649999999999977, 'threshold': 4.9562737642585555}\n"
     ]
    }
   ],
   "source": [
    "los_info = pickle.load(open(data_path + 'los_info.pkl', 'rb'))\n",
    "print(los_info)\n",
    "logger.info(los_info)"
   ]
  },
  {
   "cell_type": "code",
   "execution_count": 110,
   "metadata": {
    "ExecuteTime": {
     "start_time": "2021-02-10T15:08:58.832Z"
    },
    "scrolled": true
   },
   "outputs": [
    {
     "name": "stderr",
     "output_type": "stream",
     "text": [
      "/home/zzj/anaconda3/envs/distcare/lib/python3.7/site-packages/torch/nn/functional.py:1960: UserWarning: nn.functional.sigmoid is deprecated. Use torch.sigmoid instead.\n",
      "  warnings.warn(\"nn.functional.sigmoid is deprecated. Use torch.sigmoid instead.\")\n",
      "2025-02-23 13:02:02,825 - INFO - Fold 1 Epoch 0 Batch 0: Train Loss = 2.8585\n"
     ]
    },
    {
     "name": "stdout",
     "output_type": "stream",
     "text": [
      "Fold 1 Epoch 0 Batch 0: Train Loss = 2.8585\n",
      "{'mad': 4.978036906718616, 'mse': 40.26209988328817, 'mape': 589.3586554167302, 'kappa': 0.20826739957247165}\n",
      "Fold 1, epoch 0: Loss = 2.4500 Valid loss = 2.2765 MSE = 40.2621 AUROC = 0.7510\n"
     ]
    },
    {
     "name": "stderr",
     "output_type": "stream",
     "text": [
      "2025-02-23 13:02:03,934 - INFO - Fold 1, epoch 0: Loss = 2.4500 Valid loss = 2.2765 MSE = 40.2621 AUROC = 0.7510\n"
     ]
    },
    {
     "name": "stdout",
     "output_type": "stream",
     "text": [
      "------------ Save FOLD-BEST model - MSE: 40.2621 ------------\n"
     ]
    },
    {
     "name": "stderr",
     "output_type": "stream",
     "text": [
      "2025-02-23 13:02:03,936 - INFO - ------------ Save FOLD-BEST model - MSE: 40.2621 ------------\n"
     ]
    },
    {
     "name": "stdout",
     "output_type": "stream",
     "text": [
      "Custom bins confusion matrix:\n",
      "[[ 66 146   0]\n",
      " [ 11 137   0]\n",
      " [  0   1   0]]\n",
      "Mean absolute deviation (MAD) = 4.978036906718616\n",
      "Mean squared error (MSE) = 40.26209988328817\n",
      "Mean absolute percentage error (MAPE) = 589.3586554167302\n",
      "Cohen kappa score = 0.20826739957247165\n",
      "------------ Save best model - MSE: 40.2621 ------------\n"
     ]
    },
    {
     "name": "stderr",
     "output_type": "stream",
     "text": [
      "2025-02-23 13:02:04,222 - INFO - ------------ Save best model - MSE: 40.2621 ------------\n"
     ]
    },
    {
     "name": "stdout",
     "output_type": "stream",
     "text": [
      "------------ auroc-BEST model - auroc: 0.7510 ------------\n"
     ]
    },
    {
     "name": "stderr",
     "output_type": "stream",
     "text": [
      "2025-02-23 13:02:04,224 - INFO - ------------ auroc-BEST model - auroc: 0.7510 ------------\n"
     ]
    },
    {
     "name": "stdout",
     "output_type": "stream",
     "text": [
      "Fold 1, mse = 40.2621, mad = 4.9780\n"
     ]
    },
    {
     "name": "stderr",
     "output_type": "stream",
     "text": [
      "2025-02-23 13:02:04,226 - INFO - Fold 1, mse = 40.2621, mad = 4.9780\n",
      "/home/zzj/anaconda3/envs/distcare/lib/python3.7/site-packages/torch/nn/functional.py:1960: UserWarning: nn.functional.sigmoid is deprecated. Use torch.sigmoid instead.\n",
      "  warnings.warn(\"nn.functional.sigmoid is deprecated. Use torch.sigmoid instead.\")\n",
      "2025-02-23 13:02:04,393 - INFO - Fold 1 Epoch 1 Batch 0: Train Loss = 2.4731\n"
     ]
    },
    {
     "name": "stdout",
     "output_type": "stream",
     "text": [
      "Fold 1 Epoch 1 Batch 0: Train Loss = 2.4731\n",
      "{'mad': 4.62591900693396, 'mse': 37.66196021149288, 'mape': 526.7007949380768, 'kappa': 0.3976879990465976}\n",
      "------------ Save FOLD-BEST model - MSE: 37.6620 ------------\n"
     ]
    },
    {
     "name": "stderr",
     "output_type": "stream",
     "text": [
      "2025-02-23 13:02:05,399 - INFO - ------------ Save FOLD-BEST model - MSE: 37.6620 ------------\n"
     ]
    },
    {
     "name": "stdout",
     "output_type": "stream",
     "text": [
      "Custom bins confusion matrix:\n",
      "[[128  84   0]\n",
      " [ 27 121   0]\n",
      " [  0   1   0]]\n",
      "Mean absolute deviation (MAD) = 4.62591900693396\n",
      "Mean squared error (MSE) = 37.66196021149288\n",
      "Mean absolute percentage error (MAPE) = 526.7007949380768\n",
      "Cohen kappa score = 0.3976879990465976\n",
      "------------ Save best model - MSE: 37.6620 ------------\n"
     ]
    },
    {
     "name": "stderr",
     "output_type": "stream",
     "text": [
      "2025-02-23 13:02:05,654 - INFO - ------------ Save best model - MSE: 37.6620 ------------\n"
     ]
    },
    {
     "name": "stdout",
     "output_type": "stream",
     "text": [
      "------------ auroc-BEST model - auroc: 0.8566 ------------\n"
     ]
    },
    {
     "name": "stderr",
     "output_type": "stream",
     "text": [
      "2025-02-23 13:02:05,656 - INFO - ------------ auroc-BEST model - auroc: 0.8566 ------------\n"
     ]
    },
    {
     "name": "stdout",
     "output_type": "stream",
     "text": [
      "Fold 1, mse = 37.6620, mad = 4.6259\n"
     ]
    },
    {
     "name": "stderr",
     "output_type": "stream",
     "text": [
      "2025-02-23 13:02:05,658 - INFO - Fold 1, mse = 37.6620, mad = 4.6259\n",
      "/home/zzj/anaconda3/envs/distcare/lib/python3.7/site-packages/torch/nn/functional.py:1960: UserWarning: nn.functional.sigmoid is deprecated. Use torch.sigmoid instead.\n",
      "  warnings.warn(\"nn.functional.sigmoid is deprecated. Use torch.sigmoid instead.\")\n",
      "2025-02-23 13:02:05,834 - INFO - Fold 1 Epoch 2 Batch 0: Train Loss = 1.9038\n"
     ]
    },
    {
     "name": "stdout",
     "output_type": "stream",
     "text": [
      "Fold 1 Epoch 2 Batch 0: Train Loss = 1.9038\n",
      "{'mad': 4.4685134868346, 'mse': 36.39241790030077, 'mape': 495.3176388115384, 'kappa': 0.3867346185094911}\n",
      "------------ Save FOLD-BEST model - MSE: 36.3924 ------------\n"
     ]
    },
    {
     "name": "stderr",
     "output_type": "stream",
     "text": [
      "2025-02-23 13:02:06,832 - INFO - ------------ Save FOLD-BEST model - MSE: 36.3924 ------------\n"
     ]
    },
    {
     "name": "stdout",
     "output_type": "stream",
     "text": [
      "Custom bins confusion matrix:\n",
      "[[122  90   0]\n",
      " [ 24 124   0]\n",
      " [  0   1   0]]\n",
      "Mean absolute deviation (MAD) = 4.4685134868346\n",
      "Mean squared error (MSE) = 36.39241790030077\n",
      "Mean absolute percentage error (MAPE) = 495.3176388115384\n",
      "Cohen kappa score = 0.3867346185094911\n",
      "------------ Save best model - MSE: 36.3924 ------------\n"
     ]
    },
    {
     "name": "stderr",
     "output_type": "stream",
     "text": [
      "2025-02-23 13:02:07,073 - INFO - ------------ Save best model - MSE: 36.3924 ------------\n"
     ]
    },
    {
     "name": "stdout",
     "output_type": "stream",
     "text": [
      "------------ auroc-BEST model - auroc: 0.9178 ------------\n"
     ]
    },
    {
     "name": "stderr",
     "output_type": "stream",
     "text": [
      "2025-02-23 13:02:07,076 - INFO - ------------ auroc-BEST model - auroc: 0.9178 ------------\n"
     ]
    },
    {
     "name": "stdout",
     "output_type": "stream",
     "text": [
      "Fold 1, mse = 36.3924, mad = 4.4685\n"
     ]
    },
    {
     "name": "stderr",
     "output_type": "stream",
     "text": [
      "2025-02-23 13:02:07,078 - INFO - Fold 1, mse = 36.3924, mad = 4.4685\n",
      "/home/zzj/anaconda3/envs/distcare/lib/python3.7/site-packages/torch/nn/functional.py:1960: UserWarning: nn.functional.sigmoid is deprecated. Use torch.sigmoid instead.\n",
      "  warnings.warn(\"nn.functional.sigmoid is deprecated. Use torch.sigmoid instead.\")\n",
      "2025-02-23 13:02:07,256 - INFO - Fold 1 Epoch 3 Batch 0: Train Loss = 2.2106\n"
     ]
    },
    {
     "name": "stdout",
     "output_type": "stream",
     "text": [
      "Fold 1 Epoch 3 Batch 0: Train Loss = 2.2106\n",
      "{'mad': 4.430867646416054, 'mse': 35.911110712456484, 'mape': 492.5835886237002, 'kappa': 0.37711294379130844}\n",
      "------------ Save FOLD-BEST model - MSE: 35.9111 ------------\n"
     ]
    },
    {
     "name": "stderr",
     "output_type": "stream",
     "text": [
      "2025-02-23 13:02:08,202 - INFO - ------------ Save FOLD-BEST model - MSE: 35.9111 ------------\n"
     ]
    },
    {
     "name": "stdout",
     "output_type": "stream",
     "text": [
      "Custom bins confusion matrix:\n",
      "[[115  97   0]\n",
      " [ 20 128   0]\n",
      " [  0   1   0]]\n",
      "Mean absolute deviation (MAD) = 4.430867646416054\n",
      "Mean squared error (MSE) = 35.911110712456484\n",
      "Mean absolute percentage error (MAPE) = 492.5835886237002\n",
      "Cohen kappa score = 0.37711294379130844\n",
      "------------ Save best model - MSE: 35.9111 ------------\n"
     ]
    },
    {
     "name": "stderr",
     "output_type": "stream",
     "text": [
      "2025-02-23 13:02:08,431 - INFO - ------------ Save best model - MSE: 35.9111 ------------\n"
     ]
    },
    {
     "name": "stdout",
     "output_type": "stream",
     "text": [
      "------------ auroc-BEST model - auroc: 0.9290 ------------\n"
     ]
    },
    {
     "name": "stderr",
     "output_type": "stream",
     "text": [
      "2025-02-23 13:02:08,433 - INFO - ------------ auroc-BEST model - auroc: 0.9290 ------------\n"
     ]
    },
    {
     "name": "stdout",
     "output_type": "stream",
     "text": [
      "Fold 1, mse = 35.9111, mad = 4.4309\n"
     ]
    },
    {
     "name": "stderr",
     "output_type": "stream",
     "text": [
      "2025-02-23 13:02:08,435 - INFO - Fold 1, mse = 35.9111, mad = 4.4309\n",
      "/home/zzj/anaconda3/envs/distcare/lib/python3.7/site-packages/torch/nn/functional.py:1960: UserWarning: nn.functional.sigmoid is deprecated. Use torch.sigmoid instead.\n",
      "  warnings.warn(\"nn.functional.sigmoid is deprecated. Use torch.sigmoid instead.\")\n",
      "2025-02-23 13:02:08,604 - INFO - Fold 1 Epoch 4 Batch 0: Train Loss = 2.0619\n"
     ]
    },
    {
     "name": "stdout",
     "output_type": "stream",
     "text": [
      "Fold 1 Epoch 4 Batch 0: Train Loss = 2.0619\n",
      "{'mad': 4.333354176534989, 'mse': 34.85962122744577, 'mape': 473.9709861666106, 'kappa': 0.3795337358424046}\n",
      "------------ Save FOLD-BEST model - MSE: 34.8596 ------------\n"
     ]
    },
    {
     "name": "stderr",
     "output_type": "stream",
     "text": [
      "2025-02-23 13:02:09,514 - INFO - ------------ Save FOLD-BEST model - MSE: 34.8596 ------------\n"
     ]
    },
    {
     "name": "stdout",
     "output_type": "stream",
     "text": [
      "Custom bins confusion matrix:\n",
      "[[118  94   0]\n",
      " [ 22 126   0]\n",
      " [  0   1   0]]\n",
      "Mean absolute deviation (MAD) = 4.333354176534989\n",
      "Mean squared error (MSE) = 34.85962122744577\n",
      "Mean absolute percentage error (MAPE) = 473.9709861666106\n",
      "Cohen kappa score = 0.3795337358424046\n",
      "------------ Save best model - MSE: 34.8596 ------------\n"
     ]
    },
    {
     "name": "stderr",
     "output_type": "stream",
     "text": [
      "2025-02-23 13:02:09,740 - INFO - ------------ Save best model - MSE: 34.8596 ------------\n"
     ]
    },
    {
     "name": "stdout",
     "output_type": "stream",
     "text": [
      "------------ auroc-BEST model - auroc: 0.9635 ------------\n"
     ]
    },
    {
     "name": "stderr",
     "output_type": "stream",
     "text": [
      "2025-02-23 13:02:09,742 - INFO - ------------ auroc-BEST model - auroc: 0.9635 ------------\n"
     ]
    },
    {
     "name": "stdout",
     "output_type": "stream",
     "text": [
      "Fold 1, mse = 34.8596, mad = 4.3334\n"
     ]
    },
    {
     "name": "stderr",
     "output_type": "stream",
     "text": [
      "2025-02-23 13:02:09,744 - INFO - Fold 1, mse = 34.8596, mad = 4.3334\n",
      "/home/zzj/anaconda3/envs/distcare/lib/python3.7/site-packages/torch/nn/functional.py:1960: UserWarning: nn.functional.sigmoid is deprecated. Use torch.sigmoid instead.\n",
      "  warnings.warn(\"nn.functional.sigmoid is deprecated. Use torch.sigmoid instead.\")\n",
      "2025-02-23 13:02:09,927 - INFO - Fold 1 Epoch 5 Batch 0: Train Loss = 2.0760\n"
     ]
    },
    {
     "name": "stdout",
     "output_type": "stream",
     "text": [
      "Fold 1 Epoch 5 Batch 0: Train Loss = 2.0760\n",
      "{'mad': 4.35073379397512, 'mse': 34.17529600869921, 'mape': 499.9868439706584, 'kappa': 0.3795337358424046}\n",
      "------------ Save FOLD-BEST model - MSE: 34.1753 ------------\n"
     ]
    },
    {
     "name": "stderr",
     "output_type": "stream",
     "text": [
      "2025-02-23 13:02:10,835 - INFO - ------------ Save FOLD-BEST model - MSE: 34.1753 ------------\n"
     ]
    },
    {
     "name": "stdout",
     "output_type": "stream",
     "text": [
      "Custom bins confusion matrix:\n",
      "[[118  94   0]\n",
      " [ 22 126   0]\n",
      " [  0   1   0]]\n",
      "Mean absolute deviation (MAD) = 4.35073379397512\n",
      "Mean squared error (MSE) = 34.17529600869921\n",
      "Mean absolute percentage error (MAPE) = 499.9868439706584\n",
      "Cohen kappa score = 0.3795337358424046\n",
      "------------ Save best model - MSE: 34.1753 ------------\n"
     ]
    },
    {
     "name": "stderr",
     "output_type": "stream",
     "text": [
      "2025-02-23 13:02:11,087 - INFO - ------------ Save best model - MSE: 34.1753 ------------\n"
     ]
    },
    {
     "name": "stdout",
     "output_type": "stream",
     "text": [
      "------------ auroc-BEST model - auroc: 0.9729 ------------\n"
     ]
    },
    {
     "name": "stderr",
     "output_type": "stream",
     "text": [
      "2025-02-23 13:02:11,090 - INFO - ------------ auroc-BEST model - auroc: 0.9729 ------------\n"
     ]
    },
    {
     "name": "stdout",
     "output_type": "stream",
     "text": [
      "Fold 1, mse = 34.1753, mad = 4.3507\n"
     ]
    },
    {
     "name": "stderr",
     "output_type": "stream",
     "text": [
      "2025-02-23 13:02:11,092 - INFO - Fold 1, mse = 34.1753, mad = 4.3507\n",
      "/home/zzj/anaconda3/envs/distcare/lib/python3.7/site-packages/torch/nn/functional.py:1960: UserWarning: nn.functional.sigmoid is deprecated. Use torch.sigmoid instead.\n",
      "  warnings.warn(\"nn.functional.sigmoid is deprecated. Use torch.sigmoid instead.\")\n",
      "2025-02-23 13:02:11,289 - INFO - Fold 1 Epoch 6 Batch 0: Train Loss = 2.1952\n"
     ]
    },
    {
     "name": "stdout",
     "output_type": "stream",
     "text": [
      "Fold 1 Epoch 6 Batch 0: Train Loss = 2.1952\n",
      "{'mad': 4.304026977197989, 'mse': 33.48494665537717, 'mape': 501.10497661728726, 'kappa': 0.38808100633419573}\n",
      "------------ Save FOLD-BEST model - MSE: 33.4849 ------------\n"
     ]
    },
    {
     "name": "stderr",
     "output_type": "stream",
     "text": [
      "2025-02-23 13:02:12,428 - INFO - ------------ Save FOLD-BEST model - MSE: 33.4849 ------------\n"
     ]
    },
    {
     "name": "stdout",
     "output_type": "stream",
     "text": [
      "Custom bins confusion matrix:\n",
      "[[126  86   0]\n",
      " [ 27 121   0]\n",
      " [  0   1   0]]\n",
      "Mean absolute deviation (MAD) = 4.304026977197989\n",
      "Mean squared error (MSE) = 33.48494665537717\n",
      "Mean absolute percentage error (MAPE) = 501.10497661728726\n",
      "Cohen kappa score = 0.38808100633419573\n",
      "------------ Save best model - MSE: 33.4849 ------------\n"
     ]
    },
    {
     "name": "stderr",
     "output_type": "stream",
     "text": [
      "2025-02-23 13:02:12,709 - INFO - ------------ Save best model - MSE: 33.4849 ------------\n"
     ]
    },
    {
     "name": "stdout",
     "output_type": "stream",
     "text": [
      "------------ auroc-BEST model - auroc: 0.9763 ------------\n"
     ]
    },
    {
     "name": "stderr",
     "output_type": "stream",
     "text": [
      "2025-02-23 13:02:12,711 - INFO - ------------ auroc-BEST model - auroc: 0.9763 ------------\n"
     ]
    },
    {
     "name": "stdout",
     "output_type": "stream",
     "text": [
      "Fold 1, mse = 33.4849, mad = 4.3040\n"
     ]
    },
    {
     "name": "stderr",
     "output_type": "stream",
     "text": [
      "2025-02-23 13:02:12,713 - INFO - Fold 1, mse = 33.4849, mad = 4.3040\n",
      "/home/zzj/anaconda3/envs/distcare/lib/python3.7/site-packages/torch/nn/functional.py:1960: UserWarning: nn.functional.sigmoid is deprecated. Use torch.sigmoid instead.\n",
      "  warnings.warn(\"nn.functional.sigmoid is deprecated. Use torch.sigmoid instead.\")\n",
      "2025-02-23 13:02:12,924 - INFO - Fold 1 Epoch 7 Batch 0: Train Loss = 1.7821\n"
     ]
    },
    {
     "name": "stdout",
     "output_type": "stream",
     "text": [
      "Fold 1 Epoch 7 Batch 0: Train Loss = 1.7821\n",
      "{'mad': 4.229464912708616, 'mse': 32.74949365049436, 'mape': 490.1131596289155, 'kappa': 0.3905944217870001}\n",
      "------------ Save FOLD-BEST model - MSE: 32.7495 ------------\n"
     ]
    },
    {
     "name": "stderr",
     "output_type": "stream",
     "text": [
      "2025-02-23 13:02:14,100 - INFO - ------------ Save FOLD-BEST model - MSE: 32.7495 ------------\n"
     ]
    },
    {
     "name": "stdout",
     "output_type": "stream",
     "text": [
      "Custom bins confusion matrix:\n",
      "[[129  83   0]\n",
      " [ 29 119   0]\n",
      " [  0   1   0]]\n",
      "Mean absolute deviation (MAD) = 4.229464912708616\n",
      "Mean squared error (MSE) = 32.74949365049436\n",
      "Mean absolute percentage error (MAPE) = 490.1131596289155\n",
      "Cohen kappa score = 0.3905944217870001\n",
      "------------ Save best model - MSE: 32.7495 ------------\n"
     ]
    },
    {
     "name": "stderr",
     "output_type": "stream",
     "text": [
      "2025-02-23 13:02:14,377 - INFO - ------------ Save best model - MSE: 32.7495 ------------\n"
     ]
    },
    {
     "name": "stdout",
     "output_type": "stream",
     "text": [
      "------------ auroc-BEST model - auroc: 0.9786 ------------\n"
     ]
    },
    {
     "name": "stderr",
     "output_type": "stream",
     "text": [
      "2025-02-23 13:02:14,380 - INFO - ------------ auroc-BEST model - auroc: 0.9786 ------------\n"
     ]
    },
    {
     "name": "stdout",
     "output_type": "stream",
     "text": [
      "Fold 1, mse = 32.7495, mad = 4.2295\n"
     ]
    },
    {
     "name": "stderr",
     "output_type": "stream",
     "text": [
      "2025-02-23 13:02:14,382 - INFO - Fold 1, mse = 32.7495, mad = 4.2295\n",
      "/home/zzj/anaconda3/envs/distcare/lib/python3.7/site-packages/torch/nn/functional.py:1960: UserWarning: nn.functional.sigmoid is deprecated. Use torch.sigmoid instead.\n",
      "  warnings.warn(\"nn.functional.sigmoid is deprecated. Use torch.sigmoid instead.\")\n",
      "2025-02-23 13:02:14,590 - INFO - Fold 1 Epoch 8 Batch 0: Train Loss = 1.8396\n"
     ]
    },
    {
     "name": "stdout",
     "output_type": "stream",
     "text": [
      "Fold 1 Epoch 8 Batch 0: Train Loss = 1.8396\n",
      "{'mad': 4.243859253970725, 'mse': 31.8399690212021, 'mape': 508.51923416896784, 'kappa': 0.41175599205996505}\n",
      "------------ Save FOLD-BEST model - MSE: 31.8400 ------------\n"
     ]
    },
    {
     "name": "stderr",
     "output_type": "stream",
     "text": [
      "2025-02-23 13:02:15,715 - INFO - ------------ Save FOLD-BEST model - MSE: 31.8400 ------------\n"
     ]
    },
    {
     "name": "stdout",
     "output_type": "stream",
     "text": [
      "Custom bins confusion matrix:\n",
      "[[126  86   0]\n",
      " [ 23 125   0]\n",
      " [  0   1   0]]\n",
      "Mean absolute deviation (MAD) = 4.243859253970725\n",
      "Mean squared error (MSE) = 31.8399690212021\n",
      "Mean absolute percentage error (MAPE) = 508.51923416896784\n",
      "Cohen kappa score = 0.41175599205996505\n",
      "------------ Save best model - MSE: 31.8400 ------------\n"
     ]
    },
    {
     "name": "stderr",
     "output_type": "stream",
     "text": [
      "2025-02-23 13:02:15,997 - INFO - ------------ Save best model - MSE: 31.8400 ------------\n"
     ]
    },
    {
     "name": "stdout",
     "output_type": "stream",
     "text": [
      "Fold 1, mse = 31.8400, mad = 4.2439\n"
     ]
    },
    {
     "name": "stderr",
     "output_type": "stream",
     "text": [
      "2025-02-23 13:02:15,999 - INFO - Fold 1, mse = 31.8400, mad = 4.2439\n",
      "/home/zzj/anaconda3/envs/distcare/lib/python3.7/site-packages/torch/nn/functional.py:1960: UserWarning: nn.functional.sigmoid is deprecated. Use torch.sigmoid instead.\n",
      "  warnings.warn(\"nn.functional.sigmoid is deprecated. Use torch.sigmoid instead.\")\n",
      "2025-02-23 13:02:16,204 - INFO - Fold 1 Epoch 9 Batch 0: Train Loss = 1.8347\n"
     ]
    },
    {
     "name": "stdout",
     "output_type": "stream",
     "text": [
      "Fold 1 Epoch 9 Batch 0: Train Loss = 1.8347\n",
      "{'mad': 4.117066478466595, 'mse': 31.230240769474804, 'mape': 465.36219111888954, 'kappa': 0.4256424111431315}\n",
      "------------ Save FOLD-BEST model - MSE: 31.2302 ------------\n"
     ]
    },
    {
     "name": "stderr",
     "output_type": "stream",
     "text": [
      "2025-02-23 13:02:17,321 - INFO - ------------ Save FOLD-BEST model - MSE: 31.2302 ------------\n"
     ]
    },
    {
     "name": "stdout",
     "output_type": "stream",
     "text": [
      "Custom bins confusion matrix:\n",
      "[[135  77   0]\n",
      " [ 28 120   0]\n",
      " [  0   1   0]]\n",
      "Mean absolute deviation (MAD) = 4.117066478466595\n",
      "Mean squared error (MSE) = 31.230240769474804\n",
      "Mean absolute percentage error (MAPE) = 465.36219111888954\n",
      "Cohen kappa score = 0.4256424111431315\n",
      "------------ Save best model - MSE: 31.2302 ------------\n"
     ]
    },
    {
     "name": "stderr",
     "output_type": "stream",
     "text": [
      "2025-02-23 13:02:17,598 - INFO - ------------ Save best model - MSE: 31.2302 ------------\n"
     ]
    },
    {
     "name": "stdout",
     "output_type": "stream",
     "text": [
      "------------ auroc-BEST model - auroc: 0.9788 ------------\n"
     ]
    },
    {
     "name": "stderr",
     "output_type": "stream",
     "text": [
      "2025-02-23 13:02:17,600 - INFO - ------------ auroc-BEST model - auroc: 0.9788 ------------\n"
     ]
    },
    {
     "name": "stdout",
     "output_type": "stream",
     "text": [
      "Fold 1, mse = 31.2302, mad = 4.1171\n"
     ]
    },
    {
     "name": "stderr",
     "output_type": "stream",
     "text": [
      "2025-02-23 13:02:17,602 - INFO - Fold 1, mse = 31.2302, mad = 4.1171\n",
      "/home/zzj/anaconda3/envs/distcare/lib/python3.7/site-packages/torch/nn/functional.py:1960: UserWarning: nn.functional.sigmoid is deprecated. Use torch.sigmoid instead.\n",
      "  warnings.warn(\"nn.functional.sigmoid is deprecated. Use torch.sigmoid instead.\")\n",
      "2025-02-23 13:02:17,809 - INFO - Fold 1 Epoch 10 Batch 0: Train Loss = 1.4595\n"
     ]
    },
    {
     "name": "stdout",
     "output_type": "stream",
     "text": [
      "Fold 1 Epoch 10 Batch 0: Train Loss = 1.4595\n",
      "{'mad': 4.120084231883233, 'mse': 30.61009337115855, 'mape': 484.17454059293885, 'kappa': 0.4310226901002171}\n",
      "Fold 1, epoch 10: Loss = 1.6320 Valid loss = 1.6646 MSE = 30.6101 AUROC = 0.9801\n"
     ]
    },
    {
     "name": "stderr",
     "output_type": "stream",
     "text": [
      "2025-02-23 13:02:18,933 - INFO - Fold 1, epoch 10: Loss = 1.6320 Valid loss = 1.6646 MSE = 30.6101 AUROC = 0.9801\n"
     ]
    },
    {
     "name": "stdout",
     "output_type": "stream",
     "text": [
      "------------ Save FOLD-BEST model - MSE: 30.6101 ------------\n"
     ]
    },
    {
     "name": "stderr",
     "output_type": "stream",
     "text": [
      "2025-02-23 13:02:18,935 - INFO - ------------ Save FOLD-BEST model - MSE: 30.6101 ------------\n"
     ]
    },
    {
     "name": "stdout",
     "output_type": "stream",
     "text": [
      "Custom bins confusion matrix:\n",
      "[[130  82   0]\n",
      " [ 23 125   0]\n",
      " [  0   1   0]]\n",
      "Mean absolute deviation (MAD) = 4.120084231883233\n",
      "Mean squared error (MSE) = 30.61009337115855\n",
      "Mean absolute percentage error (MAPE) = 484.17454059293885\n",
      "Cohen kappa score = 0.4310226901002171\n",
      "------------ Save best model - MSE: 30.6101 ------------\n"
     ]
    },
    {
     "name": "stderr",
     "output_type": "stream",
     "text": [
      "2025-02-23 13:02:19,211 - INFO - ------------ Save best model - MSE: 30.6101 ------------\n"
     ]
    },
    {
     "name": "stdout",
     "output_type": "stream",
     "text": [
      "------------ auroc-BEST model - auroc: 0.9801 ------------\n"
     ]
    },
    {
     "name": "stderr",
     "output_type": "stream",
     "text": [
      "2025-02-23 13:02:19,212 - INFO - ------------ auroc-BEST model - auroc: 0.9801 ------------\n"
     ]
    },
    {
     "name": "stdout",
     "output_type": "stream",
     "text": [
      "Fold 1, mse = 30.6101, mad = 4.1201\n"
     ]
    },
    {
     "name": "stderr",
     "output_type": "stream",
     "text": [
      "2025-02-23 13:02:19,214 - INFO - Fold 1, mse = 30.6101, mad = 4.1201\n",
      "/home/zzj/anaconda3/envs/distcare/lib/python3.7/site-packages/torch/nn/functional.py:1960: UserWarning: nn.functional.sigmoid is deprecated. Use torch.sigmoid instead.\n",
      "  warnings.warn(\"nn.functional.sigmoid is deprecated. Use torch.sigmoid instead.\")\n",
      "2025-02-23 13:02:19,430 - INFO - Fold 1 Epoch 11 Batch 0: Train Loss = 1.4719\n"
     ]
    },
    {
     "name": "stdout",
     "output_type": "stream",
     "text": [
      "Fold 1 Epoch 11 Batch 0: Train Loss = 1.4719\n",
      "{'mad': 3.9959680193089784, 'mse': 30.3132091718828, 'mape': 433.84329119342107, 'kappa': 0.4808271644186082}\n",
      "------------ Save FOLD-BEST model - MSE: 30.3132 ------------\n"
     ]
    },
    {
     "name": "stderr",
     "output_type": "stream",
     "text": [
      "2025-02-23 13:02:20,561 - INFO - ------------ Save FOLD-BEST model - MSE: 30.3132 ------------\n"
     ]
    },
    {
     "name": "stdout",
     "output_type": "stream",
     "text": [
      "Custom bins confusion matrix:\n",
      "[[145  67   0]\n",
      " [ 27 121   0]\n",
      " [  0   1   0]]\n",
      "Mean absolute deviation (MAD) = 3.9959680193089784\n",
      "Mean squared error (MSE) = 30.3132091718828\n",
      "Mean absolute percentage error (MAPE) = 433.84329119342107\n",
      "Cohen kappa score = 0.4808271644186082\n",
      "------------ Save best model - MSE: 30.3132 ------------\n"
     ]
    },
    {
     "name": "stderr",
     "output_type": "stream",
     "text": [
      "2025-02-23 13:02:20,838 - INFO - ------------ Save best model - MSE: 30.3132 ------------\n"
     ]
    },
    {
     "name": "stdout",
     "output_type": "stream",
     "text": [
      "------------ auroc-BEST model - auroc: 0.9813 ------------\n"
     ]
    },
    {
     "name": "stderr",
     "output_type": "stream",
     "text": [
      "2025-02-23 13:02:20,840 - INFO - ------------ auroc-BEST model - auroc: 0.9813 ------------\n"
     ]
    },
    {
     "name": "stdout",
     "output_type": "stream",
     "text": [
      "Fold 1, mse = 30.3132, mad = 3.9960\n"
     ]
    },
    {
     "name": "stderr",
     "output_type": "stream",
     "text": [
      "2025-02-23 13:02:20,842 - INFO - Fold 1, mse = 30.3132, mad = 3.9960\n",
      "/home/zzj/anaconda3/envs/distcare/lib/python3.7/site-packages/torch/nn/functional.py:1960: UserWarning: nn.functional.sigmoid is deprecated. Use torch.sigmoid instead.\n",
      "  warnings.warn(\"nn.functional.sigmoid is deprecated. Use torch.sigmoid instead.\")\n",
      "2025-02-23 13:02:21,051 - INFO - Fold 1 Epoch 12 Batch 0: Train Loss = 1.4866\n"
     ]
    },
    {
     "name": "stdout",
     "output_type": "stream",
     "text": [
      "Fold 1 Epoch 12 Batch 0: Train Loss = 1.4866\n",
      "{'mad': 3.9861767327640356, 'mse': 29.428109589717664, 'mape': 456.15828346956437, 'kappa': 0.46407845607089826}\n",
      "------------ Save FOLD-BEST model - MSE: 29.4281 ------------\n"
     ]
    },
    {
     "name": "stderr",
     "output_type": "stream",
     "text": [
      "2025-02-23 13:02:22,239 - INFO - ------------ Save FOLD-BEST model - MSE: 29.4281 ------------\n"
     ]
    },
    {
     "name": "stdout",
     "output_type": "stream",
     "text": [
      "Custom bins confusion matrix:\n",
      "[[138  74   0]\n",
      " [ 24 124   0]\n",
      " [  0   1   0]]\n",
      "Mean absolute deviation (MAD) = 3.9861767327640356\n",
      "Mean squared error (MSE) = 29.428109589717664\n",
      "Mean absolute percentage error (MAPE) = 456.15828346956437\n",
      "Cohen kappa score = 0.46407845607089826\n",
      "------------ Save best model - MSE: 29.4281 ------------\n"
     ]
    },
    {
     "name": "stderr",
     "output_type": "stream",
     "text": [
      "2025-02-23 13:02:22,516 - INFO - ------------ Save best model - MSE: 29.4281 ------------\n"
     ]
    },
    {
     "name": "stdout",
     "output_type": "stream",
     "text": [
      "------------ auroc-BEST model - auroc: 0.9825 ------------\n"
     ]
    },
    {
     "name": "stderr",
     "output_type": "stream",
     "text": [
      "2025-02-23 13:02:22,518 - INFO - ------------ auroc-BEST model - auroc: 0.9825 ------------\n"
     ]
    },
    {
     "name": "stdout",
     "output_type": "stream",
     "text": [
      "Fold 1, mse = 29.4281, mad = 3.9862\n"
     ]
    },
    {
     "name": "stderr",
     "output_type": "stream",
     "text": [
      "2025-02-23 13:02:22,519 - INFO - Fold 1, mse = 29.4281, mad = 3.9862\n",
      "/home/zzj/anaconda3/envs/distcare/lib/python3.7/site-packages/torch/nn/functional.py:1960: UserWarning: nn.functional.sigmoid is deprecated. Use torch.sigmoid instead.\n",
      "  warnings.warn(\"nn.functional.sigmoid is deprecated. Use torch.sigmoid instead.\")\n",
      "2025-02-23 13:02:22,720 - INFO - Fold 1 Epoch 13 Batch 0: Train Loss = 1.5991\n"
     ]
    },
    {
     "name": "stdout",
     "output_type": "stream",
     "text": [
      "Fold 1 Epoch 13 Batch 0: Train Loss = 1.5991\n",
      "{'mad': 4.018214826124834, 'mse': 29.40366090125002, 'mape': 482.7332825998934, 'kappa': 0.4191991419377905}\n",
      "------------ Save FOLD-BEST model - MSE: 29.4037 ------------\n"
     ]
    },
    {
     "name": "stderr",
     "output_type": "stream",
     "text": [
      "2025-02-23 13:02:23,855 - INFO - ------------ Save FOLD-BEST model - MSE: 29.4037 ------------\n"
     ]
    },
    {
     "name": "stdout",
     "output_type": "stream",
     "text": [
      "Custom bins confusion matrix:\n",
      "[[130  82   0]\n",
      " [ 25 123   0]\n",
      " [  0   1   0]]\n",
      "Mean absolute deviation (MAD) = 4.018214826124834\n",
      "Mean squared error (MSE) = 29.40366090125002\n",
      "Mean absolute percentage error (MAPE) = 482.7332825998934\n",
      "Cohen kappa score = 0.4191991419377905\n",
      "------------ Save best model - MSE: 29.4037 ------------\n"
     ]
    },
    {
     "name": "stderr",
     "output_type": "stream",
     "text": [
      "2025-02-23 13:02:24,135 - INFO - ------------ Save best model - MSE: 29.4037 ------------\n"
     ]
    },
    {
     "name": "stdout",
     "output_type": "stream",
     "text": [
      "------------ auroc-BEST model - auroc: 0.9832 ------------\n"
     ]
    },
    {
     "name": "stderr",
     "output_type": "stream",
     "text": [
      "2025-02-23 13:02:24,137 - INFO - ------------ auroc-BEST model - auroc: 0.9832 ------------\n"
     ]
    },
    {
     "name": "stdout",
     "output_type": "stream",
     "text": [
      "Fold 1, mse = 29.4037, mad = 4.0182\n"
     ]
    },
    {
     "name": "stderr",
     "output_type": "stream",
     "text": [
      "2025-02-23 13:02:24,138 - INFO - Fold 1, mse = 29.4037, mad = 4.0182\n",
      "/home/zzj/anaconda3/envs/distcare/lib/python3.7/site-packages/torch/nn/functional.py:1960: UserWarning: nn.functional.sigmoid is deprecated. Use torch.sigmoid instead.\n",
      "  warnings.warn(\"nn.functional.sigmoid is deprecated. Use torch.sigmoid instead.\")\n",
      "2025-02-23 13:02:24,343 - INFO - Fold 1 Epoch 14 Batch 0: Train Loss = 1.4039\n"
     ]
    },
    {
     "name": "stdout",
     "output_type": "stream",
     "text": [
      "Fold 1 Epoch 14 Batch 0: Train Loss = 1.4039\n",
      "{'mad': 3.8567208432171234, 'mse': 28.51810632445708, 'mape': 444.4101052830293, 'kappa': 0.4818445564208276}\n",
      "------------ Save FOLD-BEST model - MSE: 28.5181 ------------\n"
     ]
    },
    {
     "name": "stderr",
     "output_type": "stream",
     "text": [
      "2025-02-23 13:02:25,383 - INFO - ------------ Save FOLD-BEST model - MSE: 28.5181 ------------\n"
     ]
    },
    {
     "name": "stdout",
     "output_type": "stream",
     "text": [
      "Custom bins confusion matrix:\n",
      "[[150  62   0]\n",
      " [ 31 117   0]\n",
      " [  0   1   0]]\n",
      "Mean absolute deviation (MAD) = 3.8567208432171234\n",
      "Mean squared error (MSE) = 28.51810632445708\n",
      "Mean absolute percentage error (MAPE) = 444.4101052830293\n",
      "Cohen kappa score = 0.4818445564208276\n",
      "------------ Save best model - MSE: 28.5181 ------------\n"
     ]
    },
    {
     "name": "stderr",
     "output_type": "stream",
     "text": [
      "2025-02-23 13:02:25,613 - INFO - ------------ Save best model - MSE: 28.5181 ------------\n"
     ]
    },
    {
     "name": "stdout",
     "output_type": "stream",
     "text": [
      "------------ auroc-BEST model - auroc: 0.9840 ------------\n"
     ]
    },
    {
     "name": "stderr",
     "output_type": "stream",
     "text": [
      "2025-02-23 13:02:25,615 - INFO - ------------ auroc-BEST model - auroc: 0.9840 ------------\n"
     ]
    },
    {
     "name": "stdout",
     "output_type": "stream",
     "text": [
      "Fold 1, mse = 28.5181, mad = 3.8567\n"
     ]
    },
    {
     "name": "stderr",
     "output_type": "stream",
     "text": [
      "2025-02-23 13:02:25,616 - INFO - Fold 1, mse = 28.5181, mad = 3.8567\n",
      "/home/zzj/anaconda3/envs/distcare/lib/python3.7/site-packages/torch/nn/functional.py:1960: UserWarning: nn.functional.sigmoid is deprecated. Use torch.sigmoid instead.\n",
      "  warnings.warn(\"nn.functional.sigmoid is deprecated. Use torch.sigmoid instead.\")\n",
      "2025-02-23 13:02:25,806 - INFO - Fold 1 Epoch 15 Batch 0: Train Loss = 1.4092\n"
     ]
    },
    {
     "name": "stdout",
     "output_type": "stream",
     "text": [
      "Fold 1 Epoch 15 Batch 0: Train Loss = 1.4092\n",
      "{'mad': 3.91887442631345, 'mse': 28.968227331484925, 'mape': 454.18846091167273, 'kappa': 0.46494252873563224}\n",
      "Fold 1, mse = 28.9682, mad = 3.9189\n"
     ]
    },
    {
     "name": "stderr",
     "output_type": "stream",
     "text": [
      "2025-02-23 13:02:26,885 - INFO - Fold 1, mse = 28.9682, mad = 3.9189\n",
      "/home/zzj/anaconda3/envs/distcare/lib/python3.7/site-packages/torch/nn/functional.py:1960: UserWarning: nn.functional.sigmoid is deprecated. Use torch.sigmoid instead.\n",
      "  warnings.warn(\"nn.functional.sigmoid is deprecated. Use torch.sigmoid instead.\")\n",
      "2025-02-23 13:02:27,102 - INFO - Fold 1 Epoch 16 Batch 0: Train Loss = 1.2165\n"
     ]
    },
    {
     "name": "stdout",
     "output_type": "stream",
     "text": [
      "Fold 1 Epoch 16 Batch 0: Train Loss = 1.2165\n",
      "{'mad': 4.017374398515508, 'mse': 29.761817289202813, 'mape': 473.65766048288094, 'kappa': 0.4047417442845046}\n",
      "------------ auroc-BEST model - auroc: 0.9844 ------------\n"
     ]
    },
    {
     "name": "stderr",
     "output_type": "stream",
     "text": [
      "2025-02-23 13:02:28,237 - INFO - ------------ auroc-BEST model - auroc: 0.9844 ------------\n"
     ]
    },
    {
     "name": "stdout",
     "output_type": "stream",
     "text": [
      "Fold 1, mse = 29.7618, mad = 4.0174\n"
     ]
    },
    {
     "name": "stderr",
     "output_type": "stream",
     "text": [
      "2025-02-23 13:02:28,238 - INFO - Fold 1, mse = 29.7618, mad = 4.0174\n",
      "/home/zzj/anaconda3/envs/distcare/lib/python3.7/site-packages/torch/nn/functional.py:1960: UserWarning: nn.functional.sigmoid is deprecated. Use torch.sigmoid instead.\n",
      "  warnings.warn(\"nn.functional.sigmoid is deprecated. Use torch.sigmoid instead.\")\n",
      "2025-02-23 13:02:28,463 - INFO - Fold 1 Epoch 17 Batch 0: Train Loss = 1.4389\n"
     ]
    },
    {
     "name": "stdout",
     "output_type": "stream",
     "text": [
      "Fold 1 Epoch 17 Batch 0: Train Loss = 1.4389\n",
      "{'mad': 4.07583173495814, 'mse': 29.32815140940175, 'mape': 517.6519660231986, 'kappa': 0.40074625769394634}\n",
      "Fold 1, mse = 29.3282, mad = 4.0758\n"
     ]
    },
    {
     "name": "stderr",
     "output_type": "stream",
     "text": [
      "2025-02-23 13:02:29,600 - INFO - Fold 1, mse = 29.3282, mad = 4.0758\n",
      "/home/zzj/anaconda3/envs/distcare/lib/python3.7/site-packages/torch/nn/functional.py:1960: UserWarning: nn.functional.sigmoid is deprecated. Use torch.sigmoid instead.\n",
      "  warnings.warn(\"nn.functional.sigmoid is deprecated. Use torch.sigmoid instead.\")\n",
      "2025-02-23 13:02:29,818 - INFO - Fold 1 Epoch 18 Batch 0: Train Loss = 1.1639\n"
     ]
    },
    {
     "name": "stdout",
     "output_type": "stream",
     "text": [
      "Fold 1 Epoch 18 Batch 0: Train Loss = 1.1639\n",
      "{'mad': 4.0119219349686395, 'mse': 29.4639477599813, 'mape': 490.8068903010249, 'kappa': 0.4010606464610553}\n",
      "Fold 1, mse = 29.4639, mad = 4.0119\n"
     ]
    },
    {
     "name": "stderr",
     "output_type": "stream",
     "text": [
      "2025-02-23 13:02:30,943 - INFO - Fold 1, mse = 29.4639, mad = 4.0119\n",
      "/home/zzj/anaconda3/envs/distcare/lib/python3.7/site-packages/torch/nn/functional.py:1960: UserWarning: nn.functional.sigmoid is deprecated. Use torch.sigmoid instead.\n",
      "  warnings.warn(\"nn.functional.sigmoid is deprecated. Use torch.sigmoid instead.\")\n",
      "2025-02-23 13:02:31,156 - INFO - Fold 1 Epoch 19 Batch 0: Train Loss = 1.3555\n"
     ]
    },
    {
     "name": "stdout",
     "output_type": "stream",
     "text": [
      "Fold 1 Epoch 19 Batch 0: Train Loss = 1.3555\n",
      "{'mad': 3.8447570800735336, 'mse': 29.460034662797494, 'mape': 392.55732922968474, 'kappa': 0.4717588527948493}\n",
      "Fold 1, mse = 29.4600, mad = 3.8448\n"
     ]
    },
    {
     "name": "stderr",
     "output_type": "stream",
     "text": [
      "2025-02-23 13:02:32,281 - INFO - Fold 1, mse = 29.4600, mad = 3.8448\n",
      "/home/zzj/anaconda3/envs/distcare/lib/python3.7/site-packages/torch/nn/functional.py:1960: UserWarning: nn.functional.sigmoid is deprecated. Use torch.sigmoid instead.\n",
      "  warnings.warn(\"nn.functional.sigmoid is deprecated. Use torch.sigmoid instead.\")\n",
      "2025-02-23 13:02:32,488 - INFO - Fold 1 Epoch 20 Batch 0: Train Loss = 1.1204\n"
     ]
    },
    {
     "name": "stdout",
     "output_type": "stream",
     "text": [
      "Fold 1 Epoch 20 Batch 0: Train Loss = 1.1204\n",
      "{'mad': 3.802032656345875, 'mse': 28.549937455280883, 'mape': 381.05766817212736, 'kappa': 0.5082961862308073}\n",
      "Fold 1, epoch 20: Loss = 1.2729 Valid loss = 1.4525 MSE = 28.5499 AUROC = 0.9834\n"
     ]
    },
    {
     "name": "stderr",
     "output_type": "stream",
     "text": [
      "2025-02-23 13:02:33,621 - INFO - Fold 1, epoch 20: Loss = 1.2729 Valid loss = 1.4525 MSE = 28.5499 AUROC = 0.9834\n"
     ]
    },
    {
     "name": "stdout",
     "output_type": "stream",
     "text": [
      "Fold 1, mse = 28.5499, mad = 3.8020\n"
     ]
    },
    {
     "name": "stderr",
     "output_type": "stream",
     "text": [
      "2025-02-23 13:02:33,623 - INFO - Fold 1, mse = 28.5499, mad = 3.8020\n",
      "/home/zzj/anaconda3/envs/distcare/lib/python3.7/site-packages/torch/nn/functional.py:1960: UserWarning: nn.functional.sigmoid is deprecated. Use torch.sigmoid instead.\n",
      "  warnings.warn(\"nn.functional.sigmoid is deprecated. Use torch.sigmoid instead.\")\n",
      "2025-02-23 13:02:33,824 - INFO - Fold 1 Epoch 21 Batch 0: Train Loss = 1.2221\n"
     ]
    },
    {
     "name": "stdout",
     "output_type": "stream",
     "text": [
      "Fold 1 Epoch 21 Batch 0: Train Loss = 1.2221\n",
      "{'mad': 4.223722707237595, 'mse': 30.70208930314171, 'mape': 531.2277323108315, 'kappa': 0.3179149899759134}\n",
      "------------ auroc-BEST model - auroc: 0.9848 ------------\n"
     ]
    },
    {
     "name": "stderr",
     "output_type": "stream",
     "text": [
      "2025-02-23 13:02:34,951 - INFO - ------------ auroc-BEST model - auroc: 0.9848 ------------\n"
     ]
    },
    {
     "name": "stdout",
     "output_type": "stream",
     "text": [
      "Fold 1, mse = 30.7021, mad = 4.2237\n"
     ]
    },
    {
     "name": "stderr",
     "output_type": "stream",
     "text": [
      "2025-02-23 13:02:34,953 - INFO - Fold 1, mse = 30.7021, mad = 4.2237\n",
      "/home/zzj/anaconda3/envs/distcare/lib/python3.7/site-packages/torch/nn/functional.py:1960: UserWarning: nn.functional.sigmoid is deprecated. Use torch.sigmoid instead.\n",
      "  warnings.warn(\"nn.functional.sigmoid is deprecated. Use torch.sigmoid instead.\")\n",
      "2025-02-23 13:02:35,164 - INFO - Fold 1 Epoch 22 Batch 0: Train Loss = 1.2734\n"
     ]
    },
    {
     "name": "stdout",
     "output_type": "stream",
     "text": [
      "Fold 1 Epoch 22 Batch 0: Train Loss = 1.2734\n",
      "{'mad': 3.8082480551238613, 'mse': 28.808847328250696, 'mape': 371.09617465018806, 'kappa': 0.521794691975626}\n",
      "Fold 1, mse = 28.8088, mad = 3.8082\n"
     ]
    },
    {
     "name": "stderr",
     "output_type": "stream",
     "text": [
      "2025-02-23 13:02:36,479 - INFO - Fold 1, mse = 28.8088, mad = 3.8082\n",
      "/home/zzj/anaconda3/envs/distcare/lib/python3.7/site-packages/torch/nn/functional.py:1960: UserWarning: nn.functional.sigmoid is deprecated. Use torch.sigmoid instead.\n",
      "  warnings.warn(\"nn.functional.sigmoid is deprecated. Use torch.sigmoid instead.\")\n",
      "2025-02-23 13:02:36,684 - INFO - Fold 1 Epoch 23 Batch 0: Train Loss = 1.2446\n"
     ]
    },
    {
     "name": "stdout",
     "output_type": "stream",
     "text": [
      "Fold 1 Epoch 23 Batch 0: Train Loss = 1.2446\n",
      "{'mad': 3.792216591940856, 'mse': 28.733133748683056, 'mape': 382.050784044725, 'kappa': 0.5175896575299895}\n",
      "------------ auroc-BEST model - auroc: 0.9850 ------------\n"
     ]
    },
    {
     "name": "stderr",
     "output_type": "stream",
     "text": [
      "2025-02-23 13:02:37,809 - INFO - ------------ auroc-BEST model - auroc: 0.9850 ------------\n"
     ]
    },
    {
     "name": "stdout",
     "output_type": "stream",
     "text": [
      "Fold 1, mse = 28.7331, mad = 3.7922\n"
     ]
    },
    {
     "name": "stderr",
     "output_type": "stream",
     "text": [
      "2025-02-23 13:02:37,811 - INFO - Fold 1, mse = 28.7331, mad = 3.7922\n",
      "/home/zzj/anaconda3/envs/distcare/lib/python3.7/site-packages/torch/nn/functional.py:1960: UserWarning: nn.functional.sigmoid is deprecated. Use torch.sigmoid instead.\n",
      "  warnings.warn(\"nn.functional.sigmoid is deprecated. Use torch.sigmoid instead.\")\n",
      "2025-02-23 13:02:38,021 - INFO - Fold 1 Epoch 24 Batch 0: Train Loss = 1.0981\n"
     ]
    },
    {
     "name": "stdout",
     "output_type": "stream",
     "text": [
      "Fold 1 Epoch 24 Batch 0: Train Loss = 1.0981\n",
      "{'mad': 3.866922599827541, 'mse': 28.789994493337147, 'mape': 430.41844344486844, 'kappa': 0.4589672555520232}\n",
      "Fold 1, mse = 28.7900, mad = 3.8669\n"
     ]
    },
    {
     "name": "stderr",
     "output_type": "stream",
     "text": [
      "2025-02-23 13:02:39,107 - INFO - Fold 1, mse = 28.7900, mad = 3.8669\n",
      "/home/zzj/anaconda3/envs/distcare/lib/python3.7/site-packages/torch/nn/functional.py:1960: UserWarning: nn.functional.sigmoid is deprecated. Use torch.sigmoid instead.\n",
      "  warnings.warn(\"nn.functional.sigmoid is deprecated. Use torch.sigmoid instead.\")\n",
      "2025-02-23 13:02:39,277 - INFO - Fold 1 Epoch 25 Batch 0: Train Loss = 1.0255\n"
     ]
    },
    {
     "name": "stdout",
     "output_type": "stream",
     "text": [
      "Fold 1 Epoch 25 Batch 0: Train Loss = 1.0255\n",
      "{'mad': 3.801094334696361, 'mse': 27.989722049859047, 'mape': 417.1185928802548, 'kappa': 0.47481661842850786}\n",
      "------------ Save FOLD-BEST model - MSE: 27.9897 ------------\n"
     ]
    },
    {
     "name": "stderr",
     "output_type": "stream",
     "text": [
      "2025-02-23 13:02:40,273 - INFO - ------------ Save FOLD-BEST model - MSE: 27.9897 ------------\n"
     ]
    },
    {
     "name": "stdout",
     "output_type": "stream",
     "text": [
      "Custom bins confusion matrix:\n",
      "[[151  61   0]\n",
      " [ 33 115   0]\n",
      " [  0   1   0]]\n",
      "Mean absolute deviation (MAD) = 3.801094334696361\n",
      "Mean squared error (MSE) = 27.989722049859047\n",
      "Mean absolute percentage error (MAPE) = 417.1185928802548\n",
      "Cohen kappa score = 0.47481661842850786\n",
      "------------ Save best model - MSE: 27.9897 ------------\n"
     ]
    },
    {
     "name": "stderr",
     "output_type": "stream",
     "text": [
      "2025-02-23 13:02:40,553 - INFO - ------------ Save best model - MSE: 27.9897 ------------\n"
     ]
    },
    {
     "name": "stdout",
     "output_type": "stream",
     "text": [
      "------------ auroc-BEST model - auroc: 0.9850 ------------\n"
     ]
    },
    {
     "name": "stderr",
     "output_type": "stream",
     "text": [
      "2025-02-23 13:02:40,555 - INFO - ------------ auroc-BEST model - auroc: 0.9850 ------------\n"
     ]
    },
    {
     "name": "stdout",
     "output_type": "stream",
     "text": [
      "Fold 1, mse = 27.9897, mad = 3.8011\n"
     ]
    },
    {
     "name": "stderr",
     "output_type": "stream",
     "text": [
      "2025-02-23 13:02:40,557 - INFO - Fold 1, mse = 27.9897, mad = 3.8011\n",
      "/home/zzj/anaconda3/envs/distcare/lib/python3.7/site-packages/torch/nn/functional.py:1960: UserWarning: nn.functional.sigmoid is deprecated. Use torch.sigmoid instead.\n",
      "  warnings.warn(\"nn.functional.sigmoid is deprecated. Use torch.sigmoid instead.\")\n",
      "2025-02-23 13:02:40,762 - INFO - Fold 1 Epoch 26 Batch 0: Train Loss = 1.1692\n"
     ]
    },
    {
     "name": "stdout",
     "output_type": "stream",
     "text": [
      "Fold 1 Epoch 26 Batch 0: Train Loss = 1.1692\n",
      "{'mad': 3.764105767482241, 'mse': 28.59696019805293, 'mape': 372.68649232599756, 'kappa': 0.4818741608407796}\n",
      "------------ auroc-BEST model - auroc: 0.9864 ------------\n"
     ]
    },
    {
     "name": "stderr",
     "output_type": "stream",
     "text": [
      "2025-02-23 13:02:41,892 - INFO - ------------ auroc-BEST model - auroc: 0.9864 ------------\n"
     ]
    },
    {
     "name": "stdout",
     "output_type": "stream",
     "text": [
      "Fold 1, mse = 28.5970, mad = 3.7641\n"
     ]
    },
    {
     "name": "stderr",
     "output_type": "stream",
     "text": [
      "2025-02-23 13:02:41,894 - INFO - Fold 1, mse = 28.5970, mad = 3.7641\n",
      "/home/zzj/anaconda3/envs/distcare/lib/python3.7/site-packages/torch/nn/functional.py:1960: UserWarning: nn.functional.sigmoid is deprecated. Use torch.sigmoid instead.\n",
      "  warnings.warn(\"nn.functional.sigmoid is deprecated. Use torch.sigmoid instead.\")\n",
      "2025-02-23 13:02:42,099 - INFO - Fold 1 Epoch 27 Batch 0: Train Loss = 0.9923\n"
     ]
    },
    {
     "name": "stdout",
     "output_type": "stream",
     "text": [
      "Fold 1 Epoch 27 Batch 0: Train Loss = 0.9923\n",
      "{'mad': 3.911034868552311, 'mse': 28.458853632074632, 'mape': 457.20128962788806, 'kappa': 0.3976879990465976}\n",
      "Fold 1, mse = 28.4589, mad = 3.9110\n"
     ]
    },
    {
     "name": "stderr",
     "output_type": "stream",
     "text": [
      "2025-02-23 13:02:43,243 - INFO - Fold 1, mse = 28.4589, mad = 3.9110\n",
      "/home/zzj/anaconda3/envs/distcare/lib/python3.7/site-packages/torch/nn/functional.py:1960: UserWarning: nn.functional.sigmoid is deprecated. Use torch.sigmoid instead.\n",
      "  warnings.warn(\"nn.functional.sigmoid is deprecated. Use torch.sigmoid instead.\")\n",
      "2025-02-23 13:02:43,458 - INFO - Fold 1 Epoch 28 Batch 0: Train Loss = 0.8299\n"
     ]
    },
    {
     "name": "stdout",
     "output_type": "stream",
     "text": [
      "Fold 1 Epoch 28 Batch 0: Train Loss = 0.8299\n",
      "{'mad': 4.038276254400945, 'mse': 29.230646066922887, 'mape': 491.84052405125647, 'kappa': 0.38197703592195753}\n",
      "Fold 1, mse = 29.2306, mad = 4.0383\n"
     ]
    },
    {
     "name": "stderr",
     "output_type": "stream",
     "text": [
      "2025-02-23 13:02:44,583 - INFO - Fold 1, mse = 29.2306, mad = 4.0383\n",
      "/home/zzj/anaconda3/envs/distcare/lib/python3.7/site-packages/torch/nn/functional.py:1960: UserWarning: nn.functional.sigmoid is deprecated. Use torch.sigmoid instead.\n",
      "  warnings.warn(\"nn.functional.sigmoid is deprecated. Use torch.sigmoid instead.\")\n",
      "2025-02-23 13:02:44,787 - INFO - Fold 1 Epoch 29 Batch 0: Train Loss = 1.0569\n"
     ]
    },
    {
     "name": "stdout",
     "output_type": "stream",
     "text": [
      "Fold 1 Epoch 29 Batch 0: Train Loss = 1.0569\n",
      "{'mad': 3.7579432885970303, 'mse': 29.292936010621727, 'mape': 346.00341459364824, 'kappa': 0.5105428023750526}\n",
      "Fold 1, mse = 29.2929, mad = 3.7579\n"
     ]
    },
    {
     "name": "stderr",
     "output_type": "stream",
     "text": [
      "2025-02-23 13:02:45,915 - INFO - Fold 1, mse = 29.2929, mad = 3.7579\n",
      "/home/zzj/anaconda3/envs/distcare/lib/python3.7/site-packages/torch/nn/functional.py:1960: UserWarning: nn.functional.sigmoid is deprecated. Use torch.sigmoid instead.\n",
      "  warnings.warn(\"nn.functional.sigmoid is deprecated. Use torch.sigmoid instead.\")\n",
      "2025-02-23 13:02:46,130 - INFO - Fold 1 Epoch 30 Batch 0: Train Loss = 1.0287\n"
     ]
    },
    {
     "name": "stdout",
     "output_type": "stream",
     "text": [
      "Fold 1 Epoch 30 Batch 0: Train Loss = 1.0287\n",
      "{'mad': 3.708283221492387, 'mse': 28.967556755726182, 'mape': 350.89884075214877, 'kappa': 0.5095798004403429}\n",
      "Fold 1, epoch 30: Loss = 1.0334 Valid loss = 1.4332 MSE = 28.9676 AUROC = 0.9837\n"
     ]
    },
    {
     "name": "stderr",
     "output_type": "stream",
     "text": [
      "2025-02-23 13:02:47,251 - INFO - Fold 1, epoch 30: Loss = 1.0334 Valid loss = 1.4332 MSE = 28.9676 AUROC = 0.9837\n"
     ]
    },
    {
     "name": "stdout",
     "output_type": "stream",
     "text": [
      "Fold 1, mse = 28.9676, mad = 3.7083\n"
     ]
    },
    {
     "name": "stderr",
     "output_type": "stream",
     "text": [
      "2025-02-23 13:02:47,253 - INFO - Fold 1, mse = 28.9676, mad = 3.7083\n",
      "/home/zzj/anaconda3/envs/distcare/lib/python3.7/site-packages/torch/nn/functional.py:1960: UserWarning: nn.functional.sigmoid is deprecated. Use torch.sigmoid instead.\n",
      "  warnings.warn(\"nn.functional.sigmoid is deprecated. Use torch.sigmoid instead.\")\n",
      "2025-02-23 13:02:47,468 - INFO - Fold 1 Epoch 31 Batch 0: Train Loss = 0.9671\n"
     ]
    },
    {
     "name": "stdout",
     "output_type": "stream",
     "text": [
      "Fold 1 Epoch 31 Batch 0: Train Loss = 0.9671\n",
      "{'mad': 3.997623605561486, 'mse': 29.03748608381773, 'mape': 474.9620460882836, 'kappa': 0.4073311244440464}\n",
      "Fold 1, mse = 29.0375, mad = 3.9976\n"
     ]
    },
    {
     "name": "stderr",
     "output_type": "stream",
     "text": [
      "2025-02-23 13:02:48,590 - INFO - Fold 1, mse = 29.0375, mad = 3.9976\n",
      "/home/zzj/anaconda3/envs/distcare/lib/python3.7/site-packages/torch/nn/functional.py:1960: UserWarning: nn.functional.sigmoid is deprecated. Use torch.sigmoid instead.\n",
      "  warnings.warn(\"nn.functional.sigmoid is deprecated. Use torch.sigmoid instead.\")\n",
      "2025-02-23 13:02:48,799 - INFO - Fold 1 Epoch 32 Batch 0: Train Loss = 1.0354\n"
     ]
    },
    {
     "name": "stdout",
     "output_type": "stream",
     "text": [
      "Fold 1 Epoch 32 Batch 0: Train Loss = 1.0354\n",
      "{'mad': 3.988205007159788, 'mse': 28.65950057312456, 'mape': 471.65988409068393, 'kappa': 0.4272645048411251}\n",
      "Fold 1, mse = 28.6595, mad = 3.9882\n"
     ]
    },
    {
     "name": "stderr",
     "output_type": "stream",
     "text": [
      "2025-02-23 13:02:49,959 - INFO - Fold 1, mse = 28.6595, mad = 3.9882\n",
      "/home/zzj/anaconda3/envs/distcare/lib/python3.7/site-packages/torch/nn/functional.py:1960: UserWarning: nn.functional.sigmoid is deprecated. Use torch.sigmoid instead.\n",
      "  warnings.warn(\"nn.functional.sigmoid is deprecated. Use torch.sigmoid instead.\")\n",
      "2025-02-23 13:02:50,167 - INFO - Fold 1 Epoch 33 Batch 0: Train Loss = 1.0054\n"
     ]
    },
    {
     "name": "stdout",
     "output_type": "stream",
     "text": [
      "Fold 1 Epoch 33 Batch 0: Train Loss = 1.0054\n",
      "{'mad': 3.694945771016376, 'mse': 27.928578288595855, 'mape': 367.7415650583202, 'kappa': 0.5124575047734364}\n",
      "------------ Save FOLD-BEST model - MSE: 27.9286 ------------\n"
     ]
    },
    {
     "name": "stderr",
     "output_type": "stream",
     "text": [
      "2025-02-23 13:02:51,343 - INFO - ------------ Save FOLD-BEST model - MSE: 27.9286 ------------\n"
     ]
    },
    {
     "name": "stdout",
     "output_type": "stream",
     "text": [
      "Custom bins confusion matrix:\n",
      "[[162  50   0]\n",
      " [ 36 112   0]\n",
      " [  0   1   0]]\n",
      "Mean absolute deviation (MAD) = 3.694945771016376\n",
      "Mean squared error (MSE) = 27.928578288595855\n",
      "Mean absolute percentage error (MAPE) = 367.7415650583202\n",
      "Cohen kappa score = 0.5124575047734364\n",
      "------------ Save best model - MSE: 27.9286 ------------\n"
     ]
    },
    {
     "name": "stderr",
     "output_type": "stream",
     "text": [
      "2025-02-23 13:02:51,614 - INFO - ------------ Save best model - MSE: 27.9286 ------------\n"
     ]
    },
    {
     "name": "stdout",
     "output_type": "stream",
     "text": [
      "Fold 1, mse = 27.9286, mad = 3.6949\n"
     ]
    },
    {
     "name": "stderr",
     "output_type": "stream",
     "text": [
      "2025-02-23 13:02:51,615 - INFO - Fold 1, mse = 27.9286, mad = 3.6949\n",
      "/home/zzj/anaconda3/envs/distcare/lib/python3.7/site-packages/torch/nn/functional.py:1960: UserWarning: nn.functional.sigmoid is deprecated. Use torch.sigmoid instead.\n",
      "  warnings.warn(\"nn.functional.sigmoid is deprecated. Use torch.sigmoid instead.\")\n",
      "2025-02-23 13:02:51,825 - INFO - Fold 1 Epoch 34 Batch 0: Train Loss = 1.0349\n"
     ]
    },
    {
     "name": "stdout",
     "output_type": "stream",
     "text": [
      "Fold 1 Epoch 34 Batch 0: Train Loss = 1.0349\n",
      "{'mad': 3.656108413972455, 'mse': 27.357332813431746, 'mape': 372.89726528364315, 'kappa': 0.5166433130935699}\n",
      "------------ Save FOLD-BEST model - MSE: 27.3573 ------------\n"
     ]
    },
    {
     "name": "stderr",
     "output_type": "stream",
     "text": [
      "2025-02-23 13:02:52,980 - INFO - ------------ Save FOLD-BEST model - MSE: 27.3573 ------------\n"
     ]
    },
    {
     "name": "stdout",
     "output_type": "stream",
     "text": [
      "Custom bins confusion matrix:\n",
      "[[164  48   0]\n",
      " [ 37 111   0]\n",
      " [  0   1   0]]\n",
      "Mean absolute deviation (MAD) = 3.656108413972455\n",
      "Mean squared error (MSE) = 27.357332813431746\n",
      "Mean absolute percentage error (MAPE) = 372.89726528364315\n",
      "Cohen kappa score = 0.5166433130935699\n",
      "------------ Save best model - MSE: 27.3573 ------------\n"
     ]
    },
    {
     "name": "stderr",
     "output_type": "stream",
     "text": [
      "2025-02-23 13:02:53,246 - INFO - ------------ Save best model - MSE: 27.3573 ------------\n"
     ]
    },
    {
     "name": "stdout",
     "output_type": "stream",
     "text": [
      "Fold 1, mse = 27.3573, mad = 3.6561\n"
     ]
    },
    {
     "name": "stderr",
     "output_type": "stream",
     "text": [
      "2025-02-23 13:02:53,248 - INFO - Fold 1, mse = 27.3573, mad = 3.6561\n",
      "/home/zzj/anaconda3/envs/distcare/lib/python3.7/site-packages/torch/nn/functional.py:1960: UserWarning: nn.functional.sigmoid is deprecated. Use torch.sigmoid instead.\n",
      "  warnings.warn(\"nn.functional.sigmoid is deprecated. Use torch.sigmoid instead.\")\n",
      "2025-02-23 13:02:53,429 - INFO - Fold 1 Epoch 35 Batch 0: Train Loss = 1.1400\n"
     ]
    },
    {
     "name": "stdout",
     "output_type": "stream",
     "text": [
      "Fold 1 Epoch 35 Batch 0: Train Loss = 1.1400\n",
      "{'mad': 3.942825185671124, 'mse': 28.553095299065266, 'mape': 461.6594088621775, 'kappa': 0.44835955056179766}\n",
      "Fold 1, mse = 28.5531, mad = 3.9428\n"
     ]
    },
    {
     "name": "stderr",
     "output_type": "stream",
     "text": [
      "2025-02-23 13:02:54,414 - INFO - Fold 1, mse = 28.5531, mad = 3.9428\n",
      "/home/zzj/anaconda3/envs/distcare/lib/python3.7/site-packages/torch/nn/functional.py:1960: UserWarning: nn.functional.sigmoid is deprecated. Use torch.sigmoid instead.\n",
      "  warnings.warn(\"nn.functional.sigmoid is deprecated. Use torch.sigmoid instead.\")\n",
      "2025-02-23 13:02:54,581 - INFO - Fold 1 Epoch 36 Batch 0: Train Loss = 0.8462\n"
     ]
    },
    {
     "name": "stdout",
     "output_type": "stream",
     "text": [
      "Fold 1 Epoch 36 Batch 0: Train Loss = 0.8462\n",
      "{'mad': 3.7990713495307338, 'mse': 27.729683968016424, 'mape': 414.67261162197013, 'kappa': 0.4898108046501026}\n",
      "Fold 1, mse = 27.7297, mad = 3.7991\n"
     ]
    },
    {
     "name": "stderr",
     "output_type": "stream",
     "text": [
      "2025-02-23 13:02:55,569 - INFO - Fold 1, mse = 27.7297, mad = 3.7991\n",
      "/home/zzj/anaconda3/envs/distcare/lib/python3.7/site-packages/torch/nn/functional.py:1960: UserWarning: nn.functional.sigmoid is deprecated. Use torch.sigmoid instead.\n",
      "  warnings.warn(\"nn.functional.sigmoid is deprecated. Use torch.sigmoid instead.\")\n",
      "2025-02-23 13:02:55,741 - INFO - Fold 1 Epoch 37 Batch 0: Train Loss = 0.9383\n"
     ]
    },
    {
     "name": "stdout",
     "output_type": "stream",
     "text": [
      "Fold 1 Epoch 37 Batch 0: Train Loss = 0.9383\n",
      "{'mad': 3.839171497499584, 'mse': 29.86375334023296, 'mape': 348.76122974500794, 'kappa': 0.5034543124198942}\n",
      "Fold 1, mse = 29.8638, mad = 3.8392\n"
     ]
    },
    {
     "name": "stderr",
     "output_type": "stream",
     "text": [
      "2025-02-23 13:02:56,713 - INFO - Fold 1, mse = 29.8638, mad = 3.8392\n",
      "/home/zzj/anaconda3/envs/distcare/lib/python3.7/site-packages/torch/nn/functional.py:1960: UserWarning: nn.functional.sigmoid is deprecated. Use torch.sigmoid instead.\n",
      "  warnings.warn(\"nn.functional.sigmoid is deprecated. Use torch.sigmoid instead.\")\n",
      "2025-02-23 13:02:56,902 - INFO - Fold 1 Epoch 38 Batch 0: Train Loss = 1.1332\n"
     ]
    },
    {
     "name": "stdout",
     "output_type": "stream",
     "text": [
      "Fold 1 Epoch 38 Batch 0: Train Loss = 1.1332\n",
      "{'mad': 3.8438603607440545, 'mse': 29.047348515505604, 'mape': 412.2643692434464, 'kappa': 0.42948983505945526}\n",
      "Fold 1, mse = 29.0473, mad = 3.8439\n"
     ]
    },
    {
     "name": "stderr",
     "output_type": "stream",
     "text": [
      "2025-02-23 13:02:57,925 - INFO - Fold 1, mse = 29.0473, mad = 3.8439\n",
      "/home/zzj/anaconda3/envs/distcare/lib/python3.7/site-packages/torch/nn/functional.py:1960: UserWarning: nn.functional.sigmoid is deprecated. Use torch.sigmoid instead.\n",
      "  warnings.warn(\"nn.functional.sigmoid is deprecated. Use torch.sigmoid instead.\")\n",
      "2025-02-23 13:02:58,096 - INFO - Fold 1 Epoch 39 Batch 0: Train Loss = 1.0301\n"
     ]
    },
    {
     "name": "stdout",
     "output_type": "stream",
     "text": [
      "Fold 1 Epoch 39 Batch 0: Train Loss = 1.0301\n",
      "{'mad': 3.853091331376379, 'mse': 28.870315792645545, 'mape': 419.55210663763864, 'kappa': 0.4399014328739619}\n",
      "Fold 1, mse = 28.8703, mad = 3.8531\n"
     ]
    },
    {
     "name": "stderr",
     "output_type": "stream",
     "text": [
      "2025-02-23 13:02:59,065 - INFO - Fold 1, mse = 28.8703, mad = 3.8531\n",
      "/home/zzj/anaconda3/envs/distcare/lib/python3.7/site-packages/torch/nn/functional.py:1960: UserWarning: nn.functional.sigmoid is deprecated. Use torch.sigmoid instead.\n",
      "  warnings.warn(\"nn.functional.sigmoid is deprecated. Use torch.sigmoid instead.\")\n",
      "2025-02-23 13:02:59,255 - INFO - Fold 1 Epoch 40 Batch 0: Train Loss = 0.9347\n"
     ]
    },
    {
     "name": "stdout",
     "output_type": "stream",
     "text": [
      "Fold 1 Epoch 40 Batch 0: Train Loss = 0.9347\n",
      "{'mad': 3.9661908906496377, 'mse': 29.15717184092493, 'mape': 461.0717007221881, 'kappa': 0.433738179536593}\n",
      "Fold 1, epoch 40: Loss = 0.9770 Valid loss = 1.4306 MSE = 29.1572 AUROC = 0.9827\n"
     ]
    },
    {
     "name": "stderr",
     "output_type": "stream",
     "text": [
      "2025-02-23 13:03:00,249 - INFO - Fold 1, epoch 40: Loss = 0.9770 Valid loss = 1.4306 MSE = 29.1572 AUROC = 0.9827\n"
     ]
    },
    {
     "name": "stdout",
     "output_type": "stream",
     "text": [
      "Fold 1, mse = 29.1572, mad = 3.9662\n"
     ]
    },
    {
     "name": "stderr",
     "output_type": "stream",
     "text": [
      "2025-02-23 13:03:00,251 - INFO - Fold 1, mse = 29.1572, mad = 3.9662\n",
      "/home/zzj/anaconda3/envs/distcare/lib/python3.7/site-packages/torch/nn/functional.py:1960: UserWarning: nn.functional.sigmoid is deprecated. Use torch.sigmoid instead.\n",
      "  warnings.warn(\"nn.functional.sigmoid is deprecated. Use torch.sigmoid instead.\")\n",
      "2025-02-23 13:03:00,431 - INFO - Fold 1 Epoch 41 Batch 0: Train Loss = 0.8574\n"
     ]
    },
    {
     "name": "stdout",
     "output_type": "stream",
     "text": [
      "Fold 1 Epoch 41 Batch 0: Train Loss = 0.8574\n",
      "{'mad': 3.8051589003007753, 'mse': 29.406537309294052, 'mape': 376.4306520989482, 'kappa': 0.45348657583341057}\n",
      "Fold 1, mse = 29.4065, mad = 3.8052\n"
     ]
    },
    {
     "name": "stderr",
     "output_type": "stream",
     "text": [
      "2025-02-23 13:03:01,450 - INFO - Fold 1, mse = 29.4065, mad = 3.8052\n",
      "/home/zzj/anaconda3/envs/distcare/lib/python3.7/site-packages/torch/nn/functional.py:1960: UserWarning: nn.functional.sigmoid is deprecated. Use torch.sigmoid instead.\n",
      "  warnings.warn(\"nn.functional.sigmoid is deprecated. Use torch.sigmoid instead.\")\n",
      "2025-02-23 13:03:01,633 - INFO - Fold 1 Epoch 42 Batch 0: Train Loss = 0.9141\n"
     ]
    },
    {
     "name": "stdout",
     "output_type": "stream",
     "text": [
      "Fold 1 Epoch 42 Batch 0: Train Loss = 0.9141\n",
      "{'mad': 3.7562827972911412, 'mse': 28.656972289243413, 'mape': 395.2293116433723, 'kappa': 0.4747709262010896}\n",
      "Fold 1, mse = 28.6570, mad = 3.7563\n"
     ]
    },
    {
     "name": "stderr",
     "output_type": "stream",
     "text": [
      "2025-02-23 13:03:02,552 - INFO - Fold 1, mse = 28.6570, mad = 3.7563\n",
      "/home/zzj/anaconda3/envs/distcare/lib/python3.7/site-packages/torch/nn/functional.py:1960: UserWarning: nn.functional.sigmoid is deprecated. Use torch.sigmoid instead.\n",
      "  warnings.warn(\"nn.functional.sigmoid is deprecated. Use torch.sigmoid instead.\")\n",
      "2025-02-23 13:03:02,730 - INFO - Fold 1 Epoch 43 Batch 0: Train Loss = 0.8897\n"
     ]
    },
    {
     "name": "stdout",
     "output_type": "stream",
     "text": [
      "Fold 1 Epoch 43 Batch 0: Train Loss = 0.8897\n",
      "{'mad': 3.9570999187275397, 'mse': 29.865487550264643, 'mape': 463.6422291986869, 'kappa': 0.45325175821374475}\n",
      "Fold 1, mse = 29.8655, mad = 3.9571\n"
     ]
    },
    {
     "name": "stderr",
     "output_type": "stream",
     "text": [
      "2025-02-23 13:03:03,687 - INFO - Fold 1, mse = 29.8655, mad = 3.9571\n",
      "/home/zzj/anaconda3/envs/distcare/lib/python3.7/site-packages/torch/nn/functional.py:1960: UserWarning: nn.functional.sigmoid is deprecated. Use torch.sigmoid instead.\n",
      "  warnings.warn(\"nn.functional.sigmoid is deprecated. Use torch.sigmoid instead.\")\n",
      "2025-02-23 13:03:03,869 - INFO - Fold 1 Epoch 44 Batch 0: Train Loss = 0.9621\n"
     ]
    },
    {
     "name": "stdout",
     "output_type": "stream",
     "text": [
      "Fold 1 Epoch 44 Batch 0: Train Loss = 0.9621\n",
      "{'mad': 4.020780269054427, 'mse': 30.076825988811905, 'mape': 482.4903970035665, 'kappa': 0.44175811104172247}\n",
      "Fold 1, mse = 30.0768, mad = 4.0208\n"
     ]
    },
    {
     "name": "stderr",
     "output_type": "stream",
     "text": [
      "2025-02-23 13:03:04,930 - INFO - Fold 1, mse = 30.0768, mad = 4.0208\n",
      "/home/zzj/anaconda3/envs/distcare/lib/python3.7/site-packages/torch/nn/functional.py:1960: UserWarning: nn.functional.sigmoid is deprecated. Use torch.sigmoid instead.\n",
      "  warnings.warn(\"nn.functional.sigmoid is deprecated. Use torch.sigmoid instead.\")\n",
      "2025-02-23 13:03:05,102 - INFO - Fold 1 Epoch 45 Batch 0: Train Loss = 0.9499\n"
     ]
    },
    {
     "name": "stdout",
     "output_type": "stream",
     "text": [
      "Fold 1 Epoch 45 Batch 0: Train Loss = 0.9499\n",
      "{'mad': 3.79822431201138, 'mse': 29.064443320563498, 'mape': 381.02609231907184, 'kappa': 0.46168273147934646}\n",
      "Fold 1, mse = 29.0644, mad = 3.7982\n"
     ]
    },
    {
     "name": "stderr",
     "output_type": "stream",
     "text": [
      "2025-02-23 13:03:06,014 - INFO - Fold 1, mse = 29.0644, mad = 3.7982\n",
      "/home/zzj/anaconda3/envs/distcare/lib/python3.7/site-packages/torch/nn/functional.py:1960: UserWarning: nn.functional.sigmoid is deprecated. Use torch.sigmoid instead.\n",
      "  warnings.warn(\"nn.functional.sigmoid is deprecated. Use torch.sigmoid instead.\")\n",
      "2025-02-23 13:03:06,177 - INFO - Fold 1 Epoch 46 Batch 0: Train Loss = 0.7965\n"
     ]
    },
    {
     "name": "stdout",
     "output_type": "stream",
     "text": [
      "Fold 1 Epoch 46 Batch 0: Train Loss = 0.7965\n",
      "{'mad': 3.8299553964735553, 'mse': 30.08216857128115, 'mape': 337.8669105541178, 'kappa': 0.4963238175861042}\n",
      "Fold 1, mse = 30.0822, mad = 3.8300\n"
     ]
    },
    {
     "name": "stderr",
     "output_type": "stream",
     "text": [
      "2025-02-23 13:03:07,097 - INFO - Fold 1, mse = 30.0822, mad = 3.8300\n",
      "/home/zzj/anaconda3/envs/distcare/lib/python3.7/site-packages/torch/nn/functional.py:1960: UserWarning: nn.functional.sigmoid is deprecated. Use torch.sigmoid instead.\n",
      "  warnings.warn(\"nn.functional.sigmoid is deprecated. Use torch.sigmoid instead.\")\n",
      "2025-02-23 13:03:07,262 - INFO - Fold 1 Epoch 47 Batch 0: Train Loss = 0.9635\n"
     ]
    },
    {
     "name": "stdout",
     "output_type": "stream",
     "text": [
      "Fold 1 Epoch 47 Batch 0: Train Loss = 0.9635\n",
      "{'mad': 3.9168175239500846, 'mse': 29.31679814506971, 'mape': 440.66517100369254, 'kappa': 0.4245541219284791}\n",
      "Fold 1, mse = 29.3168, mad = 3.9168\n"
     ]
    },
    {
     "name": "stderr",
     "output_type": "stream",
     "text": [
      "2025-02-23 13:03:08,180 - INFO - Fold 1, mse = 29.3168, mad = 3.9168\n",
      "/home/zzj/anaconda3/envs/distcare/lib/python3.7/site-packages/torch/nn/functional.py:1960: UserWarning: nn.functional.sigmoid is deprecated. Use torch.sigmoid instead.\n",
      "  warnings.warn(\"nn.functional.sigmoid is deprecated. Use torch.sigmoid instead.\")\n",
      "2025-02-23 13:03:08,353 - INFO - Fold 1 Epoch 48 Batch 0: Train Loss = 0.7962\n"
     ]
    },
    {
     "name": "stdout",
     "output_type": "stream",
     "text": [
      "Fold 1 Epoch 48 Batch 0: Train Loss = 0.7962\n",
      "{'mad': 3.9009473172880202, 'mse': 29.763145742335652, 'mape': 394.3402047943654, 'kappa': 0.43774622079706826}\n",
      "Fold 1, mse = 29.7631, mad = 3.9009\n"
     ]
    },
    {
     "name": "stderr",
     "output_type": "stream",
     "text": [
      "2025-02-23 13:03:09,271 - INFO - Fold 1, mse = 29.7631, mad = 3.9009\n",
      "/home/zzj/anaconda3/envs/distcare/lib/python3.7/site-packages/torch/nn/functional.py:1960: UserWarning: nn.functional.sigmoid is deprecated. Use torch.sigmoid instead.\n",
      "  warnings.warn(\"nn.functional.sigmoid is deprecated. Use torch.sigmoid instead.\")\n",
      "2025-02-23 13:03:09,449 - INFO - Fold 1 Epoch 49 Batch 0: Train Loss = 0.8018\n"
     ]
    },
    {
     "name": "stdout",
     "output_type": "stream",
     "text": [
      "Fold 1 Epoch 49 Batch 0: Train Loss = 0.8018\n",
      "{'mad': 3.8629167267061906, 'mse': 28.634908762498753, 'mape': 448.10225817970706, 'kappa': 0.4550614376717085}\n",
      "Fold 1, mse = 28.6349, mad = 3.8629\n"
     ]
    },
    {
     "name": "stderr",
     "output_type": "stream",
     "text": [
      "2025-02-23 13:03:10,348 - INFO - Fold 1, mse = 28.6349, mad = 3.8629\n",
      "/home/zzj/anaconda3/envs/distcare/lib/python3.7/site-packages/torch/nn/functional.py:1960: UserWarning: nn.functional.sigmoid is deprecated. Use torch.sigmoid instead.\n",
      "  warnings.warn(\"nn.functional.sigmoid is deprecated. Use torch.sigmoid instead.\")\n",
      "2025-02-23 13:03:10,530 - INFO - Fold 1 Epoch 50 Batch 0: Train Loss = 0.9532\n"
     ]
    },
    {
     "name": "stdout",
     "output_type": "stream",
     "text": [
      "Fold 1 Epoch 50 Batch 0: Train Loss = 0.9532\n",
      "{'mad': 3.762228120262057, 'mse': 28.811733154413588, 'mape': 370.5893406113358, 'kappa': 0.48088405389352584}\n",
      "Fold 1, epoch 50: Loss = 0.8312 Valid loss = 1.4323 MSE = 28.8117 AUROC = 0.9820\n"
     ]
    },
    {
     "name": "stderr",
     "output_type": "stream",
     "text": [
      "2025-02-23 13:03:11,663 - INFO - Fold 1, epoch 50: Loss = 0.8312 Valid loss = 1.4323 MSE = 28.8117 AUROC = 0.9820\n"
     ]
    },
    {
     "name": "stdout",
     "output_type": "stream",
     "text": [
      "Fold 1, mse = 28.8117, mad = 3.7622\n"
     ]
    },
    {
     "name": "stderr",
     "output_type": "stream",
     "text": [
      "2025-02-23 13:03:11,665 - INFO - Fold 1, mse = 28.8117, mad = 3.7622\n",
      "/home/zzj/anaconda3/envs/distcare/lib/python3.7/site-packages/torch/nn/functional.py:1960: UserWarning: nn.functional.sigmoid is deprecated. Use torch.sigmoid instead.\n",
      "  warnings.warn(\"nn.functional.sigmoid is deprecated. Use torch.sigmoid instead.\")\n",
      "2025-02-23 13:03:11,884 - INFO - Fold 1 Epoch 51 Batch 0: Train Loss = 0.7690\n"
     ]
    },
    {
     "name": "stdout",
     "output_type": "stream",
     "text": [
      "Fold 1 Epoch 51 Batch 0: Train Loss = 0.7690\n",
      "{'mad': 3.79231772804974, 'mse': 29.722207399927967, 'mape': 349.8866394872775, 'kappa': 0.4777987421383648}\n",
      "Fold 1, mse = 29.7222, mad = 3.7923\n"
     ]
    },
    {
     "name": "stderr",
     "output_type": "stream",
     "text": [
      "2025-02-23 13:03:13,007 - INFO - Fold 1, mse = 29.7222, mad = 3.7923\n",
      "/home/zzj/anaconda3/envs/distcare/lib/python3.7/site-packages/torch/nn/functional.py:1960: UserWarning: nn.functional.sigmoid is deprecated. Use torch.sigmoid instead.\n",
      "  warnings.warn(\"nn.functional.sigmoid is deprecated. Use torch.sigmoid instead.\")\n",
      "2025-02-23 13:03:13,227 - INFO - Fold 1 Epoch 52 Batch 0: Train Loss = 0.9416\n"
     ]
    },
    {
     "name": "stdout",
     "output_type": "stream",
     "text": [
      "Fold 1 Epoch 52 Batch 0: Train Loss = 0.9416\n",
      "{'mad': 3.9900241989695786, 'mse': 30.081600362284323, 'mape': 434.2365694433869, 'kappa': 0.4452178629542578}\n",
      "Fold 1, mse = 30.0816, mad = 3.9900\n"
     ]
    },
    {
     "name": "stderr",
     "output_type": "stream",
     "text": [
      "2025-02-23 13:03:14,388 - INFO - Fold 1, mse = 30.0816, mad = 3.9900\n",
      "/home/zzj/anaconda3/envs/distcare/lib/python3.7/site-packages/torch/nn/functional.py:1960: UserWarning: nn.functional.sigmoid is deprecated. Use torch.sigmoid instead.\n",
      "  warnings.warn(\"nn.functional.sigmoid is deprecated. Use torch.sigmoid instead.\")\n",
      "2025-02-23 13:03:14,604 - INFO - Fold 1 Epoch 53 Batch 0: Train Loss = 0.7775\n"
     ]
    },
    {
     "name": "stdout",
     "output_type": "stream",
     "text": [
      "Fold 1 Epoch 53 Batch 0: Train Loss = 0.7775\n",
      "{'mad': 4.049475534266241, 'mse': 30.582477252116146, 'mape': 459.7895264891695, 'kappa': 0.4121663006617966}\n",
      "Fold 1, mse = 30.5825, mad = 4.0495\n"
     ]
    },
    {
     "name": "stderr",
     "output_type": "stream",
     "text": [
      "2025-02-23 13:03:15,727 - INFO - Fold 1, mse = 30.5825, mad = 4.0495\n",
      "/home/zzj/anaconda3/envs/distcare/lib/python3.7/site-packages/torch/nn/functional.py:1960: UserWarning: nn.functional.sigmoid is deprecated. Use torch.sigmoid instead.\n",
      "  warnings.warn(\"nn.functional.sigmoid is deprecated. Use torch.sigmoid instead.\")\n",
      "2025-02-23 13:03:15,940 - INFO - Fold 1 Epoch 54 Batch 0: Train Loss = 0.9183\n"
     ]
    },
    {
     "name": "stdout",
     "output_type": "stream",
     "text": [
      "Fold 1 Epoch 54 Batch 0: Train Loss = 0.9183\n",
      "{'mad': 3.892172866035052, 'mse': 29.772209304727287, 'mape': 402.1356928673028, 'kappa': 0.46083272372592055}\n",
      "Fold 1, mse = 29.7722, mad = 3.8922\n"
     ]
    },
    {
     "name": "stderr",
     "output_type": "stream",
     "text": [
      "2025-02-23 13:03:17,074 - INFO - Fold 1, mse = 29.7722, mad = 3.8922\n",
      "/home/zzj/anaconda3/envs/distcare/lib/python3.7/site-packages/torch/nn/functional.py:1960: UserWarning: nn.functional.sigmoid is deprecated. Use torch.sigmoid instead.\n",
      "  warnings.warn(\"nn.functional.sigmoid is deprecated. Use torch.sigmoid instead.\")\n",
      "2025-02-23 13:03:17,309 - INFO - Fold 1 Epoch 55 Batch 0: Train Loss = 0.6837\n"
     ]
    },
    {
     "name": "stdout",
     "output_type": "stream",
     "text": [
      "Fold 1 Epoch 55 Batch 0: Train Loss = 0.6837\n",
      "{'mad': 3.957255443342869, 'mse': 32.310633894231984, 'mape': 301.9217002389129, 'kappa': 0.4882368869562448}\n",
      "Fold 1, mse = 32.3106, mad = 3.9573\n"
     ]
    },
    {
     "name": "stderr",
     "output_type": "stream",
     "text": [
      "2025-02-23 13:03:18,582 - INFO - Fold 1, mse = 32.3106, mad = 3.9573\n",
      "/home/zzj/anaconda3/envs/distcare/lib/python3.7/site-packages/torch/nn/functional.py:1960: UserWarning: nn.functional.sigmoid is deprecated. Use torch.sigmoid instead.\n",
      "  warnings.warn(\"nn.functional.sigmoid is deprecated. Use torch.sigmoid instead.\")\n",
      "2025-02-23 13:03:18,813 - INFO - Fold 1 Epoch 56 Batch 0: Train Loss = 0.7926\n"
     ]
    },
    {
     "name": "stdout",
     "output_type": "stream",
     "text": [
      "Fold 1 Epoch 56 Batch 0: Train Loss = 0.7926\n",
      "{'mad': 3.9093414152053025, 'mse': 29.341162993580024, 'mape': 437.6296388169199, 'kappa': 0.45999728026834696}\n",
      "Fold 1, mse = 29.3412, mad = 3.9093\n"
     ]
    },
    {
     "name": "stderr",
     "output_type": "stream",
     "text": [
      "2025-02-23 13:03:19,916 - INFO - Fold 1, mse = 29.3412, mad = 3.9093\n",
      "/home/zzj/anaconda3/envs/distcare/lib/python3.7/site-packages/torch/nn/functional.py:1960: UserWarning: nn.functional.sigmoid is deprecated. Use torch.sigmoid instead.\n",
      "  warnings.warn(\"nn.functional.sigmoid is deprecated. Use torch.sigmoid instead.\")\n",
      "2025-02-23 13:03:20,103 - INFO - Fold 1 Epoch 57 Batch 0: Train Loss = 0.8657\n"
     ]
    },
    {
     "name": "stdout",
     "output_type": "stream",
     "text": [
      "Fold 1 Epoch 57 Batch 0: Train Loss = 0.8657\n",
      "{'mad': 3.9255522317989113, 'mse': 29.184133758684233, 'mape': 445.5667990926219, 'kappa': 0.45013497413624093}\n",
      "Fold 1, mse = 29.1841, mad = 3.9256\n"
     ]
    },
    {
     "name": "stderr",
     "output_type": "stream",
     "text": [
      "2025-02-23 13:03:21,311 - INFO - Fold 1, mse = 29.1841, mad = 3.9256\n",
      "/home/zzj/anaconda3/envs/distcare/lib/python3.7/site-packages/torch/nn/functional.py:1960: UserWarning: nn.functional.sigmoid is deprecated. Use torch.sigmoid instead.\n",
      "  warnings.warn(\"nn.functional.sigmoid is deprecated. Use torch.sigmoid instead.\")\n",
      "2025-02-23 13:03:21,519 - INFO - Fold 1 Epoch 58 Batch 0: Train Loss = 0.8998\n"
     ]
    },
    {
     "name": "stdout",
     "output_type": "stream",
     "text": [
      "Fold 1 Epoch 58 Batch 0: Train Loss = 0.8998\n",
      "{'mad': 3.8131454677525682, 'mse': 29.644059890492834, 'mape': 348.0115853007624, 'kappa': 0.499290912774479}\n",
      "Fold 1, mse = 29.6441, mad = 3.8131\n"
     ]
    },
    {
     "name": "stderr",
     "output_type": "stream",
     "text": [
      "2025-02-23 13:03:22,559 - INFO - Fold 1, mse = 29.6441, mad = 3.8131\n",
      "/home/zzj/anaconda3/envs/distcare/lib/python3.7/site-packages/torch/nn/functional.py:1960: UserWarning: nn.functional.sigmoid is deprecated. Use torch.sigmoid instead.\n",
      "  warnings.warn(\"nn.functional.sigmoid is deprecated. Use torch.sigmoid instead.\")\n",
      "2025-02-23 13:03:22,735 - INFO - Fold 1 Epoch 59 Batch 0: Train Loss = 0.8675\n"
     ]
    },
    {
     "name": "stdout",
     "output_type": "stream",
     "text": [
      "Fold 1 Epoch 59 Batch 0: Train Loss = 0.8675\n",
      "{'mad': 3.8658756282724074, 'mse': 29.155683585084997, 'mape': 388.66593456904945, 'kappa': 0.46979988984762255}\n",
      "Fold 1, mse = 29.1557, mad = 3.8659\n"
     ]
    },
    {
     "name": "stderr",
     "output_type": "stream",
     "text": [
      "2025-02-23 13:03:23,676 - INFO - Fold 1, mse = 29.1557, mad = 3.8659\n",
      "/home/zzj/anaconda3/envs/distcare/lib/python3.7/site-packages/torch/nn/functional.py:1960: UserWarning: nn.functional.sigmoid is deprecated. Use torch.sigmoid instead.\n",
      "  warnings.warn(\"nn.functional.sigmoid is deprecated. Use torch.sigmoid instead.\")\n",
      "2025-02-23 13:03:24,064 - INFO - Fold 2 Epoch 0 Batch 0: Train Loss = 2.4333\n"
     ]
    },
    {
     "name": "stdout",
     "output_type": "stream",
     "text": [
      "Fold 2 Epoch 0 Batch 0: Train Loss = 2.4333\n",
      "{'mad': 4.925432018317202, 'mse': 48.46123461912358, 'mape': 489.74130436064803, 'kappa': 0.29561987308466176}\n",
      "Fold 2, epoch 0: Loss = 2.3586 Valid loss = 2.0567 MSE = 48.4612 AUROC = 0.8315\n"
     ]
    },
    {
     "name": "stderr",
     "output_type": "stream",
     "text": [
      "2025-02-23 13:03:25,186 - INFO - Fold 2, epoch 0: Loss = 2.3586 Valid loss = 2.0567 MSE = 48.4612 AUROC = 0.8315\n"
     ]
    },
    {
     "name": "stdout",
     "output_type": "stream",
     "text": [
      "------------ Save FOLD-BEST model - MSE: 48.4612 ------------\n"
     ]
    },
    {
     "name": "stderr",
     "output_type": "stream",
     "text": [
      "2025-02-23 13:03:25,188 - INFO - ------------ Save FOLD-BEST model - MSE: 48.4612 ------------\n"
     ]
    },
    {
     "name": "stdout",
     "output_type": "stream",
     "text": [
      "Custom bins confusion matrix:\n",
      "[[144  52   0]\n",
      " [ 58  73   0]\n",
      " [  0   1   0]]\n",
      "Mean absolute deviation (MAD) = 4.925432018317202\n",
      "Mean squared error (MSE) = 48.46123461912358\n",
      "Mean absolute percentage error (MAPE) = 489.74130436064803\n",
      "Cohen kappa score = 0.29561987308466176\n",
      "------------ auroc-BEST model - auroc: 0.8315 ------------\n"
     ]
    },
    {
     "name": "stderr",
     "output_type": "stream",
     "text": [
      "2025-02-23 13:03:25,359 - INFO - ------------ auroc-BEST model - auroc: 0.8315 ------------\n"
     ]
    },
    {
     "name": "stdout",
     "output_type": "stream",
     "text": [
      "Fold 2, mse = 48.4612, mad = 4.9254\n"
     ]
    },
    {
     "name": "stderr",
     "output_type": "stream",
     "text": [
      "2025-02-23 13:03:25,362 - INFO - Fold 2, mse = 48.4612, mad = 4.9254\n",
      "/home/zzj/anaconda3/envs/distcare/lib/python3.7/site-packages/torch/nn/functional.py:1960: UserWarning: nn.functional.sigmoid is deprecated. Use torch.sigmoid instead.\n",
      "  warnings.warn(\"nn.functional.sigmoid is deprecated. Use torch.sigmoid instead.\")\n",
      "2025-02-23 13:03:25,566 - INFO - Fold 2 Epoch 1 Batch 0: Train Loss = 2.1694\n"
     ]
    },
    {
     "name": "stdout",
     "output_type": "stream",
     "text": [
      "Fold 2 Epoch 1 Batch 0: Train Loss = 2.1694\n",
      "{'mad': 4.910707277629303, 'mse': 47.28271233457107, 'mape': 514.32850287924, 'kappa': 0.29340549779233727}\n",
      "------------ Save FOLD-BEST model - MSE: 47.2827 ------------\n"
     ]
    },
    {
     "name": "stderr",
     "output_type": "stream",
     "text": [
      "2025-02-23 13:03:26,647 - INFO - ------------ Save FOLD-BEST model - MSE: 47.2827 ------------\n"
     ]
    },
    {
     "name": "stdout",
     "output_type": "stream",
     "text": [
      "Custom bins confusion matrix:\n",
      "[[104  92   0]\n",
      " [ 28 103   0]\n",
      " [  0   1   0]]\n",
      "Mean absolute deviation (MAD) = 4.910707277629303\n",
      "Mean squared error (MSE) = 47.28271233457107\n",
      "Mean absolute percentage error (MAPE) = 514.32850287924\n",
      "Cohen kappa score = 0.29340549779233727\n",
      "------------ auroc-BEST model - auroc: 0.8706 ------------\n"
     ]
    },
    {
     "name": "stderr",
     "output_type": "stream",
     "text": [
      "2025-02-23 13:03:26,811 - INFO - ------------ auroc-BEST model - auroc: 0.8706 ------------\n"
     ]
    },
    {
     "name": "stdout",
     "output_type": "stream",
     "text": [
      "Fold 2, mse = 47.2827, mad = 4.9107\n"
     ]
    },
    {
     "name": "stderr",
     "output_type": "stream",
     "text": [
      "2025-02-23 13:03:26,813 - INFO - Fold 2, mse = 47.2827, mad = 4.9107\n",
      "/home/zzj/anaconda3/envs/distcare/lib/python3.7/site-packages/torch/nn/functional.py:1960: UserWarning: nn.functional.sigmoid is deprecated. Use torch.sigmoid instead.\n",
      "  warnings.warn(\"nn.functional.sigmoid is deprecated. Use torch.sigmoid instead.\")\n",
      "2025-02-23 13:03:27,011 - INFO - Fold 2 Epoch 2 Batch 0: Train Loss = 2.1780\n"
     ]
    },
    {
     "name": "stdout",
     "output_type": "stream",
     "text": [
      "Fold 2 Epoch 2 Batch 0: Train Loss = 2.1780\n",
      "{'mad': 4.824618006523889, 'mse': 46.34129483875457, 'mape': 500.0915089286726, 'kappa': 0.2916017561251949}\n",
      "------------ Save FOLD-BEST model - MSE: 46.3413 ------------\n"
     ]
    },
    {
     "name": "stderr",
     "output_type": "stream",
     "text": [
      "2025-02-23 13:03:27,953 - INFO - ------------ Save FOLD-BEST model - MSE: 46.3413 ------------\n"
     ]
    },
    {
     "name": "stdout",
     "output_type": "stream",
     "text": [
      "Custom bins confusion matrix:\n",
      "[[101  95   0]\n",
      " [ 26 105   0]\n",
      " [  0   1   0]]\n",
      "Mean absolute deviation (MAD) = 4.824618006523889\n",
      "Mean squared error (MSE) = 46.34129483875457\n",
      "Mean absolute percentage error (MAPE) = 500.0915089286726\n",
      "Cohen kappa score = 0.2916017561251949\n",
      "------------ auroc-BEST model - auroc: 0.8997 ------------\n"
     ]
    },
    {
     "name": "stderr",
     "output_type": "stream",
     "text": [
      "2025-02-23 13:03:28,071 - INFO - ------------ auroc-BEST model - auroc: 0.8997 ------------\n"
     ]
    },
    {
     "name": "stdout",
     "output_type": "stream",
     "text": [
      "Fold 2, mse = 46.3413, mad = 4.8246\n"
     ]
    },
    {
     "name": "stderr",
     "output_type": "stream",
     "text": [
      "2025-02-23 13:03:28,072 - INFO - Fold 2, mse = 46.3413, mad = 4.8246\n",
      "/home/zzj/anaconda3/envs/distcare/lib/python3.7/site-packages/torch/nn/functional.py:1960: UserWarning: nn.functional.sigmoid is deprecated. Use torch.sigmoid instead.\n",
      "  warnings.warn(\"nn.functional.sigmoid is deprecated. Use torch.sigmoid instead.\")\n",
      "2025-02-23 13:03:28,241 - INFO - Fold 2 Epoch 3 Batch 0: Train Loss = 2.1390\n"
     ]
    },
    {
     "name": "stdout",
     "output_type": "stream",
     "text": [
      "Fold 2 Epoch 3 Batch 0: Train Loss = 2.1390\n",
      "{'mad': 4.875698098117113, 'mse': 46.33587381837198, 'mape': 538.5260920390417, 'kappa': 0.2912310051582322}\n",
      "------------ Save FOLD-BEST model - MSE: 46.3359 ------------\n"
     ]
    },
    {
     "name": "stderr",
     "output_type": "stream",
     "text": [
      "2025-02-23 13:03:29,262 - INFO - ------------ Save FOLD-BEST model - MSE: 46.3359 ------------\n"
     ]
    },
    {
     "name": "stdout",
     "output_type": "stream",
     "text": [
      "Custom bins confusion matrix:\n",
      "[[ 93 103   0]\n",
      " [ 20 111   0]\n",
      " [  0   1   0]]\n",
      "Mean absolute deviation (MAD) = 4.875698098117113\n",
      "Mean squared error (MSE) = 46.33587381837198\n",
      "Mean absolute percentage error (MAPE) = 538.5260920390417\n",
      "Cohen kappa score = 0.2912310051582322\n",
      "------------ auroc-BEST model - auroc: 0.9408 ------------\n"
     ]
    },
    {
     "name": "stderr",
     "output_type": "stream",
     "text": [
      "2025-02-23 13:03:29,387 - INFO - ------------ auroc-BEST model - auroc: 0.9408 ------------\n"
     ]
    },
    {
     "name": "stdout",
     "output_type": "stream",
     "text": [
      "Fold 2, mse = 46.3359, mad = 4.8757\n"
     ]
    },
    {
     "name": "stderr",
     "output_type": "stream",
     "text": [
      "2025-02-23 13:03:29,388 - INFO - Fold 2, mse = 46.3359, mad = 4.8757\n",
      "/home/zzj/anaconda3/envs/distcare/lib/python3.7/site-packages/torch/nn/functional.py:1960: UserWarning: nn.functional.sigmoid is deprecated. Use torch.sigmoid instead.\n",
      "  warnings.warn(\"nn.functional.sigmoid is deprecated. Use torch.sigmoid instead.\")\n",
      "2025-02-23 13:03:29,571 - INFO - Fold 2 Epoch 4 Batch 0: Train Loss = 1.9296\n"
     ]
    },
    {
     "name": "stdout",
     "output_type": "stream",
     "text": [
      "Fold 2 Epoch 4 Batch 0: Train Loss = 1.9296\n",
      "{'mad': 4.761636742114504, 'mse': 45.237529506574795, 'mape': 518.073875031497, 'kappa': 0.2832369942196532}\n",
      "------------ Save FOLD-BEST model - MSE: 45.2375 ------------\n"
     ]
    },
    {
     "name": "stderr",
     "output_type": "stream",
     "text": [
      "2025-02-23 13:03:30,507 - INFO - ------------ Save FOLD-BEST model - MSE: 45.2375 ------------\n"
     ]
    },
    {
     "name": "stdout",
     "output_type": "stream",
     "text": [
      "Custom bins confusion matrix:\n",
      "[[ 98  98   0]\n",
      " [ 25 106   0]\n",
      " [  0   1   0]]\n",
      "Mean absolute deviation (MAD) = 4.761636742114504\n",
      "Mean squared error (MSE) = 45.237529506574795\n",
      "Mean absolute percentage error (MAPE) = 518.073875031497\n",
      "Cohen kappa score = 0.2832369942196532\n",
      "------------ auroc-BEST model - auroc: 0.9448 ------------\n"
     ]
    },
    {
     "name": "stderr",
     "output_type": "stream",
     "text": [
      "2025-02-23 13:03:30,647 - INFO - ------------ auroc-BEST model - auroc: 0.9448 ------------\n"
     ]
    },
    {
     "name": "stdout",
     "output_type": "stream",
     "text": [
      "Fold 2, mse = 45.2375, mad = 4.7616\n"
     ]
    },
    {
     "name": "stderr",
     "output_type": "stream",
     "text": [
      "2025-02-23 13:03:30,651 - INFO - Fold 2, mse = 45.2375, mad = 4.7616\n",
      "/home/zzj/anaconda3/envs/distcare/lib/python3.7/site-packages/torch/nn/functional.py:1960: UserWarning: nn.functional.sigmoid is deprecated. Use torch.sigmoid instead.\n",
      "  warnings.warn(\"nn.functional.sigmoid is deprecated. Use torch.sigmoid instead.\")\n",
      "2025-02-23 13:03:30,867 - INFO - Fold 2 Epoch 5 Batch 0: Train Loss = 2.2830\n"
     ]
    },
    {
     "name": "stdout",
     "output_type": "stream",
     "text": [
      "Fold 2 Epoch 5 Batch 0: Train Loss = 2.2830\n",
      "{'mad': 4.800624206124941, 'mse': 44.9088121796789, 'mape': 548.669198524869, 'kappa': 0.28964649993013836}\n",
      "------------ Save FOLD-BEST model - MSE: 44.9088 ------------\n"
     ]
    },
    {
     "name": "stderr",
     "output_type": "stream",
     "text": [
      "2025-02-23 13:03:31,894 - INFO - ------------ Save FOLD-BEST model - MSE: 44.9088 ------------\n"
     ]
    },
    {
     "name": "stdout",
     "output_type": "stream",
     "text": [
      "Custom bins confusion matrix:\n",
      "[[ 94 102   0]\n",
      " [ 21 110   0]\n",
      " [  0   1   0]]\n",
      "Mean absolute deviation (MAD) = 4.800624206124941\n",
      "Mean squared error (MSE) = 44.9088121796789\n",
      "Mean absolute percentage error (MAPE) = 548.669198524869\n",
      "Cohen kappa score = 0.28964649993013836\n",
      "------------ auroc-BEST model - auroc: 0.9473 ------------\n"
     ]
    },
    {
     "name": "stderr",
     "output_type": "stream",
     "text": [
      "2025-02-23 13:03:32,013 - INFO - ------------ auroc-BEST model - auroc: 0.9473 ------------\n"
     ]
    },
    {
     "name": "stdout",
     "output_type": "stream",
     "text": [
      "Fold 2, mse = 44.9088, mad = 4.8006\n"
     ]
    },
    {
     "name": "stderr",
     "output_type": "stream",
     "text": [
      "2025-02-23 13:03:32,015 - INFO - Fold 2, mse = 44.9088, mad = 4.8006\n",
      "/home/zzj/anaconda3/envs/distcare/lib/python3.7/site-packages/torch/nn/functional.py:1960: UserWarning: nn.functional.sigmoid is deprecated. Use torch.sigmoid instead.\n",
      "  warnings.warn(\"nn.functional.sigmoid is deprecated. Use torch.sigmoid instead.\")\n",
      "2025-02-23 13:03:32,185 - INFO - Fold 2 Epoch 6 Batch 0: Train Loss = 1.8599\n"
     ]
    },
    {
     "name": "stdout",
     "output_type": "stream",
     "text": [
      "Fold 2 Epoch 6 Batch 0: Train Loss = 1.8599\n",
      "{'mad': 4.790049248745741, 'mse': 44.220141472055374, 'mape': 558.5167729257488, 'kappa': 0.29141492201770414}\n",
      "------------ Save FOLD-BEST model - MSE: 44.2201 ------------\n"
     ]
    },
    {
     "name": "stderr",
     "output_type": "stream",
     "text": [
      "2025-02-23 13:03:33,099 - INFO - ------------ Save FOLD-BEST model - MSE: 44.2201 ------------\n"
     ]
    },
    {
     "name": "stdout",
     "output_type": "stream",
     "text": [
      "Custom bins confusion matrix:\n",
      "[[ 97  99   0]\n",
      " [ 23 108   0]\n",
      " [  0   1   0]]\n",
      "Mean absolute deviation (MAD) = 4.790049248745741\n",
      "Mean squared error (MSE) = 44.220141472055374\n",
      "Mean absolute percentage error (MAPE) = 558.5167729257488\n",
      "Cohen kappa score = 0.29141492201770414\n",
      "------------ auroc-BEST model - auroc: 0.9480 ------------\n"
     ]
    },
    {
     "name": "stderr",
     "output_type": "stream",
     "text": [
      "2025-02-23 13:03:33,216 - INFO - ------------ auroc-BEST model - auroc: 0.9480 ------------\n"
     ]
    },
    {
     "name": "stdout",
     "output_type": "stream",
     "text": [
      "Fold 2, mse = 44.2201, mad = 4.7900\n"
     ]
    },
    {
     "name": "stderr",
     "output_type": "stream",
     "text": [
      "2025-02-23 13:03:33,218 - INFO - Fold 2, mse = 44.2201, mad = 4.7900\n",
      "/home/zzj/anaconda3/envs/distcare/lib/python3.7/site-packages/torch/nn/functional.py:1960: UserWarning: nn.functional.sigmoid is deprecated. Use torch.sigmoid instead.\n",
      "  warnings.warn(\"nn.functional.sigmoid is deprecated. Use torch.sigmoid instead.\")\n",
      "2025-02-23 13:03:33,407 - INFO - Fold 2 Epoch 7 Batch 0: Train Loss = 1.7309\n"
     ]
    },
    {
     "name": "stdout",
     "output_type": "stream",
     "text": [
      "Fold 2 Epoch 7 Batch 0: Train Loss = 1.7309\n",
      "{'mad': 4.665170249750254, 'mse': 44.16335633916554, 'mape': 502.30124368186245, 'kappa': 0.3309747292418773}\n",
      "------------ Save FOLD-BEST model - MSE: 44.1634 ------------\n"
     ]
    },
    {
     "name": "stderr",
     "output_type": "stream",
     "text": [
      "2025-02-23 13:03:34,389 - INFO - ------------ Save FOLD-BEST model - MSE: 44.1634 ------------\n"
     ]
    },
    {
     "name": "stdout",
     "output_type": "stream",
     "text": [
      "Custom bins confusion matrix:\n",
      "[[114  82   0]\n",
      " [ 30 101   0]\n",
      " [  0   1   0]]\n",
      "Mean absolute deviation (MAD) = 4.665170249750254\n",
      "Mean squared error (MSE) = 44.16335633916554\n",
      "Mean absolute percentage error (MAPE) = 502.30124368186245\n",
      "Cohen kappa score = 0.3309747292418773\n",
      "------------ auroc-BEST model - auroc: 0.9509 ------------\n"
     ]
    },
    {
     "name": "stderr",
     "output_type": "stream",
     "text": [
      "2025-02-23 13:03:34,509 - INFO - ------------ auroc-BEST model - auroc: 0.9509 ------------\n"
     ]
    },
    {
     "name": "stdout",
     "output_type": "stream",
     "text": [
      "Fold 2, mse = 44.1634, mad = 4.6652\n"
     ]
    },
    {
     "name": "stderr",
     "output_type": "stream",
     "text": [
      "2025-02-23 13:03:34,511 - INFO - Fold 2, mse = 44.1634, mad = 4.6652\n",
      "/home/zzj/anaconda3/envs/distcare/lib/python3.7/site-packages/torch/nn/functional.py:1960: UserWarning: nn.functional.sigmoid is deprecated. Use torch.sigmoid instead.\n",
      "  warnings.warn(\"nn.functional.sigmoid is deprecated. Use torch.sigmoid instead.\")\n",
      "2025-02-23 13:03:34,670 - INFO - Fold 2 Epoch 8 Batch 0: Train Loss = 1.6734\n"
     ]
    },
    {
     "name": "stdout",
     "output_type": "stream",
     "text": [
      "Fold 2 Epoch 8 Batch 0: Train Loss = 1.6734\n",
      "{'mad': 5.070535002167497, 'mse': 46.52651749034942, 'mape': 617.7487621905359, 'kappa': 0.22367524860373256}\n",
      "------------ auroc-BEST model - auroc: 0.9555 ------------\n"
     ]
    },
    {
     "name": "stderr",
     "output_type": "stream",
     "text": [
      "2025-02-23 13:03:35,556 - INFO - ------------ auroc-BEST model - auroc: 0.9555 ------------\n"
     ]
    },
    {
     "name": "stdout",
     "output_type": "stream",
     "text": [
      "Fold 2, mse = 46.5265, mad = 5.0705\n"
     ]
    },
    {
     "name": "stderr",
     "output_type": "stream",
     "text": [
      "2025-02-23 13:03:35,558 - INFO - Fold 2, mse = 46.5265, mad = 5.0705\n",
      "/home/zzj/anaconda3/envs/distcare/lib/python3.7/site-packages/torch/nn/functional.py:1960: UserWarning: nn.functional.sigmoid is deprecated. Use torch.sigmoid instead.\n",
      "  warnings.warn(\"nn.functional.sigmoid is deprecated. Use torch.sigmoid instead.\")\n",
      "2025-02-23 13:03:35,725 - INFO - Fold 2 Epoch 9 Batch 0: Train Loss = 1.7177\n"
     ]
    },
    {
     "name": "stdout",
     "output_type": "stream",
     "text": [
      "Fold 2 Epoch 9 Batch 0: Train Loss = 1.7177\n",
      "{'mad': 4.886279859529746, 'mse': 45.260383898664436, 'mape': 564.1420780913413, 'kappa': 0.24381724186111497}\n",
      "------------ auroc-BEST model - auroc: 0.9594 ------------\n"
     ]
    },
    {
     "name": "stderr",
     "output_type": "stream",
     "text": [
      "2025-02-23 13:03:36,651 - INFO - ------------ auroc-BEST model - auroc: 0.9594 ------------\n"
     ]
    },
    {
     "name": "stdout",
     "output_type": "stream",
     "text": [
      "Fold 2, mse = 45.2604, mad = 4.8863\n"
     ]
    },
    {
     "name": "stderr",
     "output_type": "stream",
     "text": [
      "2025-02-23 13:03:36,653 - INFO - Fold 2, mse = 45.2604, mad = 4.8863\n",
      "/home/zzj/anaconda3/envs/distcare/lib/python3.7/site-packages/torch/nn/functional.py:1960: UserWarning: nn.functional.sigmoid is deprecated. Use torch.sigmoid instead.\n",
      "  warnings.warn(\"nn.functional.sigmoid is deprecated. Use torch.sigmoid instead.\")\n",
      "2025-02-23 13:03:36,820 - INFO - Fold 2 Epoch 10 Batch 0: Train Loss = 1.5157\n"
     ]
    },
    {
     "name": "stdout",
     "output_type": "stream",
     "text": [
      "Fold 2 Epoch 10 Batch 0: Train Loss = 1.5157\n",
      "{'mad': 4.685797548321869, 'mse': 45.01822623219738, 'mape': 481.1935294601293, 'kappa': 0.329425387176147}\n",
      "Fold 2, epoch 10: Loss = 1.4855 Valid loss = 1.7100 MSE = 45.0182 AUROC = 0.9628\n"
     ]
    },
    {
     "name": "stderr",
     "output_type": "stream",
     "text": [
      "2025-02-23 13:03:37,735 - INFO - Fold 2, epoch 10: Loss = 1.4855 Valid loss = 1.7100 MSE = 45.0182 AUROC = 0.9628\n"
     ]
    },
    {
     "name": "stdout",
     "output_type": "stream",
     "text": [
      "------------ auroc-BEST model - auroc: 0.9628 ------------\n"
     ]
    },
    {
     "name": "stderr",
     "output_type": "stream",
     "text": [
      "2025-02-23 13:03:37,737 - INFO - ------------ auroc-BEST model - auroc: 0.9628 ------------\n"
     ]
    },
    {
     "name": "stdout",
     "output_type": "stream",
     "text": [
      "Fold 2, mse = 45.0182, mad = 4.6858\n"
     ]
    },
    {
     "name": "stderr",
     "output_type": "stream",
     "text": [
      "2025-02-23 13:03:37,739 - INFO - Fold 2, mse = 45.0182, mad = 4.6858\n",
      "/home/zzj/anaconda3/envs/distcare/lib/python3.7/site-packages/torch/nn/functional.py:1960: UserWarning: nn.functional.sigmoid is deprecated. Use torch.sigmoid instead.\n",
      "  warnings.warn(\"nn.functional.sigmoid is deprecated. Use torch.sigmoid instead.\")\n",
      "2025-02-23 13:03:37,887 - INFO - Fold 2 Epoch 11 Batch 0: Train Loss = 1.4673\n"
     ]
    },
    {
     "name": "stdout",
     "output_type": "stream",
     "text": [
      "Fold 2 Epoch 11 Batch 0: Train Loss = 1.4673\n",
      "{'mad': 4.782339039750537, 'mse': 44.855501002143875, 'mape': 509.43500677830133, 'kappa': 0.2867531726793099}\n",
      "------------ auroc-BEST model - auroc: 0.9632 ------------\n"
     ]
    },
    {
     "name": "stderr",
     "output_type": "stream",
     "text": [
      "2025-02-23 13:03:38,727 - INFO - ------------ auroc-BEST model - auroc: 0.9632 ------------\n"
     ]
    },
    {
     "name": "stdout",
     "output_type": "stream",
     "text": [
      "Fold 2, mse = 44.8555, mad = 4.7823\n"
     ]
    },
    {
     "name": "stderr",
     "output_type": "stream",
     "text": [
      "2025-02-23 13:03:38,729 - INFO - Fold 2, mse = 44.8555, mad = 4.7823\n",
      "/home/zzj/anaconda3/envs/distcare/lib/python3.7/site-packages/torch/nn/functional.py:1960: UserWarning: nn.functional.sigmoid is deprecated. Use torch.sigmoid instead.\n",
      "  warnings.warn(\"nn.functional.sigmoid is deprecated. Use torch.sigmoid instead.\")\n",
      "2025-02-23 13:03:38,921 - INFO - Fold 2 Epoch 12 Batch 0: Train Loss = 1.3324\n"
     ]
    },
    {
     "name": "stdout",
     "output_type": "stream",
     "text": [
      "Fold 2 Epoch 12 Batch 0: Train Loss = 1.3324\n",
      "{'mad': 5.202669798533159, 'mse': 47.41854380415357, 'mape': 603.114334896957, 'kappa': 0.2120796156485929}\n",
      "------------ auroc-BEST model - auroc: 0.9676 ------------\n"
     ]
    },
    {
     "name": "stderr",
     "output_type": "stream",
     "text": [
      "2025-02-23 13:03:39,817 - INFO - ------------ auroc-BEST model - auroc: 0.9676 ------------\n"
     ]
    },
    {
     "name": "stdout",
     "output_type": "stream",
     "text": [
      "Fold 2, mse = 47.4185, mad = 5.2027\n"
     ]
    },
    {
     "name": "stderr",
     "output_type": "stream",
     "text": [
      "2025-02-23 13:03:39,818 - INFO - Fold 2, mse = 47.4185, mad = 5.2027\n",
      "/home/zzj/anaconda3/envs/distcare/lib/python3.7/site-packages/torch/nn/functional.py:1960: UserWarning: nn.functional.sigmoid is deprecated. Use torch.sigmoid instead.\n",
      "  warnings.warn(\"nn.functional.sigmoid is deprecated. Use torch.sigmoid instead.\")\n",
      "2025-02-23 13:03:39,979 - INFO - Fold 2 Epoch 13 Batch 0: Train Loss = 1.4802\n"
     ]
    },
    {
     "name": "stdout",
     "output_type": "stream",
     "text": [
      "Fold 2 Epoch 13 Batch 0: Train Loss = 1.4802\n",
      "{'mad': 4.876932408395374, 'mse': 45.69865839634392, 'mape': 523.5040870256659, 'kappa': 0.281616504168433}\n",
      "------------ auroc-BEST model - auroc: 0.9725 ------------\n"
     ]
    },
    {
     "name": "stderr",
     "output_type": "stream",
     "text": [
      "2025-02-23 13:03:40,893 - INFO - ------------ auroc-BEST model - auroc: 0.9725 ------------\n"
     ]
    },
    {
     "name": "stdout",
     "output_type": "stream",
     "text": [
      "Fold 2, mse = 45.6987, mad = 4.8769\n"
     ]
    },
    {
     "name": "stderr",
     "output_type": "stream",
     "text": [
      "2025-02-23 13:03:40,894 - INFO - Fold 2, mse = 45.6987, mad = 4.8769\n",
      "/home/zzj/anaconda3/envs/distcare/lib/python3.7/site-packages/torch/nn/functional.py:1960: UserWarning: nn.functional.sigmoid is deprecated. Use torch.sigmoid instead.\n",
      "  warnings.warn(\"nn.functional.sigmoid is deprecated. Use torch.sigmoid instead.\")\n",
      "2025-02-23 13:03:41,062 - INFO - Fold 2 Epoch 14 Batch 0: Train Loss = 1.2885\n"
     ]
    },
    {
     "name": "stdout",
     "output_type": "stream",
     "text": [
      "Fold 2 Epoch 14 Batch 0: Train Loss = 1.2885\n",
      "{'mad': 4.917198884572745, 'mse': 45.34507309731063, 'mape': 528.7987659226587, 'kappa': 0.2683755841948734}\n",
      "------------ auroc-BEST model - auroc: 0.9735 ------------\n"
     ]
    },
    {
     "name": "stderr",
     "output_type": "stream",
     "text": [
      "2025-02-23 13:03:42,030 - INFO - ------------ auroc-BEST model - auroc: 0.9735 ------------\n"
     ]
    },
    {
     "name": "stdout",
     "output_type": "stream",
     "text": [
      "Fold 2, mse = 45.3451, mad = 4.9172\n"
     ]
    },
    {
     "name": "stderr",
     "output_type": "stream",
     "text": [
      "2025-02-23 13:03:42,032 - INFO - Fold 2, mse = 45.3451, mad = 4.9172\n",
      "/home/zzj/anaconda3/envs/distcare/lib/python3.7/site-packages/torch/nn/functional.py:1960: UserWarning: nn.functional.sigmoid is deprecated. Use torch.sigmoid instead.\n",
      "  warnings.warn(\"nn.functional.sigmoid is deprecated. Use torch.sigmoid instead.\")\n",
      "2025-02-23 13:03:42,216 - INFO - Fold 2 Epoch 15 Batch 0: Train Loss = 1.5031\n"
     ]
    },
    {
     "name": "stdout",
     "output_type": "stream",
     "text": [
      "Fold 2 Epoch 15 Batch 0: Train Loss = 1.5031\n",
      "{'mad': 4.865407310197911, 'mse': 45.59004837267566, 'mape': 501.7897412020684, 'kappa': 0.26838394013527134}\n",
      "------------ auroc-BEST model - auroc: 0.9760 ------------\n"
     ]
    },
    {
     "name": "stderr",
     "output_type": "stream",
     "text": [
      "2025-02-23 13:03:43,270 - INFO - ------------ auroc-BEST model - auroc: 0.9760 ------------\n"
     ]
    },
    {
     "name": "stdout",
     "output_type": "stream",
     "text": [
      "Fold 2, mse = 45.5900, mad = 4.8654\n"
     ]
    },
    {
     "name": "stderr",
     "output_type": "stream",
     "text": [
      "2025-02-23 13:03:43,273 - INFO - Fold 2, mse = 45.5900, mad = 4.8654\n",
      "/home/zzj/anaconda3/envs/distcare/lib/python3.7/site-packages/torch/nn/functional.py:1960: UserWarning: nn.functional.sigmoid is deprecated. Use torch.sigmoid instead.\n",
      "  warnings.warn(\"nn.functional.sigmoid is deprecated. Use torch.sigmoid instead.\")\n",
      "2025-02-23 13:03:43,483 - INFO - Fold 2 Epoch 16 Batch 0: Train Loss = 1.2119\n"
     ]
    },
    {
     "name": "stdout",
     "output_type": "stream",
     "text": [
      "Fold 2 Epoch 16 Batch 0: Train Loss = 1.2119\n",
      "{'mad': 4.748596304360924, 'mse': 44.76194856690683, 'mape': 478.15279418523477, 'kappa': 0.28195107830366184}\n",
      "Fold 2, mse = 44.7619, mad = 4.7486\n"
     ]
    },
    {
     "name": "stderr",
     "output_type": "stream",
     "text": [
      "2025-02-23 13:03:44,583 - INFO - Fold 2, mse = 44.7619, mad = 4.7486\n",
      "/home/zzj/anaconda3/envs/distcare/lib/python3.7/site-packages/torch/nn/functional.py:1960: UserWarning: nn.functional.sigmoid is deprecated. Use torch.sigmoid instead.\n",
      "  warnings.warn(\"nn.functional.sigmoid is deprecated. Use torch.sigmoid instead.\")\n",
      "2025-02-23 13:03:44,790 - INFO - Fold 2 Epoch 17 Batch 0: Train Loss = 1.1925\n"
     ]
    },
    {
     "name": "stdout",
     "output_type": "stream",
     "text": [
      "Fold 2 Epoch 17 Batch 0: Train Loss = 1.1925\n",
      "{'mad': 4.8515561597356305, 'mse': 44.891929697036744, 'mape': 504.2613587326625, 'kappa': 0.29381965552178313}\n",
      "Fold 2, mse = 44.8919, mad = 4.8516\n"
     ]
    },
    {
     "name": "stderr",
     "output_type": "stream",
     "text": [
      "2025-02-23 13:03:45,910 - INFO - Fold 2, mse = 44.8919, mad = 4.8516\n",
      "/home/zzj/anaconda3/envs/distcare/lib/python3.7/site-packages/torch/nn/functional.py:1960: UserWarning: nn.functional.sigmoid is deprecated. Use torch.sigmoid instead.\n",
      "  warnings.warn(\"nn.functional.sigmoid is deprecated. Use torch.sigmoid instead.\")\n",
      "2025-02-23 13:03:46,090 - INFO - Fold 2 Epoch 18 Batch 0: Train Loss = 1.2707\n"
     ]
    },
    {
     "name": "stdout",
     "output_type": "stream",
     "text": [
      "Fold 2 Epoch 18 Batch 0: Train Loss = 1.2707\n",
      "{'mad': 5.2831098733615685, 'mse': 47.85030377799577, 'mape': 606.5867639141986, 'kappa': 0.1907522429261559}\n",
      "Fold 2, mse = 47.8503, mad = 5.2831\n"
     ]
    },
    {
     "name": "stderr",
     "output_type": "stream",
     "text": [
      "2025-02-23 13:03:47,163 - INFO - Fold 2, mse = 47.8503, mad = 5.2831\n",
      "/home/zzj/anaconda3/envs/distcare/lib/python3.7/site-packages/torch/nn/functional.py:1960: UserWarning: nn.functional.sigmoid is deprecated. Use torch.sigmoid instead.\n",
      "  warnings.warn(\"nn.functional.sigmoid is deprecated. Use torch.sigmoid instead.\")\n",
      "2025-02-23 13:03:47,342 - INFO - Fold 2 Epoch 19 Batch 0: Train Loss = 1.1385\n"
     ]
    },
    {
     "name": "stdout",
     "output_type": "stream",
     "text": [
      "Fold 2 Epoch 19 Batch 0: Train Loss = 1.1385\n",
      "{'mad': 4.877032254460479, 'mse': 44.923813799065435, 'mape': 504.219789402018, 'kappa': 0.2549720990127343}\n",
      "Fold 2, mse = 44.9238, mad = 4.8770\n"
     ]
    },
    {
     "name": "stderr",
     "output_type": "stream",
     "text": [
      "2025-02-23 13:03:48,313 - INFO - Fold 2, mse = 44.9238, mad = 4.8770\n",
      "/home/zzj/anaconda3/envs/distcare/lib/python3.7/site-packages/torch/nn/functional.py:1960: UserWarning: nn.functional.sigmoid is deprecated. Use torch.sigmoid instead.\n",
      "  warnings.warn(\"nn.functional.sigmoid is deprecated. Use torch.sigmoid instead.\")\n",
      "2025-02-23 13:03:48,518 - INFO - Fold 2 Epoch 20 Batch 0: Train Loss = 1.0359\n"
     ]
    },
    {
     "name": "stdout",
     "output_type": "stream",
     "text": [
      "Fold 2 Epoch 20 Batch 0: Train Loss = 1.0359\n",
      "{'mad': 4.798014333252858, 'mse': 43.69622500957966, 'mape': 479.986414867267, 'kappa': 0.2666955142074138}\n",
      "Fold 2, epoch 20: Loss = 1.0907 Valid loss = 1.6683 MSE = 43.6962 AUROC = 0.9728\n"
     ]
    },
    {
     "name": "stderr",
     "output_type": "stream",
     "text": [
      "2025-02-23 13:03:49,769 - INFO - Fold 2, epoch 20: Loss = 1.0907 Valid loss = 1.6683 MSE = 43.6962 AUROC = 0.9728\n"
     ]
    },
    {
     "name": "stdout",
     "output_type": "stream",
     "text": [
      "------------ Save FOLD-BEST model - MSE: 43.6962 ------------\n"
     ]
    },
    {
     "name": "stderr",
     "output_type": "stream",
     "text": [
      "2025-02-23 13:03:49,770 - INFO - ------------ Save FOLD-BEST model - MSE: 43.6962 ------------\n"
     ]
    },
    {
     "name": "stdout",
     "output_type": "stream",
     "text": [
      "Custom bins confusion matrix:\n",
      "[[108  88   0]\n",
      " [ 35  96   0]\n",
      " [  0   1   0]]\n",
      "Mean absolute deviation (MAD) = 4.798014333252858\n",
      "Mean squared error (MSE) = 43.69622500957966\n",
      "Mean absolute percentage error (MAPE) = 479.986414867267\n",
      "Cohen kappa score = 0.2666955142074138\n",
      "Fold 2, mse = 43.6962, mad = 4.7980\n"
     ]
    },
    {
     "name": "stderr",
     "output_type": "stream",
     "text": [
      "2025-02-23 13:03:49,954 - INFO - Fold 2, mse = 43.6962, mad = 4.7980\n",
      "/home/zzj/anaconda3/envs/distcare/lib/python3.7/site-packages/torch/nn/functional.py:1960: UserWarning: nn.functional.sigmoid is deprecated. Use torch.sigmoid instead.\n",
      "  warnings.warn(\"nn.functional.sigmoid is deprecated. Use torch.sigmoid instead.\")\n",
      "2025-02-23 13:03:50,181 - INFO - Fold 2 Epoch 21 Batch 0: Train Loss = 1.1004\n"
     ]
    },
    {
     "name": "stdout",
     "output_type": "stream",
     "text": [
      "Fold 2 Epoch 21 Batch 0: Train Loss = 1.1004\n",
      "{'mad': 4.779478399471091, 'mse': 44.105241659649174, 'mape': 464.3507464688298, 'kappa': 0.29218047294356597}\n",
      "Fold 2, mse = 44.1052, mad = 4.7795\n"
     ]
    },
    {
     "name": "stderr",
     "output_type": "stream",
     "text": [
      "2025-02-23 13:03:51,280 - INFO - Fold 2, mse = 44.1052, mad = 4.7795\n",
      "/home/zzj/anaconda3/envs/distcare/lib/python3.7/site-packages/torch/nn/functional.py:1960: UserWarning: nn.functional.sigmoid is deprecated. Use torch.sigmoid instead.\n",
      "  warnings.warn(\"nn.functional.sigmoid is deprecated. Use torch.sigmoid instead.\")\n",
      "2025-02-23 13:03:51,459 - INFO - Fold 2 Epoch 22 Batch 0: Train Loss = 0.8741\n"
     ]
    },
    {
     "name": "stdout",
     "output_type": "stream",
     "text": [
      "Fold 2 Epoch 22 Batch 0: Train Loss = 0.8741\n",
      "{'mad': 5.060757195578513, 'mse': 46.097239566084085, 'mape': 541.5665138295085, 'kappa': 0.2219232403342304}\n",
      "Fold 2, mse = 46.0972, mad = 5.0608\n"
     ]
    },
    {
     "name": "stderr",
     "output_type": "stream",
     "text": [
      "2025-02-23 13:03:52,440 - INFO - Fold 2, mse = 46.0972, mad = 5.0608\n",
      "/home/zzj/anaconda3/envs/distcare/lib/python3.7/site-packages/torch/nn/functional.py:1960: UserWarning: nn.functional.sigmoid is deprecated. Use torch.sigmoid instead.\n",
      "  warnings.warn(\"nn.functional.sigmoid is deprecated. Use torch.sigmoid instead.\")\n",
      "2025-02-23 13:03:52,609 - INFO - Fold 2 Epoch 23 Batch 0: Train Loss = 1.0781\n"
     ]
    },
    {
     "name": "stdout",
     "output_type": "stream",
     "text": [
      "Fold 2 Epoch 23 Batch 0: Train Loss = 1.0781\n",
      "{'mad': 5.25936284521668, 'mse': 47.537501961848335, 'mape': 582.7711045472416, 'kappa': 0.15404990938240615}\n",
      "Fold 2, mse = 47.5375, mad = 5.2594\n"
     ]
    },
    {
     "name": "stderr",
     "output_type": "stream",
     "text": [
      "2025-02-23 13:03:53,555 - INFO - Fold 2, mse = 47.5375, mad = 5.2594\n",
      "/home/zzj/anaconda3/envs/distcare/lib/python3.7/site-packages/torch/nn/functional.py:1960: UserWarning: nn.functional.sigmoid is deprecated. Use torch.sigmoid instead.\n",
      "  warnings.warn(\"nn.functional.sigmoid is deprecated. Use torch.sigmoid instead.\")\n",
      "2025-02-23 13:03:53,737 - INFO - Fold 2 Epoch 24 Batch 0: Train Loss = 1.0273\n"
     ]
    },
    {
     "name": "stdout",
     "output_type": "stream",
     "text": [
      "Fold 2 Epoch 24 Batch 0: Train Loss = 1.0273\n",
      "{'mad': 5.027135251818915, 'mse': 46.0331882934821, 'mape': 534.2952198259046, 'kappa': 0.24496788008565307}\n",
      "Fold 2, mse = 46.0332, mad = 5.0271\n"
     ]
    },
    {
     "name": "stderr",
     "output_type": "stream",
     "text": [
      "2025-02-23 13:03:54,676 - INFO - Fold 2, mse = 46.0332, mad = 5.0271\n",
      "/home/zzj/anaconda3/envs/distcare/lib/python3.7/site-packages/torch/nn/functional.py:1960: UserWarning: nn.functional.sigmoid is deprecated. Use torch.sigmoid instead.\n",
      "  warnings.warn(\"nn.functional.sigmoid is deprecated. Use torch.sigmoid instead.\")\n",
      "2025-02-23 13:03:54,835 - INFO - Fold 2 Epoch 25 Batch 0: Train Loss = 1.0908\n"
     ]
    },
    {
     "name": "stdout",
     "output_type": "stream",
     "text": [
      "Fold 2 Epoch 25 Batch 0: Train Loss = 1.0908\n",
      "{'mad': 5.00223775191429, 'mse': 45.710299759433425, 'mape': 526.6632889598077, 'kappa': 0.25667380442541043}\n",
      "------------ auroc-BEST model - auroc: 0.9770 ------------\n"
     ]
    },
    {
     "name": "stderr",
     "output_type": "stream",
     "text": [
      "2025-02-23 13:03:55,707 - INFO - ------------ auroc-BEST model - auroc: 0.9770 ------------\n"
     ]
    },
    {
     "name": "stdout",
     "output_type": "stream",
     "text": [
      "Fold 2, mse = 45.7103, mad = 5.0022\n"
     ]
    },
    {
     "name": "stderr",
     "output_type": "stream",
     "text": [
      "2025-02-23 13:03:55,709 - INFO - Fold 2, mse = 45.7103, mad = 5.0022\n",
      "/home/zzj/anaconda3/envs/distcare/lib/python3.7/site-packages/torch/nn/functional.py:1960: UserWarning: nn.functional.sigmoid is deprecated. Use torch.sigmoid instead.\n",
      "  warnings.warn(\"nn.functional.sigmoid is deprecated. Use torch.sigmoid instead.\")\n",
      "2025-02-23 13:03:55,866 - INFO - Fold 2 Epoch 26 Batch 0: Train Loss = 0.9517\n"
     ]
    },
    {
     "name": "stdout",
     "output_type": "stream",
     "text": [
      "Fold 2 Epoch 26 Batch 0: Train Loss = 0.9517\n",
      "{'mad': 4.9181909864275255, 'mse': 44.75644780705737, 'mape': 497.70988673611276, 'kappa': 0.27511858559724023}\n",
      "Fold 2, mse = 44.7564, mad = 4.9182\n"
     ]
    },
    {
     "name": "stderr",
     "output_type": "stream",
     "text": [
      "2025-02-23 13:03:56,794 - INFO - Fold 2, mse = 44.7564, mad = 4.9182\n",
      "/home/zzj/anaconda3/envs/distcare/lib/python3.7/site-packages/torch/nn/functional.py:1960: UserWarning: nn.functional.sigmoid is deprecated. Use torch.sigmoid instead.\n",
      "  warnings.warn(\"nn.functional.sigmoid is deprecated. Use torch.sigmoid instead.\")\n",
      "2025-02-23 13:03:56,973 - INFO - Fold 2 Epoch 27 Batch 0: Train Loss = 1.1425\n"
     ]
    },
    {
     "name": "stdout",
     "output_type": "stream",
     "text": [
      "Fold 2 Epoch 27 Batch 0: Train Loss = 1.1425\n",
      "{'mad': 5.087410396636356, 'mse': 46.45957226929977, 'mape': 531.5220671064268, 'kappa': 0.24840130737530197}\n",
      "Fold 2, mse = 46.4596, mad = 5.0874\n"
     ]
    },
    {
     "name": "stderr",
     "output_type": "stream",
     "text": [
      "2025-02-23 13:03:58,006 - INFO - Fold 2, mse = 46.4596, mad = 5.0874\n",
      "/home/zzj/anaconda3/envs/distcare/lib/python3.7/site-packages/torch/nn/functional.py:1960: UserWarning: nn.functional.sigmoid is deprecated. Use torch.sigmoid instead.\n",
      "  warnings.warn(\"nn.functional.sigmoid is deprecated. Use torch.sigmoid instead.\")\n",
      "2025-02-23 13:03:58,212 - INFO - Fold 2 Epoch 28 Batch 0: Train Loss = 1.0089\n"
     ]
    },
    {
     "name": "stdout",
     "output_type": "stream",
     "text": [
      "Fold 2 Epoch 28 Batch 0: Train Loss = 1.0089\n",
      "{'mad': 5.194765435590558, 'mse': 47.3161975836321, 'mape': 550.1367703370001, 'kappa': 0.23034580098800284}\n",
      "Fold 2, mse = 47.3162, mad = 5.1948\n"
     ]
    },
    {
     "name": "stderr",
     "output_type": "stream",
     "text": [
      "2025-02-23 13:03:59,153 - INFO - Fold 2, mse = 47.3162, mad = 5.1948\n",
      "/home/zzj/anaconda3/envs/distcare/lib/python3.7/site-packages/torch/nn/functional.py:1960: UserWarning: nn.functional.sigmoid is deprecated. Use torch.sigmoid instead.\n",
      "  warnings.warn(\"nn.functional.sigmoid is deprecated. Use torch.sigmoid instead.\")\n",
      "2025-02-23 13:03:59,302 - INFO - Fold 2 Epoch 29 Batch 0: Train Loss = 0.9429\n"
     ]
    },
    {
     "name": "stdout",
     "output_type": "stream",
     "text": [
      "Fold 2 Epoch 29 Batch 0: Train Loss = 0.9429\n",
      "{'mad': 5.001958536644899, 'mse': 45.74934615003559, 'mape': 506.6892558293522, 'kappa': 0.26168357867657566}\n",
      "Fold 2, mse = 45.7493, mad = 5.0020\n"
     ]
    },
    {
     "name": "stderr",
     "output_type": "stream",
     "text": [
      "2025-02-23 13:04:00,216 - INFO - Fold 2, mse = 45.7493, mad = 5.0020\n",
      "/home/zzj/anaconda3/envs/distcare/lib/python3.7/site-packages/torch/nn/functional.py:1960: UserWarning: nn.functional.sigmoid is deprecated. Use torch.sigmoid instead.\n",
      "  warnings.warn(\"nn.functional.sigmoid is deprecated. Use torch.sigmoid instead.\")\n",
      "2025-02-23 13:04:00,401 - INFO - Fold 2 Epoch 30 Batch 0: Train Loss = 0.9334\n"
     ]
    },
    {
     "name": "stdout",
     "output_type": "stream",
     "text": [
      "Fold 2 Epoch 30 Batch 0: Train Loss = 0.9334\n",
      "{'mad': 4.8926216616695815, 'mse': 44.71000692234107, 'mape': 486.29266029923406, 'kappa': 0.28361010830324906}\n",
      "Fold 2, epoch 30: Loss = 0.9274 Valid loss = 1.7027 MSE = 44.7100 AUROC = 0.9734\n"
     ]
    },
    {
     "name": "stderr",
     "output_type": "stream",
     "text": [
      "2025-02-23 13:04:01,322 - INFO - Fold 2, epoch 30: Loss = 0.9274 Valid loss = 1.7027 MSE = 44.7100 AUROC = 0.9734\n"
     ]
    },
    {
     "name": "stdout",
     "output_type": "stream",
     "text": [
      "Fold 2, mse = 44.7100, mad = 4.8926\n"
     ]
    },
    {
     "name": "stderr",
     "output_type": "stream",
     "text": [
      "2025-02-23 13:04:01,324 - INFO - Fold 2, mse = 44.7100, mad = 4.8926\n",
      "/home/zzj/anaconda3/envs/distcare/lib/python3.7/site-packages/torch/nn/functional.py:1960: UserWarning: nn.functional.sigmoid is deprecated. Use torch.sigmoid instead.\n",
      "  warnings.warn(\"nn.functional.sigmoid is deprecated. Use torch.sigmoid instead.\")\n",
      "2025-02-23 13:04:01,490 - INFO - Fold 2 Epoch 31 Batch 0: Train Loss = 0.8940\n"
     ]
    },
    {
     "name": "stdout",
     "output_type": "stream",
     "text": [
      "Fold 2 Epoch 31 Batch 0: Train Loss = 0.8940\n",
      "{'mad': 5.139999954641711, 'mse': 46.275048276624624, 'mape': 546.3436249887843, 'kappa': 0.22509592155748182}\n",
      "Fold 2, mse = 46.2750, mad = 5.1400\n"
     ]
    },
    {
     "name": "stderr",
     "output_type": "stream",
     "text": [
      "2025-02-23 13:04:02,382 - INFO - Fold 2, mse = 46.2750, mad = 5.1400\n",
      "/home/zzj/anaconda3/envs/distcare/lib/python3.7/site-packages/torch/nn/functional.py:1960: UserWarning: nn.functional.sigmoid is deprecated. Use torch.sigmoid instead.\n",
      "  warnings.warn(\"nn.functional.sigmoid is deprecated. Use torch.sigmoid instead.\")\n",
      "2025-02-23 13:04:02,565 - INFO - Fold 2 Epoch 32 Batch 0: Train Loss = 0.7946\n"
     ]
    },
    {
     "name": "stdout",
     "output_type": "stream",
     "text": [
      "Fold 2 Epoch 32 Batch 0: Train Loss = 0.7946\n",
      "{'mad': 5.392461705594672, 'mse': 49.519775700343274, 'mape': 581.7409318271856, 'kappa': 0.2174035087719297}\n",
      "Fold 2, mse = 49.5198, mad = 5.3925\n"
     ]
    },
    {
     "name": "stderr",
     "output_type": "stream",
     "text": [
      "2025-02-23 13:04:03,525 - INFO - Fold 2, mse = 49.5198, mad = 5.3925\n",
      "/home/zzj/anaconda3/envs/distcare/lib/python3.7/site-packages/torch/nn/functional.py:1960: UserWarning: nn.functional.sigmoid is deprecated. Use torch.sigmoid instead.\n",
      "  warnings.warn(\"nn.functional.sigmoid is deprecated. Use torch.sigmoid instead.\")\n",
      "2025-02-23 13:04:03,725 - INFO - Fold 2 Epoch 33 Batch 0: Train Loss = 0.7849\n"
     ]
    },
    {
     "name": "stdout",
     "output_type": "stream",
     "text": [
      "Fold 2 Epoch 33 Batch 0: Train Loss = 0.7849\n",
      "{'mad': 5.010996792797668, 'mse': 45.351844741019136, 'mape': 505.7868041086463, 'kappa': 0.2650222285960133}\n",
      "Fold 2, mse = 45.3518, mad = 5.0110\n"
     ]
    },
    {
     "name": "stderr",
     "output_type": "stream",
     "text": [
      "2025-02-23 13:04:04,641 - INFO - Fold 2, mse = 45.3518, mad = 5.0110\n",
      "/home/zzj/anaconda3/envs/distcare/lib/python3.7/site-packages/torch/nn/functional.py:1960: UserWarning: nn.functional.sigmoid is deprecated. Use torch.sigmoid instead.\n",
      "  warnings.warn(\"nn.functional.sigmoid is deprecated. Use torch.sigmoid instead.\")\n",
      "2025-02-23 13:04:04,793 - INFO - Fold 2 Epoch 34 Batch 0: Train Loss = 0.9361\n"
     ]
    },
    {
     "name": "stdout",
     "output_type": "stream",
     "text": [
      "Fold 2 Epoch 34 Batch 0: Train Loss = 0.9361\n",
      "{'mad': 4.705846576511679, 'mse': 42.68925896772803, 'mape': 420.8714942324515, 'kappa': 0.31879543094496376}\n",
      "------------ Save FOLD-BEST model - MSE: 42.6893 ------------\n"
     ]
    },
    {
     "name": "stderr",
     "output_type": "stream",
     "text": [
      "2025-02-23 13:04:05,654 - INFO - ------------ Save FOLD-BEST model - MSE: 42.6893 ------------\n"
     ]
    },
    {
     "name": "stdout",
     "output_type": "stream",
     "text": [
      "Custom bins confusion matrix:\n",
      "[[126  70   0]\n",
      " [ 41  90   0]\n",
      " [  0   1   0]]\n",
      "Mean absolute deviation (MAD) = 4.705846576511679\n",
      "Mean squared error (MSE) = 42.68925896772803\n",
      "Mean absolute percentage error (MAPE) = 420.8714942324515\n",
      "Cohen kappa score = 0.31879543094496376\n",
      "Fold 2, mse = 42.6893, mad = 4.7058\n"
     ]
    },
    {
     "name": "stderr",
     "output_type": "stream",
     "text": [
      "2025-02-23 13:04:05,797 - INFO - Fold 2, mse = 42.6893, mad = 4.7058\n",
      "/home/zzj/anaconda3/envs/distcare/lib/python3.7/site-packages/torch/nn/functional.py:1960: UserWarning: nn.functional.sigmoid is deprecated. Use torch.sigmoid instead.\n",
      "  warnings.warn(\"nn.functional.sigmoid is deprecated. Use torch.sigmoid instead.\")\n",
      "2025-02-23 13:04:05,972 - INFO - Fold 2 Epoch 35 Batch 0: Train Loss = 0.9543\n"
     ]
    },
    {
     "name": "stdout",
     "output_type": "stream",
     "text": [
      "Fold 2 Epoch 35 Batch 0: Train Loss = 0.9543\n",
      "{'mad': 4.925212307405023, 'mse': 43.796429976884916, 'mape': 501.45425542239224, 'kappa': 0.2616337703500936}\n",
      "Fold 2, mse = 43.7964, mad = 4.9252\n"
     ]
    },
    {
     "name": "stderr",
     "output_type": "stream",
     "text": [
      "2025-02-23 13:04:06,947 - INFO - Fold 2, mse = 43.7964, mad = 4.9252\n",
      "/home/zzj/anaconda3/envs/distcare/lib/python3.7/site-packages/torch/nn/functional.py:1960: UserWarning: nn.functional.sigmoid is deprecated. Use torch.sigmoid instead.\n",
      "  warnings.warn(\"nn.functional.sigmoid is deprecated. Use torch.sigmoid instead.\")\n",
      "2025-02-23 13:04:07,124 - INFO - Fold 2 Epoch 36 Batch 0: Train Loss = 0.8882\n"
     ]
    },
    {
     "name": "stdout",
     "output_type": "stream",
     "text": [
      "Fold 2 Epoch 36 Batch 0: Train Loss = 0.8882\n",
      "{'mad': 5.036668358192121, 'mse': 44.16395562559861, 'mape': 526.5247957919036, 'kappa': 0.22333000997008978}\n",
      "Fold 2, mse = 44.1640, mad = 5.0367\n"
     ]
    },
    {
     "name": "stderr",
     "output_type": "stream",
     "text": [
      "2025-02-23 13:04:08,058 - INFO - Fold 2, mse = 44.1640, mad = 5.0367\n",
      "/home/zzj/anaconda3/envs/distcare/lib/python3.7/site-packages/torch/nn/functional.py:1960: UserWarning: nn.functional.sigmoid is deprecated. Use torch.sigmoid instead.\n",
      "  warnings.warn(\"nn.functional.sigmoid is deprecated. Use torch.sigmoid instead.\")\n",
      "2025-02-23 13:04:08,213 - INFO - Fold 2 Epoch 37 Batch 0: Train Loss = 0.8516\n"
     ]
    },
    {
     "name": "stdout",
     "output_type": "stream",
     "text": [
      "Fold 2 Epoch 37 Batch 0: Train Loss = 0.8516\n",
      "{'mad': 4.988373053723877, 'mse': 45.06002346243765, 'mape': 497.1950202123411, 'kappa': 0.26838821993326567}\n",
      "Fold 2, mse = 45.0600, mad = 4.9884\n"
     ]
    },
    {
     "name": "stderr",
     "output_type": "stream",
     "text": [
      "2025-02-23 13:04:09,061 - INFO - Fold 2, mse = 45.0600, mad = 4.9884\n",
      "/home/zzj/anaconda3/envs/distcare/lib/python3.7/site-packages/torch/nn/functional.py:1960: UserWarning: nn.functional.sigmoid is deprecated. Use torch.sigmoid instead.\n",
      "  warnings.warn(\"nn.functional.sigmoid is deprecated. Use torch.sigmoid instead.\")\n",
      "2025-02-23 13:04:09,221 - INFO - Fold 2 Epoch 38 Batch 0: Train Loss = 0.7192\n"
     ]
    },
    {
     "name": "stdout",
     "output_type": "stream",
     "text": [
      "Fold 2 Epoch 38 Batch 0: Train Loss = 0.7192\n",
      "{'mad': 5.078726503420422, 'mse': 46.02161340912461, 'mape': 493.17352381709424, 'kappa': 0.2514128387190262}\n",
      "Fold 2, mse = 46.0216, mad = 5.0787\n"
     ]
    },
    {
     "name": "stderr",
     "output_type": "stream",
     "text": [
      "2025-02-23 13:04:10,125 - INFO - Fold 2, mse = 46.0216, mad = 5.0787\n",
      "/home/zzj/anaconda3/envs/distcare/lib/python3.7/site-packages/torch/nn/functional.py:1960: UserWarning: nn.functional.sigmoid is deprecated. Use torch.sigmoid instead.\n",
      "  warnings.warn(\"nn.functional.sigmoid is deprecated. Use torch.sigmoid instead.\")\n",
      "2025-02-23 13:04:10,298 - INFO - Fold 2 Epoch 39 Batch 0: Train Loss = 0.9302\n"
     ]
    },
    {
     "name": "stdout",
     "output_type": "stream",
     "text": [
      "Fold 2 Epoch 39 Batch 0: Train Loss = 0.9302\n",
      "{'mad': 4.932475603404997, 'mse': 44.407389837930744, 'mape': 472.99732905549865, 'kappa': 0.28705984639907256}\n",
      "Fold 2, mse = 44.4074, mad = 4.9325\n"
     ]
    },
    {
     "name": "stderr",
     "output_type": "stream",
     "text": [
      "2025-02-23 13:04:11,255 - INFO - Fold 2, mse = 44.4074, mad = 4.9325\n",
      "/home/zzj/anaconda3/envs/distcare/lib/python3.7/site-packages/torch/nn/functional.py:1960: UserWarning: nn.functional.sigmoid is deprecated. Use torch.sigmoid instead.\n",
      "  warnings.warn(\"nn.functional.sigmoid is deprecated. Use torch.sigmoid instead.\")\n",
      "2025-02-23 13:04:11,421 - INFO - Fold 2 Epoch 40 Batch 0: Train Loss = 0.8734\n"
     ]
    },
    {
     "name": "stdout",
     "output_type": "stream",
     "text": [
      "Fold 2 Epoch 40 Batch 0: Train Loss = 0.8734\n",
      "{'mad': 4.7001681896804905, 'mse': 43.85238351584486, 'mape': 375.83641333834936, 'kappa': 0.3358062074186222}\n",
      "Fold 2, epoch 40: Loss = 0.8178 Valid loss = 1.7127 MSE = 43.8524 AUROC = 0.9658\n"
     ]
    },
    {
     "name": "stderr",
     "output_type": "stream",
     "text": [
      "2025-02-23 13:04:12,374 - INFO - Fold 2, epoch 40: Loss = 0.8178 Valid loss = 1.7127 MSE = 43.8524 AUROC = 0.9658\n"
     ]
    },
    {
     "name": "stdout",
     "output_type": "stream",
     "text": [
      "Fold 2, mse = 43.8524, mad = 4.7002\n"
     ]
    },
    {
     "name": "stderr",
     "output_type": "stream",
     "text": [
      "2025-02-23 13:04:12,376 - INFO - Fold 2, mse = 43.8524, mad = 4.7002\n",
      "/home/zzj/anaconda3/envs/distcare/lib/python3.7/site-packages/torch/nn/functional.py:1960: UserWarning: nn.functional.sigmoid is deprecated. Use torch.sigmoid instead.\n",
      "  warnings.warn(\"nn.functional.sigmoid is deprecated. Use torch.sigmoid instead.\")\n",
      "2025-02-23 13:04:12,533 - INFO - Fold 2 Epoch 41 Batch 0: Train Loss = 1.1629\n"
     ]
    },
    {
     "name": "stdout",
     "output_type": "stream",
     "text": [
      "Fold 2 Epoch 41 Batch 0: Train Loss = 1.1629\n",
      "{'mad': 4.834197949538901, 'mse': 44.12915577007795, 'mape': 435.0486645476637, 'kappa': 0.2718662128163386}\n",
      "Fold 2, mse = 44.1292, mad = 4.8342\n"
     ]
    },
    {
     "name": "stderr",
     "output_type": "stream",
     "text": [
      "2025-02-23 13:04:13,409 - INFO - Fold 2, mse = 44.1292, mad = 4.8342\n",
      "/home/zzj/anaconda3/envs/distcare/lib/python3.7/site-packages/torch/nn/functional.py:1960: UserWarning: nn.functional.sigmoid is deprecated. Use torch.sigmoid instead.\n",
      "  warnings.warn(\"nn.functional.sigmoid is deprecated. Use torch.sigmoid instead.\")\n",
      "2025-02-23 13:04:13,565 - INFO - Fold 2 Epoch 42 Batch 0: Train Loss = 0.8984\n"
     ]
    },
    {
     "name": "stdout",
     "output_type": "stream",
     "text": [
      "Fold 2 Epoch 42 Batch 0: Train Loss = 0.8984\n",
      "{'mad': 4.91916183893346, 'mse': 44.07712789528482, 'mape': 489.5335933622216, 'kappa': 0.2615831517792301}\n",
      "Fold 2, mse = 44.0771, mad = 4.9192\n"
     ]
    },
    {
     "name": "stderr",
     "output_type": "stream",
     "text": [
      "2025-02-23 13:04:14,450 - INFO - Fold 2, mse = 44.0771, mad = 4.9192\n",
      "/home/zzj/anaconda3/envs/distcare/lib/python3.7/site-packages/torch/nn/functional.py:1960: UserWarning: nn.functional.sigmoid is deprecated. Use torch.sigmoid instead.\n",
      "  warnings.warn(\"nn.functional.sigmoid is deprecated. Use torch.sigmoid instead.\")\n",
      "2025-02-23 13:04:14,650 - INFO - Fold 2 Epoch 43 Batch 0: Train Loss = 0.7917\n"
     ]
    },
    {
     "name": "stdout",
     "output_type": "stream",
     "text": [
      "Fold 2 Epoch 43 Batch 0: Train Loss = 0.7917\n",
      "{'mad': 4.983537555392185, 'mse': 44.246381767097695, 'mape': 519.3974878239145, 'kappa': 0.22974329556862194}\n",
      "Fold 2, mse = 44.2464, mad = 4.9835\n"
     ]
    },
    {
     "name": "stderr",
     "output_type": "stream",
     "text": [
      "2025-02-23 13:04:15,598 - INFO - Fold 2, mse = 44.2464, mad = 4.9835\n",
      "/home/zzj/anaconda3/envs/distcare/lib/python3.7/site-packages/torch/nn/functional.py:1960: UserWarning: nn.functional.sigmoid is deprecated. Use torch.sigmoid instead.\n",
      "  warnings.warn(\"nn.functional.sigmoid is deprecated. Use torch.sigmoid instead.\")\n",
      "2025-02-23 13:04:15,774 - INFO - Fold 2 Epoch 44 Batch 0: Train Loss = 0.7873\n"
     ]
    },
    {
     "name": "stdout",
     "output_type": "stream",
     "text": [
      "Fold 2 Epoch 44 Batch 0: Train Loss = 0.7873\n",
      "{'mad': 4.907558578453703, 'mse': 45.09933053101246, 'mape': 447.50859046295363, 'kappa': 0.2892280337827827}\n",
      "Fold 2, mse = 45.0993, mad = 4.9076\n"
     ]
    },
    {
     "name": "stderr",
     "output_type": "stream",
     "text": [
      "2025-02-23 13:04:16,753 - INFO - Fold 2, mse = 45.0993, mad = 4.9076\n",
      "/home/zzj/anaconda3/envs/distcare/lib/python3.7/site-packages/torch/nn/functional.py:1960: UserWarning: nn.functional.sigmoid is deprecated. Use torch.sigmoid instead.\n",
      "  warnings.warn(\"nn.functional.sigmoid is deprecated. Use torch.sigmoid instead.\")\n",
      "2025-02-23 13:04:16,931 - INFO - Fold 2 Epoch 45 Batch 0: Train Loss = 0.8963\n"
     ]
    },
    {
     "name": "stdout",
     "output_type": "stream",
     "text": [
      "Fold 2 Epoch 45 Batch 0: Train Loss = 0.8963\n",
      "{'mad': 4.83739219826902, 'mse': 44.86738626895298, 'mape': 401.61407337232714, 'kappa': 0.3002567587977647}\n",
      "Fold 2, mse = 44.8674, mad = 4.8374\n"
     ]
    },
    {
     "name": "stderr",
     "output_type": "stream",
     "text": [
      "2025-02-23 13:04:17,940 - INFO - Fold 2, mse = 44.8674, mad = 4.8374\n",
      "/home/zzj/anaconda3/envs/distcare/lib/python3.7/site-packages/torch/nn/functional.py:1960: UserWarning: nn.functional.sigmoid is deprecated. Use torch.sigmoid instead.\n",
      "  warnings.warn(\"nn.functional.sigmoid is deprecated. Use torch.sigmoid instead.\")\n",
      "2025-02-23 13:04:18,112 - INFO - Fold 2 Epoch 46 Batch 0: Train Loss = 0.8920\n"
     ]
    },
    {
     "name": "stdout",
     "output_type": "stream",
     "text": [
      "Fold 2 Epoch 46 Batch 0: Train Loss = 0.8920\n",
      "{'mad': 5.11080256849796, 'mse': 46.23916563510714, 'mape': 523.9479376112233, 'kappa': 0.256583681105195}\n",
      "Fold 2, mse = 46.2392, mad = 5.1108\n"
     ]
    },
    {
     "name": "stderr",
     "output_type": "stream",
     "text": [
      "2025-02-23 13:04:19,015 - INFO - Fold 2, mse = 46.2392, mad = 5.1108\n",
      "/home/zzj/anaconda3/envs/distcare/lib/python3.7/site-packages/torch/nn/functional.py:1960: UserWarning: nn.functional.sigmoid is deprecated. Use torch.sigmoid instead.\n",
      "  warnings.warn(\"nn.functional.sigmoid is deprecated. Use torch.sigmoid instead.\")\n",
      "2025-02-23 13:04:19,181 - INFO - Fold 2 Epoch 47 Batch 0: Train Loss = 0.8016\n"
     ]
    },
    {
     "name": "stdout",
     "output_type": "stream",
     "text": [
      "Fold 2 Epoch 47 Batch 0: Train Loss = 0.8016\n",
      "{'mad': 5.148236499348942, 'mse': 46.02258280496623, 'mape': 521.2052106137102, 'kappa': 0.24996427040160063}\n",
      "Fold 2, mse = 46.0226, mad = 5.1482\n"
     ]
    },
    {
     "name": "stderr",
     "output_type": "stream",
     "text": [
      "2025-02-23 13:04:20,192 - INFO - Fold 2, mse = 46.0226, mad = 5.1482\n",
      "/home/zzj/anaconda3/envs/distcare/lib/python3.7/site-packages/torch/nn/functional.py:1960: UserWarning: nn.functional.sigmoid is deprecated. Use torch.sigmoid instead.\n",
      "  warnings.warn(\"nn.functional.sigmoid is deprecated. Use torch.sigmoid instead.\")\n",
      "2025-02-23 13:04:20,385 - INFO - Fold 2 Epoch 48 Batch 0: Train Loss = 0.9480\n"
     ]
    },
    {
     "name": "stdout",
     "output_type": "stream",
     "text": [
      "Fold 2 Epoch 48 Batch 0: Train Loss = 0.9480\n",
      "{'mad': 4.840043334265881, 'mse': 44.29497217970595, 'mape': 435.6674067762275, 'kappa': 0.2890521675238793}\n",
      "Fold 2, mse = 44.2950, mad = 4.8400\n"
     ]
    },
    {
     "name": "stderr",
     "output_type": "stream",
     "text": [
      "2025-02-23 13:04:21,493 - INFO - Fold 2, mse = 44.2950, mad = 4.8400\n",
      "/home/zzj/anaconda3/envs/distcare/lib/python3.7/site-packages/torch/nn/functional.py:1960: UserWarning: nn.functional.sigmoid is deprecated. Use torch.sigmoid instead.\n",
      "  warnings.warn(\"nn.functional.sigmoid is deprecated. Use torch.sigmoid instead.\")\n",
      "2025-02-23 13:04:21,700 - INFO - Fold 2 Epoch 49 Batch 0: Train Loss = 0.6695\n"
     ]
    },
    {
     "name": "stdout",
     "output_type": "stream",
     "text": [
      "Fold 2 Epoch 49 Batch 0: Train Loss = 0.6695\n",
      "{'mad': 4.879446310585944, 'mse': 43.955593081025036, 'mape': 461.8261038065874, 'kappa': 0.2855469322009079}\n",
      "Fold 2, mse = 43.9556, mad = 4.8794\n"
     ]
    },
    {
     "name": "stderr",
     "output_type": "stream",
     "text": [
      "2025-02-23 13:04:22,802 - INFO - Fold 2, mse = 43.9556, mad = 4.8794\n",
      "/home/zzj/anaconda3/envs/distcare/lib/python3.7/site-packages/torch/nn/functional.py:1960: UserWarning: nn.functional.sigmoid is deprecated. Use torch.sigmoid instead.\n",
      "  warnings.warn(\"nn.functional.sigmoid is deprecated. Use torch.sigmoid instead.\")\n",
      "2025-02-23 13:04:23,007 - INFO - Fold 2 Epoch 50 Batch 0: Train Loss = 0.7395\n"
     ]
    },
    {
     "name": "stdout",
     "output_type": "stream",
     "text": [
      "Fold 2 Epoch 50 Batch 0: Train Loss = 0.7395\n",
      "{'mad': 4.98035760078939, 'mse': 44.82255622422542, 'mape': 485.7942565403232, 'kappa': 0.25314442677461335}\n",
      "Fold 2, epoch 50: Loss = 0.7653 Valid loss = 1.8126 MSE = 44.8226 AUROC = 0.9625\n"
     ]
    },
    {
     "name": "stderr",
     "output_type": "stream",
     "text": [
      "2025-02-23 13:04:24,101 - INFO - Fold 2, epoch 50: Loss = 0.7653 Valid loss = 1.8126 MSE = 44.8226 AUROC = 0.9625\n"
     ]
    },
    {
     "name": "stdout",
     "output_type": "stream",
     "text": [
      "Fold 2, mse = 44.8226, mad = 4.9804\n"
     ]
    },
    {
     "name": "stderr",
     "output_type": "stream",
     "text": [
      "2025-02-23 13:04:24,102 - INFO - Fold 2, mse = 44.8226, mad = 4.9804\n",
      "/home/zzj/anaconda3/envs/distcare/lib/python3.7/site-packages/torch/nn/functional.py:1960: UserWarning: nn.functional.sigmoid is deprecated. Use torch.sigmoid instead.\n",
      "  warnings.warn(\"nn.functional.sigmoid is deprecated. Use torch.sigmoid instead.\")\n",
      "2025-02-23 13:04:24,299 - INFO - Fold 2 Epoch 51 Batch 0: Train Loss = 0.6077\n"
     ]
    },
    {
     "name": "stdout",
     "output_type": "stream",
     "text": [
      "Fold 2 Epoch 51 Batch 0: Train Loss = 0.6077\n",
      "{'mad': 4.988234180323469, 'mse': 45.310756323226684, 'mape': 451.97653497805516, 'kappa': 0.254654742706348}\n",
      "Fold 2, mse = 45.3108, mad = 4.9882\n"
     ]
    },
    {
     "name": "stderr",
     "output_type": "stream",
     "text": [
      "2025-02-23 13:04:25,399 - INFO - Fold 2, mse = 45.3108, mad = 4.9882\n",
      "/home/zzj/anaconda3/envs/distcare/lib/python3.7/site-packages/torch/nn/functional.py:1960: UserWarning: nn.functional.sigmoid is deprecated. Use torch.sigmoid instead.\n",
      "  warnings.warn(\"nn.functional.sigmoid is deprecated. Use torch.sigmoid instead.\")\n",
      "2025-02-23 13:04:25,601 - INFO - Fold 2 Epoch 52 Batch 0: Train Loss = 0.8708\n"
     ]
    },
    {
     "name": "stdout",
     "output_type": "stream",
     "text": [
      "Fold 2 Epoch 52 Batch 0: Train Loss = 0.8708\n",
      "{'mad': 4.873203722862616, 'mse': 44.92736673951346, 'mape': 390.2582706667296, 'kappa': 0.23858020068893215}\n",
      "Fold 2, mse = 44.9274, mad = 4.8732\n"
     ]
    },
    {
     "name": "stderr",
     "output_type": "stream",
     "text": [
      "2025-02-23 13:04:26,696 - INFO - Fold 2, mse = 44.9274, mad = 4.8732\n",
      "/home/zzj/anaconda3/envs/distcare/lib/python3.7/site-packages/torch/nn/functional.py:1960: UserWarning: nn.functional.sigmoid is deprecated. Use torch.sigmoid instead.\n",
      "  warnings.warn(\"nn.functional.sigmoid is deprecated. Use torch.sigmoid instead.\")\n",
      "2025-02-23 13:04:26,871 - INFO - Fold 2 Epoch 53 Batch 0: Train Loss = 0.8202\n"
     ]
    },
    {
     "name": "stdout",
     "output_type": "stream",
     "text": [
      "Fold 2 Epoch 53 Batch 0: Train Loss = 0.8202\n",
      "{'mad': 4.904072529816927, 'mse': 44.82454071764762, 'mape': 430.2416971773635, 'kappa': 0.27358629853831384}\n",
      "Fold 2, mse = 44.8245, mad = 4.9041\n"
     ]
    },
    {
     "name": "stderr",
     "output_type": "stream",
     "text": [
      "2025-02-23 13:04:27,851 - INFO - Fold 2, mse = 44.8245, mad = 4.9041\n",
      "/home/zzj/anaconda3/envs/distcare/lib/python3.7/site-packages/torch/nn/functional.py:1960: UserWarning: nn.functional.sigmoid is deprecated. Use torch.sigmoid instead.\n",
      "  warnings.warn(\"nn.functional.sigmoid is deprecated. Use torch.sigmoid instead.\")\n",
      "2025-02-23 13:04:28,037 - INFO - Fold 2 Epoch 54 Batch 0: Train Loss = 0.8634\n"
     ]
    },
    {
     "name": "stdout",
     "output_type": "stream",
     "text": [
      "Fold 2 Epoch 54 Batch 0: Train Loss = 0.8634\n",
      "{'mad': 5.046960096758248, 'mse': 45.702784172821275, 'mape': 505.187997568755, 'kappa': 0.2498199106756951}\n",
      "Fold 2, mse = 45.7028, mad = 5.0470\n"
     ]
    },
    {
     "name": "stderr",
     "output_type": "stream",
     "text": [
      "2025-02-23 13:04:29,102 - INFO - Fold 2, mse = 45.7028, mad = 5.0470\n",
      "/home/zzj/anaconda3/envs/distcare/lib/python3.7/site-packages/torch/nn/functional.py:1960: UserWarning: nn.functional.sigmoid is deprecated. Use torch.sigmoid instead.\n",
      "  warnings.warn(\"nn.functional.sigmoid is deprecated. Use torch.sigmoid instead.\")\n",
      "2025-02-23 13:04:29,303 - INFO - Fold 2 Epoch 55 Batch 0: Train Loss = 0.7186\n"
     ]
    },
    {
     "name": "stdout",
     "output_type": "stream",
     "text": [
      "Fold 2 Epoch 55 Batch 0: Train Loss = 0.7186\n",
      "{'mad': 5.047545143200332, 'mse': 45.0801234336805, 'mape': 514.1810945673992, 'kappa': 0.23298316304504252}\n",
      "Fold 2, mse = 45.0801, mad = 5.0475\n"
     ]
    },
    {
     "name": "stderr",
     "output_type": "stream",
     "text": [
      "2025-02-23 13:04:30,397 - INFO - Fold 2, mse = 45.0801, mad = 5.0475\n",
      "/home/zzj/anaconda3/envs/distcare/lib/python3.7/site-packages/torch/nn/functional.py:1960: UserWarning: nn.functional.sigmoid is deprecated. Use torch.sigmoid instead.\n",
      "  warnings.warn(\"nn.functional.sigmoid is deprecated. Use torch.sigmoid instead.\")\n",
      "2025-02-23 13:04:30,593 - INFO - Fold 2 Epoch 56 Batch 0: Train Loss = 0.6999\n"
     ]
    },
    {
     "name": "stdout",
     "output_type": "stream",
     "text": [
      "Fold 2 Epoch 56 Batch 0: Train Loss = 0.6999\n",
      "{'mad': 5.004139203077681, 'mse': 45.04015099054508, 'mape': 473.55836068327636, 'kappa': 0.2359877711457271}\n",
      "Fold 2, mse = 45.0402, mad = 5.0041\n"
     ]
    },
    {
     "name": "stderr",
     "output_type": "stream",
     "text": [
      "2025-02-23 13:04:31,778 - INFO - Fold 2, mse = 45.0402, mad = 5.0041\n",
      "/home/zzj/anaconda3/envs/distcare/lib/python3.7/site-packages/torch/nn/functional.py:1960: UserWarning: nn.functional.sigmoid is deprecated. Use torch.sigmoid instead.\n",
      "  warnings.warn(\"nn.functional.sigmoid is deprecated. Use torch.sigmoid instead.\")\n",
      "2025-02-23 13:04:31,944 - INFO - Fold 2 Epoch 57 Batch 0: Train Loss = 0.6652\n"
     ]
    },
    {
     "name": "stdout",
     "output_type": "stream",
     "text": [
      "Fold 2 Epoch 57 Batch 0: Train Loss = 0.6652\n",
      "{'mad': 5.047043081239522, 'mse': 44.69183830812896, 'mape': 506.57754346556186, 'kappa': 0.2193855473820857}\n",
      "Fold 2, mse = 44.6918, mad = 5.0470\n"
     ]
    },
    {
     "name": "stderr",
     "output_type": "stream",
     "text": [
      "2025-02-23 13:04:32,873 - INFO - Fold 2, mse = 44.6918, mad = 5.0470\n",
      "/home/zzj/anaconda3/envs/distcare/lib/python3.7/site-packages/torch/nn/functional.py:1960: UserWarning: nn.functional.sigmoid is deprecated. Use torch.sigmoid instead.\n",
      "  warnings.warn(\"nn.functional.sigmoid is deprecated. Use torch.sigmoid instead.\")\n",
      "2025-02-23 13:04:33,037 - INFO - Fold 2 Epoch 58 Batch 0: Train Loss = 0.6117\n"
     ]
    },
    {
     "name": "stdout",
     "output_type": "stream",
     "text": [
      "Fold 2 Epoch 58 Batch 0: Train Loss = 0.6117\n",
      "{'mad': 4.911162109315431, 'mse': 44.41691994262548, 'mape': 466.1397799080338, 'kappa': 0.27183325994422436}\n",
      "Fold 2, mse = 44.4169, mad = 4.9112\n"
     ]
    },
    {
     "name": "stderr",
     "output_type": "stream",
     "text": [
      "2025-02-23 13:04:33,922 - INFO - Fold 2, mse = 44.4169, mad = 4.9112\n",
      "/home/zzj/anaconda3/envs/distcare/lib/python3.7/site-packages/torch/nn/functional.py:1960: UserWarning: nn.functional.sigmoid is deprecated. Use torch.sigmoid instead.\n",
      "  warnings.warn(\"nn.functional.sigmoid is deprecated. Use torch.sigmoid instead.\")\n",
      "2025-02-23 13:04:34,081 - INFO - Fold 2 Epoch 59 Batch 0: Train Loss = 0.7909\n"
     ]
    },
    {
     "name": "stdout",
     "output_type": "stream",
     "text": [
      "Fold 2 Epoch 59 Batch 0: Train Loss = 0.7909\n",
      "{'mad': 4.872595030343722, 'mse': 42.785231353497295, 'mape': 456.11422023009555, 'kappa': 0.27183325994422436}\n",
      "Fold 2, mse = 42.7852, mad = 4.8726\n"
     ]
    },
    {
     "name": "stderr",
     "output_type": "stream",
     "text": [
      "2025-02-23 13:04:34,960 - INFO - Fold 2, mse = 42.7852, mad = 4.8726\n",
      "/home/zzj/anaconda3/envs/distcare/lib/python3.7/site-packages/torch/nn/functional.py:1960: UserWarning: nn.functional.sigmoid is deprecated. Use torch.sigmoid instead.\n",
      "  warnings.warn(\"nn.functional.sigmoid is deprecated. Use torch.sigmoid instead.\")\n",
      "2025-02-23 13:04:35,334 - INFO - Fold 3 Epoch 0 Batch 0: Train Loss = 2.3438\n"
     ]
    },
    {
     "name": "stdout",
     "output_type": "stream",
     "text": [
      "Fold 3 Epoch 0 Batch 0: Train Loss = 2.3438\n",
      "{'mad': 5.2899244877734395, 'mse': 46.220852250199314, 'mape': 590.3617989825152, 'kappa': 0.1164247346802223}\n",
      "Fold 3, epoch 0: Loss = 2.5807 Valid loss = 2.3901 MSE = 46.2209 AUROC = 0.9270\n"
     ]
    },
    {
     "name": "stderr",
     "output_type": "stream",
     "text": [
      "/home/zzj/DistCare-plus/utils/metrics.py:22: RuntimeWarning: invalid value encountered in float_scalars\n",
      "  prec0 = cf[0][0] / (cf[0][0] + cf[1][0])\n",
      "2025-02-23 13:04:36,209 - INFO - Fold 3, epoch 0: Loss = 2.5807 Valid loss = 2.3901 MSE = 46.2209 AUROC = 0.9270\n"
     ]
    },
    {
     "name": "stdout",
     "output_type": "stream",
     "text": [
      "------------ Save FOLD-BEST model - MSE: 46.2209 ------------\n"
     ]
    },
    {
     "name": "stderr",
     "output_type": "stream",
     "text": [
      "2025-02-23 13:04:36,211 - INFO - ------------ Save FOLD-BEST model - MSE: 46.2209 ------------\n"
     ]
    },
    {
     "name": "stdout",
     "output_type": "stream",
     "text": [
      "Custom bins confusion matrix:\n",
      "[[174  29]\n",
      " [108  36]]\n",
      "Mean absolute deviation (MAD) = 5.2899244877734395\n",
      "Mean squared error (MSE) = 46.220852250199314\n",
      "Mean absolute percentage error (MAPE) = 590.3617989825152\n",
      "Cohen kappa score = 0.1164247346802223\n",
      "------------ auroc-BEST model - auroc: 0.9270 ------------\n"
     ]
    },
    {
     "name": "stderr",
     "output_type": "stream",
     "text": [
      "2025-02-23 13:04:36,336 - INFO - ------------ auroc-BEST model - auroc: 0.9270 ------------\n"
     ]
    },
    {
     "name": "stdout",
     "output_type": "stream",
     "text": [
      "Fold 3, mse = 46.2209, mad = 5.2899\n"
     ]
    },
    {
     "name": "stderr",
     "output_type": "stream",
     "text": [
      "2025-02-23 13:04:36,339 - INFO - Fold 3, mse = 46.2209, mad = 5.2899\n",
      "/home/zzj/anaconda3/envs/distcare/lib/python3.7/site-packages/torch/nn/functional.py:1960: UserWarning: nn.functional.sigmoid is deprecated. Use torch.sigmoid instead.\n",
      "  warnings.warn(\"nn.functional.sigmoid is deprecated. Use torch.sigmoid instead.\")\n",
      "2025-02-23 13:04:36,515 - INFO - Fold 3 Epoch 1 Batch 0: Train Loss = 2.5563\n"
     ]
    },
    {
     "name": "stdout",
     "output_type": "stream",
     "text": [
      "Fold 3 Epoch 1 Batch 0: Train Loss = 2.5563\n",
      "{'mad': 5.205500637658835, 'mse': 45.05195702389859, 'mape': 584.0680768283064, 'kappa': 0.3356440219185317}\n",
      "------------ Save FOLD-BEST model - MSE: 45.0520 ------------\n"
     ]
    },
    {
     "name": "stderr",
     "output_type": "stream",
     "text": [
      "2025-02-23 13:04:37,458 - INFO - ------------ Save FOLD-BEST model - MSE: 45.0520 ------------\n"
     ]
    },
    {
     "name": "stdout",
     "output_type": "stream",
     "text": [
      "Custom bins confusion matrix:\n",
      "[[127  76]\n",
      " [ 40 104]]\n",
      "Mean absolute deviation (MAD) = 5.205500637658835\n",
      "Mean squared error (MSE) = 45.05195702389859\n",
      "Mean absolute percentage error (MAPE) = 584.0680768283064\n",
      "Cohen kappa score = 0.3356440219185317\n",
      "------------ auroc-BEST model - auroc: 0.9347 ------------\n"
     ]
    },
    {
     "name": "stderr",
     "output_type": "stream",
     "text": [
      "2025-02-23 13:04:37,576 - INFO - ------------ auroc-BEST model - auroc: 0.9347 ------------\n"
     ]
    },
    {
     "name": "stdout",
     "output_type": "stream",
     "text": [
      "Fold 3, mse = 45.0520, mad = 5.2055\n"
     ]
    },
    {
     "name": "stderr",
     "output_type": "stream",
     "text": [
      "2025-02-23 13:04:37,578 - INFO - Fold 3, mse = 45.0520, mad = 5.2055\n",
      "/home/zzj/anaconda3/envs/distcare/lib/python3.7/site-packages/torch/nn/functional.py:1960: UserWarning: nn.functional.sigmoid is deprecated. Use torch.sigmoid instead.\n",
      "  warnings.warn(\"nn.functional.sigmoid is deprecated. Use torch.sigmoid instead.\")\n",
      "2025-02-23 13:04:37,746 - INFO - Fold 3 Epoch 2 Batch 0: Train Loss = 2.1892\n"
     ]
    },
    {
     "name": "stdout",
     "output_type": "stream",
     "text": [
      "Fold 3 Epoch 2 Batch 0: Train Loss = 2.1892\n",
      "{'mad': 5.056351579080351, 'mse': 43.79638322119018, 'mape': 554.1145597801031, 'kappa': 0.33554789616530967}\n",
      "------------ Save FOLD-BEST model - MSE: 43.7964 ------------\n"
     ]
    },
    {
     "name": "stderr",
     "output_type": "stream",
     "text": [
      "2025-02-23 13:04:38,749 - INFO - ------------ Save FOLD-BEST model - MSE: 43.7964 ------------\n"
     ]
    },
    {
     "name": "stdout",
     "output_type": "stream",
     "text": [
      "Custom bins confusion matrix:\n",
      "[[132  71]\n",
      " [ 44 100]]\n",
      "Mean absolute deviation (MAD) = 5.056351579080351\n",
      "Mean squared error (MSE) = 43.79638322119018\n",
      "Mean absolute percentage error (MAPE) = 554.1145597801031\n",
      "Cohen kappa score = 0.33554789616530967\n",
      "------------ auroc-BEST model - auroc: 0.9352 ------------\n"
     ]
    },
    {
     "name": "stderr",
     "output_type": "stream",
     "text": [
      "2025-02-23 13:04:38,867 - INFO - ------------ auroc-BEST model - auroc: 0.9352 ------------\n"
     ]
    },
    {
     "name": "stdout",
     "output_type": "stream",
     "text": [
      "Fold 3, mse = 43.7964, mad = 5.0564\n"
     ]
    },
    {
     "name": "stderr",
     "output_type": "stream",
     "text": [
      "2025-02-23 13:04:38,869 - INFO - Fold 3, mse = 43.7964, mad = 5.0564\n",
      "/home/zzj/anaconda3/envs/distcare/lib/python3.7/site-packages/torch/nn/functional.py:1960: UserWarning: nn.functional.sigmoid is deprecated. Use torch.sigmoid instead.\n",
      "  warnings.warn(\"nn.functional.sigmoid is deprecated. Use torch.sigmoid instead.\")\n",
      "2025-02-23 13:04:39,048 - INFO - Fold 3 Epoch 3 Batch 0: Train Loss = 2.0401\n"
     ]
    },
    {
     "name": "stdout",
     "output_type": "stream",
     "text": [
      "Fold 3 Epoch 3 Batch 0: Train Loss = 2.0401\n",
      "{'mad': 4.877515168616378, 'mse': 42.475807269214705, 'mape': 511.4661909452099, 'kappa': 0.3857381429525718}\n",
      "------------ Save FOLD-BEST model - MSE: 42.4758 ------------\n"
     ]
    },
    {
     "name": "stderr",
     "output_type": "stream",
     "text": [
      "2025-02-23 13:04:40,020 - INFO - ------------ Save FOLD-BEST model - MSE: 42.4758 ------------\n"
     ]
    },
    {
     "name": "stdout",
     "output_type": "stream",
     "text": [
      "Custom bins confusion matrix:\n",
      "[[138  65]\n",
      " [ 41 103]]\n",
      "Mean absolute deviation (MAD) = 4.877515168616378\n",
      "Mean squared error (MSE) = 42.475807269214705\n",
      "Mean absolute percentage error (MAPE) = 511.4661909452099\n",
      "Cohen kappa score = 0.3857381429525718\n",
      "Fold 3, mse = 42.4758, mad = 4.8775\n"
     ]
    },
    {
     "name": "stderr",
     "output_type": "stream",
     "text": [
      "2025-02-23 13:04:40,138 - INFO - Fold 3, mse = 42.4758, mad = 4.8775\n",
      "/home/zzj/anaconda3/envs/distcare/lib/python3.7/site-packages/torch/nn/functional.py:1960: UserWarning: nn.functional.sigmoid is deprecated. Use torch.sigmoid instead.\n",
      "  warnings.warn(\"nn.functional.sigmoid is deprecated. Use torch.sigmoid instead.\")\n",
      "2025-02-23 13:04:40,318 - INFO - Fold 3 Epoch 4 Batch 0: Train Loss = 2.4940\n"
     ]
    },
    {
     "name": "stdout",
     "output_type": "stream",
     "text": [
      "Fold 3 Epoch 4 Batch 0: Train Loss = 2.4940\n",
      "{'mad': 4.752072894586366, 'mse': 41.343269095010776, 'mape': 491.88345321113485, 'kappa': 0.3751259726742553}\n",
      "------------ Save FOLD-BEST model - MSE: 41.3433 ------------\n"
     ]
    },
    {
     "name": "stderr",
     "output_type": "stream",
     "text": [
      "2025-02-23 13:04:41,224 - INFO - ------------ Save FOLD-BEST model - MSE: 41.3433 ------------\n"
     ]
    },
    {
     "name": "stdout",
     "output_type": "stream",
     "text": [
      "Custom bins confusion matrix:\n",
      "[[131  72]\n",
      " [ 37 107]]\n",
      "Mean absolute deviation (MAD) = 4.752072894586366\n",
      "Mean squared error (MSE) = 41.343269095010776\n",
      "Mean absolute percentage error (MAPE) = 491.88345321113485\n",
      "Cohen kappa score = 0.3751259726742553\n",
      "Fold 3, mse = 41.3433, mad = 4.7521\n"
     ]
    },
    {
     "name": "stderr",
     "output_type": "stream",
     "text": [
      "2025-02-23 13:04:41,346 - INFO - Fold 3, mse = 41.3433, mad = 4.7521\n",
      "/home/zzj/anaconda3/envs/distcare/lib/python3.7/site-packages/torch/nn/functional.py:1960: UserWarning: nn.functional.sigmoid is deprecated. Use torch.sigmoid instead.\n",
      "  warnings.warn(\"nn.functional.sigmoid is deprecated. Use torch.sigmoid instead.\")\n",
      "2025-02-23 13:04:41,517 - INFO - Fold 3 Epoch 5 Batch 0: Train Loss = 2.2625\n"
     ]
    },
    {
     "name": "stdout",
     "output_type": "stream",
     "text": [
      "Fold 3 Epoch 5 Batch 0: Train Loss = 2.2625\n",
      "{'mad': 4.678912048120219, 'mse': 39.93433208852285, 'mape': 499.29768453874726, 'kappa': 0.3835384239263304}\n",
      "------------ Save FOLD-BEST model - MSE: 39.9343 ------------\n"
     ]
    },
    {
     "name": "stderr",
     "output_type": "stream",
     "text": [
      "2025-02-23 13:04:42,487 - INFO - ------------ Save FOLD-BEST model - MSE: 39.9343 ------------\n"
     ]
    },
    {
     "name": "stdout",
     "output_type": "stream",
     "text": [
      "Custom bins confusion matrix:\n",
      "[[124  79]\n",
      " [ 30 114]]\n",
      "Mean absolute deviation (MAD) = 4.678912048120219\n",
      "Mean squared error (MSE) = 39.93433208852285\n",
      "Mean absolute percentage error (MAPE) = 499.29768453874726\n",
      "Cohen kappa score = 0.3835384239263304\n",
      "------------ auroc-BEST model - auroc: 0.9462 ------------\n"
     ]
    },
    {
     "name": "stderr",
     "output_type": "stream",
     "text": [
      "2025-02-23 13:04:42,606 - INFO - ------------ auroc-BEST model - auroc: 0.9462 ------------\n"
     ]
    },
    {
     "name": "stdout",
     "output_type": "stream",
     "text": [
      "Fold 3, mse = 39.9343, mad = 4.6789\n"
     ]
    },
    {
     "name": "stderr",
     "output_type": "stream",
     "text": [
      "2025-02-23 13:04:42,608 - INFO - Fold 3, mse = 39.9343, mad = 4.6789\n",
      "/home/zzj/anaconda3/envs/distcare/lib/python3.7/site-packages/torch/nn/functional.py:1960: UserWarning: nn.functional.sigmoid is deprecated. Use torch.sigmoid instead.\n",
      "  warnings.warn(\"nn.functional.sigmoid is deprecated. Use torch.sigmoid instead.\")\n",
      "2025-02-23 13:04:42,780 - INFO - Fold 3 Epoch 6 Batch 0: Train Loss = 2.5826\n"
     ]
    },
    {
     "name": "stdout",
     "output_type": "stream",
     "text": [
      "Fold 3 Epoch 6 Batch 0: Train Loss = 2.5826\n",
      "{'mad': 4.598876411804844, 'mse': 38.500205809777995, 'mape': 502.133616424004, 'kappa': 0.38978083173217837}\n",
      "------------ Save FOLD-BEST model - MSE: 38.5002 ------------\n"
     ]
    },
    {
     "name": "stderr",
     "output_type": "stream",
     "text": [
      "2025-02-23 13:04:43,759 - INFO - ------------ Save FOLD-BEST model - MSE: 38.5002 ------------\n"
     ]
    },
    {
     "name": "stdout",
     "output_type": "stream",
     "text": [
      "Custom bins confusion matrix:\n",
      "[[124  79]\n",
      " [ 29 115]]\n",
      "Mean absolute deviation (MAD) = 4.598876411804844\n",
      "Mean squared error (MSE) = 38.500205809777995\n",
      "Mean absolute percentage error (MAPE) = 502.133616424004\n",
      "Cohen kappa score = 0.38978083173217837\n",
      "------------ auroc-BEST model - auroc: 0.9621 ------------\n"
     ]
    },
    {
     "name": "stderr",
     "output_type": "stream",
     "text": [
      "2025-02-23 13:04:43,889 - INFO - ------------ auroc-BEST model - auroc: 0.9621 ------------\n"
     ]
    },
    {
     "name": "stdout",
     "output_type": "stream",
     "text": [
      "Fold 3, mse = 38.5002, mad = 4.5989\n"
     ]
    },
    {
     "name": "stderr",
     "output_type": "stream",
     "text": [
      "2025-02-23 13:04:43,891 - INFO - Fold 3, mse = 38.5002, mad = 4.5989\n",
      "/home/zzj/anaconda3/envs/distcare/lib/python3.7/site-packages/torch/nn/functional.py:1960: UserWarning: nn.functional.sigmoid is deprecated. Use torch.sigmoid instead.\n",
      "  warnings.warn(\"nn.functional.sigmoid is deprecated. Use torch.sigmoid instead.\")\n",
      "2025-02-23 13:04:44,070 - INFO - Fold 3 Epoch 7 Batch 0: Train Loss = 1.8318\n"
     ]
    },
    {
     "name": "stdout",
     "output_type": "stream",
     "text": [
      "Fold 3 Epoch 7 Batch 0: Train Loss = 1.8318\n",
      "{'mad': 4.552468256007333, 'mse': 37.279332778014904, 'mape': 514.3311465767579, 'kappa': 0.3835384239263304}\n",
      "------------ Save FOLD-BEST model - MSE: 37.2793 ------------\n"
     ]
    },
    {
     "name": "stderr",
     "output_type": "stream",
     "text": [
      "2025-02-23 13:04:45,031 - INFO - ------------ Save FOLD-BEST model - MSE: 37.2793 ------------\n"
     ]
    },
    {
     "name": "stdout",
     "output_type": "stream",
     "text": [
      "Custom bins confusion matrix:\n",
      "[[124  79]\n",
      " [ 30 114]]\n",
      "Mean absolute deviation (MAD) = 4.552468256007333\n",
      "Mean squared error (MSE) = 37.279332778014904\n",
      "Mean absolute percentage error (MAPE) = 514.3311465767579\n",
      "Cohen kappa score = 0.3835384239263304\n",
      "------------ auroc-BEST model - auroc: 0.9766 ------------\n"
     ]
    },
    {
     "name": "stderr",
     "output_type": "stream",
     "text": [
      "2025-02-23 13:04:45,150 - INFO - ------------ auroc-BEST model - auroc: 0.9766 ------------\n"
     ]
    },
    {
     "name": "stdout",
     "output_type": "stream",
     "text": [
      "Fold 3, mse = 37.2793, mad = 4.5525\n"
     ]
    },
    {
     "name": "stderr",
     "output_type": "stream",
     "text": [
      "2025-02-23 13:04:45,152 - INFO - Fold 3, mse = 37.2793, mad = 4.5525\n",
      "/home/zzj/anaconda3/envs/distcare/lib/python3.7/site-packages/torch/nn/functional.py:1960: UserWarning: nn.functional.sigmoid is deprecated. Use torch.sigmoid instead.\n",
      "  warnings.warn(\"nn.functional.sigmoid is deprecated. Use torch.sigmoid instead.\")\n",
      "2025-02-23 13:04:45,345 - INFO - Fold 3 Epoch 8 Batch 0: Train Loss = 1.8681\n"
     ]
    },
    {
     "name": "stdout",
     "output_type": "stream",
     "text": [
      "Fold 3 Epoch 8 Batch 0: Train Loss = 1.8681\n",
      "{'mad': 4.531099686040055, 'mse': 36.34748656804744, 'mape': 518.1645175533617, 'kappa': 0.37343223854375085}\n",
      "------------ Save FOLD-BEST model - MSE: 36.3475 ------------\n"
     ]
    },
    {
     "name": "stderr",
     "output_type": "stream",
     "text": [
      "2025-02-23 13:04:46,364 - INFO - ------------ Save FOLD-BEST model - MSE: 36.3475 ------------\n"
     ]
    },
    {
     "name": "stdout",
     "output_type": "stream",
     "text": [
      "Custom bins confusion matrix:\n",
      "[[122  81]\n",
      " [ 30 114]]\n",
      "Mean absolute deviation (MAD) = 4.531099686040055\n",
      "Mean squared error (MSE) = 36.34748656804744\n",
      "Mean absolute percentage error (MAPE) = 518.1645175533617\n",
      "Cohen kappa score = 0.37343223854375085\n",
      "Fold 3, mse = 36.3475, mad = 4.5311\n"
     ]
    },
    {
     "name": "stderr",
     "output_type": "stream",
     "text": [
      "2025-02-23 13:04:46,509 - INFO - Fold 3, mse = 36.3475, mad = 4.5311\n",
      "/home/zzj/anaconda3/envs/distcare/lib/python3.7/site-packages/torch/nn/functional.py:1960: UserWarning: nn.functional.sigmoid is deprecated. Use torch.sigmoid instead.\n",
      "  warnings.warn(\"nn.functional.sigmoid is deprecated. Use torch.sigmoid instead.\")\n",
      "2025-02-23 13:04:46,692 - INFO - Fold 3 Epoch 9 Batch 0: Train Loss = 1.9245\n"
     ]
    },
    {
     "name": "stdout",
     "output_type": "stream",
     "text": [
      "Fold 3 Epoch 9 Batch 0: Train Loss = 1.9245\n",
      "{'mad': 4.491898366288234, 'mse': 35.908712862812564, 'mape': 511.37408169280707, 'kappa': 0.38897391590553776}\n",
      "------------ Save FOLD-BEST model - MSE: 35.9087 ------------\n"
     ]
    },
    {
     "name": "stderr",
     "output_type": "stream",
     "text": [
      "2025-02-23 13:04:47,657 - INFO - ------------ Save FOLD-BEST model - MSE: 35.9087 ------------\n"
     ]
    },
    {
     "name": "stdout",
     "output_type": "stream",
     "text": [
      "Custom bins confusion matrix:\n",
      "[[130  73]\n",
      " [ 34 110]]\n",
      "Mean absolute deviation (MAD) = 4.491898366288234\n",
      "Mean squared error (MSE) = 35.908712862812564\n",
      "Mean absolute percentage error (MAPE) = 511.37408169280707\n",
      "Cohen kappa score = 0.38897391590553776\n",
      "Fold 3, mse = 35.9087, mad = 4.4919\n"
     ]
    },
    {
     "name": "stderr",
     "output_type": "stream",
     "text": [
      "2025-02-23 13:04:47,772 - INFO - Fold 3, mse = 35.9087, mad = 4.4919\n",
      "/home/zzj/anaconda3/envs/distcare/lib/python3.7/site-packages/torch/nn/functional.py:1960: UserWarning: nn.functional.sigmoid is deprecated. Use torch.sigmoid instead.\n",
      "  warnings.warn(\"nn.functional.sigmoid is deprecated. Use torch.sigmoid instead.\")\n",
      "2025-02-23 13:04:47,936 - INFO - Fold 3 Epoch 10 Batch 0: Train Loss = 1.6000\n"
     ]
    },
    {
     "name": "stdout",
     "output_type": "stream",
     "text": [
      "Fold 3 Epoch 10 Batch 0: Train Loss = 1.6000\n",
      "{'mad': 4.470014424230763, 'mse': 35.15325248557429, 'mape': 524.5166878637046, 'kappa': 0.39251296650795997}\n",
      "Fold 3, epoch 10: Loss = 1.7112 Valid loss = 1.6676 MSE = 35.1533 AUROC = 0.9757\n"
     ]
    },
    {
     "name": "stderr",
     "output_type": "stream",
     "text": [
      "2025-02-23 13:04:48,828 - INFO - Fold 3, epoch 10: Loss = 1.7112 Valid loss = 1.6676 MSE = 35.1533 AUROC = 0.9757\n"
     ]
    },
    {
     "name": "stdout",
     "output_type": "stream",
     "text": [
      "------------ Save FOLD-BEST model - MSE: 35.1533 ------------\n"
     ]
    },
    {
     "name": "stderr",
     "output_type": "stream",
     "text": [
      "2025-02-23 13:04:48,830 - INFO - ------------ Save FOLD-BEST model - MSE: 35.1533 ------------\n"
     ]
    },
    {
     "name": "stdout",
     "output_type": "stream",
     "text": [
      "Custom bins confusion matrix:\n",
      "[[127  76]\n",
      " [ 31 113]]\n",
      "Mean absolute deviation (MAD) = 4.470014424230763\n",
      "Mean squared error (MSE) = 35.15325248557429\n",
      "Mean absolute percentage error (MAPE) = 524.5166878637046\n",
      "Cohen kappa score = 0.39251296650795997\n",
      "Fold 3, mse = 35.1533, mad = 4.4700\n"
     ]
    },
    {
     "name": "stderr",
     "output_type": "stream",
     "text": [
      "2025-02-23 13:04:48,949 - INFO - Fold 3, mse = 35.1533, mad = 4.4700\n",
      "/home/zzj/anaconda3/envs/distcare/lib/python3.7/site-packages/torch/nn/functional.py:1960: UserWarning: nn.functional.sigmoid is deprecated. Use torch.sigmoid instead.\n",
      "  warnings.warn(\"nn.functional.sigmoid is deprecated. Use torch.sigmoid instead.\")\n",
      "2025-02-23 13:04:49,110 - INFO - Fold 3 Epoch 11 Batch 0: Train Loss = 2.0354\n"
     ]
    },
    {
     "name": "stdout",
     "output_type": "stream",
     "text": [
      "Fold 3 Epoch 11 Batch 0: Train Loss = 2.0354\n",
      "{'mad': 4.433578173704494, 'mse': 35.758301609075104, 'mape': 466.8889799221282, 'kappa': 0.40775074462032734}\n",
      "------------ auroc-BEST model - auroc: 0.9768 ------------\n"
     ]
    },
    {
     "name": "stderr",
     "output_type": "stream",
     "text": [
      "2025-02-23 13:04:49,983 - INFO - ------------ auroc-BEST model - auroc: 0.9768 ------------\n"
     ]
    },
    {
     "name": "stdout",
     "output_type": "stream",
     "text": [
      "Fold 3, mse = 35.7583, mad = 4.4336\n"
     ]
    },
    {
     "name": "stderr",
     "output_type": "stream",
     "text": [
      "2025-02-23 13:04:49,985 - INFO - Fold 3, mse = 35.7583, mad = 4.4336\n",
      "/home/zzj/anaconda3/envs/distcare/lib/python3.7/site-packages/torch/nn/functional.py:1960: UserWarning: nn.functional.sigmoid is deprecated. Use torch.sigmoid instead.\n",
      "  warnings.warn(\"nn.functional.sigmoid is deprecated. Use torch.sigmoid instead.\")\n",
      "2025-02-23 13:04:50,147 - INFO - Fold 3 Epoch 12 Batch 0: Train Loss = 1.4496\n"
     ]
    },
    {
     "name": "stdout",
     "output_type": "stream",
     "text": [
      "Fold 3 Epoch 12 Batch 0: Train Loss = 1.4496\n",
      "{'mad': 4.464994232767725, 'mse': 34.248543569536245, 'mape': 536.9335920711165, 'kappa': 0.39946948744076216}\n",
      "------------ Save FOLD-BEST model - MSE: 34.2485 ------------\n"
     ]
    },
    {
     "name": "stderr",
     "output_type": "stream",
     "text": [
      "2025-02-23 13:04:51,061 - INFO - ------------ Save FOLD-BEST model - MSE: 34.2485 ------------\n"
     ]
    },
    {
     "name": "stdout",
     "output_type": "stream",
     "text": [
      "Custom bins confusion matrix:\n",
      "[[121  82]\n",
      " [ 25 119]]\n",
      "Mean absolute deviation (MAD) = 4.464994232767725\n",
      "Mean squared error (MSE) = 34.248543569536245\n",
      "Mean absolute percentage error (MAPE) = 536.9335920711165\n",
      "Cohen kappa score = 0.39946948744076216\n",
      "Fold 3, mse = 34.2485, mad = 4.4650\n"
     ]
    },
    {
     "name": "stderr",
     "output_type": "stream",
     "text": [
      "2025-02-23 13:04:51,177 - INFO - Fold 3, mse = 34.2485, mad = 4.4650\n",
      "/home/zzj/anaconda3/envs/distcare/lib/python3.7/site-packages/torch/nn/functional.py:1960: UserWarning: nn.functional.sigmoid is deprecated. Use torch.sigmoid instead.\n",
      "  warnings.warn(\"nn.functional.sigmoid is deprecated. Use torch.sigmoid instead.\")\n",
      "2025-02-23 13:04:51,336 - INFO - Fold 3 Epoch 13 Batch 0: Train Loss = 1.6447\n"
     ]
    },
    {
     "name": "stdout",
     "output_type": "stream",
     "text": [
      "Fold 3 Epoch 13 Batch 0: Train Loss = 1.6447\n",
      "{'mad': 4.375624945281899, 'mse': 34.74563100041052, 'mape': 459.1048014086964, 'kappa': 0.4406481096800997}\n",
      "------------ auroc-BEST model - auroc: 0.9778 ------------\n"
     ]
    },
    {
     "name": "stderr",
     "output_type": "stream",
     "text": [
      "2025-02-23 13:04:52,188 - INFO - ------------ auroc-BEST model - auroc: 0.9778 ------------\n"
     ]
    },
    {
     "name": "stdout",
     "output_type": "stream",
     "text": [
      "Fold 3, mse = 34.7456, mad = 4.3756\n"
     ]
    },
    {
     "name": "stderr",
     "output_type": "stream",
     "text": [
      "2025-02-23 13:04:52,190 - INFO - Fold 3, mse = 34.7456, mad = 4.3756\n",
      "/home/zzj/anaconda3/envs/distcare/lib/python3.7/site-packages/torch/nn/functional.py:1960: UserWarning: nn.functional.sigmoid is deprecated. Use torch.sigmoid instead.\n",
      "  warnings.warn(\"nn.functional.sigmoid is deprecated. Use torch.sigmoid instead.\")\n",
      "2025-02-23 13:04:52,360 - INFO - Fold 3 Epoch 14 Batch 0: Train Loss = 1.3172\n"
     ]
    },
    {
     "name": "stdout",
     "output_type": "stream",
     "text": [
      "Fold 3 Epoch 14 Batch 0: Train Loss = 1.3172\n",
      "{'mad': 4.383426745279484, 'mse': 33.593011171253934, 'mape': 502.02980147351343, 'kappa': 0.42588807785888083}\n",
      "------------ Save FOLD-BEST model - MSE: 33.5930 ------------\n"
     ]
    },
    {
     "name": "stderr",
     "output_type": "stream",
     "text": [
      "2025-02-23 13:04:53,368 - INFO - ------------ Save FOLD-BEST model - MSE: 33.5930 ------------\n"
     ]
    },
    {
     "name": "stdout",
     "output_type": "stream",
     "text": [
      "Custom bins confusion matrix:\n",
      "[[125  78]\n",
      " [ 24 120]]\n",
      "Mean absolute deviation (MAD) = 4.383426745279484\n",
      "Mean squared error (MSE) = 33.593011171253934\n",
      "Mean absolute percentage error (MAPE) = 502.02980147351343\n",
      "Cohen kappa score = 0.42588807785888083\n",
      "------------ auroc-BEST model - auroc: 0.9792 ------------\n"
     ]
    },
    {
     "name": "stderr",
     "output_type": "stream",
     "text": [
      "2025-02-23 13:04:53,489 - INFO - ------------ auroc-BEST model - auroc: 0.9792 ------------\n"
     ]
    },
    {
     "name": "stdout",
     "output_type": "stream",
     "text": [
      "Fold 3, mse = 33.5930, mad = 4.3834\n"
     ]
    },
    {
     "name": "stderr",
     "output_type": "stream",
     "text": [
      "2025-02-23 13:04:53,491 - INFO - Fold 3, mse = 33.5930, mad = 4.3834\n",
      "/home/zzj/anaconda3/envs/distcare/lib/python3.7/site-packages/torch/nn/functional.py:1960: UserWarning: nn.functional.sigmoid is deprecated. Use torch.sigmoid instead.\n",
      "  warnings.warn(\"nn.functional.sigmoid is deprecated. Use torch.sigmoid instead.\")\n",
      "2025-02-23 13:04:53,655 - INFO - Fold 3 Epoch 15 Batch 0: Train Loss = 1.4907\n"
     ]
    },
    {
     "name": "stdout",
     "output_type": "stream",
     "text": [
      "Fold 3 Epoch 15 Batch 0: Train Loss = 1.4907\n",
      "{'mad': 4.343641839124893, 'mse': 34.27621320515093, 'mape': 433.1798033677045, 'kappa': 0.4595373806998939}\n",
      "------------ auroc-BEST model - auroc: 0.9830 ------------\n"
     ]
    },
    {
     "name": "stderr",
     "output_type": "stream",
     "text": [
      "2025-02-23 13:04:54,511 - INFO - ------------ auroc-BEST model - auroc: 0.9830 ------------\n"
     ]
    },
    {
     "name": "stdout",
     "output_type": "stream",
     "text": [
      "Fold 3, mse = 34.2762, mad = 4.3436\n"
     ]
    },
    {
     "name": "stderr",
     "output_type": "stream",
     "text": [
      "2025-02-23 13:04:54,513 - INFO - Fold 3, mse = 34.2762, mad = 4.3436\n",
      "/home/zzj/anaconda3/envs/distcare/lib/python3.7/site-packages/torch/nn/functional.py:1960: UserWarning: nn.functional.sigmoid is deprecated. Use torch.sigmoid instead.\n",
      "  warnings.warn(\"nn.functional.sigmoid is deprecated. Use torch.sigmoid instead.\")\n",
      "2025-02-23 13:04:54,698 - INFO - Fold 3 Epoch 16 Batch 0: Train Loss = 1.3304\n"
     ]
    },
    {
     "name": "stdout",
     "output_type": "stream",
     "text": [
      "Fold 3 Epoch 16 Batch 0: Train Loss = 1.3304\n",
      "{'mad': 4.297499360378016, 'mse': 33.02226941563087, 'mape': 473.63592283426243, 'kappa': 0.45959902296683663}\n",
      "------------ Save FOLD-BEST model - MSE: 33.0223 ------------\n"
     ]
    },
    {
     "name": "stderr",
     "output_type": "stream",
     "text": [
      "2025-02-23 13:04:55,679 - INFO - ------------ Save FOLD-BEST model - MSE: 33.0223 ------------\n"
     ]
    },
    {
     "name": "stdout",
     "output_type": "stream",
     "text": [
      "Custom bins confusion matrix:\n",
      "[[134  69]\n",
      " [ 26 118]]\n",
      "Mean absolute deviation (MAD) = 4.297499360378016\n",
      "Mean squared error (MSE) = 33.02226941563087\n",
      "Mean absolute percentage error (MAPE) = 473.63592283426243\n",
      "Cohen kappa score = 0.45959902296683663\n",
      "Fold 3, mse = 33.0223, mad = 4.2975\n"
     ]
    },
    {
     "name": "stderr",
     "output_type": "stream",
     "text": [
      "2025-02-23 13:04:55,800 - INFO - Fold 3, mse = 33.0223, mad = 4.2975\n",
      "/home/zzj/anaconda3/envs/distcare/lib/python3.7/site-packages/torch/nn/functional.py:1960: UserWarning: nn.functional.sigmoid is deprecated. Use torch.sigmoid instead.\n",
      "  warnings.warn(\"nn.functional.sigmoid is deprecated. Use torch.sigmoid instead.\")\n",
      "2025-02-23 13:04:55,964 - INFO - Fold 3 Epoch 17 Batch 0: Train Loss = 1.2129\n"
     ]
    },
    {
     "name": "stdout",
     "output_type": "stream",
     "text": [
      "Fold 3 Epoch 17 Batch 0: Train Loss = 1.2129\n",
      "{'mad': 4.332455863336809, 'mse': 32.91531317824184, 'mape': 488.44870197025614, 'kappa': 0.4637314218071813}\n",
      "------------ Save FOLD-BEST model - MSE: 32.9153 ------------\n"
     ]
    },
    {
     "name": "stderr",
     "output_type": "stream",
     "text": [
      "2025-02-23 13:04:56,913 - INFO - ------------ Save FOLD-BEST model - MSE: 32.9153 ------------\n"
     ]
    },
    {
     "name": "stdout",
     "output_type": "stream",
     "text": [
      "Custom bins confusion matrix:\n",
      "[[136  67]\n",
      " [ 27 117]]\n",
      "Mean absolute deviation (MAD) = 4.332455863336809\n",
      "Mean squared error (MSE) = 32.91531317824184\n",
      "Mean absolute percentage error (MAPE) = 488.44870197025614\n",
      "Cohen kappa score = 0.4637314218071813\n",
      "------------ auroc-BEST model - auroc: 0.9831 ------------\n"
     ]
    },
    {
     "name": "stderr",
     "output_type": "stream",
     "text": [
      "2025-02-23 13:04:57,035 - INFO - ------------ auroc-BEST model - auroc: 0.9831 ------------\n"
     ]
    },
    {
     "name": "stdout",
     "output_type": "stream",
     "text": [
      "Fold 3, mse = 32.9153, mad = 4.3325\n"
     ]
    },
    {
     "name": "stderr",
     "output_type": "stream",
     "text": [
      "2025-02-23 13:04:57,037 - INFO - Fold 3, mse = 32.9153, mad = 4.3325\n",
      "/home/zzj/anaconda3/envs/distcare/lib/python3.7/site-packages/torch/nn/functional.py:1960: UserWarning: nn.functional.sigmoid is deprecated. Use torch.sigmoid instead.\n",
      "  warnings.warn(\"nn.functional.sigmoid is deprecated. Use torch.sigmoid instead.\")\n",
      "2025-02-23 13:04:57,203 - INFO - Fold 3 Epoch 18 Batch 0: Train Loss = 1.2255\n"
     ]
    },
    {
     "name": "stdout",
     "output_type": "stream",
     "text": [
      "Fold 3 Epoch 18 Batch 0: Train Loss = 1.2255\n",
      "{'mad': 4.244057054773566, 'mse': 32.90419810160657, 'mape': 437.5897507466985, 'kappa': 0.45325327981689423}\n",
      "------------ Save FOLD-BEST model - MSE: 32.9042 ------------\n"
     ]
    },
    {
     "name": "stderr",
     "output_type": "stream",
     "text": [
      "2025-02-23 13:04:58,164 - INFO - ------------ Save FOLD-BEST model - MSE: 32.9042 ------------\n"
     ]
    },
    {
     "name": "stdout",
     "output_type": "stream",
     "text": [
      "Custom bins confusion matrix:\n",
      "[[140  63]\n",
      " [ 32 112]]\n",
      "Mean absolute deviation (MAD) = 4.244057054773566\n",
      "Mean squared error (MSE) = 32.90419810160657\n",
      "Mean absolute percentage error (MAPE) = 437.5897507466985\n",
      "Cohen kappa score = 0.45325327981689423\n",
      "Fold 3, mse = 32.9042, mad = 4.2441\n"
     ]
    },
    {
     "name": "stderr",
     "output_type": "stream",
     "text": [
      "2025-02-23 13:04:58,284 - INFO - Fold 3, mse = 32.9042, mad = 4.2441\n",
      "/home/zzj/anaconda3/envs/distcare/lib/python3.7/site-packages/torch/nn/functional.py:1960: UserWarning: nn.functional.sigmoid is deprecated. Use torch.sigmoid instead.\n",
      "  warnings.warn(\"nn.functional.sigmoid is deprecated. Use torch.sigmoid instead.\")\n",
      "2025-02-23 13:04:58,451 - INFO - Fold 3 Epoch 19 Batch 0: Train Loss = 1.2536\n"
     ]
    },
    {
     "name": "stdout",
     "output_type": "stream",
     "text": [
      "Fold 3 Epoch 19 Batch 0: Train Loss = 1.2536\n",
      "{'mad': 4.301942301162347, 'mse': 33.430854871272366, 'mape': 423.8353018313478, 'kappa': 0.4500241912611155}\n",
      "------------ auroc-BEST model - auroc: 0.9851 ------------\n"
     ]
    },
    {
     "name": "stderr",
     "output_type": "stream",
     "text": [
      "2025-02-23 13:04:59,339 - INFO - ------------ auroc-BEST model - auroc: 0.9851 ------------\n"
     ]
    },
    {
     "name": "stdout",
     "output_type": "stream",
     "text": [
      "Fold 3, mse = 33.4309, mad = 4.3019\n"
     ]
    },
    {
     "name": "stderr",
     "output_type": "stream",
     "text": [
      "2025-02-23 13:04:59,341 - INFO - Fold 3, mse = 33.4309, mad = 4.3019\n",
      "/home/zzj/anaconda3/envs/distcare/lib/python3.7/site-packages/torch/nn/functional.py:1960: UserWarning: nn.functional.sigmoid is deprecated. Use torch.sigmoid instead.\n",
      "  warnings.warn(\"nn.functional.sigmoid is deprecated. Use torch.sigmoid instead.\")\n",
      "2025-02-23 13:04:59,503 - INFO - Fold 3 Epoch 20 Batch 0: Train Loss = 1.4239\n"
     ]
    },
    {
     "name": "stdout",
     "output_type": "stream",
     "text": [
      "Fold 3 Epoch 20 Batch 0: Train Loss = 1.4239\n",
      "{'mad': 4.212453177781147, 'mse': 32.902367530142406, 'mape': 405.88306220458276, 'kappa': 0.44258893611324923}\n",
      "Fold 3, epoch 20: Loss = 1.2025 Valid loss = 1.5115 MSE = 32.9024 AUROC = 0.9818\n"
     ]
    },
    {
     "name": "stderr",
     "output_type": "stream",
     "text": [
      "2025-02-23 13:05:00,411 - INFO - Fold 3, epoch 20: Loss = 1.2025 Valid loss = 1.5115 MSE = 32.9024 AUROC = 0.9818\n"
     ]
    },
    {
     "name": "stdout",
     "output_type": "stream",
     "text": [
      "------------ Save FOLD-BEST model - MSE: 32.9024 ------------\n"
     ]
    },
    {
     "name": "stderr",
     "output_type": "stream",
     "text": [
      "2025-02-23 13:05:00,413 - INFO - ------------ Save FOLD-BEST model - MSE: 32.9024 ------------\n"
     ]
    },
    {
     "name": "stdout",
     "output_type": "stream",
     "text": [
      "Custom bins confusion matrix:\n",
      "[[144  59]\n",
      " [ 37 107]]\n",
      "Mean absolute deviation (MAD) = 4.212453177781147\n",
      "Mean squared error (MSE) = 32.902367530142406\n",
      "Mean absolute percentage error (MAPE) = 405.88306220458276\n",
      "Cohen kappa score = 0.44258893611324923\n",
      "Fold 3, mse = 32.9024, mad = 4.2125\n"
     ]
    },
    {
     "name": "stderr",
     "output_type": "stream",
     "text": [
      "2025-02-23 13:05:00,547 - INFO - Fold 3, mse = 32.9024, mad = 4.2125\n",
      "/home/zzj/anaconda3/envs/distcare/lib/python3.7/site-packages/torch/nn/functional.py:1960: UserWarning: nn.functional.sigmoid is deprecated. Use torch.sigmoid instead.\n",
      "  warnings.warn(\"nn.functional.sigmoid is deprecated. Use torch.sigmoid instead.\")\n",
      "2025-02-23 13:05:00,726 - INFO - Fold 3 Epoch 21 Batch 0: Train Loss = 1.2371\n"
     ]
    },
    {
     "name": "stdout",
     "output_type": "stream",
     "text": [
      "Fold 3 Epoch 21 Batch 0: Train Loss = 1.2371\n",
      "{'mad': 4.210962354323501, 'mse': 31.78714477973417, 'mape': 456.01829161248804, 'kappa': 0.428783310243664}\n",
      "------------ Save FOLD-BEST model - MSE: 31.7871 ------------\n"
     ]
    },
    {
     "name": "stderr",
     "output_type": "stream",
     "text": [
      "2025-02-23 13:05:01,744 - INFO - ------------ Save FOLD-BEST model - MSE: 31.7871 ------------\n"
     ]
    },
    {
     "name": "stdout",
     "output_type": "stream",
     "text": [
      "Custom bins confusion matrix:\n",
      "[[128  75]\n",
      " [ 26 118]]\n",
      "Mean absolute deviation (MAD) = 4.210962354323501\n",
      "Mean squared error (MSE) = 31.78714477973417\n",
      "Mean absolute percentage error (MAPE) = 456.01829161248804\n",
      "Cohen kappa score = 0.428783310243664\n",
      "Fold 3, mse = 31.7871, mad = 4.2110\n"
     ]
    },
    {
     "name": "stderr",
     "output_type": "stream",
     "text": [
      "2025-02-23 13:05:01,872 - INFO - Fold 3, mse = 31.7871, mad = 4.2110\n",
      "/home/zzj/anaconda3/envs/distcare/lib/python3.7/site-packages/torch/nn/functional.py:1960: UserWarning: nn.functional.sigmoid is deprecated. Use torch.sigmoid instead.\n",
      "  warnings.warn(\"nn.functional.sigmoid is deprecated. Use torch.sigmoid instead.\")\n",
      "2025-02-23 13:05:02,052 - INFO - Fold 3 Epoch 22 Batch 0: Train Loss = 1.1394\n"
     ]
    },
    {
     "name": "stdout",
     "output_type": "stream",
     "text": [
      "Fold 3 Epoch 22 Batch 0: Train Loss = 1.1394\n",
      "{'mad': 4.163654673422549, 'mse': 32.062337516833246, 'mape': 427.00939765630596, 'kappa': 0.4564446716243177}\n",
      "Fold 3, mse = 32.0623, mad = 4.1637\n"
     ]
    },
    {
     "name": "stderr",
     "output_type": "stream",
     "text": [
      "2025-02-23 13:05:02,970 - INFO - Fold 3, mse = 32.0623, mad = 4.1637\n",
      "/home/zzj/anaconda3/envs/distcare/lib/python3.7/site-packages/torch/nn/functional.py:1960: UserWarning: nn.functional.sigmoid is deprecated. Use torch.sigmoid instead.\n",
      "  warnings.warn(\"nn.functional.sigmoid is deprecated. Use torch.sigmoid instead.\")\n",
      "2025-02-23 13:05:03,131 - INFO - Fold 3 Epoch 23 Batch 0: Train Loss = 1.3139\n"
     ]
    },
    {
     "name": "stdout",
     "output_type": "stream",
     "text": [
      "Fold 3 Epoch 23 Batch 0: Train Loss = 1.3139\n",
      "{'mad': 4.221214213725833, 'mse': 32.48658889038632, 'mape': 436.5505254093353, 'kappa': 0.4574156630514339}\n",
      "Fold 3, mse = 32.4866, mad = 4.2212\n"
     ]
    },
    {
     "name": "stderr",
     "output_type": "stream",
     "text": [
      "2025-02-23 13:05:04,041 - INFO - Fold 3, mse = 32.4866, mad = 4.2212\n",
      "/home/zzj/anaconda3/envs/distcare/lib/python3.7/site-packages/torch/nn/functional.py:1960: UserWarning: nn.functional.sigmoid is deprecated. Use torch.sigmoid instead.\n",
      "  warnings.warn(\"nn.functional.sigmoid is deprecated. Use torch.sigmoid instead.\")\n",
      "2025-02-23 13:05:04,227 - INFO - Fold 3 Epoch 24 Batch 0: Train Loss = 1.0711\n"
     ]
    },
    {
     "name": "stdout",
     "output_type": "stream",
     "text": [
      "Fold 3 Epoch 24 Batch 0: Train Loss = 1.0711\n",
      "{'mad': 4.126488443512693, 'mse': 31.78938047225843, 'mape': 445.33470252422836, 'kappa': 0.47933121176645177}\n",
      "Fold 3, mse = 31.7894, mad = 4.1265\n"
     ]
    },
    {
     "name": "stderr",
     "output_type": "stream",
     "text": [
      "2025-02-23 13:05:05,148 - INFO - Fold 3, mse = 31.7894, mad = 4.1265\n",
      "/home/zzj/anaconda3/envs/distcare/lib/python3.7/site-packages/torch/nn/functional.py:1960: UserWarning: nn.functional.sigmoid is deprecated. Use torch.sigmoid instead.\n",
      "  warnings.warn(\"nn.functional.sigmoid is deprecated. Use torch.sigmoid instead.\")\n",
      "2025-02-23 13:05:05,326 - INFO - Fold 3 Epoch 25 Batch 0: Train Loss = 1.3144\n"
     ]
    },
    {
     "name": "stdout",
     "output_type": "stream",
     "text": [
      "Fold 3 Epoch 25 Batch 0: Train Loss = 1.3144\n",
      "{'mad': 4.147130070304829, 'mse': 32.140877892787834, 'mape': 417.3228326140986, 'kappa': 0.4605406128282711}\n",
      "------------ auroc-BEST model - auroc: 0.9883 ------------\n"
     ]
    },
    {
     "name": "stderr",
     "output_type": "stream",
     "text": [
      "2025-02-23 13:05:06,193 - INFO - ------------ auroc-BEST model - auroc: 0.9883 ------------\n"
     ]
    },
    {
     "name": "stdout",
     "output_type": "stream",
     "text": [
      "Fold 3, mse = 32.1409, mad = 4.1471\n"
     ]
    },
    {
     "name": "stderr",
     "output_type": "stream",
     "text": [
      "2025-02-23 13:05:06,196 - INFO - Fold 3, mse = 32.1409, mad = 4.1471\n",
      "/home/zzj/anaconda3/envs/distcare/lib/python3.7/site-packages/torch/nn/functional.py:1960: UserWarning: nn.functional.sigmoid is deprecated. Use torch.sigmoid instead.\n",
      "  warnings.warn(\"nn.functional.sigmoid is deprecated. Use torch.sigmoid instead.\")\n",
      "2025-02-23 13:05:06,360 - INFO - Fold 3 Epoch 26 Batch 0: Train Loss = 1.1939\n"
     ]
    },
    {
     "name": "stdout",
     "output_type": "stream",
     "text": [
      "Fold 3 Epoch 26 Batch 0: Train Loss = 1.1939\n",
      "{'mad': 4.03801890687371, 'mse': 31.37821474456615, 'mape': 413.37653673008725, 'kappa': 0.46685060053858485}\n",
      "------------ Save FOLD-BEST model - MSE: 31.3782 ------------\n"
     ]
    },
    {
     "name": "stderr",
     "output_type": "stream",
     "text": [
      "2025-02-23 13:05:07,339 - INFO - ------------ Save FOLD-BEST model - MSE: 31.3782 ------------\n"
     ]
    },
    {
     "name": "stdout",
     "output_type": "stream",
     "text": [
      "Custom bins confusion matrix:\n",
      "[[139  64]\n",
      " [ 29 115]]\n",
      "Mean absolute deviation (MAD) = 4.03801890687371\n",
      "Mean squared error (MSE) = 31.37821474456615\n",
      "Mean absolute percentage error (MAPE) = 413.37653673008725\n",
      "Cohen kappa score = 0.46685060053858485\n",
      "Fold 3, mse = 31.3782, mad = 4.0380\n"
     ]
    },
    {
     "name": "stderr",
     "output_type": "stream",
     "text": [
      "2025-02-23 13:05:07,468 - INFO - Fold 3, mse = 31.3782, mad = 4.0380\n",
      "/home/zzj/anaconda3/envs/distcare/lib/python3.7/site-packages/torch/nn/functional.py:1960: UserWarning: nn.functional.sigmoid is deprecated. Use torch.sigmoid instead.\n",
      "  warnings.warn(\"nn.functional.sigmoid is deprecated. Use torch.sigmoid instead.\")\n",
      "2025-02-23 13:05:07,643 - INFO - Fold 3 Epoch 27 Batch 0: Train Loss = 1.1034\n"
     ]
    },
    {
     "name": "stdout",
     "output_type": "stream",
     "text": [
      "Fold 3 Epoch 27 Batch 0: Train Loss = 1.1034\n",
      "{'mad': 4.094416050613292, 'mse': 31.510338392251974, 'mape': 405.03487702703234, 'kappa': 0.4458713154567835}\n",
      "------------ auroc-BEST model - auroc: 0.9889 ------------\n"
     ]
    },
    {
     "name": "stderr",
     "output_type": "stream",
     "text": [
      "2025-02-23 13:05:08,521 - INFO - ------------ auroc-BEST model - auroc: 0.9889 ------------\n"
     ]
    },
    {
     "name": "stdout",
     "output_type": "stream",
     "text": [
      "Fold 3, mse = 31.5103, mad = 4.0944\n"
     ]
    },
    {
     "name": "stderr",
     "output_type": "stream",
     "text": [
      "2025-02-23 13:05:08,522 - INFO - Fold 3, mse = 31.5103, mad = 4.0944\n",
      "/home/zzj/anaconda3/envs/distcare/lib/python3.7/site-packages/torch/nn/functional.py:1960: UserWarning: nn.functional.sigmoid is deprecated. Use torch.sigmoid instead.\n",
      "  warnings.warn(\"nn.functional.sigmoid is deprecated. Use torch.sigmoid instead.\")\n",
      "2025-02-23 13:05:08,712 - INFO - Fold 3 Epoch 28 Batch 0: Train Loss = 1.0467\n"
     ]
    },
    {
     "name": "stdout",
     "output_type": "stream",
     "text": [
      "Fold 3 Epoch 28 Batch 0: Train Loss = 1.0467\n",
      "{'mad': 3.98556570530248, 'mse': 30.261667512745262, 'mape': 414.98452272069005, 'kappa': 0.4761576581011454}\n",
      "------------ Save FOLD-BEST model - MSE: 30.2617 ------------\n"
     ]
    },
    {
     "name": "stderr",
     "output_type": "stream",
     "text": [
      "2025-02-23 13:05:09,648 - INFO - ------------ Save FOLD-BEST model - MSE: 30.2617 ------------\n"
     ]
    },
    {
     "name": "stdout",
     "output_type": "stream",
     "text": [
      "Custom bins confusion matrix:\n",
      "[[136  67]\n",
      " [ 25 119]]\n",
      "Mean absolute deviation (MAD) = 3.98556570530248\n",
      "Mean squared error (MSE) = 30.261667512745262\n",
      "Mean absolute percentage error (MAPE) = 414.98452272069005\n",
      "Cohen kappa score = 0.4761576581011454\n",
      "Fold 3, mse = 30.2617, mad = 3.9856\n"
     ]
    },
    {
     "name": "stderr",
     "output_type": "stream",
     "text": [
      "2025-02-23 13:05:09,764 - INFO - Fold 3, mse = 30.2617, mad = 3.9856\n",
      "/home/zzj/anaconda3/envs/distcare/lib/python3.7/site-packages/torch/nn/functional.py:1960: UserWarning: nn.functional.sigmoid is deprecated. Use torch.sigmoid instead.\n",
      "  warnings.warn(\"nn.functional.sigmoid is deprecated. Use torch.sigmoid instead.\")\n",
      "2025-02-23 13:05:09,932 - INFO - Fold 3 Epoch 29 Batch 0: Train Loss = 0.9698\n"
     ]
    },
    {
     "name": "stdout",
     "output_type": "stream",
     "text": [
      "Fold 3 Epoch 29 Batch 0: Train Loss = 0.9698\n",
      "{'mad': 4.073676325520598, 'mse': 30.811077431750835, 'mape': 398.6044659720858, 'kappa': 0.4742161613134189}\n",
      "Fold 3, mse = 30.8111, mad = 4.0737\n"
     ]
    },
    {
     "name": "stderr",
     "output_type": "stream",
     "text": [
      "2025-02-23 13:05:10,882 - INFO - Fold 3, mse = 30.8111, mad = 4.0737\n",
      "/home/zzj/anaconda3/envs/distcare/lib/python3.7/site-packages/torch/nn/functional.py:1960: UserWarning: nn.functional.sigmoid is deprecated. Use torch.sigmoid instead.\n",
      "  warnings.warn(\"nn.functional.sigmoid is deprecated. Use torch.sigmoid instead.\")\n",
      "2025-02-23 13:05:11,044 - INFO - Fold 3 Epoch 30 Batch 0: Train Loss = 1.0189\n"
     ]
    },
    {
     "name": "stdout",
     "output_type": "stream",
     "text": [
      "Fold 3 Epoch 30 Batch 0: Train Loss = 1.0189\n",
      "{'mad': 4.097523886853188, 'mse': 31.02822829170885, 'mape': 400.34299885397, 'kappa': 0.46581439710853056}\n",
      "Fold 3, epoch 30: Loss = 1.0108 Valid loss = 1.3688 MSE = 31.0282 AUROC = 0.9872\n"
     ]
    },
    {
     "name": "stderr",
     "output_type": "stream",
     "text": [
      "2025-02-23 13:05:11,979 - INFO - Fold 3, epoch 30: Loss = 1.0108 Valid loss = 1.3688 MSE = 31.0282 AUROC = 0.9872\n"
     ]
    },
    {
     "name": "stdout",
     "output_type": "stream",
     "text": [
      "Fold 3, mse = 31.0282, mad = 4.0975\n"
     ]
    },
    {
     "name": "stderr",
     "output_type": "stream",
     "text": [
      "2025-02-23 13:05:11,981 - INFO - Fold 3, mse = 31.0282, mad = 4.0975\n",
      "/home/zzj/anaconda3/envs/distcare/lib/python3.7/site-packages/torch/nn/functional.py:1960: UserWarning: nn.functional.sigmoid is deprecated. Use torch.sigmoid instead.\n",
      "  warnings.warn(\"nn.functional.sigmoid is deprecated. Use torch.sigmoid instead.\")\n",
      "2025-02-23 13:05:12,154 - INFO - Fold 3 Epoch 31 Batch 0: Train Loss = 1.0341\n"
     ]
    },
    {
     "name": "stdout",
     "output_type": "stream",
     "text": [
      "Fold 3 Epoch 31 Batch 0: Train Loss = 1.0341\n",
      "{'mad': 4.152622909235696, 'mse': 31.33767359096409, 'mape': 396.1049440586727, 'kappa': 0.46791559718657294}\n",
      "Fold 3, mse = 31.3377, mad = 4.1526\n"
     ]
    },
    {
     "name": "stderr",
     "output_type": "stream",
     "text": [
      "2025-02-23 13:05:13,118 - INFO - Fold 3, mse = 31.3377, mad = 4.1526\n",
      "/home/zzj/anaconda3/envs/distcare/lib/python3.7/site-packages/torch/nn/functional.py:1960: UserWarning: nn.functional.sigmoid is deprecated. Use torch.sigmoid instead.\n",
      "  warnings.warn(\"nn.functional.sigmoid is deprecated. Use torch.sigmoid instead.\")\n",
      "2025-02-23 13:05:13,272 - INFO - Fold 3 Epoch 32 Batch 0: Train Loss = 1.0377\n"
     ]
    },
    {
     "name": "stdout",
     "output_type": "stream",
     "text": [
      "Fold 3 Epoch 32 Batch 0: Train Loss = 1.0377\n",
      "{'mad': 4.029355964282472, 'mse': 30.91023948402167, 'mape': 385.7013615169661, 'kappa': 0.4742161613134189}\n",
      "Fold 3, mse = 30.9102, mad = 4.0294\n"
     ]
    },
    {
     "name": "stderr",
     "output_type": "stream",
     "text": [
      "2025-02-23 13:05:14,153 - INFO - Fold 3, mse = 30.9102, mad = 4.0294\n",
      "/home/zzj/anaconda3/envs/distcare/lib/python3.7/site-packages/torch/nn/functional.py:1960: UserWarning: nn.functional.sigmoid is deprecated. Use torch.sigmoid instead.\n",
      "  warnings.warn(\"nn.functional.sigmoid is deprecated. Use torch.sigmoid instead.\")\n",
      "2025-02-23 13:05:14,314 - INFO - Fold 3 Epoch 33 Batch 0: Train Loss = 1.1099\n"
     ]
    },
    {
     "name": "stdout",
     "output_type": "stream",
     "text": [
      "Fold 3 Epoch 33 Batch 0: Train Loss = 1.1099\n",
      "{'mad': 4.146751419874989, 'mse': 31.839877932358476, 'mape': 367.0775000898869, 'kappa': 0.4626312954484244}\n",
      "Fold 3, mse = 31.8399, mad = 4.1468\n"
     ]
    },
    {
     "name": "stderr",
     "output_type": "stream",
     "text": [
      "2025-02-23 13:05:15,305 - INFO - Fold 3, mse = 31.8399, mad = 4.1468\n",
      "/home/zzj/anaconda3/envs/distcare/lib/python3.7/site-packages/torch/nn/functional.py:1960: UserWarning: nn.functional.sigmoid is deprecated. Use torch.sigmoid instead.\n",
      "  warnings.warn(\"nn.functional.sigmoid is deprecated. Use torch.sigmoid instead.\")\n",
      "2025-02-23 13:05:15,493 - INFO - Fold 3 Epoch 34 Batch 0: Train Loss = 0.8672\n"
     ]
    },
    {
     "name": "stdout",
     "output_type": "stream",
     "text": [
      "Fold 3 Epoch 34 Batch 0: Train Loss = 0.8672\n",
      "{'mad': 4.027192718251058, 'mse': 30.324070005576637, 'mape': 419.06103906306714, 'kappa': 0.4595373806998939}\n",
      "Fold 3, mse = 30.3241, mad = 4.0272\n"
     ]
    },
    {
     "name": "stderr",
     "output_type": "stream",
     "text": [
      "2025-02-23 13:05:16,409 - INFO - Fold 3, mse = 30.3241, mad = 4.0272\n",
      "/home/zzj/anaconda3/envs/distcare/lib/python3.7/site-packages/torch/nn/functional.py:1960: UserWarning: nn.functional.sigmoid is deprecated. Use torch.sigmoid instead.\n",
      "  warnings.warn(\"nn.functional.sigmoid is deprecated. Use torch.sigmoid instead.\")\n",
      "2025-02-23 13:05:16,604 - INFO - Fold 3 Epoch 35 Batch 0: Train Loss = 0.8951\n"
     ]
    },
    {
     "name": "stdout",
     "output_type": "stream",
     "text": [
      "Fold 3 Epoch 35 Batch 0: Train Loss = 0.8951\n",
      "{'mad': 4.024232058753597, 'mse': 29.846484130584315, 'mape': 455.56111031364424, 'kappa': 0.4430723878152637}\n",
      "------------ Save FOLD-BEST model - MSE: 29.8465 ------------\n"
     ]
    },
    {
     "name": "stderr",
     "output_type": "stream",
     "text": [
      "2025-02-23 13:05:17,654 - INFO - ------------ Save FOLD-BEST model - MSE: 29.8465 ------------\n"
     ]
    },
    {
     "name": "stdout",
     "output_type": "stream",
     "text": [
      "Custom bins confusion matrix:\n",
      "[[132  71]\n",
      " [ 27 117]]\n",
      "Mean absolute deviation (MAD) = 4.024232058753597\n",
      "Mean squared error (MSE) = 29.846484130584315\n",
      "Mean absolute percentage error (MAPE) = 455.56111031364424\n",
      "Cohen kappa score = 0.4430723878152637\n",
      "Fold 3, mse = 29.8465, mad = 4.0242\n"
     ]
    },
    {
     "name": "stderr",
     "output_type": "stream",
     "text": [
      "2025-02-23 13:05:17,779 - INFO - Fold 3, mse = 29.8465, mad = 4.0242\n",
      "/home/zzj/anaconda3/envs/distcare/lib/python3.7/site-packages/torch/nn/functional.py:1960: UserWarning: nn.functional.sigmoid is deprecated. Use torch.sigmoid instead.\n",
      "  warnings.warn(\"nn.functional.sigmoid is deprecated. Use torch.sigmoid instead.\")\n",
      "2025-02-23 13:05:17,936 - INFO - Fold 3 Epoch 36 Batch 0: Train Loss = 0.7928\n"
     ]
    },
    {
     "name": "stdout",
     "output_type": "stream",
     "text": [
      "Fold 3 Epoch 36 Batch 0: Train Loss = 0.7928\n",
      "{'mad': 4.06197428090864, 'mse': 31.20657108891782, 'mape': 393.6292975319494, 'kappa': 0.4689996132308675}\n",
      "Fold 3, mse = 31.2066, mad = 4.0620\n"
     ]
    },
    {
     "name": "stderr",
     "output_type": "stream",
     "text": [
      "2025-02-23 13:05:18,816 - INFO - Fold 3, mse = 31.2066, mad = 4.0620\n",
      "/home/zzj/anaconda3/envs/distcare/lib/python3.7/site-packages/torch/nn/functional.py:1960: UserWarning: nn.functional.sigmoid is deprecated. Use torch.sigmoid instead.\n",
      "  warnings.warn(\"nn.functional.sigmoid is deprecated. Use torch.sigmoid instead.\")\n",
      "2025-02-23 13:05:18,977 - INFO - Fold 3 Epoch 37 Batch 0: Train Loss = 0.8758\n"
     ]
    },
    {
     "name": "stdout",
     "output_type": "stream",
     "text": [
      "Fold 3 Epoch 37 Batch 0: Train Loss = 0.8758\n",
      "{'mad': 4.0255396417522125, 'mse': 30.59986772174662, 'mape': 391.93202055184594, 'kappa': 0.48475950549725555}\n",
      "Fold 3, mse = 30.5999, mad = 4.0255\n"
     ]
    },
    {
     "name": "stderr",
     "output_type": "stream",
     "text": [
      "2025-02-23 13:05:19,862 - INFO - Fold 3, mse = 30.5999, mad = 4.0255\n",
      "/home/zzj/anaconda3/envs/distcare/lib/python3.7/site-packages/torch/nn/functional.py:1960: UserWarning: nn.functional.sigmoid is deprecated. Use torch.sigmoid instead.\n",
      "  warnings.warn(\"nn.functional.sigmoid is deprecated. Use torch.sigmoid instead.\")\n",
      "2025-02-23 13:05:20,038 - INFO - Fold 3 Epoch 38 Batch 0: Train Loss = 0.8990\n"
     ]
    },
    {
     "name": "stdout",
     "output_type": "stream",
     "text": [
      "Fold 3 Epoch 38 Batch 0: Train Loss = 0.8990\n",
      "{'mad': 3.955857812835171, 'mse': 29.343651399477555, 'mape': 436.8685142792591, 'kappa': 0.4907744818375187}\n",
      "------------ Save FOLD-BEST model - MSE: 29.3437 ------------\n"
     ]
    },
    {
     "name": "stderr",
     "output_type": "stream",
     "text": [
      "2025-02-23 13:05:20,914 - INFO - ------------ Save FOLD-BEST model - MSE: 29.3437 ------------\n"
     ]
    },
    {
     "name": "stdout",
     "output_type": "stream",
     "text": [
      "Custom bins confusion matrix:\n",
      "[[140  63]\n",
      " [ 26 118]]\n",
      "Mean absolute deviation (MAD) = 3.955857812835171\n",
      "Mean squared error (MSE) = 29.343651399477555\n",
      "Mean absolute percentage error (MAPE) = 436.8685142792591\n",
      "Cohen kappa score = 0.4907744818375187\n",
      "Fold 3, mse = 29.3437, mad = 3.9559\n"
     ]
    },
    {
     "name": "stderr",
     "output_type": "stream",
     "text": [
      "2025-02-23 13:05:21,031 - INFO - Fold 3, mse = 29.3437, mad = 3.9559\n",
      "/home/zzj/anaconda3/envs/distcare/lib/python3.7/site-packages/torch/nn/functional.py:1960: UserWarning: nn.functional.sigmoid is deprecated. Use torch.sigmoid instead.\n",
      "  warnings.warn(\"nn.functional.sigmoid is deprecated. Use torch.sigmoid instead.\")\n",
      "2025-02-23 13:05:21,193 - INFO - Fold 3 Epoch 39 Batch 0: Train Loss = 0.7820\n"
     ]
    },
    {
     "name": "stdout",
     "output_type": "stream",
     "text": [
      "Fold 3 Epoch 39 Batch 0: Train Loss = 0.7820\n",
      "{'mad': 3.964235970014544, 'mse': 30.063062698429533, 'mape': 388.9470825277489, 'kappa': 0.4689600106460843}\n",
      "Fold 3, mse = 30.0631, mad = 3.9642\n"
     ]
    },
    {
     "name": "stderr",
     "output_type": "stream",
     "text": [
      "2025-02-23 13:05:22,248 - INFO - Fold 3, mse = 30.0631, mad = 3.9642\n",
      "/home/zzj/anaconda3/envs/distcare/lib/python3.7/site-packages/torch/nn/functional.py:1960: UserWarning: nn.functional.sigmoid is deprecated. Use torch.sigmoid instead.\n",
      "  warnings.warn(\"nn.functional.sigmoid is deprecated. Use torch.sigmoid instead.\")\n",
      "2025-02-23 13:05:22,466 - INFO - Fold 3 Epoch 40 Batch 0: Train Loss = 1.0269\n"
     ]
    },
    {
     "name": "stdout",
     "output_type": "stream",
     "text": [
      "Fold 3 Epoch 40 Batch 0: Train Loss = 1.0269\n",
      "{'mad': 3.949746427973739, 'mse': 28.986524912723997, 'mape': 443.1290350550499, 'kappa': 0.48853586636095636}\n",
      "Fold 3, epoch 40: Loss = 0.8890 Valid loss = 1.2325 MSE = 28.9865 AUROC = 0.9888\n"
     ]
    },
    {
     "name": "stderr",
     "output_type": "stream",
     "text": [
      "2025-02-23 13:05:23,627 - INFO - Fold 3, epoch 40: Loss = 0.8890 Valid loss = 1.2325 MSE = 28.9865 AUROC = 0.9888\n"
     ]
    },
    {
     "name": "stdout",
     "output_type": "stream",
     "text": [
      "------------ Save FOLD-BEST model - MSE: 28.9865 ------------\n"
     ]
    },
    {
     "name": "stderr",
     "output_type": "stream",
     "text": [
      "2025-02-23 13:05:23,629 - INFO - ------------ Save FOLD-BEST model - MSE: 28.9865 ------------\n"
     ]
    },
    {
     "name": "stdout",
     "output_type": "stream",
     "text": [
      "Custom bins confusion matrix:\n",
      "[[136  67]\n",
      " [ 23 121]]\n",
      "Mean absolute deviation (MAD) = 3.949746427973739\n",
      "Mean squared error (MSE) = 28.986524912723997\n",
      "Mean absolute percentage error (MAPE) = 443.1290350550499\n",
      "Cohen kappa score = 0.48853586636095636\n",
      "Fold 3, mse = 28.9865, mad = 3.9497\n"
     ]
    },
    {
     "name": "stderr",
     "output_type": "stream",
     "text": [
      "2025-02-23 13:05:23,791 - INFO - Fold 3, mse = 28.9865, mad = 3.9497\n",
      "/home/zzj/anaconda3/envs/distcare/lib/python3.7/site-packages/torch/nn/functional.py:1960: UserWarning: nn.functional.sigmoid is deprecated. Use torch.sigmoid instead.\n",
      "  warnings.warn(\"nn.functional.sigmoid is deprecated. Use torch.sigmoid instead.\")\n",
      "2025-02-23 13:05:24,009 - INFO - Fold 3 Epoch 41 Batch 0: Train Loss = 0.7705\n"
     ]
    },
    {
     "name": "stdout",
     "output_type": "stream",
     "text": [
      "Fold 3 Epoch 41 Batch 0: Train Loss = 0.7705\n",
      "{'mad': 4.03661673746771, 'mse': 30.836022739667953, 'mape': 371.7992917468049, 'kappa': 0.49534444425870516}\n",
      "Fold 3, mse = 30.8360, mad = 4.0366\n"
     ]
    },
    {
     "name": "stderr",
     "output_type": "stream",
     "text": [
      "2025-02-23 13:05:25,155 - INFO - Fold 3, mse = 30.8360, mad = 4.0366\n",
      "/home/zzj/anaconda3/envs/distcare/lib/python3.7/site-packages/torch/nn/functional.py:1960: UserWarning: nn.functional.sigmoid is deprecated. Use torch.sigmoid instead.\n",
      "  warnings.warn(\"nn.functional.sigmoid is deprecated. Use torch.sigmoid instead.\")\n",
      "2025-02-23 13:05:25,364 - INFO - Fold 3 Epoch 42 Batch 0: Train Loss = 0.8002\n"
     ]
    },
    {
     "name": "stdout",
     "output_type": "stream",
     "text": [
      "Fold 3 Epoch 42 Batch 0: Train Loss = 0.8002\n",
      "{'mad': 4.04249607654735, 'mse': 31.416676333544498, 'mape': 382.2602671431634, 'kappa': 0.4839451091732576}\n",
      "Fold 3, mse = 31.4167, mad = 4.0425\n"
     ]
    },
    {
     "name": "stderr",
     "output_type": "stream",
     "text": [
      "2025-02-23 13:05:26,482 - INFO - Fold 3, mse = 31.4167, mad = 4.0425\n",
      "/home/zzj/anaconda3/envs/distcare/lib/python3.7/site-packages/torch/nn/functional.py:1960: UserWarning: nn.functional.sigmoid is deprecated. Use torch.sigmoid instead.\n",
      "  warnings.warn(\"nn.functional.sigmoid is deprecated. Use torch.sigmoid instead.\")\n",
      "2025-02-23 13:05:26,696 - INFO - Fold 3 Epoch 43 Batch 0: Train Loss = 1.0540\n"
     ]
    },
    {
     "name": "stdout",
     "output_type": "stream",
     "text": [
      "Fold 3 Epoch 43 Batch 0: Train Loss = 1.0540\n",
      "{'mad': 4.081942585894969, 'mse': 31.053300683770434, 'mape': 393.57269509022694, 'kappa': 0.4742161613134189}\n",
      "Fold 3, mse = 31.0533, mad = 4.0819\n"
     ]
    },
    {
     "name": "stderr",
     "output_type": "stream",
     "text": [
      "2025-02-23 13:05:27,750 - INFO - Fold 3, mse = 31.0533, mad = 4.0819\n",
      "/home/zzj/anaconda3/envs/distcare/lib/python3.7/site-packages/torch/nn/functional.py:1960: UserWarning: nn.functional.sigmoid is deprecated. Use torch.sigmoid instead.\n",
      "  warnings.warn(\"nn.functional.sigmoid is deprecated. Use torch.sigmoid instead.\")\n",
      "2025-02-23 13:05:27,938 - INFO - Fold 3 Epoch 44 Batch 0: Train Loss = 0.8812\n"
     ]
    },
    {
     "name": "stdout",
     "output_type": "stream",
     "text": [
      "Fold 3 Epoch 44 Batch 0: Train Loss = 0.8812\n",
      "{'mad': 4.049300457670066, 'mse': 31.713194650803946, 'mape': 356.933747601664, 'kappa': 0.49161839863713797}\n",
      "Fold 3, mse = 31.7132, mad = 4.0493\n"
     ]
    },
    {
     "name": "stderr",
     "output_type": "stream",
     "text": [
      "2025-02-23 13:05:28,965 - INFO - Fold 3, mse = 31.7132, mad = 4.0493\n",
      "/home/zzj/anaconda3/envs/distcare/lib/python3.7/site-packages/torch/nn/functional.py:1960: UserWarning: nn.functional.sigmoid is deprecated. Use torch.sigmoid instead.\n",
      "  warnings.warn(\"nn.functional.sigmoid is deprecated. Use torch.sigmoid instead.\")\n",
      "2025-02-23 13:05:29,156 - INFO - Fold 3 Epoch 45 Batch 0: Train Loss = 1.1802\n"
     ]
    },
    {
     "name": "stdout",
     "output_type": "stream",
     "text": [
      "Fold 3 Epoch 45 Batch 0: Train Loss = 1.1802\n",
      "{'mad': 4.077595181412063, 'mse': 30.967490173523203, 'mape': 385.25888710834903, 'kappa': 0.5016366065464262}\n",
      "Fold 3, mse = 30.9675, mad = 4.0776\n"
     ]
    },
    {
     "name": "stderr",
     "output_type": "stream",
     "text": [
      "2025-02-23 13:05:30,203 - INFO - Fold 3, mse = 30.9675, mad = 4.0776\n",
      "/home/zzj/anaconda3/envs/distcare/lib/python3.7/site-packages/torch/nn/functional.py:1960: UserWarning: nn.functional.sigmoid is deprecated. Use torch.sigmoid instead.\n",
      "  warnings.warn(\"nn.functional.sigmoid is deprecated. Use torch.sigmoid instead.\")\n",
      "2025-02-23 13:05:30,375 - INFO - Fold 3 Epoch 46 Batch 0: Train Loss = 0.7573\n"
     ]
    },
    {
     "name": "stdout",
     "output_type": "stream",
     "text": [
      "Fold 3 Epoch 46 Batch 0: Train Loss = 0.7573\n",
      "{'mad': 3.977788976967868, 'mse': 30.296526707206574, 'mape': 395.9946638360422, 'kappa': 0.4983132530120482}\n",
      "Fold 3, mse = 30.2965, mad = 3.9778\n"
     ]
    },
    {
     "name": "stderr",
     "output_type": "stream",
     "text": [
      "2025-02-23 13:05:31,339 - INFO - Fold 3, mse = 30.2965, mad = 3.9778\n",
      "/home/zzj/anaconda3/envs/distcare/lib/python3.7/site-packages/torch/nn/functional.py:1960: UserWarning: nn.functional.sigmoid is deprecated. Use torch.sigmoid instead.\n",
      "  warnings.warn(\"nn.functional.sigmoid is deprecated. Use torch.sigmoid instead.\")\n",
      "2025-02-23 13:05:31,516 - INFO - Fold 3 Epoch 47 Batch 0: Train Loss = 0.6999\n"
     ]
    },
    {
     "name": "stdout",
     "output_type": "stream",
     "text": [
      "Fold 3 Epoch 47 Batch 0: Train Loss = 0.6999\n",
      "{'mad': 4.085515991327451, 'mse': 31.718142412530792, 'mape': 389.0519890224877, 'kappa': 0.48497217068645637}\n",
      "Fold 3, mse = 31.7181, mad = 4.0855\n"
     ]
    },
    {
     "name": "stderr",
     "output_type": "stream",
     "text": [
      "2025-02-23 13:05:32,511 - INFO - Fold 3, mse = 31.7181, mad = 4.0855\n",
      "/home/zzj/anaconda3/envs/distcare/lib/python3.7/site-packages/torch/nn/functional.py:1960: UserWarning: nn.functional.sigmoid is deprecated. Use torch.sigmoid instead.\n",
      "  warnings.warn(\"nn.functional.sigmoid is deprecated. Use torch.sigmoid instead.\")\n",
      "2025-02-23 13:05:32,679 - INFO - Fold 3 Epoch 48 Batch 0: Train Loss = 0.8437\n"
     ]
    },
    {
     "name": "stdout",
     "output_type": "stream",
     "text": [
      "Fold 3 Epoch 48 Batch 0: Train Loss = 0.8437\n",
      "{'mad': 4.154256833494144, 'mse': 32.76828254440228, 'mape': 363.5087599465698, 'kappa': 0.4960101156810143}\n",
      "Fold 3, mse = 32.7683, mad = 4.1543\n"
     ]
    },
    {
     "name": "stderr",
     "output_type": "stream",
     "text": [
      "2025-02-23 13:05:33,623 - INFO - Fold 3, mse = 32.7683, mad = 4.1543\n",
      "/home/zzj/anaconda3/envs/distcare/lib/python3.7/site-packages/torch/nn/functional.py:1960: UserWarning: nn.functional.sigmoid is deprecated. Use torch.sigmoid instead.\n",
      "  warnings.warn(\"nn.functional.sigmoid is deprecated. Use torch.sigmoid instead.\")\n",
      "2025-02-23 13:05:33,793 - INFO - Fold 3 Epoch 49 Batch 0: Train Loss = 0.8112\n"
     ]
    },
    {
     "name": "stdout",
     "output_type": "stream",
     "text": [
      "Fold 3 Epoch 49 Batch 0: Train Loss = 0.8112\n",
      "{'mad': 4.0391012023912785, 'mse': 30.312451010576996, 'mape': 426.7059882498601, 'kappa': 0.47831617902162604}\n",
      "Fold 3, mse = 30.3125, mad = 4.0391\n"
     ]
    },
    {
     "name": "stderr",
     "output_type": "stream",
     "text": [
      "2025-02-23 13:05:34,782 - INFO - Fold 3, mse = 30.3125, mad = 4.0391\n"
     ]
    },
    {
     "name": "stdout",
     "output_type": "stream",
     "text": [
      "Fold 3 Epoch 50 Batch 0: Train Loss = 0.8069\n"
     ]
    },
    {
     "name": "stderr",
     "output_type": "stream",
     "text": [
      "/home/zzj/anaconda3/envs/distcare/lib/python3.7/site-packages/torch/nn/functional.py:1960: UserWarning: nn.functional.sigmoid is deprecated. Use torch.sigmoid instead.\n",
      "  warnings.warn(\"nn.functional.sigmoid is deprecated. Use torch.sigmoid instead.\")\n",
      "2025-02-23 13:05:34,978 - INFO - Fold 3 Epoch 50 Batch 0: Train Loss = 0.8069\n"
     ]
    },
    {
     "name": "stdout",
     "output_type": "stream",
     "text": [
      "{'mad': 4.016424086090474, 'mse': 30.461497469578813, 'mape': 444.6093282046543, 'kappa': 0.4761576581011454}\n",
      "Fold 3, epoch 50: Loss = 0.8202 Valid loss = 1.2482 MSE = 30.4615 AUROC = 0.9884\n"
     ]
    },
    {
     "name": "stderr",
     "output_type": "stream",
     "text": [
      "2025-02-23 13:05:35,926 - INFO - Fold 3, epoch 50: Loss = 0.8202 Valid loss = 1.2482 MSE = 30.4615 AUROC = 0.9884\n"
     ]
    },
    {
     "name": "stdout",
     "output_type": "stream",
     "text": [
      "Fold 3, mse = 30.4615, mad = 4.0164\n"
     ]
    },
    {
     "name": "stderr",
     "output_type": "stream",
     "text": [
      "2025-02-23 13:05:35,928 - INFO - Fold 3, mse = 30.4615, mad = 4.0164\n",
      "/home/zzj/anaconda3/envs/distcare/lib/python3.7/site-packages/torch/nn/functional.py:1960: UserWarning: nn.functional.sigmoid is deprecated. Use torch.sigmoid instead.\n",
      "  warnings.warn(\"nn.functional.sigmoid is deprecated. Use torch.sigmoid instead.\")\n",
      "2025-02-23 13:05:36,100 - INFO - Fold 3 Epoch 51 Batch 0: Train Loss = 0.7718\n"
     ]
    },
    {
     "name": "stdout",
     "output_type": "stream",
     "text": [
      "Fold 3 Epoch 51 Batch 0: Train Loss = 0.7718\n",
      "{'mad': 4.330602312007047, 'mse': 34.12157625183197, 'mape': 351.91204035108444, 'kappa': 0.45832767748065695}\n",
      "Fold 3, mse = 34.1216, mad = 4.3306\n"
     ]
    },
    {
     "name": "stderr",
     "output_type": "stream",
     "text": [
      "2025-02-23 13:05:37,064 - INFO - Fold 3, mse = 34.1216, mad = 4.3306\n"
     ]
    },
    {
     "name": "stdout",
     "output_type": "stream",
     "text": [
      "Fold 3 Epoch 52 Batch 0: Train Loss = 0.8845\n"
     ]
    },
    {
     "name": "stderr",
     "output_type": "stream",
     "text": [
      "/home/zzj/anaconda3/envs/distcare/lib/python3.7/site-packages/torch/nn/functional.py:1960: UserWarning: nn.functional.sigmoid is deprecated. Use torch.sigmoid instead.\n",
      "  warnings.warn(\"nn.functional.sigmoid is deprecated. Use torch.sigmoid instead.\")\n",
      "2025-02-23 13:05:37,260 - INFO - Fold 3 Epoch 52 Batch 0: Train Loss = 0.8845\n"
     ]
    },
    {
     "name": "stdout",
     "output_type": "stream",
     "text": [
      "{'mad': 4.106494105119125, 'mse': 32.30441636181239, 'mape': 388.56345189832143, 'kappa': 0.4551670577906839}\n",
      "Fold 3, mse = 32.3044, mad = 4.1065\n"
     ]
    },
    {
     "name": "stderr",
     "output_type": "stream",
     "text": [
      "2025-02-23 13:05:38,241 - INFO - Fold 3, mse = 32.3044, mad = 4.1065\n",
      "/home/zzj/anaconda3/envs/distcare/lib/python3.7/site-packages/torch/nn/functional.py:1960: UserWarning: nn.functional.sigmoid is deprecated. Use torch.sigmoid instead.\n",
      "  warnings.warn(\"nn.functional.sigmoid is deprecated. Use torch.sigmoid instead.\")\n",
      "2025-02-23 13:05:38,409 - INFO - Fold 3 Epoch 53 Batch 0: Train Loss = 1.0060\n"
     ]
    },
    {
     "name": "stdout",
     "output_type": "stream",
     "text": [
      "Fold 3 Epoch 53 Batch 0: Train Loss = 1.0060\n",
      "{'mad': 4.0923818930226075, 'mse': 31.404281900725806, 'mape': 437.39006341852723, 'kappa': 0.4595373806998939}\n",
      "Fold 3, mse = 31.4043, mad = 4.0924\n"
     ]
    },
    {
     "name": "stderr",
     "output_type": "stream",
     "text": [
      "2025-02-23 13:05:39,281 - INFO - Fold 3, mse = 31.4043, mad = 4.0924\n",
      "/home/zzj/anaconda3/envs/distcare/lib/python3.7/site-packages/torch/nn/functional.py:1960: UserWarning: nn.functional.sigmoid is deprecated. Use torch.sigmoid instead.\n",
      "  warnings.warn(\"nn.functional.sigmoid is deprecated. Use torch.sigmoid instead.\")\n",
      "2025-02-23 13:05:39,440 - INFO - Fold 3 Epoch 54 Batch 0: Train Loss = 0.8400\n"
     ]
    },
    {
     "name": "stdout",
     "output_type": "stream",
     "text": [
      "Fold 3 Epoch 54 Batch 0: Train Loss = 0.8400\n",
      "{'mad': 4.244441088759901, 'mse': 33.16312912548879, 'mape': 392.77012955035786, 'kappa': 0.4679727427597956}\n",
      "Fold 3, mse = 33.1631, mad = 4.2444\n"
     ]
    },
    {
     "name": "stderr",
     "output_type": "stream",
     "text": [
      "2025-02-23 13:05:40,329 - INFO - Fold 3, mse = 33.1631, mad = 4.2444\n",
      "/home/zzj/anaconda3/envs/distcare/lib/python3.7/site-packages/torch/nn/functional.py:1960: UserWarning: nn.functional.sigmoid is deprecated. Use torch.sigmoid instead.\n",
      "  warnings.warn(\"nn.functional.sigmoid is deprecated. Use torch.sigmoid instead.\")\n",
      "2025-02-23 13:05:40,497 - INFO - Fold 3 Epoch 55 Batch 0: Train Loss = 0.7450\n"
     ]
    },
    {
     "name": "stdout",
     "output_type": "stream",
     "text": [
      "Fold 3 Epoch 55 Batch 0: Train Loss = 0.7450\n",
      "{'mad': 4.111412030872632, 'mse': 32.33299408086038, 'mape': 420.11031319425183, 'kappa': 0.48169841403037683}\n",
      "Fold 3, mse = 32.3330, mad = 4.1114\n"
     ]
    },
    {
     "name": "stderr",
     "output_type": "stream",
     "text": [
      "2025-02-23 13:05:41,448 - INFO - Fold 3, mse = 32.3330, mad = 4.1114\n",
      "/home/zzj/anaconda3/envs/distcare/lib/python3.7/site-packages/torch/nn/functional.py:1960: UserWarning: nn.functional.sigmoid is deprecated. Use torch.sigmoid instead.\n",
      "  warnings.warn(\"nn.functional.sigmoid is deprecated. Use torch.sigmoid instead.\")\n",
      "2025-02-23 13:05:41,619 - INFO - Fold 3 Epoch 56 Batch 0: Train Loss = 0.7919\n"
     ]
    },
    {
     "name": "stdout",
     "output_type": "stream",
     "text": [
      "Fold 3 Epoch 56 Batch 0: Train Loss = 0.7919\n",
      "{'mad': 4.100666875512439, 'mse': 31.620883478324885, 'mape': 461.6119251180165, 'kappa': 0.474121174183771}\n",
      "Fold 3, mse = 31.6209, mad = 4.1007\n"
     ]
    },
    {
     "name": "stderr",
     "output_type": "stream",
     "text": [
      "2025-02-23 13:05:42,638 - INFO - Fold 3, mse = 31.6209, mad = 4.1007\n",
      "/home/zzj/anaconda3/envs/distcare/lib/python3.7/site-packages/torch/nn/functional.py:1960: UserWarning: nn.functional.sigmoid is deprecated. Use torch.sigmoid instead.\n",
      "  warnings.warn(\"nn.functional.sigmoid is deprecated. Use torch.sigmoid instead.\")\n",
      "2025-02-23 13:05:42,814 - INFO - Fold 3 Epoch 57 Batch 0: Train Loss = 0.7722\n"
     ]
    },
    {
     "name": "stdout",
     "output_type": "stream",
     "text": [
      "Fold 3 Epoch 57 Batch 0: Train Loss = 0.7722\n",
      "{'mad': 4.19947021360734, 'mse': 33.692160241691234, 'mape': 366.75183349950123, 'kappa': 0.5177826959699419}\n",
      "Fold 3, mse = 33.6922, mad = 4.1995\n"
     ]
    },
    {
     "name": "stderr",
     "output_type": "stream",
     "text": [
      "2025-02-23 13:05:43,753 - INFO - Fold 3, mse = 33.6922, mad = 4.1995\n",
      "/home/zzj/anaconda3/envs/distcare/lib/python3.7/site-packages/torch/nn/functional.py:1960: UserWarning: nn.functional.sigmoid is deprecated. Use torch.sigmoid instead.\n",
      "  warnings.warn(\"nn.functional.sigmoid is deprecated. Use torch.sigmoid instead.\")\n",
      "2025-02-23 13:05:43,928 - INFO - Fold 3 Epoch 58 Batch 0: Train Loss = 0.8604\n"
     ]
    },
    {
     "name": "stdout",
     "output_type": "stream",
     "text": [
      "Fold 3 Epoch 58 Batch 0: Train Loss = 0.8604\n",
      "{'mad': 4.055523956578629, 'mse': 31.06150069553275, 'mape': 433.23481328577503, 'kappa': 0.48050435824073456}\n",
      "Fold 3, mse = 31.0615, mad = 4.0555\n"
     ]
    },
    {
     "name": "stderr",
     "output_type": "stream",
     "text": [
      "2025-02-23 13:05:44,876 - INFO - Fold 3, mse = 31.0615, mad = 4.0555\n",
      "/home/zzj/anaconda3/envs/distcare/lib/python3.7/site-packages/torch/nn/functional.py:1960: UserWarning: nn.functional.sigmoid is deprecated. Use torch.sigmoid instead.\n",
      "  warnings.warn(\"nn.functional.sigmoid is deprecated. Use torch.sigmoid instead.\")\n",
      "2025-02-23 13:05:45,068 - INFO - Fold 3 Epoch 59 Batch 0: Train Loss = 0.7488\n"
     ]
    },
    {
     "name": "stdout",
     "output_type": "stream",
     "text": [
      "Fold 3 Epoch 59 Batch 0: Train Loss = 0.7488\n",
      "{'mad': 4.156233578392792, 'mse': 33.24975558547478, 'mape': 384.875937925771, 'kappa': 0.47326699274751216}\n",
      "Fold 3, mse = 33.2498, mad = 4.1562\n"
     ]
    },
    {
     "name": "stderr",
     "output_type": "stream",
     "text": [
      "2025-02-23 13:05:46,030 - INFO - Fold 3, mse = 33.2498, mad = 4.1562\n",
      "/home/zzj/anaconda3/envs/distcare/lib/python3.7/site-packages/torch/nn/functional.py:1960: UserWarning: nn.functional.sigmoid is deprecated. Use torch.sigmoid instead.\n",
      "  warnings.warn(\"nn.functional.sigmoid is deprecated. Use torch.sigmoid instead.\")\n",
      "2025-02-23 13:05:46,402 - INFO - Fold 4 Epoch 0 Batch 0: Train Loss = 2.8044\n"
     ]
    },
    {
     "name": "stdout",
     "output_type": "stream",
     "text": [
      "Fold 4 Epoch 0 Batch 0: Train Loss = 2.8044\n",
      "{'mad': 4.720479426282383, 'mse': 39.612825075648736, 'mape': 449.3542215350478, 'kappa': 0.26450200656694633}\n",
      "Fold 4, epoch 0: Loss = 2.4249 Valid loss = 2.1666 MSE = 39.6128 AUROC = 0.8151\n"
     ]
    },
    {
     "name": "stderr",
     "output_type": "stream",
     "text": [
      "2025-02-23 13:05:47,346 - INFO - Fold 4, epoch 0: Loss = 2.4249 Valid loss = 2.1666 MSE = 39.6128 AUROC = 0.8151\n"
     ]
    },
    {
     "name": "stdout",
     "output_type": "stream",
     "text": [
      "------------ Save FOLD-BEST model - MSE: 39.6128 ------------\n"
     ]
    },
    {
     "name": "stderr",
     "output_type": "stream",
     "text": [
      "2025-02-23 13:05:47,347 - INFO - ------------ Save FOLD-BEST model - MSE: 39.6128 ------------\n"
     ]
    },
    {
     "name": "stdout",
     "output_type": "stream",
     "text": [
      "Custom bins confusion matrix:\n",
      "[[142  67]\n",
      " [ 59  84]]\n",
      "Mean absolute deviation (MAD) = 4.720479426282383\n",
      "Mean squared error (MSE) = 39.612825075648736\n",
      "Mean absolute percentage error (MAPE) = 449.3542215350478\n",
      "Cohen kappa score = 0.26450200656694633\n",
      "------------ auroc-BEST model - auroc: 0.8151 ------------\n"
     ]
    },
    {
     "name": "stderr",
     "output_type": "stream",
     "text": [
      "2025-02-23 13:05:47,493 - INFO - ------------ auroc-BEST model - auroc: 0.8151 ------------\n"
     ]
    },
    {
     "name": "stdout",
     "output_type": "stream",
     "text": [
      "Fold 4, mse = 39.6128, mad = 4.7205\n"
     ]
    },
    {
     "name": "stderr",
     "output_type": "stream",
     "text": [
      "2025-02-23 13:05:47,495 - INFO - Fold 4, mse = 39.6128, mad = 4.7205\n",
      "/home/zzj/anaconda3/envs/distcare/lib/python3.7/site-packages/torch/nn/functional.py:1960: UserWarning: nn.functional.sigmoid is deprecated. Use torch.sigmoid instead.\n",
      "  warnings.warn(\"nn.functional.sigmoid is deprecated. Use torch.sigmoid instead.\")\n",
      "2025-02-23 13:05:47,690 - INFO - Fold 4 Epoch 1 Batch 0: Train Loss = 2.1789\n"
     ]
    },
    {
     "name": "stdout",
     "output_type": "stream",
     "text": [
      "Fold 4 Epoch 1 Batch 0: Train Loss = 2.1789\n",
      "{'mad': 4.671734555853865, 'mse': 38.308291081398316, 'mape': 447.3237612379612, 'kappa': 0.24575389948006932}\n",
      "------------ Save FOLD-BEST model - MSE: 38.3083 ------------\n"
     ]
    },
    {
     "name": "stderr",
     "output_type": "stream",
     "text": [
      "2025-02-23 13:05:48,703 - INFO - ------------ Save FOLD-BEST model - MSE: 38.3083 ------------\n"
     ]
    },
    {
     "name": "stdout",
     "output_type": "stream",
     "text": [
      "Custom bins confusion matrix:\n",
      "[[113  96]\n",
      " [ 40 103]]\n",
      "Mean absolute deviation (MAD) = 4.671734555853865\n",
      "Mean squared error (MSE) = 38.308291081398316\n",
      "Mean absolute percentage error (MAPE) = 447.3237612379612\n",
      "Cohen kappa score = 0.24575389948006932\n",
      "------------ auroc-BEST model - auroc: 0.8368 ------------\n"
     ]
    },
    {
     "name": "stderr",
     "output_type": "stream",
     "text": [
      "2025-02-23 13:05:48,816 - INFO - ------------ auroc-BEST model - auroc: 0.8368 ------------\n"
     ]
    },
    {
     "name": "stdout",
     "output_type": "stream",
     "text": [
      "Fold 4, mse = 38.3083, mad = 4.6717\n"
     ]
    },
    {
     "name": "stderr",
     "output_type": "stream",
     "text": [
      "2025-02-23 13:05:48,818 - INFO - Fold 4, mse = 38.3083, mad = 4.6717\n",
      "/home/zzj/anaconda3/envs/distcare/lib/python3.7/site-packages/torch/nn/functional.py:1960: UserWarning: nn.functional.sigmoid is deprecated. Use torch.sigmoid instead.\n",
      "  warnings.warn(\"nn.functional.sigmoid is deprecated. Use torch.sigmoid instead.\")\n",
      "2025-02-23 13:05:48,986 - INFO - Fold 4 Epoch 2 Batch 0: Train Loss = 2.4035\n"
     ]
    },
    {
     "name": "stdout",
     "output_type": "stream",
     "text": [
      "Fold 4 Epoch 2 Batch 0: Train Loss = 2.4035\n",
      "{'mad': 4.728925087503938, 'mse': 37.45748691511815, 'mape': 483.19555574827115, 'kappa': 0.2332778702163062}\n",
      "------------ Save FOLD-BEST model - MSE: 37.4575 ------------\n"
     ]
    },
    {
     "name": "stderr",
     "output_type": "stream",
     "text": [
      "2025-02-23 13:05:49,983 - INFO - ------------ Save FOLD-BEST model - MSE: 37.4575 ------------\n"
     ]
    },
    {
     "name": "stdout",
     "output_type": "stream",
     "text": [
      "Custom bins confusion matrix:\n",
      "[[ 89 120]\n",
      " [ 24 119]]\n",
      "Mean absolute deviation (MAD) = 4.728925087503938\n",
      "Mean squared error (MSE) = 37.45748691511815\n",
      "Mean absolute percentage error (MAPE) = 483.19555574827115\n",
      "Cohen kappa score = 0.2332778702163062\n",
      "------------ auroc-BEST model - auroc: 0.8510 ------------\n"
     ]
    },
    {
     "name": "stderr",
     "output_type": "stream",
     "text": [
      "2025-02-23 13:05:50,122 - INFO - ------------ auroc-BEST model - auroc: 0.8510 ------------\n"
     ]
    },
    {
     "name": "stdout",
     "output_type": "stream",
     "text": [
      "Fold 4, mse = 37.4575, mad = 4.7289\n"
     ]
    },
    {
     "name": "stderr",
     "output_type": "stream",
     "text": [
      "2025-02-23 13:05:50,124 - INFO - Fold 4, mse = 37.4575, mad = 4.7289\n",
      "/home/zzj/anaconda3/envs/distcare/lib/python3.7/site-packages/torch/nn/functional.py:1960: UserWarning: nn.functional.sigmoid is deprecated. Use torch.sigmoid instead.\n",
      "  warnings.warn(\"nn.functional.sigmoid is deprecated. Use torch.sigmoid instead.\")\n",
      "2025-02-23 13:05:50,345 - INFO - Fold 4 Epoch 3 Batch 0: Train Loss = 1.9564\n"
     ]
    },
    {
     "name": "stdout",
     "output_type": "stream",
     "text": [
      "Fold 4 Epoch 3 Batch 0: Train Loss = 1.9564\n",
      "{'mad': 4.589128441250995, 'mse': 36.734708834411414, 'mape': 431.2740687393873, 'kappa': 0.2831737346101231}\n",
      "------------ Save FOLD-BEST model - MSE: 36.7347 ------------\n"
     ]
    },
    {
     "name": "stderr",
     "output_type": "stream",
     "text": [
      "2025-02-23 13:05:51,353 - INFO - ------------ Save FOLD-BEST model - MSE: 36.7347 ------------\n"
     ]
    },
    {
     "name": "stdout",
     "output_type": "stream",
     "text": [
      "Custom bins confusion matrix:\n",
      "[[109 100]\n",
      " [ 31 112]]\n",
      "Mean absolute deviation (MAD) = 4.589128441250995\n",
      "Mean squared error (MSE) = 36.734708834411414\n",
      "Mean absolute percentage error (MAPE) = 431.2740687393873\n",
      "Cohen kappa score = 0.2831737346101231\n",
      "------------ auroc-BEST model - auroc: 0.8891 ------------\n"
     ]
    },
    {
     "name": "stderr",
     "output_type": "stream",
     "text": [
      "2025-02-23 13:05:51,469 - INFO - ------------ auroc-BEST model - auroc: 0.8891 ------------\n"
     ]
    },
    {
     "name": "stdout",
     "output_type": "stream",
     "text": [
      "Fold 4, mse = 36.7347, mad = 4.5891\n"
     ]
    },
    {
     "name": "stderr",
     "output_type": "stream",
     "text": [
      "2025-02-23 13:05:51,471 - INFO - Fold 4, mse = 36.7347, mad = 4.5891\n",
      "/home/zzj/anaconda3/envs/distcare/lib/python3.7/site-packages/torch/nn/functional.py:1960: UserWarning: nn.functional.sigmoid is deprecated. Use torch.sigmoid instead.\n",
      "  warnings.warn(\"nn.functional.sigmoid is deprecated. Use torch.sigmoid instead.\")\n",
      "2025-02-23 13:05:51,664 - INFO - Fold 4 Epoch 4 Batch 0: Train Loss = 1.9888\n"
     ]
    },
    {
     "name": "stdout",
     "output_type": "stream",
     "text": [
      "Fold 4 Epoch 4 Batch 0: Train Loss = 1.9888\n",
      "{'mad': 4.65990094418812, 'mse': 36.40293484496032, 'mape': 469.76453530178463, 'kappa': 0.2609575185434929}\n",
      "------------ Save FOLD-BEST model - MSE: 36.4029 ------------\n"
     ]
    },
    {
     "name": "stderr",
     "output_type": "stream",
     "text": [
      "2025-02-23 13:05:52,611 - INFO - ------------ Save FOLD-BEST model - MSE: 36.4029 ------------\n"
     ]
    },
    {
     "name": "stdout",
     "output_type": "stream",
     "text": [
      "Custom bins confusion matrix:\n",
      "[[ 99 110]\n",
      " [ 27 116]]\n",
      "Mean absolute deviation (MAD) = 4.65990094418812\n",
      "Mean squared error (MSE) = 36.40293484496032\n",
      "Mean absolute percentage error (MAPE) = 469.76453530178463\n",
      "Cohen kappa score = 0.2609575185434929\n",
      "------------ auroc-BEST model - auroc: 0.9426 ------------\n"
     ]
    },
    {
     "name": "stderr",
     "output_type": "stream",
     "text": [
      "2025-02-23 13:05:52,728 - INFO - ------------ auroc-BEST model - auroc: 0.9426 ------------\n"
     ]
    },
    {
     "name": "stdout",
     "output_type": "stream",
     "text": [
      "Fold 4, mse = 36.4029, mad = 4.6599\n"
     ]
    },
    {
     "name": "stderr",
     "output_type": "stream",
     "text": [
      "2025-02-23 13:05:52,730 - INFO - Fold 4, mse = 36.4029, mad = 4.6599\n",
      "/home/zzj/anaconda3/envs/distcare/lib/python3.7/site-packages/torch/nn/functional.py:1960: UserWarning: nn.functional.sigmoid is deprecated. Use torch.sigmoid instead.\n",
      "  warnings.warn(\"nn.functional.sigmoid is deprecated. Use torch.sigmoid instead.\")\n",
      "2025-02-23 13:05:52,891 - INFO - Fold 4 Epoch 5 Batch 0: Train Loss = 2.0901\n"
     ]
    },
    {
     "name": "stdout",
     "output_type": "stream",
     "text": [
      "Fold 4 Epoch 5 Batch 0: Train Loss = 2.0901\n",
      "{'mad': 4.6412717857987795, 'mse': 36.11991344033767, 'mape': 471.5754338120335, 'kappa': 0.2781546811397557}\n",
      "------------ Save FOLD-BEST model - MSE: 36.1199 ------------\n"
     ]
    },
    {
     "name": "stderr",
     "output_type": "stream",
     "text": [
      "2025-02-23 13:05:53,916 - INFO - ------------ Save FOLD-BEST model - MSE: 36.1199 ------------\n"
     ]
    },
    {
     "name": "stdout",
     "output_type": "stream",
     "text": [
      "Custom bins confusion matrix:\n",
      "[[104 105]\n",
      " [ 28 115]]\n",
      "Mean absolute deviation (MAD) = 4.6412717857987795\n",
      "Mean squared error (MSE) = 36.11991344033767\n",
      "Mean absolute percentage error (MAPE) = 471.5754338120335\n",
      "Cohen kappa score = 0.2781546811397557\n",
      "------------ auroc-BEST model - auroc: 0.9616 ------------\n"
     ]
    },
    {
     "name": "stderr",
     "output_type": "stream",
     "text": [
      "2025-02-23 13:05:54,030 - INFO - ------------ auroc-BEST model - auroc: 0.9616 ------------\n"
     ]
    },
    {
     "name": "stdout",
     "output_type": "stream",
     "text": [
      "Fold 4, mse = 36.1199, mad = 4.6413\n"
     ]
    },
    {
     "name": "stderr",
     "output_type": "stream",
     "text": [
      "2025-02-23 13:05:54,031 - INFO - Fold 4, mse = 36.1199, mad = 4.6413\n",
      "/home/zzj/anaconda3/envs/distcare/lib/python3.7/site-packages/torch/nn/functional.py:1960: UserWarning: nn.functional.sigmoid is deprecated. Use torch.sigmoid instead.\n",
      "  warnings.warn(\"nn.functional.sigmoid is deprecated. Use torch.sigmoid instead.\")\n",
      "2025-02-23 13:05:54,199 - INFO - Fold 4 Epoch 6 Batch 0: Train Loss = 1.9973\n"
     ]
    },
    {
     "name": "stdout",
     "output_type": "stream",
     "text": [
      "Fold 4 Epoch 6 Batch 0: Train Loss = 1.9973\n",
      "{'mad': 4.596166164833118, 'mse': 36.02067638117024, 'mape': 459.3273566748028, 'kappa': 0.3036326250856751}\n",
      "------------ Save FOLD-BEST model - MSE: 36.0207 ------------\n"
     ]
    },
    {
     "name": "stderr",
     "output_type": "stream",
     "text": [
      "2025-02-23 13:05:55,160 - INFO - ------------ Save FOLD-BEST model - MSE: 36.0207 ------------\n"
     ]
    },
    {
     "name": "stdout",
     "output_type": "stream",
     "text": [
      "Custom bins confusion matrix:\n",
      "[[112  97]\n",
      " [ 30 113]]\n",
      "Mean absolute deviation (MAD) = 4.596166164833118\n",
      "Mean squared error (MSE) = 36.02067638117024\n",
      "Mean absolute percentage error (MAPE) = 459.3273566748028\n",
      "Cohen kappa score = 0.3036326250856751\n",
      "------------ auroc-BEST model - auroc: 0.9654 ------------\n"
     ]
    },
    {
     "name": "stderr",
     "output_type": "stream",
     "text": [
      "2025-02-23 13:05:55,277 - INFO - ------------ auroc-BEST model - auroc: 0.9654 ------------\n"
     ]
    },
    {
     "name": "stdout",
     "output_type": "stream",
     "text": [
      "Fold 4, mse = 36.0207, mad = 4.5962\n"
     ]
    },
    {
     "name": "stderr",
     "output_type": "stream",
     "text": [
      "2025-02-23 13:05:55,279 - INFO - Fold 4, mse = 36.0207, mad = 4.5962\n",
      "/home/zzj/anaconda3/envs/distcare/lib/python3.7/site-packages/torch/nn/functional.py:1960: UserWarning: nn.functional.sigmoid is deprecated. Use torch.sigmoid instead.\n",
      "  warnings.warn(\"nn.functional.sigmoid is deprecated. Use torch.sigmoid instead.\")\n",
      "2025-02-23 13:05:55,471 - INFO - Fold 4 Epoch 7 Batch 0: Train Loss = 1.7919\n"
     ]
    },
    {
     "name": "stdout",
     "output_type": "stream",
     "text": [
      "Fold 4 Epoch 7 Batch 0: Train Loss = 1.7919\n",
      "{'mad': 4.638083484495784, 'mse': 35.924210337367036, 'mape': 487.45813436437766, 'kappa': 0.28610354223433243}\n",
      "------------ Save FOLD-BEST model - MSE: 35.9242 ------------\n"
     ]
    },
    {
     "name": "stderr",
     "output_type": "stream",
     "text": [
      "2025-02-23 13:05:56,482 - INFO - ------------ Save FOLD-BEST model - MSE: 35.9242 ------------\n"
     ]
    },
    {
     "name": "stdout",
     "output_type": "stream",
     "text": [
      "Custom bins confusion matrix:\n",
      "[[107 102]\n",
      " [ 29 114]]\n",
      "Mean absolute deviation (MAD) = 4.638083484495784\n",
      "Mean squared error (MSE) = 35.924210337367036\n",
      "Mean absolute percentage error (MAPE) = 487.45813436437766\n",
      "Cohen kappa score = 0.28610354223433243\n",
      "Fold 4, mse = 35.9242, mad = 4.6381\n"
     ]
    },
    {
     "name": "stderr",
     "output_type": "stream",
     "text": [
      "2025-02-23 13:05:56,599 - INFO - Fold 4, mse = 35.9242, mad = 4.6381\n",
      "/home/zzj/anaconda3/envs/distcare/lib/python3.7/site-packages/torch/nn/functional.py:1960: UserWarning: nn.functional.sigmoid is deprecated. Use torch.sigmoid instead.\n",
      "  warnings.warn(\"nn.functional.sigmoid is deprecated. Use torch.sigmoid instead.\")\n",
      "2025-02-23 13:05:56,790 - INFO - Fold 4 Epoch 8 Batch 0: Train Loss = 1.7231\n"
     ]
    },
    {
     "name": "stdout",
     "output_type": "stream",
     "text": [
      "Fold 4 Epoch 8 Batch 0: Train Loss = 1.7231\n",
      "{'mad': 4.533588561907292, 'mse': 36.040425828830124, 'mape': 437.4364584651718, 'kappa': 0.33731133731133733}\n",
      "------------ auroc-BEST model - auroc: 0.9690 ------------\n"
     ]
    },
    {
     "name": "stderr",
     "output_type": "stream",
     "text": [
      "2025-02-23 13:05:57,701 - INFO - ------------ auroc-BEST model - auroc: 0.9690 ------------\n"
     ]
    },
    {
     "name": "stdout",
     "output_type": "stream",
     "text": [
      "Fold 4, mse = 36.0404, mad = 4.5336\n"
     ]
    },
    {
     "name": "stderr",
     "output_type": "stream",
     "text": [
      "2025-02-23 13:05:57,703 - INFO - Fold 4, mse = 36.0404, mad = 4.5336\n",
      "/home/zzj/anaconda3/envs/distcare/lib/python3.7/site-packages/torch/nn/functional.py:1960: UserWarning: nn.functional.sigmoid is deprecated. Use torch.sigmoid instead.\n",
      "  warnings.warn(\"nn.functional.sigmoid is deprecated. Use torch.sigmoid instead.\")\n",
      "2025-02-23 13:05:57,871 - INFO - Fold 4 Epoch 9 Batch 0: Train Loss = 1.5914\n"
     ]
    },
    {
     "name": "stdout",
     "output_type": "stream",
     "text": [
      "Fold 4 Epoch 9 Batch 0: Train Loss = 1.5914\n",
      "{'mad': 4.56194432554155, 'mse': 35.94997123956945, 'mape': 444.62931120331166, 'kappa': 0.31571627260083446}\n",
      "------------ auroc-BEST model - auroc: 0.9709 ------------\n"
     ]
    },
    {
     "name": "stderr",
     "output_type": "stream",
     "text": [
      "2025-02-23 13:05:58,856 - INFO - ------------ auroc-BEST model - auroc: 0.9709 ------------\n"
     ]
    },
    {
     "name": "stdout",
     "output_type": "stream",
     "text": [
      "Fold 4, mse = 35.9500, mad = 4.5619\n"
     ]
    },
    {
     "name": "stderr",
     "output_type": "stream",
     "text": [
      "2025-02-23 13:05:58,858 - INFO - Fold 4, mse = 35.9500, mad = 4.5619\n",
      "/home/zzj/anaconda3/envs/distcare/lib/python3.7/site-packages/torch/nn/functional.py:1960: UserWarning: nn.functional.sigmoid is deprecated. Use torch.sigmoid instead.\n",
      "  warnings.warn(\"nn.functional.sigmoid is deprecated. Use torch.sigmoid instead.\")\n",
      "2025-02-23 13:05:59,038 - INFO - Fold 4 Epoch 10 Batch 0: Train Loss = 1.5840\n"
     ]
    },
    {
     "name": "stdout",
     "output_type": "stream",
     "text": [
      "Fold 4 Epoch 10 Batch 0: Train Loss = 1.5840\n",
      "{'mad': 4.698041857515275, 'mse': 35.779985196470996, 'mape': 518.0798581106696, 'kappa': 0.3270524899057874}\n",
      "Fold 4, epoch 10: Loss = 1.6446 Valid loss = 1.7810 MSE = 35.7800 AUROC = 0.9728\n"
     ]
    },
    {
     "name": "stderr",
     "output_type": "stream",
     "text": [
      "2025-02-23 13:05:59,963 - INFO - Fold 4, epoch 10: Loss = 1.6446 Valid loss = 1.7810 MSE = 35.7800 AUROC = 0.9728\n"
     ]
    },
    {
     "name": "stdout",
     "output_type": "stream",
     "text": [
      "------------ Save FOLD-BEST model - MSE: 35.7800 ------------\n"
     ]
    },
    {
     "name": "stderr",
     "output_type": "stream",
     "text": [
      "2025-02-23 13:05:59,965 - INFO - ------------ Save FOLD-BEST model - MSE: 35.7800 ------------\n"
     ]
    },
    {
     "name": "stdout",
     "output_type": "stream",
     "text": [
      "Custom bins confusion matrix:\n",
      "[[104 105]\n",
      " [ 20 123]]\n",
      "Mean absolute deviation (MAD) = 4.698041857515275\n",
      "Mean squared error (MSE) = 35.779985196470996\n",
      "Mean absolute percentage error (MAPE) = 518.0798581106696\n",
      "Cohen kappa score = 0.3270524899057874\n",
      "------------ auroc-BEST model - auroc: 0.9728 ------------\n"
     ]
    },
    {
     "name": "stderr",
     "output_type": "stream",
     "text": [
      "2025-02-23 13:06:00,087 - INFO - ------------ auroc-BEST model - auroc: 0.9728 ------------\n"
     ]
    },
    {
     "name": "stdout",
     "output_type": "stream",
     "text": [
      "Fold 4, mse = 35.7800, mad = 4.6980\n"
     ]
    },
    {
     "name": "stderr",
     "output_type": "stream",
     "text": [
      "2025-02-23 13:06:00,089 - INFO - Fold 4, mse = 35.7800, mad = 4.6980\n",
      "/home/zzj/anaconda3/envs/distcare/lib/python3.7/site-packages/torch/nn/functional.py:1960: UserWarning: nn.functional.sigmoid is deprecated. Use torch.sigmoid instead.\n",
      "  warnings.warn(\"nn.functional.sigmoid is deprecated. Use torch.sigmoid instead.\")\n",
      "2025-02-23 13:06:00,264 - INFO - Fold 4 Epoch 11 Batch 0: Train Loss = 1.7959\n"
     ]
    },
    {
     "name": "stdout",
     "output_type": "stream",
     "text": [
      "Fold 4 Epoch 11 Batch 0: Train Loss = 1.7959\n",
      "{'mad': 4.387711438404401, 'mse': 34.74944295693294, 'mape': 398.40981930835784, 'kappa': 0.3444012716354645}\n",
      "------------ Save FOLD-BEST model - MSE: 34.7494 ------------\n"
     ]
    },
    {
     "name": "stderr",
     "output_type": "stream",
     "text": [
      "2025-02-23 13:06:01,389 - INFO - ------------ Save FOLD-BEST model - MSE: 34.7494 ------------\n"
     ]
    },
    {
     "name": "stdout",
     "output_type": "stream",
     "text": [
      "Custom bins confusion matrix:\n",
      "[[132  77]\n",
      " [ 39 104]]\n",
      "Mean absolute deviation (MAD) = 4.387711438404401\n",
      "Mean squared error (MSE) = 34.74944295693294\n",
      "Mean absolute percentage error (MAPE) = 398.40981930835784\n",
      "Cohen kappa score = 0.3444012716354645\n",
      "Fold 4, mse = 34.7494, mad = 4.3877\n"
     ]
    },
    {
     "name": "stderr",
     "output_type": "stream",
     "text": [
      "2025-02-23 13:06:01,513 - INFO - Fold 4, mse = 34.7494, mad = 4.3877\n",
      "/home/zzj/anaconda3/envs/distcare/lib/python3.7/site-packages/torch/nn/functional.py:1960: UserWarning: nn.functional.sigmoid is deprecated. Use torch.sigmoid instead.\n",
      "  warnings.warn(\"nn.functional.sigmoid is deprecated. Use torch.sigmoid instead.\")\n",
      "2025-02-23 13:06:01,694 - INFO - Fold 4 Epoch 12 Batch 0: Train Loss = 1.3826\n"
     ]
    },
    {
     "name": "stdout",
     "output_type": "stream",
     "text": [
      "Fold 4 Epoch 12 Batch 0: Train Loss = 1.3826\n",
      "{'mad': 4.44944204439689, 'mse': 34.52885432792684, 'mape': 406.8485431563139, 'kappa': 0.328905976931143}\n",
      "------------ Save FOLD-BEST model - MSE: 34.5289 ------------\n"
     ]
    },
    {
     "name": "stderr",
     "output_type": "stream",
     "text": [
      "2025-02-23 13:06:02,582 - INFO - ------------ Save FOLD-BEST model - MSE: 34.5289 ------------\n"
     ]
    },
    {
     "name": "stdout",
     "output_type": "stream",
     "text": [
      "Custom bins confusion matrix:\n",
      "[[125  84]\n",
      " [ 36 107]]\n",
      "Mean absolute deviation (MAD) = 4.44944204439689\n",
      "Mean squared error (MSE) = 34.52885432792684\n",
      "Mean absolute percentage error (MAPE) = 406.8485431563139\n",
      "Cohen kappa score = 0.328905976931143\n",
      "------------ auroc-BEST model - auroc: 0.9743 ------------\n"
     ]
    },
    {
     "name": "stderr",
     "output_type": "stream",
     "text": [
      "2025-02-23 13:06:02,700 - INFO - ------------ auroc-BEST model - auroc: 0.9743 ------------\n"
     ]
    },
    {
     "name": "stdout",
     "output_type": "stream",
     "text": [
      "Fold 4, mse = 34.5289, mad = 4.4494\n"
     ]
    },
    {
     "name": "stderr",
     "output_type": "stream",
     "text": [
      "2025-02-23 13:06:02,702 - INFO - Fold 4, mse = 34.5289, mad = 4.4494\n",
      "/home/zzj/anaconda3/envs/distcare/lib/python3.7/site-packages/torch/nn/functional.py:1960: UserWarning: nn.functional.sigmoid is deprecated. Use torch.sigmoid instead.\n",
      "  warnings.warn(\"nn.functional.sigmoid is deprecated. Use torch.sigmoid instead.\")\n",
      "2025-02-23 13:06:02,874 - INFO - Fold 4 Epoch 13 Batch 0: Train Loss = 1.5964\n"
     ]
    },
    {
     "name": "stdout",
     "output_type": "stream",
     "text": [
      "Fold 4 Epoch 13 Batch 0: Train Loss = 1.5964\n",
      "{'mad': 4.478004068742989, 'mse': 33.93680552744176, 'mape': 447.4045243725778, 'kappa': 0.35581555402615284}\n",
      "------------ Save FOLD-BEST model - MSE: 33.9368 ------------\n"
     ]
    },
    {
     "name": "stderr",
     "output_type": "stream",
     "text": [
      "2025-02-23 13:06:03,898 - INFO - ------------ Save FOLD-BEST model - MSE: 33.9368 ------------\n"
     ]
    },
    {
     "name": "stdout",
     "output_type": "stream",
     "text": [
      "Custom bins confusion matrix:\n",
      "[[119  90]\n",
      " [ 27 116]]\n",
      "Mean absolute deviation (MAD) = 4.478004068742989\n",
      "Mean squared error (MSE) = 33.93680552744176\n",
      "Mean absolute percentage error (MAPE) = 447.4045243725778\n",
      "Cohen kappa score = 0.35581555402615284\n",
      "Fold 4, mse = 33.9368, mad = 4.4780\n"
     ]
    },
    {
     "name": "stderr",
     "output_type": "stream",
     "text": [
      "2025-02-23 13:06:04,046 - INFO - Fold 4, mse = 33.9368, mad = 4.4780\n",
      "/home/zzj/anaconda3/envs/distcare/lib/python3.7/site-packages/torch/nn/functional.py:1960: UserWarning: nn.functional.sigmoid is deprecated. Use torch.sigmoid instead.\n",
      "  warnings.warn(\"nn.functional.sigmoid is deprecated. Use torch.sigmoid instead.\")\n",
      "2025-02-23 13:06:04,243 - INFO - Fold 4 Epoch 14 Batch 0: Train Loss = 1.1790\n"
     ]
    },
    {
     "name": "stdout",
     "output_type": "stream",
     "text": [
      "Fold 4 Epoch 14 Batch 0: Train Loss = 1.1790\n",
      "{'mad': 4.312211885763057, 'mse': 33.34367629261539, 'mape': 393.50802711950286, 'kappa': 0.404677533664068}\n",
      "------------ Save FOLD-BEST model - MSE: 33.3437 ------------\n"
     ]
    },
    {
     "name": "stderr",
     "output_type": "stream",
     "text": [
      "2025-02-23 13:06:05,219 - INFO - ------------ Save FOLD-BEST model - MSE: 33.3437 ------------\n"
     ]
    },
    {
     "name": "stdout",
     "output_type": "stream",
     "text": [
      "Custom bins confusion matrix:\n",
      "[[139  70]\n",
      " [ 35 108]]\n",
      "Mean absolute deviation (MAD) = 4.312211885763057\n",
      "Mean squared error (MSE) = 33.34367629261539\n",
      "Mean absolute percentage error (MAPE) = 393.50802711950286\n",
      "Cohen kappa score = 0.404677533664068\n",
      "Fold 4, mse = 33.3437, mad = 4.3122\n"
     ]
    },
    {
     "name": "stderr",
     "output_type": "stream",
     "text": [
      "2025-02-23 13:06:05,348 - INFO - Fold 4, mse = 33.3437, mad = 4.3122\n",
      "/home/zzj/anaconda3/envs/distcare/lib/python3.7/site-packages/torch/nn/functional.py:1960: UserWarning: nn.functional.sigmoid is deprecated. Use torch.sigmoid instead.\n",
      "  warnings.warn(\"nn.functional.sigmoid is deprecated. Use torch.sigmoid instead.\")\n",
      "2025-02-23 13:06:05,522 - INFO - Fold 4 Epoch 15 Batch 0: Train Loss = 1.3587\n"
     ]
    },
    {
     "name": "stdout",
     "output_type": "stream",
     "text": [
      "Fold 4 Epoch 15 Batch 0: Train Loss = 1.3587\n",
      "{'mad': 4.370268893918922, 'mse': 34.287343151686215, 'mape': 374.0216720227643, 'kappa': 0.34798015591778875}\n",
      "------------ auroc-BEST model - auroc: 0.9744 ------------\n"
     ]
    },
    {
     "name": "stderr",
     "output_type": "stream",
     "text": [
      "2025-02-23 13:06:06,531 - INFO - ------------ auroc-BEST model - auroc: 0.9744 ------------\n"
     ]
    },
    {
     "name": "stdout",
     "output_type": "stream",
     "text": [
      "Fold 4, mse = 34.2873, mad = 4.3703\n"
     ]
    },
    {
     "name": "stderr",
     "output_type": "stream",
     "text": [
      "2025-02-23 13:06:06,533 - INFO - Fold 4, mse = 34.2873, mad = 4.3703\n",
      "/home/zzj/anaconda3/envs/distcare/lib/python3.7/site-packages/torch/nn/functional.py:1960: UserWarning: nn.functional.sigmoid is deprecated. Use torch.sigmoid instead.\n",
      "  warnings.warn(\"nn.functional.sigmoid is deprecated. Use torch.sigmoid instead.\")\n",
      "2025-02-23 13:06:06,704 - INFO - Fold 4 Epoch 16 Batch 0: Train Loss = 1.2487\n"
     ]
    },
    {
     "name": "stdout",
     "output_type": "stream",
     "text": [
      "Fold 4 Epoch 16 Batch 0: Train Loss = 1.2487\n",
      "{'mad': 4.595232676119152, 'mse': 35.13635048706062, 'mape': 481.5437020336673, 'kappa': 0.2998643147896879}\n",
      "Fold 4, mse = 35.1364, mad = 4.5952\n"
     ]
    },
    {
     "name": "stderr",
     "output_type": "stream",
     "text": [
      "2025-02-23 13:06:07,925 - INFO - Fold 4, mse = 35.1364, mad = 4.5952\n",
      "/home/zzj/anaconda3/envs/distcare/lib/python3.7/site-packages/torch/nn/functional.py:1960: UserWarning: nn.functional.sigmoid is deprecated. Use torch.sigmoid instead.\n",
      "  warnings.warn(\"nn.functional.sigmoid is deprecated. Use torch.sigmoid instead.\")\n",
      "2025-02-23 13:06:08,135 - INFO - Fold 4 Epoch 17 Batch 0: Train Loss = 1.4037\n"
     ]
    },
    {
     "name": "stdout",
     "output_type": "stream",
     "text": [
      "Fold 4 Epoch 17 Batch 0: Train Loss = 1.4037\n",
      "{'mad': 4.569070361254301, 'mse': 34.60206471465508, 'mape': 490.38425318833526, 'kappa': 0.3364801078894134}\n",
      "------------ auroc-BEST model - auroc: 0.9746 ------------\n"
     ]
    },
    {
     "name": "stderr",
     "output_type": "stream",
     "text": [
      "2025-02-23 13:06:09,256 - INFO - ------------ auroc-BEST model - auroc: 0.9746 ------------\n"
     ]
    },
    {
     "name": "stdout",
     "output_type": "stream",
     "text": [
      "Fold 4, mse = 34.6021, mad = 4.5691\n"
     ]
    },
    {
     "name": "stderr",
     "output_type": "stream",
     "text": [
      "2025-02-23 13:06:09,258 - INFO - Fold 4, mse = 34.6021, mad = 4.5691\n",
      "/home/zzj/anaconda3/envs/distcare/lib/python3.7/site-packages/torch/nn/functional.py:1960: UserWarning: nn.functional.sigmoid is deprecated. Use torch.sigmoid instead.\n",
      "  warnings.warn(\"nn.functional.sigmoid is deprecated. Use torch.sigmoid instead.\")\n",
      "2025-02-23 13:06:09,474 - INFO - Fold 4 Epoch 18 Batch 0: Train Loss = 1.3023\n"
     ]
    },
    {
     "name": "stdout",
     "output_type": "stream",
     "text": [
      "Fold 4 Epoch 18 Batch 0: Train Loss = 1.3023\n",
      "{'mad': 4.296562349168317, 'mse': 33.01436405429156, 'mape': 413.0278226077092, 'kappa': 0.38611789326822465}\n",
      "------------ Save FOLD-BEST model - MSE: 33.0144 ------------\n"
     ]
    },
    {
     "name": "stderr",
     "output_type": "stream",
     "text": [
      "2025-02-23 13:06:10,582 - INFO - ------------ Save FOLD-BEST model - MSE: 33.0144 ------------\n"
     ]
    },
    {
     "name": "stdout",
     "output_type": "stream",
     "text": [
      "Custom bins confusion matrix:\n",
      "[[129  80]\n",
      " [ 30 113]]\n",
      "Mean absolute deviation (MAD) = 4.296562349168317\n",
      "Mean squared error (MSE) = 33.01436405429156\n",
      "Mean absolute percentage error (MAPE) = 413.0278226077092\n",
      "Cohen kappa score = 0.38611789326822465\n",
      "Fold 4, mse = 33.0144, mad = 4.2966\n"
     ]
    },
    {
     "name": "stderr",
     "output_type": "stream",
     "text": [
      "2025-02-23 13:06:10,744 - INFO - Fold 4, mse = 33.0144, mad = 4.2966\n",
      "/home/zzj/anaconda3/envs/distcare/lib/python3.7/site-packages/torch/nn/functional.py:1960: UserWarning: nn.functional.sigmoid is deprecated. Use torch.sigmoid instead.\n",
      "  warnings.warn(\"nn.functional.sigmoid is deprecated. Use torch.sigmoid instead.\")\n",
      "2025-02-23 13:06:10,939 - INFO - Fold 4 Epoch 19 Batch 0: Train Loss = 1.3022\n"
     ]
    },
    {
     "name": "stdout",
     "output_type": "stream",
     "text": [
      "Fold 4 Epoch 19 Batch 0: Train Loss = 1.3022\n",
      "{'mad': 4.358851519073743, 'mse': 33.907655536131806, 'mape': 426.382977775227, 'kappa': 0.36605890603085556}\n",
      "------------ auroc-BEST model - auroc: 0.9749 ------------\n"
     ]
    },
    {
     "name": "stderr",
     "output_type": "stream",
     "text": [
      "2025-02-23 13:06:12,054 - INFO - ------------ auroc-BEST model - auroc: 0.9749 ------------\n"
     ]
    },
    {
     "name": "stdout",
     "output_type": "stream",
     "text": [
      "Fold 4, mse = 33.9077, mad = 4.3589\n"
     ]
    },
    {
     "name": "stderr",
     "output_type": "stream",
     "text": [
      "2025-02-23 13:06:12,055 - INFO - Fold 4, mse = 33.9077, mad = 4.3589\n",
      "/home/zzj/anaconda3/envs/distcare/lib/python3.7/site-packages/torch/nn/functional.py:1960: UserWarning: nn.functional.sigmoid is deprecated. Use torch.sigmoid instead.\n",
      "  warnings.warn(\"nn.functional.sigmoid is deprecated. Use torch.sigmoid instead.\")\n",
      "2025-02-23 13:06:12,258 - INFO - Fold 4 Epoch 20 Batch 0: Train Loss = 1.1873\n"
     ]
    },
    {
     "name": "stdout",
     "output_type": "stream",
     "text": [
      "Fold 4 Epoch 20 Batch 0: Train Loss = 1.1873\n",
      "{'mad': 4.508032286922664, 'mse': 33.91200557196475, 'mape': 471.5661884452647, 'kappa': 0.35846470185058255}\n",
      "Fold 4, epoch 20: Loss = 1.2793 Valid loss = 1.6034 MSE = 33.9120 AUROC = 0.9738\n"
     ]
    },
    {
     "name": "stderr",
     "output_type": "stream",
     "text": [
      "2025-02-23 13:06:13,549 - INFO - Fold 4, epoch 20: Loss = 1.2793 Valid loss = 1.6034 MSE = 33.9120 AUROC = 0.9738\n"
     ]
    },
    {
     "name": "stdout",
     "output_type": "stream",
     "text": [
      "Fold 4, mse = 33.9120, mad = 4.5080\n"
     ]
    },
    {
     "name": "stderr",
     "output_type": "stream",
     "text": [
      "2025-02-23 13:06:13,551 - INFO - Fold 4, mse = 33.9120, mad = 4.5080\n",
      "/home/zzj/anaconda3/envs/distcare/lib/python3.7/site-packages/torch/nn/functional.py:1960: UserWarning: nn.functional.sigmoid is deprecated. Use torch.sigmoid instead.\n",
      "  warnings.warn(\"nn.functional.sigmoid is deprecated. Use torch.sigmoid instead.\")\n",
      "2025-02-23 13:06:13,760 - INFO - Fold 4 Epoch 21 Batch 0: Train Loss = 1.1424\n"
     ]
    },
    {
     "name": "stdout",
     "output_type": "stream",
     "text": [
      "Fold 4 Epoch 21 Batch 0: Train Loss = 1.1424\n",
      "{'mad': 4.370286651453162, 'mse': 33.455875115199774, 'mape': 418.32400848219635, 'kappa': 0.3934713934713935}\n",
      "Fold 4, mse = 33.4559, mad = 4.3703\n"
     ]
    },
    {
     "name": "stderr",
     "output_type": "stream",
     "text": [
      "2025-02-23 13:06:14,745 - INFO - Fold 4, mse = 33.4559, mad = 4.3703\n",
      "/home/zzj/anaconda3/envs/distcare/lib/python3.7/site-packages/torch/nn/functional.py:1960: UserWarning: nn.functional.sigmoid is deprecated. Use torch.sigmoid instead.\n",
      "  warnings.warn(\"nn.functional.sigmoid is deprecated. Use torch.sigmoid instead.\")\n",
      "2025-02-23 13:06:14,933 - INFO - Fold 4 Epoch 22 Batch 0: Train Loss = 1.3061\n"
     ]
    },
    {
     "name": "stdout",
     "output_type": "stream",
     "text": [
      "Fold 4 Epoch 22 Batch 0: Train Loss = 1.3061\n",
      "{'mad': 4.474769475712342, 'mse': 33.96462934249144, 'mape': 473.24319639900125, 'kappa': 0.3580076098235905}\n",
      "Fold 4, mse = 33.9646, mad = 4.4748\n"
     ]
    },
    {
     "name": "stderr",
     "output_type": "stream",
     "text": [
      "2025-02-23 13:06:15,932 - INFO - Fold 4, mse = 33.9646, mad = 4.4748\n",
      "/home/zzj/anaconda3/envs/distcare/lib/python3.7/site-packages/torch/nn/functional.py:1960: UserWarning: nn.functional.sigmoid is deprecated. Use torch.sigmoid instead.\n",
      "  warnings.warn(\"nn.functional.sigmoid is deprecated. Use torch.sigmoid instead.\")\n",
      "2025-02-23 13:06:16,108 - INFO - Fold 4 Epoch 23 Batch 0: Train Loss = 0.9899\n"
     ]
    },
    {
     "name": "stdout",
     "output_type": "stream",
     "text": [
      "Fold 4 Epoch 23 Batch 0: Train Loss = 0.9899\n",
      "{'mad': 4.297025554321399, 'mse': 34.107306549522804, 'mape': 382.06812488123603, 'kappa': 0.41231544832553113}\n",
      "Fold 4, mse = 34.1073, mad = 4.2970\n"
     ]
    },
    {
     "name": "stderr",
     "output_type": "stream",
     "text": [
      "2025-02-23 13:06:17,024 - INFO - Fold 4, mse = 34.1073, mad = 4.2970\n",
      "/home/zzj/anaconda3/envs/distcare/lib/python3.7/site-packages/torch/nn/functional.py:1960: UserWarning: nn.functional.sigmoid is deprecated. Use torch.sigmoid instead.\n",
      "  warnings.warn(\"nn.functional.sigmoid is deprecated. Use torch.sigmoid instead.\")\n",
      "2025-02-23 13:06:17,192 - INFO - Fold 4 Epoch 24 Batch 0: Train Loss = 1.0868\n"
     ]
    },
    {
     "name": "stdout",
     "output_type": "stream",
     "text": [
      "Fold 4 Epoch 24 Batch 0: Train Loss = 1.0868\n",
      "{'mad': 4.346794790347453, 'mse': 34.29630841661215, 'mape': 389.400797899636, 'kappa': 0.3830774723313103}\n",
      "Fold 4, mse = 34.2963, mad = 4.3468\n"
     ]
    },
    {
     "name": "stderr",
     "output_type": "stream",
     "text": [
      "2025-02-23 13:06:18,137 - INFO - Fold 4, mse = 34.2963, mad = 4.3468\n",
      "/home/zzj/anaconda3/envs/distcare/lib/python3.7/site-packages/torch/nn/functional.py:1960: UserWarning: nn.functional.sigmoid is deprecated. Use torch.sigmoid instead.\n",
      "  warnings.warn(\"nn.functional.sigmoid is deprecated. Use torch.sigmoid instead.\")\n",
      "2025-02-23 13:06:18,319 - INFO - Fold 4 Epoch 25 Batch 0: Train Loss = 0.9245\n"
     ]
    },
    {
     "name": "stdout",
     "output_type": "stream",
     "text": [
      "Fold 4 Epoch 25 Batch 0: Train Loss = 0.9245\n",
      "{'mad': 4.353466748321434, 'mse': 34.43268624545399, 'mape': 416.07467866214074, 'kappa': 0.34659090909090906}\n",
      "Fold 4, mse = 34.4327, mad = 4.3535\n"
     ]
    },
    {
     "name": "stderr",
     "output_type": "stream",
     "text": [
      "2025-02-23 13:06:19,369 - INFO - Fold 4, mse = 34.4327, mad = 4.3535\n",
      "/home/zzj/anaconda3/envs/distcare/lib/python3.7/site-packages/torch/nn/functional.py:1960: UserWarning: nn.functional.sigmoid is deprecated. Use torch.sigmoid instead.\n",
      "  warnings.warn(\"nn.functional.sigmoid is deprecated. Use torch.sigmoid instead.\")\n",
      "2025-02-23 13:06:19,551 - INFO - Fold 4 Epoch 26 Batch 0: Train Loss = 0.9130\n"
     ]
    },
    {
     "name": "stdout",
     "output_type": "stream",
     "text": [
      "Fold 4 Epoch 26 Batch 0: Train Loss = 0.9130\n",
      "{'mad': 4.56354838048168, 'mse': 36.65902886474244, 'mape': 436.6574492457681, 'kappa': 0.3197470133520731}\n",
      "------------ auroc-BEST model - auroc: 0.9754 ------------\n"
     ]
    },
    {
     "name": "stderr",
     "output_type": "stream",
     "text": [
      "2025-02-23 13:06:20,638 - INFO - ------------ auroc-BEST model - auroc: 0.9754 ------------\n"
     ]
    },
    {
     "name": "stdout",
     "output_type": "stream",
     "text": [
      "Fold 4, mse = 36.6590, mad = 4.5635\n"
     ]
    },
    {
     "name": "stderr",
     "output_type": "stream",
     "text": [
      "2025-02-23 13:06:20,640 - INFO - Fold 4, mse = 36.6590, mad = 4.5635\n",
      "/home/zzj/anaconda3/envs/distcare/lib/python3.7/site-packages/torch/nn/functional.py:1960: UserWarning: nn.functional.sigmoid is deprecated. Use torch.sigmoid instead.\n",
      "  warnings.warn(\"nn.functional.sigmoid is deprecated. Use torch.sigmoid instead.\")\n",
      "2025-02-23 13:06:20,836 - INFO - Fold 4 Epoch 27 Batch 0: Train Loss = 0.9903\n"
     ]
    },
    {
     "name": "stdout",
     "output_type": "stream",
     "text": [
      "Fold 4 Epoch 27 Batch 0: Train Loss = 0.9903\n",
      "{'mad': 4.509248167605376, 'mse': 35.363387591212955, 'mape': 457.18097576473014, 'kappa': 0.311406578026592}\n",
      "Fold 4, mse = 35.3634, mad = 4.5092\n"
     ]
    },
    {
     "name": "stderr",
     "output_type": "stream",
     "text": [
      "2025-02-23 13:06:21,845 - INFO - Fold 4, mse = 35.3634, mad = 4.5092\n",
      "/home/zzj/anaconda3/envs/distcare/lib/python3.7/site-packages/torch/nn/functional.py:1960: UserWarning: nn.functional.sigmoid is deprecated. Use torch.sigmoid instead.\n",
      "  warnings.warn(\"nn.functional.sigmoid is deprecated. Use torch.sigmoid instead.\")\n",
      "2025-02-23 13:06:22,022 - INFO - Fold 4 Epoch 28 Batch 0: Train Loss = 1.2784\n"
     ]
    },
    {
     "name": "stdout",
     "output_type": "stream",
     "text": [
      "Fold 4 Epoch 28 Batch 0: Train Loss = 1.2784\n",
      "{'mad': 4.520837322407579, 'mse': 34.57715746480074, 'mape': 459.9702442395334, 'kappa': 0.32684283727399166}\n",
      "Fold 4, mse = 34.5772, mad = 4.5208\n"
     ]
    },
    {
     "name": "stderr",
     "output_type": "stream",
     "text": [
      "2025-02-23 13:06:23,070 - INFO - Fold 4, mse = 34.5772, mad = 4.5208\n",
      "/home/zzj/anaconda3/envs/distcare/lib/python3.7/site-packages/torch/nn/functional.py:1960: UserWarning: nn.functional.sigmoid is deprecated. Use torch.sigmoid instead.\n",
      "  warnings.warn(\"nn.functional.sigmoid is deprecated. Use torch.sigmoid instead.\")\n",
      "2025-02-23 13:06:23,258 - INFO - Fold 4 Epoch 29 Batch 0: Train Loss = 0.8500\n"
     ]
    },
    {
     "name": "stdout",
     "output_type": "stream",
     "text": [
      "Fold 4 Epoch 29 Batch 0: Train Loss = 0.8500\n",
      "{'mad': 4.467538540646379, 'mse': 34.54386796722565, 'mape': 443.50021072581205, 'kappa': 0.34009087731562393}\n",
      "Fold 4, mse = 34.5439, mad = 4.4675\n"
     ]
    },
    {
     "name": "stderr",
     "output_type": "stream",
     "text": [
      "2025-02-23 13:06:24,326 - INFO - Fold 4, mse = 34.5439, mad = 4.4675\n",
      "/home/zzj/anaconda3/envs/distcare/lib/python3.7/site-packages/torch/nn/functional.py:1960: UserWarning: nn.functional.sigmoid is deprecated. Use torch.sigmoid instead.\n",
      "  warnings.warn(\"nn.functional.sigmoid is deprecated. Use torch.sigmoid instead.\")\n",
      "2025-02-23 13:06:24,509 - INFO - Fold 4 Epoch 30 Batch 0: Train Loss = 1.1326\n"
     ]
    },
    {
     "name": "stdout",
     "output_type": "stream",
     "text": [
      "Fold 4 Epoch 30 Batch 0: Train Loss = 1.1326\n",
      "{'mad': 4.3634680831461665, 'mse': 34.02297816703793, 'mape': 422.0549024309929, 'kappa': 0.37199434229137196}\n",
      "Fold 4, epoch 30: Loss = 0.9461 Valid loss = 1.6287 MSE = 34.0230 AUROC = 0.9691\n"
     ]
    },
    {
     "name": "stderr",
     "output_type": "stream",
     "text": [
      "2025-02-23 13:06:25,560 - INFO - Fold 4, epoch 30: Loss = 0.9461 Valid loss = 1.6287 MSE = 34.0230 AUROC = 0.9691\n"
     ]
    },
    {
     "name": "stdout",
     "output_type": "stream",
     "text": [
      "Fold 4, mse = 34.0230, mad = 4.3635\n"
     ]
    },
    {
     "name": "stderr",
     "output_type": "stream",
     "text": [
      "2025-02-23 13:06:25,562 - INFO - Fold 4, mse = 34.0230, mad = 4.3635\n",
      "/home/zzj/anaconda3/envs/distcare/lib/python3.7/site-packages/torch/nn/functional.py:1960: UserWarning: nn.functional.sigmoid is deprecated. Use torch.sigmoid instead.\n",
      "  warnings.warn(\"nn.functional.sigmoid is deprecated. Use torch.sigmoid instead.\")\n",
      "2025-02-23 13:06:25,733 - INFO - Fold 4 Epoch 31 Batch 0: Train Loss = 1.0083\n"
     ]
    },
    {
     "name": "stdout",
     "output_type": "stream",
     "text": [
      "Fold 4 Epoch 31 Batch 0: Train Loss = 1.0083\n",
      "{'mad': 4.4293720255953355, 'mse': 34.722878702623824, 'mape': 426.3743684910782, 'kappa': 0.3652609006433166}\n",
      "Fold 4, mse = 34.7229, mad = 4.4294\n"
     ]
    },
    {
     "name": "stderr",
     "output_type": "stream",
     "text": [
      "2025-02-23 13:06:26,690 - INFO - Fold 4, mse = 34.7229, mad = 4.4294\n",
      "/home/zzj/anaconda3/envs/distcare/lib/python3.7/site-packages/torch/nn/functional.py:1960: UserWarning: nn.functional.sigmoid is deprecated. Use torch.sigmoid instead.\n",
      "  warnings.warn(\"nn.functional.sigmoid is deprecated. Use torch.sigmoid instead.\")\n",
      "2025-02-23 13:06:26,873 - INFO - Fold 4 Epoch 32 Batch 0: Train Loss = 1.0208\n"
     ]
    },
    {
     "name": "stdout",
     "output_type": "stream",
     "text": [
      "Fold 4 Epoch 32 Batch 0: Train Loss = 1.0208\n",
      "{'mad': 4.373324953294383, 'mse': 33.82846329111274, 'mape': 436.97180719258364, 'kappa': 0.352112676056338}\n",
      "Fold 4, mse = 33.8285, mad = 4.3733\n"
     ]
    },
    {
     "name": "stderr",
     "output_type": "stream",
     "text": [
      "2025-02-23 13:06:27,914 - INFO - Fold 4, mse = 33.8285, mad = 4.3733\n",
      "/home/zzj/anaconda3/envs/distcare/lib/python3.7/site-packages/torch/nn/functional.py:1960: UserWarning: nn.functional.sigmoid is deprecated. Use torch.sigmoid instead.\n",
      "  warnings.warn(\"nn.functional.sigmoid is deprecated. Use torch.sigmoid instead.\")\n",
      "2025-02-23 13:06:28,138 - INFO - Fold 4 Epoch 33 Batch 0: Train Loss = 0.9250\n"
     ]
    },
    {
     "name": "stdout",
     "output_type": "stream",
     "text": [
      "Fold 4 Epoch 33 Batch 0: Train Loss = 0.9250\n",
      "{'mad': 4.402812000653039, 'mse': 33.6789785298896, 'mape': 447.36412517446007, 'kappa': 0.36472241742796907}\n",
      "Fold 4, mse = 33.6790, mad = 4.4028\n"
     ]
    },
    {
     "name": "stderr",
     "output_type": "stream",
     "text": [
      "2025-02-23 13:06:29,177 - INFO - Fold 4, mse = 33.6790, mad = 4.4028\n",
      "/home/zzj/anaconda3/envs/distcare/lib/python3.7/site-packages/torch/nn/functional.py:1960: UserWarning: nn.functional.sigmoid is deprecated. Use torch.sigmoid instead.\n",
      "  warnings.warn(\"nn.functional.sigmoid is deprecated. Use torch.sigmoid instead.\")\n",
      "2025-02-23 13:06:29,362 - INFO - Fold 4 Epoch 34 Batch 0: Train Loss = 0.9161\n"
     ]
    },
    {
     "name": "stdout",
     "output_type": "stream",
     "text": [
      "Fold 4 Epoch 34 Batch 0: Train Loss = 0.9161\n",
      "{'mad': 4.650659678091696, 'mse': 34.868785017460866, 'mape': 518.7386092708123, 'kappa': 0.3079019073569482}\n",
      "Fold 4, mse = 34.8688, mad = 4.6507\n"
     ]
    },
    {
     "name": "stderr",
     "output_type": "stream",
     "text": [
      "2025-02-23 13:06:30,363 - INFO - Fold 4, mse = 34.8688, mad = 4.6507\n",
      "/home/zzj/anaconda3/envs/distcare/lib/python3.7/site-packages/torch/nn/functional.py:1960: UserWarning: nn.functional.sigmoid is deprecated. Use torch.sigmoid instead.\n",
      "  warnings.warn(\"nn.functional.sigmoid is deprecated. Use torch.sigmoid instead.\")\n",
      "2025-02-23 13:06:30,540 - INFO - Fold 4 Epoch 35 Batch 0: Train Loss = 1.0374\n"
     ]
    },
    {
     "name": "stdout",
     "output_type": "stream",
     "text": [
      "Fold 4 Epoch 35 Batch 0: Train Loss = 1.0374\n",
      "{'mad': 4.404607377131533, 'mse': 32.98009543859958, 'mape': 462.47289970846913, 'kappa': 0.32963988919667586}\n",
      "------------ Save FOLD-BEST model - MSE: 32.9801 ------------\n"
     ]
    },
    {
     "name": "stderr",
     "output_type": "stream",
     "text": [
      "2025-02-23 13:06:31,541 - INFO - ------------ Save FOLD-BEST model - MSE: 32.9801 ------------\n"
     ]
    },
    {
     "name": "stdout",
     "output_type": "stream",
     "text": [
      "Custom bins confusion matrix:\n",
      "[[120  89]\n",
      " [ 32 111]]\n",
      "Mean absolute deviation (MAD) = 4.404607377131533\n",
      "Mean squared error (MSE) = 32.98009543859958\n",
      "Mean absolute percentage error (MAPE) = 462.47289970846913\n",
      "Cohen kappa score = 0.32963988919667586\n",
      "Fold 4, mse = 32.9801, mad = 4.4046\n"
     ]
    },
    {
     "name": "stderr",
     "output_type": "stream",
     "text": [
      "2025-02-23 13:06:31,670 - INFO - Fold 4, mse = 32.9801, mad = 4.4046\n",
      "/home/zzj/anaconda3/envs/distcare/lib/python3.7/site-packages/torch/nn/functional.py:1960: UserWarning: nn.functional.sigmoid is deprecated. Use torch.sigmoid instead.\n",
      "  warnings.warn(\"nn.functional.sigmoid is deprecated. Use torch.sigmoid instead.\")\n",
      "2025-02-23 13:06:31,877 - INFO - Fold 4 Epoch 36 Batch 0: Train Loss = 1.0043\n"
     ]
    },
    {
     "name": "stdout",
     "output_type": "stream",
     "text": [
      "Fold 4 Epoch 36 Batch 0: Train Loss = 1.0043\n",
      "{'mad': 4.262870227845589, 'mse': 35.11577754619888, 'mape': 362.24680448323284, 'kappa': 0.4529411764705882}\n",
      "Fold 4, mse = 35.1158, mad = 4.2629\n"
     ]
    },
    {
     "name": "stderr",
     "output_type": "stream",
     "text": [
      "2025-02-23 13:06:33,139 - INFO - Fold 4, mse = 35.1158, mad = 4.2629\n",
      "/home/zzj/anaconda3/envs/distcare/lib/python3.7/site-packages/torch/nn/functional.py:1960: UserWarning: nn.functional.sigmoid is deprecated. Use torch.sigmoid instead.\n",
      "  warnings.warn(\"nn.functional.sigmoid is deprecated. Use torch.sigmoid instead.\")\n",
      "2025-02-23 13:06:33,378 - INFO - Fold 4 Epoch 37 Batch 0: Train Loss = 1.0474\n"
     ]
    },
    {
     "name": "stdout",
     "output_type": "stream",
     "text": [
      "Fold 4 Epoch 37 Batch 0: Train Loss = 1.0474\n",
      "{'mad': 4.512046530518216, 'mse': 34.96395428420289, 'mape': 445.9198456612387, 'kappa': 0.34223471539002104}\n",
      "Fold 4, mse = 34.9640, mad = 4.5120\n"
     ]
    },
    {
     "name": "stderr",
     "output_type": "stream",
     "text": [
      "2025-02-23 13:06:34,641 - INFO - Fold 4, mse = 34.9640, mad = 4.5120\n",
      "/home/zzj/anaconda3/envs/distcare/lib/python3.7/site-packages/torch/nn/functional.py:1960: UserWarning: nn.functional.sigmoid is deprecated. Use torch.sigmoid instead.\n",
      "  warnings.warn(\"nn.functional.sigmoid is deprecated. Use torch.sigmoid instead.\")\n",
      "2025-02-23 13:06:34,850 - INFO - Fold 4 Epoch 38 Batch 0: Train Loss = 0.8873\n"
     ]
    },
    {
     "name": "stdout",
     "output_type": "stream",
     "text": [
      "Fold 4 Epoch 38 Batch 0: Train Loss = 0.8873\n",
      "{'mad': 4.612268711299198, 'mse': 35.04600486962895, 'mape': 461.2003479422065, 'kappa': 0.3151536071798412}\n",
      "Fold 4, mse = 35.0460, mad = 4.6123\n"
     ]
    },
    {
     "name": "stderr",
     "output_type": "stream",
     "text": [
      "2025-02-23 13:06:35,970 - INFO - Fold 4, mse = 35.0460, mad = 4.6123\n",
      "/home/zzj/anaconda3/envs/distcare/lib/python3.7/site-packages/torch/nn/functional.py:1960: UserWarning: nn.functional.sigmoid is deprecated. Use torch.sigmoid instead.\n",
      "  warnings.warn(\"nn.functional.sigmoid is deprecated. Use torch.sigmoid instead.\")\n",
      "2025-02-23 13:06:36,183 - INFO - Fold 4 Epoch 39 Batch 0: Train Loss = 0.8219\n"
     ]
    },
    {
     "name": "stdout",
     "output_type": "stream",
     "text": [
      "Fold 4 Epoch 39 Batch 0: Train Loss = 0.8219\n",
      "{'mad': 4.434623458270121, 'mse': 34.50409052404496, 'mape': 439.39574511312765, 'kappa': 0.36834684525907646}\n",
      "Fold 4, mse = 34.5041, mad = 4.4346\n"
     ]
    },
    {
     "name": "stderr",
     "output_type": "stream",
     "text": [
      "2025-02-23 13:06:37,308 - INFO - Fold 4, mse = 34.5041, mad = 4.4346\n",
      "/home/zzj/anaconda3/envs/distcare/lib/python3.7/site-packages/torch/nn/functional.py:1960: UserWarning: nn.functional.sigmoid is deprecated. Use torch.sigmoid instead.\n",
      "  warnings.warn(\"nn.functional.sigmoid is deprecated. Use torch.sigmoid instead.\")\n",
      "2025-02-23 13:06:37,480 - INFO - Fold 4 Epoch 40 Batch 0: Train Loss = 0.8926\n"
     ]
    },
    {
     "name": "stdout",
     "output_type": "stream",
     "text": [
      "Fold 4 Epoch 40 Batch 0: Train Loss = 0.8926\n",
      "{'mad': 4.287166121841493, 'mse': 34.165883642066746, 'mape': 361.65354570933215, 'kappa': 0.43440233236151604}\n",
      "Fold 4, epoch 40: Loss = 0.9228 Valid loss = 1.6174 MSE = 34.1659 AUROC = 0.9727\n"
     ]
    },
    {
     "name": "stderr",
     "output_type": "stream",
     "text": [
      "2025-02-23 13:06:38,442 - INFO - Fold 4, epoch 40: Loss = 0.9228 Valid loss = 1.6174 MSE = 34.1659 AUROC = 0.9727\n"
     ]
    },
    {
     "name": "stdout",
     "output_type": "stream",
     "text": [
      "Fold 4, mse = 34.1659, mad = 4.2872\n"
     ]
    },
    {
     "name": "stderr",
     "output_type": "stream",
     "text": [
      "2025-02-23 13:06:38,444 - INFO - Fold 4, mse = 34.1659, mad = 4.2872\n",
      "/home/zzj/anaconda3/envs/distcare/lib/python3.7/site-packages/torch/nn/functional.py:1960: UserWarning: nn.functional.sigmoid is deprecated. Use torch.sigmoid instead.\n",
      "  warnings.warn(\"nn.functional.sigmoid is deprecated. Use torch.sigmoid instead.\")\n",
      "2025-02-23 13:06:38,613 - INFO - Fold 4 Epoch 41 Batch 0: Train Loss = 0.9352\n"
     ]
    },
    {
     "name": "stdout",
     "output_type": "stream",
     "text": [
      "Fold 4 Epoch 41 Batch 0: Train Loss = 0.9352\n",
      "{'mad': 4.368768767055471, 'mse': 33.90643258627282, 'mape': 432.333190300788, 'kappa': 0.38330975954738333}\n",
      "Fold 4, mse = 33.9064, mad = 4.3688\n"
     ]
    },
    {
     "name": "stderr",
     "output_type": "stream",
     "text": [
      "2025-02-23 13:06:39,579 - INFO - Fold 4, mse = 33.9064, mad = 4.3688\n",
      "/home/zzj/anaconda3/envs/distcare/lib/python3.7/site-packages/torch/nn/functional.py:1960: UserWarning: nn.functional.sigmoid is deprecated. Use torch.sigmoid instead.\n",
      "  warnings.warn(\"nn.functional.sigmoid is deprecated. Use torch.sigmoid instead.\")\n",
      "2025-02-23 13:06:39,755 - INFO - Fold 4 Epoch 42 Batch 0: Train Loss = 0.7875\n"
     ]
    },
    {
     "name": "stdout",
     "output_type": "stream",
     "text": [
      "Fold 4 Epoch 42 Batch 0: Train Loss = 0.7875\n",
      "{'mad': 4.550473285430548, 'mse': 36.495985782039604, 'mape': 434.6945277974075, 'kappa': 0.3780313837375179}\n",
      "Fold 4, mse = 36.4960, mad = 4.5505\n"
     ]
    },
    {
     "name": "stderr",
     "output_type": "stream",
     "text": [
      "2025-02-23 13:06:40,703 - INFO - Fold 4, mse = 36.4960, mad = 4.5505\n",
      "/home/zzj/anaconda3/envs/distcare/lib/python3.7/site-packages/torch/nn/functional.py:1960: UserWarning: nn.functional.sigmoid is deprecated. Use torch.sigmoid instead.\n",
      "  warnings.warn(\"nn.functional.sigmoid is deprecated. Use torch.sigmoid instead.\")\n",
      "2025-02-23 13:06:40,860 - INFO - Fold 4 Epoch 43 Batch 0: Train Loss = 0.9497\n"
     ]
    },
    {
     "name": "stdout",
     "output_type": "stream",
     "text": [
      "Fold 4 Epoch 43 Batch 0: Train Loss = 0.9497\n",
      "{'mad': 4.297153705761124, 'mse': 35.26771732699577, 'mape': 356.31641283237843, 'kappa': 0.45890909090909093}\n",
      "Fold 4, mse = 35.2677, mad = 4.2972\n"
     ]
    },
    {
     "name": "stderr",
     "output_type": "stream",
     "text": [
      "2025-02-23 13:06:41,732 - INFO - Fold 4, mse = 35.2677, mad = 4.2972\n",
      "/home/zzj/anaconda3/envs/distcare/lib/python3.7/site-packages/torch/nn/functional.py:1960: UserWarning: nn.functional.sigmoid is deprecated. Use torch.sigmoid instead.\n",
      "  warnings.warn(\"nn.functional.sigmoid is deprecated. Use torch.sigmoid instead.\")\n",
      "2025-02-23 13:06:41,942 - INFO - Fold 4 Epoch 44 Batch 0: Train Loss = 0.8101\n"
     ]
    },
    {
     "name": "stdout",
     "output_type": "stream",
     "text": [
      "Fold 4 Epoch 44 Batch 0: Train Loss = 0.8101\n",
      "{'mad': 4.346138792215221, 'mse': 34.7663539257135, 'mape': 408.86094380751905, 'kappa': 0.4046511627906977}\n",
      "Fold 4, mse = 34.7664, mad = 4.3461\n"
     ]
    },
    {
     "name": "stderr",
     "output_type": "stream",
     "text": [
      "2025-02-23 13:06:43,049 - INFO - Fold 4, mse = 34.7664, mad = 4.3461\n",
      "/home/zzj/anaconda3/envs/distcare/lib/python3.7/site-packages/torch/nn/functional.py:1960: UserWarning: nn.functional.sigmoid is deprecated. Use torch.sigmoid instead.\n",
      "  warnings.warn(\"nn.functional.sigmoid is deprecated. Use torch.sigmoid instead.\")\n",
      "2025-02-23 13:06:43,249 - INFO - Fold 4 Epoch 45 Batch 0: Train Loss = 0.8508\n"
     ]
    },
    {
     "name": "stdout",
     "output_type": "stream",
     "text": [
      "Fold 4 Epoch 45 Batch 0: Train Loss = 0.8508\n",
      "{'mad': 4.6108046837613506, 'mse': 35.717938223036384, 'mape': 489.7078627698336, 'kappa': 0.308914996544575}\n",
      "Fold 4, mse = 35.7179, mad = 4.6108\n"
     ]
    },
    {
     "name": "stderr",
     "output_type": "stream",
     "text": [
      "2025-02-23 13:06:44,291 - INFO - Fold 4, mse = 35.7179, mad = 4.6108\n",
      "/home/zzj/anaconda3/envs/distcare/lib/python3.7/site-packages/torch/nn/functional.py:1960: UserWarning: nn.functional.sigmoid is deprecated. Use torch.sigmoid instead.\n",
      "  warnings.warn(\"nn.functional.sigmoid is deprecated. Use torch.sigmoid instead.\")\n",
      "2025-02-23 13:06:44,455 - INFO - Fold 4 Epoch 46 Batch 0: Train Loss = 0.7359\n"
     ]
    },
    {
     "name": "stdout",
     "output_type": "stream",
     "text": [
      "Fold 4 Epoch 46 Batch 0: Train Loss = 0.7359\n",
      "{'mad': 4.373943153843169, 'mse': 34.623986337556765, 'mape': 422.7015125498454, 'kappa': 0.35706732463870283}\n",
      "Fold 4, mse = 34.6240, mad = 4.3739\n"
     ]
    },
    {
     "name": "stderr",
     "output_type": "stream",
     "text": [
      "2025-02-23 13:06:45,458 - INFO - Fold 4, mse = 34.6240, mad = 4.3739\n",
      "/home/zzj/anaconda3/envs/distcare/lib/python3.7/site-packages/torch/nn/functional.py:1960: UserWarning: nn.functional.sigmoid is deprecated. Use torch.sigmoid instead.\n",
      "  warnings.warn(\"nn.functional.sigmoid is deprecated. Use torch.sigmoid instead.\")\n",
      "2025-02-23 13:06:45,627 - INFO - Fold 4 Epoch 47 Batch 0: Train Loss = 0.7834\n"
     ]
    },
    {
     "name": "stdout",
     "output_type": "stream",
     "text": [
      "Fold 4 Epoch 47 Batch 0: Train Loss = 0.7834\n",
      "{'mad': 4.387465444286821, 'mse': 35.68422860892706, 'mape': 418.2476479896928, 'kappa': 0.3766976411722659}\n",
      "Fold 4, mse = 35.6842, mad = 4.3875\n"
     ]
    },
    {
     "name": "stderr",
     "output_type": "stream",
     "text": [
      "2025-02-23 13:06:46,522 - INFO - Fold 4, mse = 35.6842, mad = 4.3875\n",
      "/home/zzj/anaconda3/envs/distcare/lib/python3.7/site-packages/torch/nn/functional.py:1960: UserWarning: nn.functional.sigmoid is deprecated. Use torch.sigmoid instead.\n",
      "  warnings.warn(\"nn.functional.sigmoid is deprecated. Use torch.sigmoid instead.\")\n",
      "2025-02-23 13:06:46,687 - INFO - Fold 4 Epoch 48 Batch 0: Train Loss = 0.7433\n"
     ]
    },
    {
     "name": "stdout",
     "output_type": "stream",
     "text": [
      "Fold 4 Epoch 48 Batch 0: Train Loss = 0.7433\n",
      "{'mad': 4.400398170838982, 'mse': 35.80119229301338, 'mape': 365.59119348502145, 'kappa': 0.4149167270094135}\n",
      "Fold 4, mse = 35.8012, mad = 4.4004\n"
     ]
    },
    {
     "name": "stderr",
     "output_type": "stream",
     "text": [
      "2025-02-23 13:06:47,584 - INFO - Fold 4, mse = 35.8012, mad = 4.4004\n",
      "/home/zzj/anaconda3/envs/distcare/lib/python3.7/site-packages/torch/nn/functional.py:1960: UserWarning: nn.functional.sigmoid is deprecated. Use torch.sigmoid instead.\n",
      "  warnings.warn(\"nn.functional.sigmoid is deprecated. Use torch.sigmoid instead.\")\n",
      "2025-02-23 13:06:47,754 - INFO - Fold 4 Epoch 49 Batch 0: Train Loss = 0.7970\n"
     ]
    },
    {
     "name": "stdout",
     "output_type": "stream",
     "text": [
      "Fold 4 Epoch 49 Batch 0: Train Loss = 0.7970\n",
      "{'mad': 4.522691299312265, 'mse': 35.122839873450566, 'mape': 463.7162370591839, 'kappa': 0.3303104290198814}\n",
      "Fold 4, mse = 35.1228, mad = 4.5227\n"
     ]
    },
    {
     "name": "stderr",
     "output_type": "stream",
     "text": [
      "2025-02-23 13:06:48,746 - INFO - Fold 4, mse = 35.1228, mad = 4.5227\n",
      "/home/zzj/anaconda3/envs/distcare/lib/python3.7/site-packages/torch/nn/functional.py:1960: UserWarning: nn.functional.sigmoid is deprecated. Use torch.sigmoid instead.\n",
      "  warnings.warn(\"nn.functional.sigmoid is deprecated. Use torch.sigmoid instead.\")\n",
      "2025-02-23 13:06:48,921 - INFO - Fold 4 Epoch 50 Batch 0: Train Loss = 0.9602\n"
     ]
    },
    {
     "name": "stdout",
     "output_type": "stream",
     "text": [
      "Fold 4 Epoch 50 Batch 0: Train Loss = 0.9602\n",
      "{'mad': 4.440013439583678, 'mse': 34.04999259568554, 'mape': 453.2615890603072, 'kappa': 0.3934713934713935}\n",
      "Fold 4, epoch 50: Loss = 0.8408 Valid loss = 1.5817 MSE = 34.0500 AUROC = 0.9677\n"
     ]
    },
    {
     "name": "stderr",
     "output_type": "stream",
     "text": [
      "2025-02-23 13:06:49,814 - INFO - Fold 4, epoch 50: Loss = 0.8408 Valid loss = 1.5817 MSE = 34.0500 AUROC = 0.9677\n"
     ]
    },
    {
     "name": "stdout",
     "output_type": "stream",
     "text": [
      "Fold 4, mse = 34.0500, mad = 4.4400\n"
     ]
    },
    {
     "name": "stderr",
     "output_type": "stream",
     "text": [
      "2025-02-23 13:06:49,816 - INFO - Fold 4, mse = 34.0500, mad = 4.4400\n",
      "/home/zzj/anaconda3/envs/distcare/lib/python3.7/site-packages/torch/nn/functional.py:1960: UserWarning: nn.functional.sigmoid is deprecated. Use torch.sigmoid instead.\n",
      "  warnings.warn(\"nn.functional.sigmoid is deprecated. Use torch.sigmoid instead.\")\n",
      "2025-02-23 13:06:49,982 - INFO - Fold 4 Epoch 51 Batch 0: Train Loss = 0.7001\n"
     ]
    },
    {
     "name": "stdout",
     "output_type": "stream",
     "text": [
      "Fold 4 Epoch 51 Batch 0: Train Loss = 0.7001\n",
      "{'mad': 4.291383430500252, 'mse': 34.019238220927654, 'mape': 407.13071330147096, 'kappa': 0.41231544832553113}\n",
      "Fold 4, mse = 34.0192, mad = 4.2914\n"
     ]
    },
    {
     "name": "stderr",
     "output_type": "stream",
     "text": [
      "2025-02-23 13:06:50,926 - INFO - Fold 4, mse = 34.0192, mad = 4.2914\n",
      "/home/zzj/anaconda3/envs/distcare/lib/python3.7/site-packages/torch/nn/functional.py:1960: UserWarning: nn.functional.sigmoid is deprecated. Use torch.sigmoid instead.\n",
      "  warnings.warn(\"nn.functional.sigmoid is deprecated. Use torch.sigmoid instead.\")\n",
      "2025-02-23 13:06:51,121 - INFO - Fold 4 Epoch 52 Batch 0: Train Loss = 0.7136\n"
     ]
    },
    {
     "name": "stdout",
     "output_type": "stream",
     "text": [
      "Fold 4 Epoch 52 Batch 0: Train Loss = 0.7136\n",
      "{'mad': 4.451398693864051, 'mse': 34.90249069231716, 'mape': 428.4032673556998, 'kappa': 0.38439615247595293}\n",
      "Fold 4, mse = 34.9025, mad = 4.4514\n"
     ]
    },
    {
     "name": "stderr",
     "output_type": "stream",
     "text": [
      "2025-02-23 13:06:52,150 - INFO - Fold 4, mse = 34.9025, mad = 4.4514\n",
      "/home/zzj/anaconda3/envs/distcare/lib/python3.7/site-packages/torch/nn/functional.py:1960: UserWarning: nn.functional.sigmoid is deprecated. Use torch.sigmoid instead.\n",
      "  warnings.warn(\"nn.functional.sigmoid is deprecated. Use torch.sigmoid instead.\")\n",
      "2025-02-23 13:06:52,353 - INFO - Fold 4 Epoch 53 Batch 0: Train Loss = 0.8574\n"
     ]
    },
    {
     "name": "stdout",
     "output_type": "stream",
     "text": [
      "Fold 4 Epoch 53 Batch 0: Train Loss = 0.8574\n",
      "{'mad': 4.422836229986865, 'mse': 35.22548071218335, 'mape': 431.521226580132, 'kappa': 0.36295769640952724}\n",
      "Fold 4, mse = 35.2255, mad = 4.4228\n"
     ]
    },
    {
     "name": "stderr",
     "output_type": "stream",
     "text": [
      "2025-02-23 13:06:53,390 - INFO - Fold 4, mse = 35.2255, mad = 4.4228\n",
      "/home/zzj/anaconda3/envs/distcare/lib/python3.7/site-packages/torch/nn/functional.py:1960: UserWarning: nn.functional.sigmoid is deprecated. Use torch.sigmoid instead.\n",
      "  warnings.warn(\"nn.functional.sigmoid is deprecated. Use torch.sigmoid instead.\")\n",
      "2025-02-23 13:06:53,561 - INFO - Fold 4 Epoch 54 Batch 0: Train Loss = 0.7186\n"
     ]
    },
    {
     "name": "stdout",
     "output_type": "stream",
     "text": [
      "Fold 4 Epoch 54 Batch 0: Train Loss = 0.7186\n",
      "{'mad': 4.506408500846305, 'mse': 34.28704612454225, 'mape': 460.4264235196169, 'kappa': 0.320570831883049}\n",
      "Fold 4, mse = 34.2870, mad = 4.5064\n"
     ]
    },
    {
     "name": "stderr",
     "output_type": "stream",
     "text": [
      "2025-02-23 13:06:54,518 - INFO - Fold 4, mse = 34.2870, mad = 4.5064\n",
      "/home/zzj/anaconda3/envs/distcare/lib/python3.7/site-packages/torch/nn/functional.py:1960: UserWarning: nn.functional.sigmoid is deprecated. Use torch.sigmoid instead.\n",
      "  warnings.warn(\"nn.functional.sigmoid is deprecated. Use torch.sigmoid instead.\")\n",
      "2025-02-23 13:06:54,705 - INFO - Fold 4 Epoch 55 Batch 0: Train Loss = 0.8037\n"
     ]
    },
    {
     "name": "stdout",
     "output_type": "stream",
     "text": [
      "Fold 4 Epoch 55 Batch 0: Train Loss = 0.8037\n",
      "{'mad': 4.522825284015841, 'mse': 34.76919250187055, 'mape': 479.9157683693492, 'kappa': 0.31855955678670356}\n",
      "Fold 4, mse = 34.7692, mad = 4.5228\n"
     ]
    },
    {
     "name": "stderr",
     "output_type": "stream",
     "text": [
      "2025-02-23 13:06:55,676 - INFO - Fold 4, mse = 34.7692, mad = 4.5228\n",
      "/home/zzj/anaconda3/envs/distcare/lib/python3.7/site-packages/torch/nn/functional.py:1960: UserWarning: nn.functional.sigmoid is deprecated. Use torch.sigmoid instead.\n",
      "  warnings.warn(\"nn.functional.sigmoid is deprecated. Use torch.sigmoid instead.\")\n",
      "2025-02-23 13:06:55,866 - INFO - Fold 4 Epoch 56 Batch 0: Train Loss = 0.7860\n"
     ]
    },
    {
     "name": "stdout",
     "output_type": "stream",
     "text": [
      "Fold 4 Epoch 56 Batch 0: Train Loss = 0.7860\n",
      "{'mad': 4.516046090155659, 'mse': 35.89926261883836, 'mape': 420.03702656659846, 'kappa': 0.34519572953736655}\n",
      "Fold 4, mse = 35.8993, mad = 4.5160\n"
     ]
    },
    {
     "name": "stderr",
     "output_type": "stream",
     "text": [
      "2025-02-23 13:06:56,883 - INFO - Fold 4, mse = 35.8993, mad = 4.5160\n",
      "/home/zzj/anaconda3/envs/distcare/lib/python3.7/site-packages/torch/nn/functional.py:1960: UserWarning: nn.functional.sigmoid is deprecated. Use torch.sigmoid instead.\n",
      "  warnings.warn(\"nn.functional.sigmoid is deprecated. Use torch.sigmoid instead.\")\n",
      "2025-02-23 13:06:57,052 - INFO - Fold 4 Epoch 57 Batch 0: Train Loss = 0.8282\n"
     ]
    },
    {
     "name": "stdout",
     "output_type": "stream",
     "text": [
      "Fold 4 Epoch 57 Batch 0: Train Loss = 0.8282\n",
      "{'mad': 4.390674032326025, 'mse': 36.095242032623474, 'mape': 416.1343891369338, 'kappa': 0.36115107913669064}\n",
      "Fold 4, mse = 36.0952, mad = 4.3907\n"
     ]
    },
    {
     "name": "stderr",
     "output_type": "stream",
     "text": [
      "2025-02-23 13:06:58,051 - INFO - Fold 4, mse = 36.0952, mad = 4.3907\n",
      "/home/zzj/anaconda3/envs/distcare/lib/python3.7/site-packages/torch/nn/functional.py:1960: UserWarning: nn.functional.sigmoid is deprecated. Use torch.sigmoid instead.\n",
      "  warnings.warn(\"nn.functional.sigmoid is deprecated. Use torch.sigmoid instead.\")\n",
      "2025-02-23 13:06:58,209 - INFO - Fold 4 Epoch 58 Batch 0: Train Loss = 0.8362\n"
     ]
    },
    {
     "name": "stdout",
     "output_type": "stream",
     "text": [
      "Fold 4 Epoch 58 Batch 0: Train Loss = 0.8362\n",
      "{'mad': 4.408057307275853, 'mse': 35.849456036083374, 'mape': 394.97079193835555, 'kappa': 0.3841726618705036}\n",
      "Fold 4, mse = 35.8495, mad = 4.4081\n"
     ]
    },
    {
     "name": "stderr",
     "output_type": "stream",
     "text": [
      "2025-02-23 13:06:59,124 - INFO - Fold 4, mse = 35.8495, mad = 4.4081\n",
      "/home/zzj/anaconda3/envs/distcare/lib/python3.7/site-packages/torch/nn/functional.py:1960: UserWarning: nn.functional.sigmoid is deprecated. Use torch.sigmoid instead.\n",
      "  warnings.warn(\"nn.functional.sigmoid is deprecated. Use torch.sigmoid instead.\")\n",
      "2025-02-23 13:06:59,288 - INFO - Fold 4 Epoch 59 Batch 0: Train Loss = 0.6960\n"
     ]
    },
    {
     "name": "stdout",
     "output_type": "stream",
     "text": [
      "Fold 4 Epoch 59 Batch 0: Train Loss = 0.6960\n",
      "{'mad': 4.510837070364576, 'mse': 35.56186902541162, 'mape': 449.0426418719404, 'kappa': 0.3148473148473149}\n",
      "Fold 4, mse = 35.5619, mad = 4.5108\n"
     ]
    },
    {
     "name": "stderr",
     "output_type": "stream",
     "text": [
      "2025-02-23 13:07:00,245 - INFO - Fold 4, mse = 35.5619, mad = 4.5108\n",
      "/home/zzj/anaconda3/envs/distcare/lib/python3.7/site-packages/torch/nn/functional.py:1960: UserWarning: nn.functional.sigmoid is deprecated. Use torch.sigmoid instead.\n",
      "  warnings.warn(\"nn.functional.sigmoid is deprecated. Use torch.sigmoid instead.\")\n",
      "2025-02-23 13:07:00,609 - INFO - Fold 5 Epoch 0 Batch 0: Train Loss = 2.5526\n"
     ]
    },
    {
     "name": "stdout",
     "output_type": "stream",
     "text": [
      "Fold 5 Epoch 0 Batch 0: Train Loss = 2.5526\n",
      "{'mad': 5.016621817502631, 'mse': 51.80645375362442, 'mape': 350.1092520676316, 'kappa': 0.38868289537320644}\n",
      "Fold 5, epoch 0: Loss = 2.3231 Valid loss = 2.9311 MSE = 51.8065 AUROC = 0.7732\n"
     ]
    },
    {
     "name": "stderr",
     "output_type": "stream",
     "text": [
      "2025-02-23 13:07:01,492 - INFO - Fold 5, epoch 0: Loss = 2.3231 Valid loss = 2.9311 MSE = 51.8065 AUROC = 0.7732\n"
     ]
    },
    {
     "name": "stdout",
     "output_type": "stream",
     "text": [
      "------------ Save FOLD-BEST model - MSE: 51.8065 ------------\n"
     ]
    },
    {
     "name": "stderr",
     "output_type": "stream",
     "text": [
      "2025-02-23 13:07:01,494 - INFO - ------------ Save FOLD-BEST model - MSE: 51.8065 ------------\n"
     ]
    },
    {
     "name": "stdout",
     "output_type": "stream",
     "text": [
      "Custom bins confusion matrix:\n",
      "[[131  65]\n",
      " [ 31  89]]\n",
      "Mean absolute deviation (MAD) = 5.016621817502631\n",
      "Mean squared error (MSE) = 51.80645375362442\n",
      "Mean absolute percentage error (MAPE) = 350.1092520676316\n",
      "Cohen kappa score = 0.38868289537320644\n",
      "------------ auroc-BEST model - auroc: 0.7732 ------------\n"
     ]
    },
    {
     "name": "stderr",
     "output_type": "stream",
     "text": [
      "2025-02-23 13:07:01,615 - INFO - ------------ auroc-BEST model - auroc: 0.7732 ------------\n"
     ]
    },
    {
     "name": "stdout",
     "output_type": "stream",
     "text": [
      "Fold 5, mse = 51.8065, mad = 5.0166\n"
     ]
    },
    {
     "name": "stderr",
     "output_type": "stream",
     "text": [
      "2025-02-23 13:07:01,617 - INFO - Fold 5, mse = 51.8065, mad = 5.0166\n",
      "/home/zzj/anaconda3/envs/distcare/lib/python3.7/site-packages/torch/nn/functional.py:1960: UserWarning: nn.functional.sigmoid is deprecated. Use torch.sigmoid instead.\n",
      "  warnings.warn(\"nn.functional.sigmoid is deprecated. Use torch.sigmoid instead.\")\n",
      "2025-02-23 13:07:01,784 - INFO - Fold 5 Epoch 1 Batch 0: Train Loss = 2.1276\n"
     ]
    },
    {
     "name": "stdout",
     "output_type": "stream",
     "text": [
      "Fold 5 Epoch 1 Batch 0: Train Loss = 2.1276\n",
      "{'mad': 5.099204390563106, 'mse': 51.074714426120785, 'mape': 365.7563786512216, 'kappa': 0.282079243911305}\n",
      "------------ Save FOLD-BEST model - MSE: 51.0747 ------------\n"
     ]
    },
    {
     "name": "stderr",
     "output_type": "stream",
     "text": [
      "2025-02-23 13:07:02,653 - INFO - ------------ Save FOLD-BEST model - MSE: 51.0747 ------------\n"
     ]
    },
    {
     "name": "stdout",
     "output_type": "stream",
     "text": [
      "Custom bins confusion matrix:\n",
      "[[ 81 115]\n",
      " [ 10 110]]\n",
      "Mean absolute deviation (MAD) = 5.099204390563106\n",
      "Mean squared error (MSE) = 51.074714426120785\n",
      "Mean absolute percentage error (MAPE) = 365.7563786512216\n",
      "Cohen kappa score = 0.282079243911305\n",
      "------------ auroc-BEST model - auroc: 0.8102 ------------\n"
     ]
    },
    {
     "name": "stderr",
     "output_type": "stream",
     "text": [
      "2025-02-23 13:07:02,768 - INFO - ------------ auroc-BEST model - auroc: 0.8102 ------------\n"
     ]
    },
    {
     "name": "stdout",
     "output_type": "stream",
     "text": [
      "Fold 5, mse = 51.0747, mad = 5.0992\n"
     ]
    },
    {
     "name": "stderr",
     "output_type": "stream",
     "text": [
      "2025-02-23 13:07:02,770 - INFO - Fold 5, mse = 51.0747, mad = 5.0992\n",
      "/home/zzj/anaconda3/envs/distcare/lib/python3.7/site-packages/torch/nn/functional.py:1960: UserWarning: nn.functional.sigmoid is deprecated. Use torch.sigmoid instead.\n",
      "  warnings.warn(\"nn.functional.sigmoid is deprecated. Use torch.sigmoid instead.\")\n",
      "2025-02-23 13:07:02,938 - INFO - Fold 5 Epoch 2 Batch 0: Train Loss = 1.9672\n"
     ]
    },
    {
     "name": "stdout",
     "output_type": "stream",
     "text": [
      "Fold 5 Epoch 2 Batch 0: Train Loss = 1.9672\n",
      "{'mad': 5.09766843581105, 'mse': 50.47406469051134, 'mape': 371.3754072978441, 'kappa': 0.2678830002896033}\n",
      "------------ Save FOLD-BEST model - MSE: 50.4741 ------------\n"
     ]
    },
    {
     "name": "stderr",
     "output_type": "stream",
     "text": [
      "2025-02-23 13:07:03,840 - INFO - ------------ Save FOLD-BEST model - MSE: 50.4741 ------------\n"
     ]
    },
    {
     "name": "stdout",
     "output_type": "stream",
     "text": [
      "Custom bins confusion matrix:\n",
      "[[ 78 118]\n",
      " [ 10 110]]\n",
      "Mean absolute deviation (MAD) = 5.09766843581105\n",
      "Mean squared error (MSE) = 50.47406469051134\n",
      "Mean absolute percentage error (MAPE) = 371.3754072978441\n",
      "Cohen kappa score = 0.2678830002896033\n",
      "------------ auroc-BEST model - auroc: 0.8741 ------------\n"
     ]
    },
    {
     "name": "stderr",
     "output_type": "stream",
     "text": [
      "2025-02-23 13:07:03,959 - INFO - ------------ auroc-BEST model - auroc: 0.8741 ------------\n"
     ]
    },
    {
     "name": "stdout",
     "output_type": "stream",
     "text": [
      "Fold 5, mse = 50.4741, mad = 5.0977\n"
     ]
    },
    {
     "name": "stderr",
     "output_type": "stream",
     "text": [
      "2025-02-23 13:07:03,960 - INFO - Fold 5, mse = 50.4741, mad = 5.0977\n",
      "/home/zzj/anaconda3/envs/distcare/lib/python3.7/site-packages/torch/nn/functional.py:1960: UserWarning: nn.functional.sigmoid is deprecated. Use torch.sigmoid instead.\n",
      "  warnings.warn(\"nn.functional.sigmoid is deprecated. Use torch.sigmoid instead.\")\n",
      "2025-02-23 13:07:04,120 - INFO - Fold 5 Epoch 3 Batch 0: Train Loss = 1.9247\n"
     ]
    },
    {
     "name": "stdout",
     "output_type": "stream",
     "text": [
      "Fold 5 Epoch 3 Batch 0: Train Loss = 1.9247\n",
      "{'mad': 4.949840173017204, 'mse': 49.38147699598779, 'mape': 353.5163080758539, 'kappa': 0.3406271148206632}\n",
      "------------ Save FOLD-BEST model - MSE: 49.3815 ------------\n"
     ]
    },
    {
     "name": "stderr",
     "output_type": "stream",
     "text": [
      "2025-02-23 13:07:05,011 - INFO - ------------ Save FOLD-BEST model - MSE: 49.3815 ------------\n"
     ]
    },
    {
     "name": "stdout",
     "output_type": "stream",
     "text": [
      "Custom bins confusion matrix:\n",
      "[[100  96]\n",
      " [ 15 105]]\n",
      "Mean absolute deviation (MAD) = 4.949840173017204\n",
      "Mean squared error (MSE) = 49.38147699598779\n",
      "Mean absolute percentage error (MAPE) = 353.5163080758539\n",
      "Cohen kappa score = 0.3406271148206632\n",
      "------------ auroc-BEST model - auroc: 0.9374 ------------\n"
     ]
    },
    {
     "name": "stderr",
     "output_type": "stream",
     "text": [
      "2025-02-23 13:07:05,129 - INFO - ------------ auroc-BEST model - auroc: 0.9374 ------------\n"
     ]
    },
    {
     "name": "stdout",
     "output_type": "stream",
     "text": [
      "Fold 5, mse = 49.3815, mad = 4.9498\n"
     ]
    },
    {
     "name": "stderr",
     "output_type": "stream",
     "text": [
      "2025-02-23 13:07:05,131 - INFO - Fold 5, mse = 49.3815, mad = 4.9498\n",
      "/home/zzj/anaconda3/envs/distcare/lib/python3.7/site-packages/torch/nn/functional.py:1960: UserWarning: nn.functional.sigmoid is deprecated. Use torch.sigmoid instead.\n",
      "  warnings.warn(\"nn.functional.sigmoid is deprecated. Use torch.sigmoid instead.\")\n",
      "2025-02-23 13:07:05,341 - INFO - Fold 5 Epoch 4 Batch 0: Train Loss = 2.2615\n"
     ]
    },
    {
     "name": "stdout",
     "output_type": "stream",
     "text": [
      "Fold 5 Epoch 4 Batch 0: Train Loss = 2.2615\n",
      "{'mad': 4.962845438322073, 'mse': 48.694569609309944, 'mape': 362.59440120419725, 'kappa': 0.31774865991661705}\n",
      "------------ Save FOLD-BEST model - MSE: 48.6946 ------------\n"
     ]
    },
    {
     "name": "stderr",
     "output_type": "stream",
     "text": [
      "2025-02-23 13:07:06,343 - INFO - ------------ Save FOLD-BEST model - MSE: 48.6946 ------------\n"
     ]
    },
    {
     "name": "stdout",
     "output_type": "stream",
     "text": [
      "Custom bins confusion matrix:\n",
      "[[ 94 102]\n",
      " [ 14 106]]\n",
      "Mean absolute deviation (MAD) = 4.962845438322073\n",
      "Mean squared error (MSE) = 48.694569609309944\n",
      "Mean absolute percentage error (MAPE) = 362.59440120419725\n",
      "Cohen kappa score = 0.31774865991661705\n",
      "------------ auroc-BEST model - auroc: 0.9696 ------------\n"
     ]
    },
    {
     "name": "stderr",
     "output_type": "stream",
     "text": [
      "2025-02-23 13:07:06,490 - INFO - ------------ auroc-BEST model - auroc: 0.9696 ------------\n"
     ]
    },
    {
     "name": "stdout",
     "output_type": "stream",
     "text": [
      "Fold 5, mse = 48.6946, mad = 4.9628\n"
     ]
    },
    {
     "name": "stderr",
     "output_type": "stream",
     "text": [
      "2025-02-23 13:07:06,492 - INFO - Fold 5, mse = 48.6946, mad = 4.9628\n",
      "/home/zzj/anaconda3/envs/distcare/lib/python3.7/site-packages/torch/nn/functional.py:1960: UserWarning: nn.functional.sigmoid is deprecated. Use torch.sigmoid instead.\n",
      "  warnings.warn(\"nn.functional.sigmoid is deprecated. Use torch.sigmoid instead.\")\n",
      "2025-02-23 13:07:06,667 - INFO - Fold 5 Epoch 5 Batch 0: Train Loss = 1.8340\n"
     ]
    },
    {
     "name": "stdout",
     "output_type": "stream",
     "text": [
      "Fold 5 Epoch 5 Batch 0: Train Loss = 1.8340\n",
      "{'mad': 4.939525526532686, 'mse': 48.35837243912131, 'mape': 360.8550634626995, 'kappa': 0.2853084112149532}\n",
      "------------ Save FOLD-BEST model - MSE: 48.3584 ------------\n"
     ]
    },
    {
     "name": "stderr",
     "output_type": "stream",
     "text": [
      "2025-02-23 13:07:07,656 - INFO - ------------ Save FOLD-BEST model - MSE: 48.3584 ------------\n"
     ]
    },
    {
     "name": "stdout",
     "output_type": "stream",
     "text": [
      "Custom bins confusion matrix:\n",
      "[[ 93 103]\n",
      " [ 18 102]]\n",
      "Mean absolute deviation (MAD) = 4.939525526532686\n",
      "Mean squared error (MSE) = 48.35837243912131\n",
      "Mean absolute percentage error (MAPE) = 360.8550634626995\n",
      "Cohen kappa score = 0.2853084112149532\n",
      "------------ auroc-BEST model - auroc: 0.9738 ------------\n"
     ]
    },
    {
     "name": "stderr",
     "output_type": "stream",
     "text": [
      "2025-02-23 13:07:07,776 - INFO - ------------ auroc-BEST model - auroc: 0.9738 ------------\n"
     ]
    },
    {
     "name": "stdout",
     "output_type": "stream",
     "text": [
      "Fold 5, mse = 48.3584, mad = 4.9395\n"
     ]
    },
    {
     "name": "stderr",
     "output_type": "stream",
     "text": [
      "2025-02-23 13:07:07,779 - INFO - Fold 5, mse = 48.3584, mad = 4.9395\n",
      "/home/zzj/anaconda3/envs/distcare/lib/python3.7/site-packages/torch/nn/functional.py:1960: UserWarning: nn.functional.sigmoid is deprecated. Use torch.sigmoid instead.\n",
      "  warnings.warn(\"nn.functional.sigmoid is deprecated. Use torch.sigmoid instead.\")\n",
      "2025-02-23 13:07:07,965 - INFO - Fold 5 Epoch 6 Batch 0: Train Loss = 1.8109\n"
     ]
    },
    {
     "name": "stdout",
     "output_type": "stream",
     "text": [
      "Fold 5 Epoch 6 Batch 0: Train Loss = 1.8109\n",
      "{'mad': 4.741921062506693, 'mse': 47.397809544312445, 'mape': 331.94626141154066, 'kappa': 0.3719996912865633}\n",
      "------------ Save FOLD-BEST model - MSE: 47.3978 ------------\n"
     ]
    },
    {
     "name": "stderr",
     "output_type": "stream",
     "text": [
      "2025-02-23 13:07:08,913 - INFO - ------------ Save FOLD-BEST model - MSE: 47.3978 ------------\n"
     ]
    },
    {
     "name": "stdout",
     "output_type": "stream",
     "text": [
      "Custom bins confusion matrix:\n",
      "[[113  83]\n",
      " [ 20 100]]\n",
      "Mean absolute deviation (MAD) = 4.741921062506693\n",
      "Mean squared error (MSE) = 47.397809544312445\n",
      "Mean absolute percentage error (MAPE) = 331.94626141154066\n",
      "Cohen kappa score = 0.3719996912865633\n",
      "------------ auroc-BEST model - auroc: 0.9794 ------------\n"
     ]
    },
    {
     "name": "stderr",
     "output_type": "stream",
     "text": [
      "2025-02-23 13:07:09,043 - INFO - ------------ auroc-BEST model - auroc: 0.9794 ------------\n"
     ]
    },
    {
     "name": "stdout",
     "output_type": "stream",
     "text": [
      "Fold 5, mse = 47.3978, mad = 4.7419\n"
     ]
    },
    {
     "name": "stderr",
     "output_type": "stream",
     "text": [
      "2025-02-23 13:07:09,045 - INFO - Fold 5, mse = 47.3978, mad = 4.7419\n",
      "/home/zzj/anaconda3/envs/distcare/lib/python3.7/site-packages/torch/nn/functional.py:1960: UserWarning: nn.functional.sigmoid is deprecated. Use torch.sigmoid instead.\n",
      "  warnings.warn(\"nn.functional.sigmoid is deprecated. Use torch.sigmoid instead.\")\n",
      "2025-02-23 13:07:09,212 - INFO - Fold 5 Epoch 7 Batch 0: Train Loss = 1.6738\n"
     ]
    },
    {
     "name": "stdout",
     "output_type": "stream",
     "text": [
      "Fold 5 Epoch 7 Batch 0: Train Loss = 1.6738\n",
      "{'mad': 4.817388481827342, 'mse': 46.809938966804, 'mape': 354.83725390872405, 'kappa': 0.3469093667045886}\n",
      "------------ Save FOLD-BEST model - MSE: 46.8099 ------------\n"
     ]
    },
    {
     "name": "stderr",
     "output_type": "stream",
     "text": [
      "2025-02-23 13:07:10,096 - INFO - ------------ Save FOLD-BEST model - MSE: 46.8099 ------------\n"
     ]
    },
    {
     "name": "stdout",
     "output_type": "stream",
     "text": [
      "Custom bins confusion matrix:\n",
      "[[104  92]\n",
      " [ 17 103]]\n",
      "Mean absolute deviation (MAD) = 4.817388481827342\n",
      "Mean squared error (MSE) = 46.809938966804\n",
      "Mean absolute percentage error (MAPE) = 354.83725390872405\n",
      "Cohen kappa score = 0.3469093667045886\n",
      "------------ auroc-BEST model - auroc: 0.9801 ------------\n"
     ]
    },
    {
     "name": "stderr",
     "output_type": "stream",
     "text": [
      "2025-02-23 13:07:10,217 - INFO - ------------ auroc-BEST model - auroc: 0.9801 ------------\n"
     ]
    },
    {
     "name": "stdout",
     "output_type": "stream",
     "text": [
      "Fold 5, mse = 46.8099, mad = 4.8174\n"
     ]
    },
    {
     "name": "stderr",
     "output_type": "stream",
     "text": [
      "2025-02-23 13:07:10,218 - INFO - Fold 5, mse = 46.8099, mad = 4.8174\n",
      "/home/zzj/anaconda3/envs/distcare/lib/python3.7/site-packages/torch/nn/functional.py:1960: UserWarning: nn.functional.sigmoid is deprecated. Use torch.sigmoid instead.\n",
      "  warnings.warn(\"nn.functional.sigmoid is deprecated. Use torch.sigmoid instead.\")\n",
      "2025-02-23 13:07:10,363 - INFO - Fold 5 Epoch 8 Batch 0: Train Loss = 1.9083\n"
     ]
    },
    {
     "name": "stdout",
     "output_type": "stream",
     "text": [
      "Fold 5 Epoch 8 Batch 0: Train Loss = 1.9083\n",
      "{'mad': 4.577866564002051, 'mse': 45.804107134406834, 'mape': 314.48557557927745, 'kappa': 0.4228140466650955}\n",
      "------------ Save FOLD-BEST model - MSE: 45.8041 ------------\n"
     ]
    },
    {
     "name": "stderr",
     "output_type": "stream",
     "text": [
      "2025-02-23 13:07:11,136 - INFO - ------------ Save FOLD-BEST model - MSE: 45.8041 ------------\n"
     ]
    },
    {
     "name": "stdout",
     "output_type": "stream",
     "text": [
      "Custom bins confusion matrix:\n",
      "[[124  72]\n",
      " [ 21  99]]\n",
      "Mean absolute deviation (MAD) = 4.577866564002051\n",
      "Mean squared error (MSE) = 45.804107134406834\n",
      "Mean absolute percentage error (MAPE) = 314.48557557927745\n",
      "Cohen kappa score = 0.4228140466650955\n",
      "------------ auroc-BEST model - auroc: 0.9804 ------------\n"
     ]
    },
    {
     "name": "stderr",
     "output_type": "stream",
     "text": [
      "2025-02-23 13:07:11,272 - INFO - ------------ auroc-BEST model - auroc: 0.9804 ------------\n"
     ]
    },
    {
     "name": "stdout",
     "output_type": "stream",
     "text": [
      "Fold 5, mse = 45.8041, mad = 4.5779\n"
     ]
    },
    {
     "name": "stderr",
     "output_type": "stream",
     "text": [
      "2025-02-23 13:07:11,275 - INFO - Fold 5, mse = 45.8041, mad = 4.5779\n",
      "/home/zzj/anaconda3/envs/distcare/lib/python3.7/site-packages/torch/nn/functional.py:1960: UserWarning: nn.functional.sigmoid is deprecated. Use torch.sigmoid instead.\n",
      "  warnings.warn(\"nn.functional.sigmoid is deprecated. Use torch.sigmoid instead.\")\n",
      "2025-02-23 13:07:11,455 - INFO - Fold 5 Epoch 9 Batch 0: Train Loss = 1.5383\n"
     ]
    },
    {
     "name": "stdout",
     "output_type": "stream",
     "text": [
      "Fold 5 Epoch 9 Batch 0: Train Loss = 1.5383\n",
      "{'mad': 4.709990200617881, 'mse': 45.397284879190764, 'mape': 342.6961000404253, 'kappa': 0.36396779583776395}\n",
      "------------ Save FOLD-BEST model - MSE: 45.3973 ------------\n"
     ]
    },
    {
     "name": "stderr",
     "output_type": "stream",
     "text": [
      "2025-02-23 13:07:12,388 - INFO - ------------ Save FOLD-BEST model - MSE: 45.3973 ------------\n"
     ]
    },
    {
     "name": "stdout",
     "output_type": "stream",
     "text": [
      "Custom bins confusion matrix:\n",
      "[[106  90]\n",
      " [ 16 104]]\n",
      "Mean absolute deviation (MAD) = 4.709990200617881\n",
      "Mean squared error (MSE) = 45.397284879190764\n",
      "Mean absolute percentage error (MAPE) = 342.6961000404253\n",
      "Cohen kappa score = 0.36396779583776395\n",
      "------------ auroc-BEST model - auroc: 0.9828 ------------\n"
     ]
    },
    {
     "name": "stderr",
     "output_type": "stream",
     "text": [
      "2025-02-23 13:07:12,510 - INFO - ------------ auroc-BEST model - auroc: 0.9828 ------------\n"
     ]
    },
    {
     "name": "stdout",
     "output_type": "stream",
     "text": [
      "Fold 5, mse = 45.3973, mad = 4.7100\n"
     ]
    },
    {
     "name": "stderr",
     "output_type": "stream",
     "text": [
      "2025-02-23 13:07:12,512 - INFO - Fold 5, mse = 45.3973, mad = 4.7100\n",
      "/home/zzj/anaconda3/envs/distcare/lib/python3.7/site-packages/torch/nn/functional.py:1960: UserWarning: nn.functional.sigmoid is deprecated. Use torch.sigmoid instead.\n",
      "  warnings.warn(\"nn.functional.sigmoid is deprecated. Use torch.sigmoid instead.\")\n",
      "2025-02-23 13:07:12,670 - INFO - Fold 5 Epoch 10 Batch 0: Train Loss = 1.7544\n"
     ]
    },
    {
     "name": "stdout",
     "output_type": "stream",
     "text": [
      "Fold 5 Epoch 10 Batch 0: Train Loss = 1.7544\n",
      "{'mad': 4.403414567279094, 'mse': 44.9691726979161, 'mape': 279.3756935691701, 'kappa': 0.45569620253164556}\n",
      "Fold 5, epoch 10: Loss = 1.5238 Valid loss = 2.4206 MSE = 44.9692 AUROC = 0.9836\n"
     ]
    },
    {
     "name": "stderr",
     "output_type": "stream",
     "text": [
      "2025-02-23 13:07:13,564 - INFO - Fold 5, epoch 10: Loss = 1.5238 Valid loss = 2.4206 MSE = 44.9692 AUROC = 0.9836\n"
     ]
    },
    {
     "name": "stdout",
     "output_type": "stream",
     "text": [
      "------------ Save FOLD-BEST model - MSE: 44.9692 ------------\n"
     ]
    },
    {
     "name": "stderr",
     "output_type": "stream",
     "text": [
      "2025-02-23 13:07:13,566 - INFO - ------------ Save FOLD-BEST model - MSE: 44.9692 ------------\n"
     ]
    },
    {
     "name": "stdout",
     "output_type": "stream",
     "text": [
      "Custom bins confusion matrix:\n",
      "[[134  62]\n",
      " [ 24  96]]\n",
      "Mean absolute deviation (MAD) = 4.403414567279094\n",
      "Mean squared error (MSE) = 44.9691726979161\n",
      "Mean absolute percentage error (MAPE) = 279.3756935691701\n",
      "Cohen kappa score = 0.45569620253164556\n",
      "------------ auroc-BEST model - auroc: 0.9836 ------------\n"
     ]
    },
    {
     "name": "stderr",
     "output_type": "stream",
     "text": [
      "2025-02-23 13:07:13,704 - INFO - ------------ auroc-BEST model - auroc: 0.9836 ------------\n"
     ]
    },
    {
     "name": "stdout",
     "output_type": "stream",
     "text": [
      "Fold 5, mse = 44.9692, mad = 4.4034\n"
     ]
    },
    {
     "name": "stderr",
     "output_type": "stream",
     "text": [
      "2025-02-23 13:07:13,706 - INFO - Fold 5, mse = 44.9692, mad = 4.4034\n",
      "/home/zzj/anaconda3/envs/distcare/lib/python3.7/site-packages/torch/nn/functional.py:1960: UserWarning: nn.functional.sigmoid is deprecated. Use torch.sigmoid instead.\n",
      "  warnings.warn(\"nn.functional.sigmoid is deprecated. Use torch.sigmoid instead.\")\n",
      "2025-02-23 13:07:13,885 - INFO - Fold 5 Epoch 11 Batch 0: Train Loss = 1.4275\n"
     ]
    },
    {
     "name": "stdout",
     "output_type": "stream",
     "text": [
      "Fold 5 Epoch 11 Batch 0: Train Loss = 1.4275\n",
      "{'mad': 4.7924931780288835, 'mse': 45.262764699993006, 'mape': 345.3383788980183, 'kappa': 0.3337349397590361}\n",
      "------------ auroc-BEST model - auroc: 0.9848 ------------\n"
     ]
    },
    {
     "name": "stderr",
     "output_type": "stream",
     "text": [
      "2025-02-23 13:07:14,815 - INFO - ------------ auroc-BEST model - auroc: 0.9848 ------------\n"
     ]
    },
    {
     "name": "stdout",
     "output_type": "stream",
     "text": [
      "Fold 5, mse = 45.2628, mad = 4.7925\n"
     ]
    },
    {
     "name": "stderr",
     "output_type": "stream",
     "text": [
      "2025-02-23 13:07:14,817 - INFO - Fold 5, mse = 45.2628, mad = 4.7925\n",
      "/home/zzj/anaconda3/envs/distcare/lib/python3.7/site-packages/torch/nn/functional.py:1960: UserWarning: nn.functional.sigmoid is deprecated. Use torch.sigmoid instead.\n",
      "  warnings.warn(\"nn.functional.sigmoid is deprecated. Use torch.sigmoid instead.\")\n",
      "2025-02-23 13:07:14,984 - INFO - Fold 5 Epoch 12 Batch 0: Train Loss = 1.3598\n"
     ]
    },
    {
     "name": "stdout",
     "output_type": "stream",
     "text": [
      "Fold 5 Epoch 12 Batch 0: Train Loss = 1.3598\n",
      "{'mad': 4.388154218850387, 'mse': 43.82679281698188, 'mape': 284.2266315812205, 'kappa': 0.4194888178913738}\n",
      "------------ Save FOLD-BEST model - MSE: 43.8268 ------------\n"
     ]
    },
    {
     "name": "stderr",
     "output_type": "stream",
     "text": [
      "2025-02-23 13:07:16,101 - INFO - ------------ Save FOLD-BEST model - MSE: 43.8268 ------------\n"
     ]
    },
    {
     "name": "stdout",
     "output_type": "stream",
     "text": [
      "Custom bins confusion matrix:\n",
      "[[130  66]\n",
      " [ 26  94]]\n",
      "Mean absolute deviation (MAD) = 4.388154218850387\n",
      "Mean squared error (MSE) = 43.82679281698188\n",
      "Mean absolute percentage error (MAPE) = 284.2266315812205\n",
      "Cohen kappa score = 0.4194888178913738\n",
      "------------ auroc-BEST model - auroc: 0.9851 ------------\n"
     ]
    },
    {
     "name": "stderr",
     "output_type": "stream",
     "text": [
      "2025-02-23 13:07:16,265 - INFO - ------------ auroc-BEST model - auroc: 0.9851 ------------\n"
     ]
    },
    {
     "name": "stdout",
     "output_type": "stream",
     "text": [
      "Fold 5, mse = 43.8268, mad = 4.3882\n"
     ]
    },
    {
     "name": "stderr",
     "output_type": "stream",
     "text": [
      "2025-02-23 13:07:16,268 - INFO - Fold 5, mse = 43.8268, mad = 4.3882\n",
      "/home/zzj/anaconda3/envs/distcare/lib/python3.7/site-packages/torch/nn/functional.py:1960: UserWarning: nn.functional.sigmoid is deprecated. Use torch.sigmoid instead.\n",
      "  warnings.warn(\"nn.functional.sigmoid is deprecated. Use torch.sigmoid instead.\")\n",
      "2025-02-23 13:07:16,479 - INFO - Fold 5 Epoch 13 Batch 0: Train Loss = 1.5423\n"
     ]
    },
    {
     "name": "stdout",
     "output_type": "stream",
     "text": [
      "Fold 5 Epoch 13 Batch 0: Train Loss = 1.5423\n",
      "{'mad': 4.354306944260459, 'mse': 43.44453463899832, 'mape': 279.7364522516512, 'kappa': 0.4266687933647021}\n",
      "------------ Save FOLD-BEST model - MSE: 43.4445 ------------\n"
     ]
    },
    {
     "name": "stderr",
     "output_type": "stream",
     "text": [
      "2025-02-23 13:07:17,634 - INFO - ------------ Save FOLD-BEST model - MSE: 43.4445 ------------\n"
     ]
    },
    {
     "name": "stdout",
     "output_type": "stream",
     "text": [
      "Custom bins confusion matrix:\n",
      "[[130  66]\n",
      " [ 25  95]]\n",
      "Mean absolute deviation (MAD) = 4.354306944260459\n",
      "Mean squared error (MSE) = 43.44453463899832\n",
      "Mean absolute percentage error (MAPE) = 279.7364522516512\n",
      "Cohen kappa score = 0.4266687933647021\n",
      "------------ auroc-BEST model - auroc: 0.9859 ------------\n"
     ]
    },
    {
     "name": "stderr",
     "output_type": "stream",
     "text": [
      "2025-02-23 13:07:17,772 - INFO - ------------ auroc-BEST model - auroc: 0.9859 ------------\n"
     ]
    },
    {
     "name": "stdout",
     "output_type": "stream",
     "text": [
      "Fold 5, mse = 43.4445, mad = 4.3543\n"
     ]
    },
    {
     "name": "stderr",
     "output_type": "stream",
     "text": [
      "2025-02-23 13:07:17,774 - INFO - Fold 5, mse = 43.4445, mad = 4.3543\n",
      "/home/zzj/anaconda3/envs/distcare/lib/python3.7/site-packages/torch/nn/functional.py:1960: UserWarning: nn.functional.sigmoid is deprecated. Use torch.sigmoid instead.\n",
      "  warnings.warn(\"nn.functional.sigmoid is deprecated. Use torch.sigmoid instead.\")\n",
      "2025-02-23 13:07:17,980 - INFO - Fold 5 Epoch 14 Batch 0: Train Loss = 1.2635\n"
     ]
    },
    {
     "name": "stdout",
     "output_type": "stream",
     "text": [
      "Fold 5 Epoch 14 Batch 0: Train Loss = 1.2635\n",
      "{'mad': 4.69629927586521, 'mse': 43.511915698805815, 'mape': 331.0139832932435, 'kappa': 0.3337349397590361}\n",
      "------------ auroc-BEST model - auroc: 0.9869 ------------\n"
     ]
    },
    {
     "name": "stderr",
     "output_type": "stream",
     "text": [
      "2025-02-23 13:07:19,120 - INFO - ------------ auroc-BEST model - auroc: 0.9869 ------------\n"
     ]
    },
    {
     "name": "stdout",
     "output_type": "stream",
     "text": [
      "Fold 5, mse = 43.5119, mad = 4.6963\n"
     ]
    },
    {
     "name": "stderr",
     "output_type": "stream",
     "text": [
      "2025-02-23 13:07:19,122 - INFO - Fold 5, mse = 43.5119, mad = 4.6963\n",
      "/home/zzj/anaconda3/envs/distcare/lib/python3.7/site-packages/torch/nn/functional.py:1960: UserWarning: nn.functional.sigmoid is deprecated. Use torch.sigmoid instead.\n",
      "  warnings.warn(\"nn.functional.sigmoid is deprecated. Use torch.sigmoid instead.\")\n",
      "2025-02-23 13:07:19,346 - INFO - Fold 5 Epoch 15 Batch 0: Train Loss = 1.4131\n"
     ]
    },
    {
     "name": "stdout",
     "output_type": "stream",
     "text": [
      "Fold 5 Epoch 15 Batch 0: Train Loss = 1.4131\n",
      "{'mad': 4.2749393316119715, 'mse': 42.38849685005353, 'mape': 266.5608599621371, 'kappa': 0.4266687933647021}\n",
      "------------ Save FOLD-BEST model - MSE: 42.3885 ------------\n"
     ]
    },
    {
     "name": "stderr",
     "output_type": "stream",
     "text": [
      "2025-02-23 13:07:20,486 - INFO - ------------ Save FOLD-BEST model - MSE: 42.3885 ------------\n"
     ]
    },
    {
     "name": "stdout",
     "output_type": "stream",
     "text": [
      "Custom bins confusion matrix:\n",
      "[[130  66]\n",
      " [ 25  95]]\n",
      "Mean absolute deviation (MAD) = 4.2749393316119715\n",
      "Mean squared error (MSE) = 42.38849685005353\n",
      "Mean absolute percentage error (MAPE) = 266.5608599621371\n",
      "Cohen kappa score = 0.4266687933647021\n",
      "------------ auroc-BEST model - auroc: 0.9877 ------------\n"
     ]
    },
    {
     "name": "stderr",
     "output_type": "stream",
     "text": [
      "2025-02-23 13:07:20,603 - INFO - ------------ auroc-BEST model - auroc: 0.9877 ------------\n"
     ]
    },
    {
     "name": "stdout",
     "output_type": "stream",
     "text": [
      "Fold 5, mse = 42.3885, mad = 4.2749\n"
     ]
    },
    {
     "name": "stderr",
     "output_type": "stream",
     "text": [
      "2025-02-23 13:07:20,604 - INFO - Fold 5, mse = 42.3885, mad = 4.2749\n",
      "/home/zzj/anaconda3/envs/distcare/lib/python3.7/site-packages/torch/nn/functional.py:1960: UserWarning: nn.functional.sigmoid is deprecated. Use torch.sigmoid instead.\n",
      "  warnings.warn(\"nn.functional.sigmoid is deprecated. Use torch.sigmoid instead.\")\n",
      "2025-02-23 13:07:20,788 - INFO - Fold 5 Epoch 16 Batch 0: Train Loss = 1.3236\n"
     ]
    },
    {
     "name": "stdout",
     "output_type": "stream",
     "text": [
      "Fold 5 Epoch 16 Batch 0: Train Loss = 1.3236\n",
      "{'mad': 4.46003583093302, 'mse': 42.43151262993983, 'mape': 296.85447972237466, 'kappa': 0.40684263487886063}\n",
      "Fold 5, mse = 42.4315, mad = 4.4600\n"
     ]
    },
    {
     "name": "stderr",
     "output_type": "stream",
     "text": [
      "2025-02-23 13:07:21,804 - INFO - Fold 5, mse = 42.4315, mad = 4.4600\n",
      "/home/zzj/anaconda3/envs/distcare/lib/python3.7/site-packages/torch/nn/functional.py:1960: UserWarning: nn.functional.sigmoid is deprecated. Use torch.sigmoid instead.\n",
      "  warnings.warn(\"nn.functional.sigmoid is deprecated. Use torch.sigmoid instead.\")\n",
      "2025-02-23 13:07:21,971 - INFO - Fold 5 Epoch 17 Batch 0: Train Loss = 1.2510\n"
     ]
    },
    {
     "name": "stdout",
     "output_type": "stream",
     "text": [
      "Fold 5 Epoch 17 Batch 0: Train Loss = 1.2510\n",
      "{'mad': 4.299210092901521, 'mse': 41.64575545857643, 'mape': 269.2060397841837, 'kappa': 0.46447085094505147}\n",
      "------------ Save FOLD-BEST model - MSE: 41.6458 ------------\n"
     ]
    },
    {
     "name": "stderr",
     "output_type": "stream",
     "text": [
      "2025-02-23 13:07:22,914 - INFO - ------------ Save FOLD-BEST model - MSE: 41.6458 ------------\n"
     ]
    },
    {
     "name": "stdout",
     "output_type": "stream",
     "text": [
      "Custom bins confusion matrix:\n",
      "[[133  63]\n",
      " [ 22  98]]\n",
      "Mean absolute deviation (MAD) = 4.299210092901521\n",
      "Mean squared error (MSE) = 41.64575545857643\n",
      "Mean absolute percentage error (MAPE) = 269.2060397841837\n",
      "Cohen kappa score = 0.46447085094505147\n",
      "------------ auroc-BEST model - auroc: 0.9877 ------------\n"
     ]
    },
    {
     "name": "stderr",
     "output_type": "stream",
     "text": [
      "2025-02-23 13:07:23,038 - INFO - ------------ auroc-BEST model - auroc: 0.9877 ------------\n"
     ]
    },
    {
     "name": "stdout",
     "output_type": "stream",
     "text": [
      "Fold 5, mse = 41.6458, mad = 4.2992\n"
     ]
    },
    {
     "name": "stderr",
     "output_type": "stream",
     "text": [
      "2025-02-23 13:07:23,039 - INFO - Fold 5, mse = 41.6458, mad = 4.2992\n",
      "/home/zzj/anaconda3/envs/distcare/lib/python3.7/site-packages/torch/nn/functional.py:1960: UserWarning: nn.functional.sigmoid is deprecated. Use torch.sigmoid instead.\n",
      "  warnings.warn(\"nn.functional.sigmoid is deprecated. Use torch.sigmoid instead.\")\n",
      "2025-02-23 13:07:23,201 - INFO - Fold 5 Epoch 18 Batch 0: Train Loss = 1.2505\n"
     ]
    },
    {
     "name": "stdout",
     "output_type": "stream",
     "text": [
      "Fold 5 Epoch 18 Batch 0: Train Loss = 1.2505\n",
      "{'mad': 4.30188809345277, 'mse': 41.619331161616614, 'mape': 265.2835946977449, 'kappa': 0.45187016508493494}\n",
      "------------ Save FOLD-BEST model - MSE: 41.6193 ------------\n"
     ]
    },
    {
     "name": "stderr",
     "output_type": "stream",
     "text": [
      "2025-02-23 13:07:24,116 - INFO - ------------ Save FOLD-BEST model - MSE: 41.6193 ------------\n"
     ]
    },
    {
     "name": "stdout",
     "output_type": "stream",
     "text": [
      "Custom bins confusion matrix:\n",
      "[[132  64]\n",
      " [ 23  97]]\n",
      "Mean absolute deviation (MAD) = 4.30188809345277\n",
      "Mean squared error (MSE) = 41.619331161616614\n",
      "Mean absolute percentage error (MAPE) = 265.2835946977449\n",
      "Cohen kappa score = 0.45187016508493494\n",
      "Fold 5, mse = 41.6193, mad = 4.3019\n"
     ]
    },
    {
     "name": "stderr",
     "output_type": "stream",
     "text": [
      "2025-02-23 13:07:24,234 - INFO - Fold 5, mse = 41.6193, mad = 4.3019\n",
      "/home/zzj/anaconda3/envs/distcare/lib/python3.7/site-packages/torch/nn/functional.py:1960: UserWarning: nn.functional.sigmoid is deprecated. Use torch.sigmoid instead.\n",
      "  warnings.warn(\"nn.functional.sigmoid is deprecated. Use torch.sigmoid instead.\")\n",
      "2025-02-23 13:07:24,399 - INFO - Fold 5 Epoch 19 Batch 0: Train Loss = 1.1383\n"
     ]
    },
    {
     "name": "stdout",
     "output_type": "stream",
     "text": [
      "Fold 5 Epoch 19 Batch 0: Train Loss = 1.1383\n",
      "{'mad': 4.606220778273185, 'mse': 42.80050593671296, 'mape': 306.0324144182834, 'kappa': 0.3299000302938504}\n",
      "------------ auroc-BEST model - auroc: 0.9880 ------------\n"
     ]
    },
    {
     "name": "stderr",
     "output_type": "stream",
     "text": [
      "2025-02-23 13:07:25,293 - INFO - ------------ auroc-BEST model - auroc: 0.9880 ------------\n"
     ]
    },
    {
     "name": "stdout",
     "output_type": "stream",
     "text": [
      "Fold 5, mse = 42.8005, mad = 4.6062\n"
     ]
    },
    {
     "name": "stderr",
     "output_type": "stream",
     "text": [
      "2025-02-23 13:07:25,295 - INFO - Fold 5, mse = 42.8005, mad = 4.6062\n",
      "/home/zzj/anaconda3/envs/distcare/lib/python3.7/site-packages/torch/nn/functional.py:1960: UserWarning: nn.functional.sigmoid is deprecated. Use torch.sigmoid instead.\n",
      "  warnings.warn(\"nn.functional.sigmoid is deprecated. Use torch.sigmoid instead.\")\n",
      "2025-02-23 13:07:25,476 - INFO - Fold 5 Epoch 20 Batch 0: Train Loss = 1.1397\n"
     ]
    },
    {
     "name": "stdout",
     "output_type": "stream",
     "text": [
      "Fold 5 Epoch 20 Batch 0: Train Loss = 1.1397\n",
      "{'mad': 4.451636302382319, 'mse': 41.775141683952356, 'mape': 286.96103262534353, 'kappa': 0.35841250383083056}\n",
      "Fold 5, epoch 20: Loss = 1.1349 Valid loss = 2.2027 MSE = 41.7751 AUROC = 0.9884\n"
     ]
    },
    {
     "name": "stderr",
     "output_type": "stream",
     "text": [
      "2025-02-23 13:07:26,429 - INFO - Fold 5, epoch 20: Loss = 1.1349 Valid loss = 2.2027 MSE = 41.7751 AUROC = 0.9884\n"
     ]
    },
    {
     "name": "stdout",
     "output_type": "stream",
     "text": [
      "------------ auroc-BEST model - auroc: 0.9884 ------------\n"
     ]
    },
    {
     "name": "stderr",
     "output_type": "stream",
     "text": [
      "2025-02-23 13:07:26,431 - INFO - ------------ auroc-BEST model - auroc: 0.9884 ------------\n"
     ]
    },
    {
     "name": "stdout",
     "output_type": "stream",
     "text": [
      "Fold 5, mse = 41.7751, mad = 4.4516\n"
     ]
    },
    {
     "name": "stderr",
     "output_type": "stream",
     "text": [
      "2025-02-23 13:07:26,432 - INFO - Fold 5, mse = 41.7751, mad = 4.4516\n",
      "/home/zzj/anaconda3/envs/distcare/lib/python3.7/site-packages/torch/nn/functional.py:1960: UserWarning: nn.functional.sigmoid is deprecated. Use torch.sigmoid instead.\n",
      "  warnings.warn(\"nn.functional.sigmoid is deprecated. Use torch.sigmoid instead.\")\n",
      "2025-02-23 13:07:26,662 - INFO - Fold 5 Epoch 21 Batch 0: Train Loss = 1.2223\n"
     ]
    },
    {
     "name": "stdout",
     "output_type": "stream",
     "text": [
      "Fold 5 Epoch 21 Batch 0: Train Loss = 1.2223\n",
      "{'mad': 4.504343465807603, 'mse': 42.92584296133516, 'mape': 278.18947743206036, 'kappa': 0.3790073982737361}\n",
      "Fold 5, mse = 42.9258, mad = 4.5043\n"
     ]
    },
    {
     "name": "stderr",
     "output_type": "stream",
     "text": [
      "2025-02-23 13:07:27,706 - INFO - Fold 5, mse = 42.9258, mad = 4.5043\n",
      "/home/zzj/anaconda3/envs/distcare/lib/python3.7/site-packages/torch/nn/functional.py:1960: UserWarning: nn.functional.sigmoid is deprecated. Use torch.sigmoid instead.\n",
      "  warnings.warn(\"nn.functional.sigmoid is deprecated. Use torch.sigmoid instead.\")\n",
      "2025-02-23 13:07:27,902 - INFO - Fold 5 Epoch 22 Batch 0: Train Loss = 1.1195\n"
     ]
    },
    {
     "name": "stdout",
     "output_type": "stream",
     "text": [
      "Fold 5 Epoch 22 Batch 0: Train Loss = 1.1195\n",
      "{'mad': 4.465978537825237, 'mse': 41.165379239255024, 'mape': 284.79945519067627, 'kappa': 0.3895646851809349}\n",
      "------------ Save FOLD-BEST model - MSE: 41.1654 ------------\n"
     ]
    },
    {
     "name": "stderr",
     "output_type": "stream",
     "text": [
      "2025-02-23 13:07:28,950 - INFO - ------------ Save FOLD-BEST model - MSE: 41.1654 ------------\n"
     ]
    },
    {
     "name": "stdout",
     "output_type": "stream",
     "text": [
      "Custom bins confusion matrix:\n",
      "[[111  85]\n",
      " [ 16 104]]\n",
      "Mean absolute deviation (MAD) = 4.465978537825237\n",
      "Mean squared error (MSE) = 41.165379239255024\n",
      "Mean absolute percentage error (MAPE) = 284.79945519067627\n",
      "Cohen kappa score = 0.3895646851809349\n",
      "Fold 5, mse = 41.1654, mad = 4.4660\n"
     ]
    },
    {
     "name": "stderr",
     "output_type": "stream",
     "text": [
      "2025-02-23 13:07:29,088 - INFO - Fold 5, mse = 41.1654, mad = 4.4660\n",
      "/home/zzj/anaconda3/envs/distcare/lib/python3.7/site-packages/torch/nn/functional.py:1960: UserWarning: nn.functional.sigmoid is deprecated. Use torch.sigmoid instead.\n",
      "  warnings.warn(\"nn.functional.sigmoid is deprecated. Use torch.sigmoid instead.\")\n",
      "2025-02-23 13:07:29,295 - INFO - Fold 5 Epoch 23 Batch 0: Train Loss = 1.0850\n"
     ]
    },
    {
     "name": "stdout",
     "output_type": "stream",
     "text": [
      "Fold 5 Epoch 23 Batch 0: Train Loss = 1.0850\n",
      "{'mad': 4.315102184748839, 'mse': 40.63082770937189, 'mape': 255.68719787678168, 'kappa': 0.4104477611940298}\n",
      "------------ Save FOLD-BEST model - MSE: 40.6308 ------------\n"
     ]
    },
    {
     "name": "stderr",
     "output_type": "stream",
     "text": [
      "2025-02-23 13:07:30,377 - INFO - ------------ Save FOLD-BEST model - MSE: 40.6308 ------------\n"
     ]
    },
    {
     "name": "stdout",
     "output_type": "stream",
     "text": [
      "Custom bins confusion matrix:\n",
      "[[127  69]\n",
      " [ 25  95]]\n",
      "Mean absolute deviation (MAD) = 4.315102184748839\n",
      "Mean squared error (MSE) = 40.63082770937189\n",
      "Mean absolute percentage error (MAPE) = 255.68719787678168\n",
      "Cohen kappa score = 0.4104477611940298\n",
      "------------ auroc-BEST model - auroc: 0.9891 ------------\n"
     ]
    },
    {
     "name": "stderr",
     "output_type": "stream",
     "text": [
      "2025-02-23 13:07:30,500 - INFO - ------------ auroc-BEST model - auroc: 0.9891 ------------\n"
     ]
    },
    {
     "name": "stdout",
     "output_type": "stream",
     "text": [
      "Fold 5, mse = 40.6308, mad = 4.3151\n"
     ]
    },
    {
     "name": "stderr",
     "output_type": "stream",
     "text": [
      "2025-02-23 13:07:30,502 - INFO - Fold 5, mse = 40.6308, mad = 4.3151\n",
      "/home/zzj/anaconda3/envs/distcare/lib/python3.7/site-packages/torch/nn/functional.py:1960: UserWarning: nn.functional.sigmoid is deprecated. Use torch.sigmoid instead.\n",
      "  warnings.warn(\"nn.functional.sigmoid is deprecated. Use torch.sigmoid instead.\")\n",
      "2025-02-23 13:07:30,687 - INFO - Fold 5 Epoch 24 Batch 0: Train Loss = 0.9545\n"
     ]
    },
    {
     "name": "stdout",
     "output_type": "stream",
     "text": [
      "Fold 5 Epoch 24 Batch 0: Train Loss = 0.9545\n",
      "{'mad': 4.258514676465427, 'mse': 41.57096843967052, 'mape': 230.47959060941187, 'kappa': 0.42157500813537263}\n",
      "Fold 5, mse = 41.5710, mad = 4.2585\n"
     ]
    },
    {
     "name": "stderr",
     "output_type": "stream",
     "text": [
      "2025-02-23 13:07:31,659 - INFO - Fold 5, mse = 41.5710, mad = 4.2585\n",
      "/home/zzj/anaconda3/envs/distcare/lib/python3.7/site-packages/torch/nn/functional.py:1960: UserWarning: nn.functional.sigmoid is deprecated. Use torch.sigmoid instead.\n",
      "  warnings.warn(\"nn.functional.sigmoid is deprecated. Use torch.sigmoid instead.\")\n",
      "2025-02-23 13:07:31,841 - INFO - Fold 5 Epoch 25 Batch 0: Train Loss = 0.9821\n"
     ]
    },
    {
     "name": "stdout",
     "output_type": "stream",
     "text": [
      "Fold 5 Epoch 25 Batch 0: Train Loss = 0.9821\n",
      "{'mad': 4.348029466399523, 'mse': 40.65261403938585, 'mape': 255.20670475843468, 'kappa': 0.419347190389631}\n",
      "Fold 5, mse = 40.6526, mad = 4.3480\n"
     ]
    },
    {
     "name": "stderr",
     "output_type": "stream",
     "text": [
      "2025-02-23 13:07:32,744 - INFO - Fold 5, mse = 40.6526, mad = 4.3480\n",
      "/home/zzj/anaconda3/envs/distcare/lib/python3.7/site-packages/torch/nn/functional.py:1960: UserWarning: nn.functional.sigmoid is deprecated. Use torch.sigmoid instead.\n",
      "  warnings.warn(\"nn.functional.sigmoid is deprecated. Use torch.sigmoid instead.\")\n",
      "2025-02-23 13:07:32,917 - INFO - Fold 5 Epoch 26 Batch 0: Train Loss = 0.9685\n"
     ]
    },
    {
     "name": "stdout",
     "output_type": "stream",
     "text": [
      "Fold 5 Epoch 26 Batch 0: Train Loss = 0.9685\n",
      "{'mad': 4.854959627748296, 'mse': 42.40374430408701, 'mape': 328.19410136596616, 'kappa': 0.3480782097985281}\n",
      "Fold 5, mse = 42.4037, mad = 4.8550\n"
     ]
    },
    {
     "name": "stderr",
     "output_type": "stream",
     "text": [
      "2025-02-23 13:07:33,831 - INFO - Fold 5, mse = 42.4037, mad = 4.8550\n",
      "/home/zzj/anaconda3/envs/distcare/lib/python3.7/site-packages/torch/nn/functional.py:1960: UserWarning: nn.functional.sigmoid is deprecated. Use torch.sigmoid instead.\n",
      "  warnings.warn(\"nn.functional.sigmoid is deprecated. Use torch.sigmoid instead.\")\n",
      "2025-02-23 13:07:33,980 - INFO - Fold 5 Epoch 27 Batch 0: Train Loss = 1.0531\n"
     ]
    },
    {
     "name": "stdout",
     "output_type": "stream",
     "text": [
      "Fold 5 Epoch 27 Batch 0: Train Loss = 1.0531\n",
      "{'mad': 4.32272365706349, 'mse': 40.67629698914893, 'mape': 249.24358664603753, 'kappa': 0.45680866197739667}\n",
      "Fold 5, mse = 40.6763, mad = 4.3227\n"
     ]
    },
    {
     "name": "stderr",
     "output_type": "stream",
     "text": [
      "2025-02-23 13:07:34,833 - INFO - Fold 5, mse = 40.6763, mad = 4.3227\n",
      "/home/zzj/anaconda3/envs/distcare/lib/python3.7/site-packages/torch/nn/functional.py:1960: UserWarning: nn.functional.sigmoid is deprecated. Use torch.sigmoid instead.\n",
      "  warnings.warn(\"nn.functional.sigmoid is deprecated. Use torch.sigmoid instead.\")\n",
      "2025-02-23 13:07:34,992 - INFO - Fold 5 Epoch 28 Batch 0: Train Loss = 1.0855\n"
     ]
    },
    {
     "name": "stdout",
     "output_type": "stream",
     "text": [
      "Fold 5 Epoch 28 Batch 0: Train Loss = 1.0855\n",
      "{'mad': 4.379743296790861, 'mse': 40.52491825062642, 'mape': 267.90709177698915, 'kappa': 0.4676971858898137}\n",
      "------------ Save FOLD-BEST model - MSE: 40.5249 ------------\n"
     ]
    },
    {
     "name": "stderr",
     "output_type": "stream",
     "text": [
      "2025-02-23 13:07:35,909 - INFO - ------------ Save FOLD-BEST model - MSE: 40.5249 ------------\n"
     ]
    },
    {
     "name": "stdout",
     "output_type": "stream",
     "text": [
      "Custom bins confusion matrix:\n",
      "[[131  65]\n",
      " [ 20 100]]\n",
      "Mean absolute deviation (MAD) = 4.379743296790861\n",
      "Mean squared error (MSE) = 40.52491825062642\n",
      "Mean absolute percentage error (MAPE) = 267.90709177698915\n",
      "Cohen kappa score = 0.4676971858898137\n",
      "Fold 5, mse = 40.5249, mad = 4.3797\n"
     ]
    },
    {
     "name": "stderr",
     "output_type": "stream",
     "text": [
      "2025-02-23 13:07:36,023 - INFO - Fold 5, mse = 40.5249, mad = 4.3797\n",
      "/home/zzj/anaconda3/envs/distcare/lib/python3.7/site-packages/torch/nn/functional.py:1960: UserWarning: nn.functional.sigmoid is deprecated. Use torch.sigmoid instead.\n",
      "  warnings.warn(\"nn.functional.sigmoid is deprecated. Use torch.sigmoid instead.\")\n",
      "2025-02-23 13:07:36,205 - INFO - Fold 5 Epoch 29 Batch 0: Train Loss = 1.0078\n"
     ]
    },
    {
     "name": "stdout",
     "output_type": "stream",
     "text": [
      "Fold 5 Epoch 29 Batch 0: Train Loss = 1.0078\n",
      "{'mad': 4.587023863715873, 'mse': 42.20645501156423, 'mape': 282.2514122515793, 'kappa': 0.40858223354171497}\n",
      "Fold 5, mse = 42.2065, mad = 4.5870\n"
     ]
    },
    {
     "name": "stderr",
     "output_type": "stream",
     "text": [
      "2025-02-23 13:07:37,174 - INFO - Fold 5, mse = 42.2065, mad = 4.5870\n",
      "/home/zzj/anaconda3/envs/distcare/lib/python3.7/site-packages/torch/nn/functional.py:1960: UserWarning: nn.functional.sigmoid is deprecated. Use torch.sigmoid instead.\n",
      "  warnings.warn(\"nn.functional.sigmoid is deprecated. Use torch.sigmoid instead.\")\n",
      "2025-02-23 13:07:37,340 - INFO - Fold 5 Epoch 30 Batch 0: Train Loss = 0.8352\n"
     ]
    },
    {
     "name": "stdout",
     "output_type": "stream",
     "text": [
      "Fold 5 Epoch 30 Batch 0: Train Loss = 0.8352\n",
      "{'mad': 4.326968157430826, 'mse': 40.0075006800996, 'mape': 254.47379224985477, 'kappa': 0.4372328637011239}\n",
      "Fold 5, epoch 30: Loss = 0.9645 Valid loss = 2.1614 MSE = 40.0075 AUROC = 0.9878\n"
     ]
    },
    {
     "name": "stderr",
     "output_type": "stream",
     "text": [
      "2025-02-23 13:07:38,241 - INFO - Fold 5, epoch 30: Loss = 0.9645 Valid loss = 2.1614 MSE = 40.0075 AUROC = 0.9878\n"
     ]
    },
    {
     "name": "stdout",
     "output_type": "stream",
     "text": [
      "------------ Save FOLD-BEST model - MSE: 40.0075 ------------\n"
     ]
    },
    {
     "name": "stderr",
     "output_type": "stream",
     "text": [
      "2025-02-23 13:07:38,243 - INFO - ------------ Save FOLD-BEST model - MSE: 40.0075 ------------\n"
     ]
    },
    {
     "name": "stdout",
     "output_type": "stream",
     "text": [
      "Custom bins confusion matrix:\n",
      "[[128  68]\n",
      " [ 22  98]]\n",
      "Mean absolute deviation (MAD) = 4.326968157430826\n",
      "Mean squared error (MSE) = 40.0075006800996\n",
      "Mean absolute percentage error (MAPE) = 254.47379224985477\n",
      "Cohen kappa score = 0.4372328637011239\n",
      "Fold 5, mse = 40.0075, mad = 4.3270\n"
     ]
    },
    {
     "name": "stderr",
     "output_type": "stream",
     "text": [
      "2025-02-23 13:07:38,358 - INFO - Fold 5, mse = 40.0075, mad = 4.3270\n",
      "/home/zzj/anaconda3/envs/distcare/lib/python3.7/site-packages/torch/nn/functional.py:1960: UserWarning: nn.functional.sigmoid is deprecated. Use torch.sigmoid instead.\n",
      "  warnings.warn(\"nn.functional.sigmoid is deprecated. Use torch.sigmoid instead.\")\n",
      "2025-02-23 13:07:38,517 - INFO - Fold 5 Epoch 31 Batch 0: Train Loss = 0.8536\n"
     ]
    },
    {
     "name": "stdout",
     "output_type": "stream",
     "text": [
      "Fold 5 Epoch 31 Batch 0: Train Loss = 0.8536\n",
      "{'mad': 4.2741221944763605, 'mse': 40.39277099375553, 'mape': 229.29640442621775, 'kappa': 0.4506791720569211}\n",
      "Fold 5, mse = 40.3928, mad = 4.2741\n"
     ]
    },
    {
     "name": "stderr",
     "output_type": "stream",
     "text": [
      "2025-02-23 13:07:39,453 - INFO - Fold 5, mse = 40.3928, mad = 4.2741\n",
      "/home/zzj/anaconda3/envs/distcare/lib/python3.7/site-packages/torch/nn/functional.py:1960: UserWarning: nn.functional.sigmoid is deprecated. Use torch.sigmoid instead.\n",
      "  warnings.warn(\"nn.functional.sigmoid is deprecated. Use torch.sigmoid instead.\")\n",
      "2025-02-23 13:07:39,622 - INFO - Fold 5 Epoch 32 Batch 0: Train Loss = 1.0148\n"
     ]
    },
    {
     "name": "stdout",
     "output_type": "stream",
     "text": [
      "Fold 5 Epoch 32 Batch 0: Train Loss = 1.0148\n",
      "{'mad': 4.4997791392367255, 'mse': 41.572101337248704, 'mape': 260.1105899394244, 'kappa': 0.4033325546990578}\n",
      "------------ auroc-BEST model - auroc: 0.9894 ------------\n"
     ]
    },
    {
     "name": "stderr",
     "output_type": "stream",
     "text": [
      "2025-02-23 13:07:40,540 - INFO - ------------ auroc-BEST model - auroc: 0.9894 ------------\n"
     ]
    },
    {
     "name": "stdout",
     "output_type": "stream",
     "text": [
      "Fold 5, mse = 41.5721, mad = 4.4998\n"
     ]
    },
    {
     "name": "stderr",
     "output_type": "stream",
     "text": [
      "2025-02-23 13:07:40,542 - INFO - Fold 5, mse = 41.5721, mad = 4.4998\n",
      "/home/zzj/anaconda3/envs/distcare/lib/python3.7/site-packages/torch/nn/functional.py:1960: UserWarning: nn.functional.sigmoid is deprecated. Use torch.sigmoid instead.\n",
      "  warnings.warn(\"nn.functional.sigmoid is deprecated. Use torch.sigmoid instead.\")\n",
      "2025-02-23 13:07:40,723 - INFO - Fold 5 Epoch 33 Batch 0: Train Loss = 0.9315\n"
     ]
    },
    {
     "name": "stdout",
     "output_type": "stream",
     "text": [
      "Fold 5 Epoch 33 Batch 0: Train Loss = 0.9315\n",
      "{'mad': 4.51528571155896, 'mse': 40.549086243013036, 'mape': 269.59114428847147, 'kappa': 0.39638805278999767}\n",
      "------------ auroc-BEST model - auroc: 0.9898 ------------\n"
     ]
    },
    {
     "name": "stderr",
     "output_type": "stream",
     "text": [
      "2025-02-23 13:07:41,731 - INFO - ------------ auroc-BEST model - auroc: 0.9898 ------------\n"
     ]
    },
    {
     "name": "stdout",
     "output_type": "stream",
     "text": [
      "Fold 5, mse = 40.5491, mad = 4.5153\n"
     ]
    },
    {
     "name": "stderr",
     "output_type": "stream",
     "text": [
      "2025-02-23 13:07:41,734 - INFO - Fold 5, mse = 40.5491, mad = 4.5153\n",
      "/home/zzj/anaconda3/envs/distcare/lib/python3.7/site-packages/torch/nn/functional.py:1960: UserWarning: nn.functional.sigmoid is deprecated. Use torch.sigmoid instead.\n",
      "  warnings.warn(\"nn.functional.sigmoid is deprecated. Use torch.sigmoid instead.\")\n",
      "2025-02-23 13:07:41,917 - INFO - Fold 5 Epoch 34 Batch 0: Train Loss = 0.9393\n"
     ]
    },
    {
     "name": "stdout",
     "output_type": "stream",
     "text": [
      "Fold 5 Epoch 34 Batch 0: Train Loss = 0.9393\n",
      "{'mad': 4.430882078197271, 'mse': 40.294797644621674, 'mape': 258.6247934280333, 'kappa': 0.4476392489590698}\n",
      "Fold 5, mse = 40.2948, mad = 4.4309\n"
     ]
    },
    {
     "name": "stderr",
     "output_type": "stream",
     "text": [
      "2025-02-23 13:07:42,881 - INFO - Fold 5, mse = 40.2948, mad = 4.4309\n",
      "/home/zzj/anaconda3/envs/distcare/lib/python3.7/site-packages/torch/nn/functional.py:1960: UserWarning: nn.functional.sigmoid is deprecated. Use torch.sigmoid instead.\n",
      "  warnings.warn(\"nn.functional.sigmoid is deprecated. Use torch.sigmoid instead.\")\n",
      "2025-02-23 13:07:43,055 - INFO - Fold 5 Epoch 35 Batch 0: Train Loss = 1.0041\n"
     ]
    },
    {
     "name": "stdout",
     "output_type": "stream",
     "text": [
      "Fold 5 Epoch 35 Batch 0: Train Loss = 1.0041\n",
      "{'mad': 4.500773903542734, 'mse': 41.46427087315671, 'mape': 258.8932805043619, 'kappa': 0.43690765254170916}\n",
      "------------ auroc-BEST model - auroc: 0.9908 ------------\n"
     ]
    },
    {
     "name": "stderr",
     "output_type": "stream",
     "text": [
      "2025-02-23 13:07:44,016 - INFO - ------------ auroc-BEST model - auroc: 0.9908 ------------\n"
     ]
    },
    {
     "name": "stdout",
     "output_type": "stream",
     "text": [
      "Fold 5, mse = 41.4643, mad = 4.5008\n"
     ]
    },
    {
     "name": "stderr",
     "output_type": "stream",
     "text": [
      "2025-02-23 13:07:44,018 - INFO - Fold 5, mse = 41.4643, mad = 4.5008\n",
      "/home/zzj/anaconda3/envs/distcare/lib/python3.7/site-packages/torch/nn/functional.py:1960: UserWarning: nn.functional.sigmoid is deprecated. Use torch.sigmoid instead.\n",
      "  warnings.warn(\"nn.functional.sigmoid is deprecated. Use torch.sigmoid instead.\")\n",
      "2025-02-23 13:07:44,199 - INFO - Fold 5 Epoch 36 Batch 0: Train Loss = 0.9051\n"
     ]
    },
    {
     "name": "stdout",
     "output_type": "stream",
     "text": [
      "Fold 5 Epoch 36 Batch 0: Train Loss = 0.9051\n",
      "{'mad': 4.4724739392828745, 'mse': 39.873804344403055, 'mape': 262.2646280183234, 'kappa': 0.43325015595757954}\n",
      "------------ Save FOLD-BEST model - MSE: 39.8738 ------------\n"
     ]
    },
    {
     "name": "stderr",
     "output_type": "stream",
     "text": [
      "2025-02-23 13:07:45,213 - INFO - ------------ Save FOLD-BEST model - MSE: 39.8738 ------------\n"
     ]
    },
    {
     "name": "stdout",
     "output_type": "stream",
     "text": [
      "Custom bins confusion matrix:\n",
      "[[122  74]\n",
      " [ 18 102]]\n",
      "Mean absolute deviation (MAD) = 4.4724739392828745\n",
      "Mean squared error (MSE) = 39.873804344403055\n",
      "Mean absolute percentage error (MAPE) = 262.2646280183234\n",
      "Cohen kappa score = 0.43325015595757954\n",
      "Fold 5, mse = 39.8738, mad = 4.4725\n"
     ]
    },
    {
     "name": "stderr",
     "output_type": "stream",
     "text": [
      "2025-02-23 13:07:45,348 - INFO - Fold 5, mse = 39.8738, mad = 4.4725\n",
      "/home/zzj/anaconda3/envs/distcare/lib/python3.7/site-packages/torch/nn/functional.py:1960: UserWarning: nn.functional.sigmoid is deprecated. Use torch.sigmoid instead.\n",
      "  warnings.warn(\"nn.functional.sigmoid is deprecated. Use torch.sigmoid instead.\")\n",
      "2025-02-23 13:07:45,523 - INFO - Fold 5 Epoch 37 Batch 0: Train Loss = 0.9574\n"
     ]
    },
    {
     "name": "stdout",
     "output_type": "stream",
     "text": [
      "Fold 5 Epoch 37 Batch 0: Train Loss = 0.9574\n",
      "{'mad': 4.4744162170088915, 'mse': 40.617699634888346, 'mape': 254.190769090462, 'kappa': 0.4228140466650955}\n",
      "Fold 5, mse = 40.6177, mad = 4.4744\n"
     ]
    },
    {
     "name": "stderr",
     "output_type": "stream",
     "text": [
      "2025-02-23 13:07:46,553 - INFO - Fold 5, mse = 40.6177, mad = 4.4744\n",
      "/home/zzj/anaconda3/envs/distcare/lib/python3.7/site-packages/torch/nn/functional.py:1960: UserWarning: nn.functional.sigmoid is deprecated. Use torch.sigmoid instead.\n",
      "  warnings.warn(\"nn.functional.sigmoid is deprecated. Use torch.sigmoid instead.\")\n",
      "2025-02-23 13:07:46,787 - INFO - Fold 5 Epoch 38 Batch 0: Train Loss = 0.7899\n"
     ]
    },
    {
     "name": "stdout",
     "output_type": "stream",
     "text": [
      "Fold 5 Epoch 38 Batch 0: Train Loss = 0.7899\n",
      "{'mad': 4.3814169150386935, 'mse': 40.22563718955156, 'mape': 242.52498284655718, 'kappa': 0.4443215047814748}\n",
      "Fold 5, mse = 40.2256, mad = 4.3814\n"
     ]
    },
    {
     "name": "stderr",
     "output_type": "stream",
     "text": [
      "2025-02-23 13:07:47,759 - INFO - Fold 5, mse = 40.2256, mad = 4.3814\n",
      "/home/zzj/anaconda3/envs/distcare/lib/python3.7/site-packages/torch/nn/functional.py:1960: UserWarning: nn.functional.sigmoid is deprecated. Use torch.sigmoid instead.\n",
      "  warnings.warn(\"nn.functional.sigmoid is deprecated. Use torch.sigmoid instead.\")\n",
      "2025-02-23 13:07:47,938 - INFO - Fold 5 Epoch 39 Batch 0: Train Loss = 0.8966\n"
     ]
    },
    {
     "name": "stdout",
     "output_type": "stream",
     "text": [
      "Fold 5 Epoch 39 Batch 0: Train Loss = 0.8966\n",
      "{'mad': 4.241212977382549, 'mse': 40.72014120928963, 'mape': 202.1442819747433, 'kappa': 0.4810313680407292}\n",
      "Fold 5, mse = 40.7201, mad = 4.2412\n"
     ]
    },
    {
     "name": "stderr",
     "output_type": "stream",
     "text": [
      "2025-02-23 13:07:48,977 - INFO - Fold 5, mse = 40.7201, mad = 4.2412\n"
     ]
    },
    {
     "name": "stdout",
     "output_type": "stream",
     "text": [
      "Fold 5 Epoch 40 Batch 0: Train Loss = 0.8812\n"
     ]
    },
    {
     "name": "stderr",
     "output_type": "stream",
     "text": [
      "/home/zzj/anaconda3/envs/distcare/lib/python3.7/site-packages/torch/nn/functional.py:1960: UserWarning: nn.functional.sigmoid is deprecated. Use torch.sigmoid instead.\n",
      "  warnings.warn(\"nn.functional.sigmoid is deprecated. Use torch.sigmoid instead.\")\n",
      "2025-02-23 13:07:49,174 - INFO - Fold 5 Epoch 40 Batch 0: Train Loss = 0.8812\n"
     ]
    },
    {
     "name": "stdout",
     "output_type": "stream",
     "text": [
      "{'mad': 4.534288251454753, 'mse': 40.01852444757878, 'mape': 260.6448909425227, 'kappa': 0.40860885839051775}\n",
      "Fold 5, epoch 40: Loss = 0.8454 Valid loss = 2.0930 MSE = 40.0185 AUROC = 0.9900\n"
     ]
    },
    {
     "name": "stderr",
     "output_type": "stream",
     "text": [
      "2025-02-23 13:07:50,256 - INFO - Fold 5, epoch 40: Loss = 0.8454 Valid loss = 2.0930 MSE = 40.0185 AUROC = 0.9900\n"
     ]
    },
    {
     "name": "stdout",
     "output_type": "stream",
     "text": [
      "Fold 5, mse = 40.0185, mad = 4.5343\n"
     ]
    },
    {
     "name": "stderr",
     "output_type": "stream",
     "text": [
      "2025-02-23 13:07:50,258 - INFO - Fold 5, mse = 40.0185, mad = 4.5343\n",
      "/home/zzj/anaconda3/envs/distcare/lib/python3.7/site-packages/torch/nn/functional.py:1960: UserWarning: nn.functional.sigmoid is deprecated. Use torch.sigmoid instead.\n",
      "  warnings.warn(\"nn.functional.sigmoid is deprecated. Use torch.sigmoid instead.\")\n",
      "2025-02-23 13:07:50,466 - INFO - Fold 5 Epoch 41 Batch 0: Train Loss = 0.7856\n"
     ]
    },
    {
     "name": "stdout",
     "output_type": "stream",
     "text": [
      "Fold 5 Epoch 41 Batch 0: Train Loss = 0.7856\n",
      "{'mad': 4.563386261326955, 'mse': 40.570601806005996, 'mape': 254.47374146772717, 'kappa': 0.4033325546990578}\n",
      "Fold 5, mse = 40.5706, mad = 4.5634\n"
     ]
    },
    {
     "name": "stderr",
     "output_type": "stream",
     "text": [
      "2025-02-23 13:07:51,570 - INFO - Fold 5, mse = 40.5706, mad = 4.5634\n",
      "/home/zzj/anaconda3/envs/distcare/lib/python3.7/site-packages/torch/nn/functional.py:1960: UserWarning: nn.functional.sigmoid is deprecated. Use torch.sigmoid instead.\n",
      "  warnings.warn(\"nn.functional.sigmoid is deprecated. Use torch.sigmoid instead.\")\n",
      "2025-02-23 13:07:51,778 - INFO - Fold 5 Epoch 42 Batch 0: Train Loss = 0.7709\n"
     ]
    },
    {
     "name": "stdout",
     "output_type": "stream",
     "text": [
      "Fold 5 Epoch 42 Batch 0: Train Loss = 0.7709\n",
      "{'mad': 4.343541046259366, 'mse': 40.63170031170097, 'mape': 221.56467073266492, 'kappa': 0.4159434265509482}\n",
      "Fold 5, mse = 40.6317, mad = 4.3435\n"
     ]
    },
    {
     "name": "stderr",
     "output_type": "stream",
     "text": [
      "2025-02-23 13:07:52,872 - INFO - Fold 5, mse = 40.6317, mad = 4.3435\n",
      "/home/zzj/anaconda3/envs/distcare/lib/python3.7/site-packages/torch/nn/functional.py:1960: UserWarning: nn.functional.sigmoid is deprecated. Use torch.sigmoid instead.\n",
      "  warnings.warn(\"nn.functional.sigmoid is deprecated. Use torch.sigmoid instead.\")\n",
      "2025-02-23 13:07:53,085 - INFO - Fold 5 Epoch 43 Batch 0: Train Loss = 0.8613\n"
     ]
    },
    {
     "name": "stdout",
     "output_type": "stream",
     "text": [
      "Fold 5 Epoch 43 Batch 0: Train Loss = 0.8613\n",
      "{'mad': 4.313480118435276, 'mse': 40.16249161696906, 'mape': 221.24142668268783, 'kappa': 0.4413371906139505}\n",
      "Fold 5, mse = 40.1625, mad = 4.3135\n"
     ]
    },
    {
     "name": "stderr",
     "output_type": "stream",
     "text": [
      "2025-02-23 13:07:54,148 - INFO - Fold 5, mse = 40.1625, mad = 4.3135\n",
      "/home/zzj/anaconda3/envs/distcare/lib/python3.7/site-packages/torch/nn/functional.py:1960: UserWarning: nn.functional.sigmoid is deprecated. Use torch.sigmoid instead.\n",
      "  warnings.warn(\"nn.functional.sigmoid is deprecated. Use torch.sigmoid instead.\")\n",
      "2025-02-23 13:07:54,361 - INFO - Fold 5 Epoch 44 Batch 0: Train Loss = 0.7822\n"
     ]
    },
    {
     "name": "stdout",
     "output_type": "stream",
     "text": [
      "Fold 5 Epoch 44 Batch 0: Train Loss = 0.7822\n",
      "{'mad': 4.514368733403685, 'mse': 39.865950928380094, 'mape': 262.5037502435833, 'kappa': 0.41035608770020215}\n",
      "------------ Save FOLD-BEST model - MSE: 39.8660 ------------\n"
     ]
    },
    {
     "name": "stderr",
     "output_type": "stream",
     "text": [
      "2025-02-23 13:07:55,445 - INFO - ------------ Save FOLD-BEST model - MSE: 39.8660 ------------\n"
     ]
    },
    {
     "name": "stdout",
     "output_type": "stream",
     "text": [
      "Custom bins confusion matrix:\n",
      "[[119  77]\n",
      " [ 19 101]]\n",
      "Mean absolute deviation (MAD) = 4.514368733403685\n",
      "Mean squared error (MSE) = 39.865950928380094\n",
      "Mean absolute percentage error (MAPE) = 262.5037502435833\n",
      "Cohen kappa score = 0.41035608770020215\n",
      "Fold 5, mse = 39.8660, mad = 4.5144\n"
     ]
    },
    {
     "name": "stderr",
     "output_type": "stream",
     "text": [
      "2025-02-23 13:07:55,610 - INFO - Fold 5, mse = 39.8660, mad = 4.5144\n",
      "/home/zzj/anaconda3/envs/distcare/lib/python3.7/site-packages/torch/nn/functional.py:1960: UserWarning: nn.functional.sigmoid is deprecated. Use torch.sigmoid instead.\n",
      "  warnings.warn(\"nn.functional.sigmoid is deprecated. Use torch.sigmoid instead.\")\n",
      "2025-02-23 13:07:55,820 - INFO - Fold 5 Epoch 45 Batch 0: Train Loss = 0.8904\n"
     ]
    },
    {
     "name": "stdout",
     "output_type": "stream",
     "text": [
      "Fold 5 Epoch 45 Batch 0: Train Loss = 0.8904\n",
      "{'mad': 4.716529106369464, 'mse': 40.28417251913645, 'mape': 292.76016096455174, 'kappa': 0.3859946133128127}\n",
      "Fold 5, mse = 40.2842, mad = 4.7165\n"
     ]
    },
    {
     "name": "stderr",
     "output_type": "stream",
     "text": [
      "2025-02-23 13:07:56,900 - INFO - Fold 5, mse = 40.2842, mad = 4.7165\n",
      "/home/zzj/anaconda3/envs/distcare/lib/python3.7/site-packages/torch/nn/functional.py:1960: UserWarning: nn.functional.sigmoid is deprecated. Use torch.sigmoid instead.\n",
      "  warnings.warn(\"nn.functional.sigmoid is deprecated. Use torch.sigmoid instead.\")\n",
      "2025-02-23 13:07:57,101 - INFO - Fold 5 Epoch 46 Batch 0: Train Loss = 0.7151\n"
     ]
    },
    {
     "name": "stdout",
     "output_type": "stream",
     "text": [
      "Fold 5 Epoch 46 Batch 0: Train Loss = 0.7151\n",
      "{'mad': 4.453595307424084, 'mse': 39.41809730627163, 'mape': 249.2029044538164, 'kappa': 0.40508315029808595}\n",
      "------------ Save FOLD-BEST model - MSE: 39.4181 ------------\n"
     ]
    },
    {
     "name": "stderr",
     "output_type": "stream",
     "text": [
      "2025-02-23 13:07:58,203 - INFO - ------------ Save FOLD-BEST model - MSE: 39.4181 ------------\n"
     ]
    },
    {
     "name": "stdout",
     "output_type": "stream",
     "text": [
      "Custom bins confusion matrix:\n",
      "[[122  74]\n",
      " [ 22  98]]\n",
      "Mean absolute deviation (MAD) = 4.453595307424084\n",
      "Mean squared error (MSE) = 39.41809730627163\n",
      "Mean absolute percentage error (MAPE) = 249.2029044538164\n",
      "Cohen kappa score = 0.40508315029808595\n",
      "Fold 5, mse = 39.4181, mad = 4.4536\n"
     ]
    },
    {
     "name": "stderr",
     "output_type": "stream",
     "text": [
      "2025-02-23 13:07:58,368 - INFO - Fold 5, mse = 39.4181, mad = 4.4536\n",
      "/home/zzj/anaconda3/envs/distcare/lib/python3.7/site-packages/torch/nn/functional.py:1960: UserWarning: nn.functional.sigmoid is deprecated. Use torch.sigmoid instead.\n",
      "  warnings.warn(\"nn.functional.sigmoid is deprecated. Use torch.sigmoid instead.\")\n",
      "2025-02-23 13:07:58,561 - INFO - Fold 5 Epoch 47 Batch 0: Train Loss = 0.6936\n"
     ]
    },
    {
     "name": "stdout",
     "output_type": "stream",
     "text": [
      "Fold 5 Epoch 47 Batch 0: Train Loss = 0.6936\n",
      "{'mad': 4.286645675642063, 'mse': 39.60532970885934, 'mape': 202.91910903124185, 'kappa': 0.44171878807570464}\n",
      "Fold 5, mse = 39.6053, mad = 4.2866\n"
     ]
    },
    {
     "name": "stderr",
     "output_type": "stream",
     "text": [
      "2025-02-23 13:07:59,663 - INFO - Fold 5, mse = 39.6053, mad = 4.2866\n",
      "/home/zzj/anaconda3/envs/distcare/lib/python3.7/site-packages/torch/nn/functional.py:1960: UserWarning: nn.functional.sigmoid is deprecated. Use torch.sigmoid instead.\n",
      "  warnings.warn(\"nn.functional.sigmoid is deprecated. Use torch.sigmoid instead.\")\n",
      "2025-02-23 13:07:59,864 - INFO - Fold 5 Epoch 48 Batch 0: Train Loss = 0.7436\n"
     ]
    },
    {
     "name": "stdout",
     "output_type": "stream",
     "text": [
      "Fold 5 Epoch 48 Batch 0: Train Loss = 0.7436\n",
      "{'mad': 4.307388883842597, 'mse': 39.49841073621091, 'mape': 208.5210593782171, 'kappa': 0.4160506863780359}\n",
      "------------ auroc-BEST model - auroc: 0.9912 ------------\n"
     ]
    },
    {
     "name": "stderr",
     "output_type": "stream",
     "text": [
      "2025-02-23 13:08:00,788 - INFO - ------------ auroc-BEST model - auroc: 0.9912 ------------\n"
     ]
    },
    {
     "name": "stdout",
     "output_type": "stream",
     "text": [
      "Fold 5, mse = 39.4984, mad = 4.3074\n"
     ]
    },
    {
     "name": "stderr",
     "output_type": "stream",
     "text": [
      "2025-02-23 13:08:00,790 - INFO - Fold 5, mse = 39.4984, mad = 4.3074\n",
      "/home/zzj/anaconda3/envs/distcare/lib/python3.7/site-packages/torch/nn/functional.py:1960: UserWarning: nn.functional.sigmoid is deprecated. Use torch.sigmoid instead.\n",
      "  warnings.warn(\"nn.functional.sigmoid is deprecated. Use torch.sigmoid instead.\")\n",
      "2025-02-23 13:08:00,985 - INFO - Fold 5 Epoch 49 Batch 0: Train Loss = 0.8350\n"
     ]
    },
    {
     "name": "stdout",
     "output_type": "stream",
     "text": [
      "Fold 5 Epoch 49 Batch 0: Train Loss = 0.8350\n",
      "{'mad': 4.37434778246182, 'mse': 41.634513148635484, 'mape': 216.2231752349141, 'kappa': 0.40872111942726974}\n",
      "Fold 5, mse = 41.6345, mad = 4.3743\n"
     ]
    },
    {
     "name": "stderr",
     "output_type": "stream",
     "text": [
      "2025-02-23 13:08:02,087 - INFO - Fold 5, mse = 41.6345, mad = 4.3743\n",
      "/home/zzj/anaconda3/envs/distcare/lib/python3.7/site-packages/torch/nn/functional.py:1960: UserWarning: nn.functional.sigmoid is deprecated. Use torch.sigmoid instead.\n",
      "  warnings.warn(\"nn.functional.sigmoid is deprecated. Use torch.sigmoid instead.\")\n",
      "2025-02-23 13:08:02,288 - INFO - Fold 5 Epoch 50 Batch 0: Train Loss = 0.7793\n"
     ]
    },
    {
     "name": "stdout",
     "output_type": "stream",
     "text": [
      "Fold 5 Epoch 50 Batch 0: Train Loss = 0.7793\n",
      "{'mad': 4.770383664978692, 'mse': 41.96315502939039, 'mape': 290.7720526799683, 'kappa': 0.39815313582146983}\n",
      "Fold 5, epoch 50: Loss = 0.7872 Valid loss = 2.1968 MSE = 41.9632 AUROC = 0.9897\n"
     ]
    },
    {
     "name": "stderr",
     "output_type": "stream",
     "text": [
      "2025-02-23 13:08:03,392 - INFO - Fold 5, epoch 50: Loss = 0.7872 Valid loss = 2.1968 MSE = 41.9632 AUROC = 0.9897\n"
     ]
    },
    {
     "name": "stdout",
     "output_type": "stream",
     "text": [
      "Fold 5, mse = 41.9632, mad = 4.7704\n"
     ]
    },
    {
     "name": "stderr",
     "output_type": "stream",
     "text": [
      "2025-02-23 13:08:03,394 - INFO - Fold 5, mse = 41.9632, mad = 4.7704\n",
      "/home/zzj/anaconda3/envs/distcare/lib/python3.7/site-packages/torch/nn/functional.py:1960: UserWarning: nn.functional.sigmoid is deprecated. Use torch.sigmoid instead.\n",
      "  warnings.warn(\"nn.functional.sigmoid is deprecated. Use torch.sigmoid instead.\")\n",
      "2025-02-23 13:08:03,596 - INFO - Fold 5 Epoch 51 Batch 0: Train Loss = 0.8264\n"
     ]
    },
    {
     "name": "stdout",
     "output_type": "stream",
     "text": [
      "Fold 5 Epoch 51 Batch 0: Train Loss = 0.8264\n",
      "{'mad': 4.572048493642737, 'mse': 41.07938471388244, 'mape': 263.8615872651064, 'kappa': 0.4281667977970103}\n",
      "Fold 5, mse = 41.0794, mad = 4.5720\n"
     ]
    },
    {
     "name": "stderr",
     "output_type": "stream",
     "text": [
      "2025-02-23 13:08:04,694 - INFO - Fold 5, mse = 41.0794, mad = 4.5720\n",
      "/home/zzj/anaconda3/envs/distcare/lib/python3.7/site-packages/torch/nn/functional.py:1960: UserWarning: nn.functional.sigmoid is deprecated. Use torch.sigmoid instead.\n",
      "  warnings.warn(\"nn.functional.sigmoid is deprecated. Use torch.sigmoid instead.\")\n",
      "2025-02-23 13:08:04,906 - INFO - Fold 5 Epoch 52 Batch 0: Train Loss = 0.8886\n"
     ]
    },
    {
     "name": "stdout",
     "output_type": "stream",
     "text": [
      "Fold 5 Epoch 52 Batch 0: Train Loss = 0.8886\n",
      "{'mad': 4.365498668520348, 'mse': 41.79768500522112, 'mape': 207.5722033855112, 'kappa': 0.42888473722687026}\n",
      "Fold 5, mse = 41.7977, mad = 4.3655\n"
     ]
    },
    {
     "name": "stderr",
     "output_type": "stream",
     "text": [
      "2025-02-23 13:08:05,950 - INFO - Fold 5, mse = 41.7977, mad = 4.3655\n",
      "/home/zzj/anaconda3/envs/distcare/lib/python3.7/site-packages/torch/nn/functional.py:1960: UserWarning: nn.functional.sigmoid is deprecated. Use torch.sigmoid instead.\n",
      "  warnings.warn(\"nn.functional.sigmoid is deprecated. Use torch.sigmoid instead.\")\n",
      "2025-02-23 13:08:06,148 - INFO - Fold 5 Epoch 53 Batch 0: Train Loss = 0.7759\n"
     ]
    },
    {
     "name": "stdout",
     "output_type": "stream",
     "text": [
      "Fold 5 Epoch 53 Batch 0: Train Loss = 0.7759\n",
      "{'mad': 4.384581260498167, 'mse': 40.370505981987044, 'mape': 222.69616202024943, 'kappa': 0.4323887947041253}\n",
      "Fold 5, mse = 40.3705, mad = 4.3846\n"
     ]
    },
    {
     "name": "stderr",
     "output_type": "stream",
     "text": [
      "2025-02-23 13:08:07,161 - INFO - Fold 5, mse = 40.3705, mad = 4.3846\n",
      "/home/zzj/anaconda3/envs/distcare/lib/python3.7/site-packages/torch/nn/functional.py:1960: UserWarning: nn.functional.sigmoid is deprecated. Use torch.sigmoid instead.\n",
      "  warnings.warn(\"nn.functional.sigmoid is deprecated. Use torch.sigmoid instead.\")\n",
      "2025-02-23 13:08:07,371 - INFO - Fold 5 Epoch 54 Batch 0: Train Loss = 0.6895\n"
     ]
    },
    {
     "name": "stdout",
     "output_type": "stream",
     "text": [
      "Fold 5 Epoch 54 Batch 0: Train Loss = 0.6895\n",
      "{'mad': 4.378721095795552, 'mse': 39.38685624918354, 'mape': 228.6439465521562, 'kappa': 0.4194888178913738}\n",
      "------------ Save FOLD-BEST model - MSE: 39.3869 ------------\n"
     ]
    },
    {
     "name": "stderr",
     "output_type": "stream",
     "text": [
      "2025-02-23 13:08:08,460 - INFO - ------------ Save FOLD-BEST model - MSE: 39.3869 ------------\n"
     ]
    },
    {
     "name": "stdout",
     "output_type": "stream",
     "text": [
      "Custom bins confusion matrix:\n",
      "[[130  66]\n",
      " [ 26  94]]\n",
      "Mean absolute deviation (MAD) = 4.378721095795552\n",
      "Mean squared error (MSE) = 39.38685624918354\n",
      "Mean absolute percentage error (MAPE) = 228.6439465521562\n",
      "Cohen kappa score = 0.4194888178913738\n",
      "Fold 5, mse = 39.3869, mad = 4.3787\n"
     ]
    },
    {
     "name": "stderr",
     "output_type": "stream",
     "text": [
      "2025-02-23 13:08:08,624 - INFO - Fold 5, mse = 39.3869, mad = 4.3787\n",
      "/home/zzj/anaconda3/envs/distcare/lib/python3.7/site-packages/torch/nn/functional.py:1960: UserWarning: nn.functional.sigmoid is deprecated. Use torch.sigmoid instead.\n",
      "  warnings.warn(\"nn.functional.sigmoid is deprecated. Use torch.sigmoid instead.\")\n",
      "2025-02-23 13:08:08,821 - INFO - Fold 5 Epoch 55 Batch 0: Train Loss = 0.7537\n"
     ]
    },
    {
     "name": "stdout",
     "output_type": "stream",
     "text": [
      "Fold 5 Epoch 55 Batch 0: Train Loss = 0.7537\n",
      "{'mad': 4.395183930110681, 'mse': 39.529807636513404, 'mape': 233.95143411754503, 'kappa': 0.430379746835443}\n",
      "Fold 5, mse = 39.5298, mad = 4.3952\n"
     ]
    },
    {
     "name": "stderr",
     "output_type": "stream",
     "text": [
      "2025-02-23 13:08:09,922 - INFO - Fold 5, mse = 39.5298, mad = 4.3952\n",
      "/home/zzj/anaconda3/envs/distcare/lib/python3.7/site-packages/torch/nn/functional.py:1960: UserWarning: nn.functional.sigmoid is deprecated. Use torch.sigmoid instead.\n",
      "  warnings.warn(\"nn.functional.sigmoid is deprecated. Use torch.sigmoid instead.\")\n",
      "2025-02-23 13:08:10,128 - INFO - Fold 5 Epoch 56 Batch 0: Train Loss = 0.8708\n"
     ]
    },
    {
     "name": "stdout",
     "output_type": "stream",
     "text": [
      "Fold 5 Epoch 56 Batch 0: Train Loss = 0.8708\n",
      "{'mad': 4.391886504742007, 'mse': 39.810958530438896, 'mape': 229.3941934589758, 'kappa': 0.4321086261980831}\n",
      "Fold 5, mse = 39.8110, mad = 4.3919\n"
     ]
    },
    {
     "name": "stderr",
     "output_type": "stream",
     "text": [
      "2025-02-23 13:08:11,220 - INFO - Fold 5, mse = 39.8110, mad = 4.3919\n",
      "/home/zzj/anaconda3/envs/distcare/lib/python3.7/site-packages/torch/nn/functional.py:1960: UserWarning: nn.functional.sigmoid is deprecated. Use torch.sigmoid instead.\n",
      "  warnings.warn(\"nn.functional.sigmoid is deprecated. Use torch.sigmoid instead.\")\n",
      "2025-02-23 13:08:11,437 - INFO - Fold 5 Epoch 57 Batch 0: Train Loss = 0.6944\n"
     ]
    },
    {
     "name": "stdout",
     "output_type": "stream",
     "text": [
      "Fold 5 Epoch 57 Batch 0: Train Loss = 0.6944\n",
      "{'mad': 4.2998335662173695, 'mse': 38.42528787557058, 'mape': 218.58294331223283, 'kappa': 0.47299056296778397}\n",
      "------------ Save FOLD-BEST model - MSE: 38.4253 ------------\n"
     ]
    },
    {
     "name": "stderr",
     "output_type": "stream",
     "text": [
      "2025-02-23 13:08:12,415 - INFO - ------------ Save FOLD-BEST model - MSE: 38.4253 ------------\n"
     ]
    },
    {
     "name": "stdout",
     "output_type": "stream",
     "text": [
      "Custom bins confusion matrix:\n",
      "[[141  55]\n",
      " [ 27  93]]\n",
      "Mean absolute deviation (MAD) = 4.2998335662173695\n",
      "Mean squared error (MSE) = 38.42528787557058\n",
      "Mean absolute percentage error (MAPE) = 218.58294331223283\n",
      "Cohen kappa score = 0.47299056296778397\n",
      "Fold 5, mse = 38.4253, mad = 4.2998\n"
     ]
    },
    {
     "name": "stderr",
     "output_type": "stream",
     "text": [
      "2025-02-23 13:08:12,535 - INFO - Fold 5, mse = 38.4253, mad = 4.2998\n",
      "/home/zzj/anaconda3/envs/distcare/lib/python3.7/site-packages/torch/nn/functional.py:1960: UserWarning: nn.functional.sigmoid is deprecated. Use torch.sigmoid instead.\n",
      "  warnings.warn(\"nn.functional.sigmoid is deprecated. Use torch.sigmoid instead.\")\n",
      "2025-02-23 13:08:12,719 - INFO - Fold 5 Epoch 58 Batch 0: Train Loss = 0.6160\n"
     ]
    },
    {
     "name": "stdout",
     "output_type": "stream",
     "text": [
      "Fold 5 Epoch 58 Batch 0: Train Loss = 0.6160\n",
      "{'mad': 4.3697313145931584, 'mse': 38.989934164279916, 'mape': 227.47567510461283, 'kappa': 0.42689021441238106}\n",
      "Fold 5, mse = 38.9899, mad = 4.3697\n"
     ]
    },
    {
     "name": "stderr",
     "output_type": "stream",
     "text": [
      "2025-02-23 13:08:13,778 - INFO - Fold 5, mse = 38.9899, mad = 4.3697\n",
      "/home/zzj/anaconda3/envs/distcare/lib/python3.7/site-packages/torch/nn/functional.py:1960: UserWarning: nn.functional.sigmoid is deprecated. Use torch.sigmoid instead.\n",
      "  warnings.warn(\"nn.functional.sigmoid is deprecated. Use torch.sigmoid instead.\")\n",
      "2025-02-23 13:08:13,971 - INFO - Fold 5 Epoch 59 Batch 0: Train Loss = 0.7147\n"
     ]
    },
    {
     "name": "stdout",
     "output_type": "stream",
     "text": [
      "Fold 5 Epoch 59 Batch 0: Train Loss = 0.7147\n",
      "{'mad': 4.3302947862665535, 'mse': 40.09295387032251, 'mape': 208.2366711935569, 'kappa': 0.4197812959033784}\n",
      "Fold 5, mse = 40.0930, mad = 4.3303\n"
     ]
    },
    {
     "name": "stderr",
     "output_type": "stream",
     "text": [
      "2025-02-23 13:08:15,071 - INFO - Fold 5, mse = 40.0930, mad = 4.3303\n",
      "2025-02-23 13:08:15,074 - INFO - mse 34.0877(5.7506)\n",
      "2025-02-23 13:08:15,075 - INFO - mad 4.2032(0.3650)\n",
      "2025-02-23 13:08:15,076 - INFO - auroc 0.9838(0.0064)\n",
      "2025-02-23 13:08:15,078 - INFO - auprc 0.9744(0.0096)\n"
     ]
    },
    {
     "name": "stdout",
     "output_type": "stream",
     "text": [
      "mse 34.0877(5.7506)\n",
      "mad 4.2032(0.3650)\n",
      "auroc 0.9838(0.0064)\n",
      "auprc 0.9744(0.0096)\n"
     ]
    }
   ],
   "source": [
    "if target_dataset == 'TJ':\n",
    "    n_splits = 5\n",
    "    epochs = 60\n",
    "elif target_dataset == 'HM':\n",
    "    n_splits = 3\n",
    "    epochs = 20\n",
    "\n",
    "transfer_flag = True\n",
    "kfold = StratifiedKFold(n_splits=n_splits, shuffle=True, random_state=RANDOM_SEED)\n",
    "\n",
    "if target_dataset == 'TJ':    \n",
    "    data_str = 'covid'\n",
    "elif target_dataset == 'HM':\n",
    "    data_str = 'spain'\n",
    "\n",
    "if teacher_flag:\n",
    "    file_name = './model/pretrained-challenge-front-fill-2'+ data_str\n",
    "else: \n",
    "    file_name = './model/pretrained-challenge-front-fill-2'+ data_str + '-noteacher'\n",
    "\n",
    "\n",
    "batch_size = 256\n",
    "\n",
    "fold_count = 0\n",
    "total_train_loss = []\n",
    "total_valid_loss = []\n",
    "\n",
    "global_best = 10000\n",
    "mse = []\n",
    "mad = []\n",
    "mape = []\n",
    "auroc = []\n",
    "auprc = []\n",
    "kappa = []\n",
    "history = []\n",
    "\n",
    "pad_token = np.zeros(input_dim)\n",
    "# begin_time = time.time()\n",
    "\n",
    "for train, test in kfold.split(long_x, long_y_kfold):\n",
    "    train_x = [long_x[i] for i in train]\n",
    "    train_y = [long_time[i] for i in train]\n",
    "    train_outcome = [long_y[i] for i in train]\n",
    "    train_x_len = [all_x_len[i] for i in train]\n",
    "    #train_static = [long_static[i] for i in train]\n",
    "    \n",
    "    train_x, train_y, train_x_len, train_outcome = get_n2n_data(train_x, train_y, train_x_len, outcome=train_outcome)\n",
    "    if len(train_x) % 256 == 1:\n",
    "        print(len(train_x))\n",
    "        print('wrong squeeze!')\n",
    "        \n",
    "for train, test in kfold.split(long_x, long_y_kfold):\n",
    "# for test, train in kfold.split(long_x, long_y_kfold):\n",
    "    \n",
    "    model = distcare_target(input_dim = input_dim,output_dim=output_dim, d_model=d_model, MHD_num_head=MHD_num_head, d_ff=d_ff, hidden_dim=hidden_dim).to(device)\n",
    "    \n",
    "    if transfer_flag:\n",
    "        checkpoint = torch.load(file_name, \\\n",
    "                        map_location=torch.device(\"cuda:0\" if torch.cuda.is_available() == True else 'cpu'))\n",
    "        pretrain_dict = checkpoint['net']\n",
    "        model_dict = model.state_dict()\n",
    "        pretrain_dict = transfer_gru_dict(pretrain_dict, model_dict)\n",
    "        model_dict.update(pretrain_dict)\n",
    "        model.load_state_dict(model_dict)\n",
    "        \n",
    "    optimizer = torch.optim.Adam(model.parameters(), lr=1e-3)\n",
    "\n",
    "    fold_count += 1\n",
    "#     print(train)\n",
    "\n",
    "    \n",
    "    train_x = [long_x[i] for i in train]\n",
    "    train_y = [long_time[i] for i in train]\n",
    "    train_outcome = [long_y[i] for i in train]\n",
    "    train_x_len = [all_x_len[i] for i in train]\n",
    "    #train_static = [long_static[i] for i in train]\n",
    "    \n",
    "    train_x, train_y, train_x_len, train_outcome = get_n2n_data(train_x, train_y, train_x_len, outcome=train_outcome)\n",
    "    \n",
    "    test_x = [long_x[i] for i in test]\n",
    "    test_y = [long_time[i] for i in test]\n",
    "    test_outcome = [long_y[i] for i in test]\n",
    "    test_x_len = [all_x_len[i] for i in test]\n",
    "    #test_static = [long_static[i] for i in test]\n",
    "    \n",
    "    test_x, test_y, test_x_len, test_outcome = get_n2n_data(test_x, test_y, test_x_len, outcome=test_outcome)\n",
    "    \n",
    "    if not os.path.exists('./model/'+data_str):\n",
    "        os.mkdir('./model/'+data_str)\n",
    "        \n",
    "    if transfer_flag:\n",
    "        target_file_name = './model/'+data_str+'/distcare-trans-'+str(n_splits)+'-fold-LOS-regression-Attention' + str(fold_count)#4114\n",
    "    else:\n",
    "        target_file_name = './model/'+data_str+'/distcare-no-trans-'+str(n_splits)+'-fold-LOS-regression-Attention' + str(fold_count)#4114\n",
    "    \n",
    "    fold_train_loss = []\n",
    "    fold_valid_loss = []\n",
    "    best_mse = 10000\n",
    "    best_mad = 0\n",
    "    best_auroc = 0\n",
    "    beat_auprc = 0\n",
    "    best_mape = 0\n",
    "    best_kappa = 0\n",
    "    \n",
    "    for each_epoch in range(epochs):\n",
    "       \n",
    "        \n",
    "        epoch_loss = []\n",
    "        counter_batch = 0\n",
    "        model.train()  \n",
    "        \n",
    "        for step, (batch_x, batch_y, batch_lens, batch_outcome) in enumerate(ckd_batch_iter(train_x, train_y, train_x_len, batch_size, shuffle=True, outcome=train_outcome)):  \n",
    "            optimizer.zero_grad()\n",
    "            batch_x = torch.tensor(pad_sents(batch_x, pad_token), dtype=torch.float32).to(device)\n",
    "            batch_y = torch.tensor(batch_y, dtype=torch.float32).to(device)\n",
    "            batch_lens = torch.tensor(batch_lens, dtype=torch.float32).to(device).int()\n",
    "            batch_outcome = torch.tensor(batch_outcome, dtype=torch.float32).to(device)\n",
    "\n",
    "            masks = length_to_mask(batch_lens).unsqueeze(-1).float()\n",
    "\n",
    "            opt, decov_loss, emb, outcome, _ = model(batch_x, batch_lens)\n",
    "\n",
    "#             MSE_Loss = get_re_loss(opt, batch_y.unsqueeze(-1))\n",
    "            pred_loss = get_target_multitask_loss(opt, batch_y.unsqueeze(-1), outcome, batch_outcome.unsqueeze(-1))\n",
    "\n",
    "#             model_loss = pred_loss + 1e7*decov_loss\n",
    "            model_loss = pred_loss\n",
    "\n",
    "            loss = model_loss\n",
    "\n",
    "            epoch_loss.append(pred_loss.cpu().detach().numpy())\n",
    "            loss.backward()\n",
    "            torch.nn.utils.clip_grad_norm_(model.parameters(), 20)\n",
    "            optimizer.step()\n",
    "            \n",
    "            if step % 50 == 0:\n",
    "                print('Fold %d Epoch %d Batch %d: Train Loss = %.4f'%(fold_count,each_epoch, step, loss.cpu().detach().numpy()))\n",
    "                logger.info('Fold %d Epoch %d Batch %d: Train Loss = %.4f'%(fold_count,each_epoch, step, loss.cpu().detach().numpy()))\n",
    "            \n",
    "        epoch_loss = np.mean(epoch_loss)\n",
    "        fold_train_loss.append(epoch_loss)\n",
    "\n",
    "        #Validation\n",
    "        y_true = []\n",
    "        y_pred = []\n",
    "        y_pred_flatten = []\n",
    "        y_true_flatten = []\n",
    "        outcome_pred_flatten = []\n",
    "        outcome_true_flatten = []\n",
    "        with torch.no_grad():\n",
    "            model.eval()\n",
    "            valid_loss = []\n",
    "            valid_true = []\n",
    "            valid_pred = []\n",
    "            for batch_x, batch_y, batch_lens, batch_outcome in ckd_batch_iter(test_x, test_y, test_x_len, batch_size, outcome=test_outcome):\n",
    "                batch_x = torch.tensor(pad_sents(batch_x, pad_token), dtype=torch.float32).to(device)\n",
    "                batch_y = torch.tensor(batch_y, dtype=torch.float32).to(device)\n",
    "                batch_lens = torch.tensor(batch_lens, dtype=torch.float32).to(device).int()\n",
    "                batch_outcome = torch.tensor(batch_outcome, dtype=torch.float32).to(device)\n",
    "                masks = length_to_mask(batch_lens).unsqueeze(-1).float()\n",
    "               \n",
    "                opt, decov_loss, emb, outcome, _ = model(batch_x, batch_lens)\n",
    "                \n",
    "#                 MSE_Loss = get_re_loss(opt, batch_y.unsqueeze(-1))\n",
    "                pred_loss = get_target_multitask_loss(opt, batch_y.unsqueeze(-1), outcome, batch_outcome.unsqueeze(-1))\n",
    "                \n",
    "                valid_loss.append(pred_loss.cpu().detach().numpy())\n",
    "\n",
    "                y_pred_flatten += [reverse_los(x, los_info) for x in list(opt.cpu().detach().numpy().flatten())]\n",
    "                y_true_flatten += [reverse_los(x, los_info) for x in list(batch_y.cpu().numpy().flatten())]\n",
    "                outcome_pred_flatten += list(outcome.cpu().detach().numpy().flatten())\n",
    "                outcome_true_flatten += list(batch_outcome.cpu().numpy().flatten())\n",
    "            \n",
    "\n",
    "            valid_loss = np.mean(valid_loss)\n",
    "            fold_valid_loss.append(valid_loss)\n",
    "            ret = metrics.print_metrics_regression(y_true_flatten, y_pred_flatten, verbose=0)\n",
    "            print(ret)\n",
    "            ret_outcome = metrics.print_metrics_binary(outcome_true_flatten, outcome_pred_flatten, verbose=0)\n",
    "            history.append((ret, ret_outcome))\n",
    "            #print()\n",
    "\n",
    "            if each_epoch % 10 == 0:\n",
    "                print('Fold %d, epoch %d: Loss = %.4f Valid loss = %.4f MSE = %.4f AUROC = %.4f' % (\n",
    "                    fold_count, each_epoch, fold_train_loss[-1], fold_valid_loss[-1], ret['mse'], ret_outcome['auroc']), flush=True)\n",
    "                logger.info('Fold %d, epoch %d: Loss = %.4f Valid loss = %.4f MSE = %.4f AUROC = %.4f' % (\n",
    "                    fold_count, each_epoch, fold_train_loss[-1], fold_valid_loss[-1], ret['mse'], ret_outcome['auroc']))\n",
    "                # metrics.print_metrics_regression(y_true_flatten, y_pred_flatten)\n",
    "                \n",
    "            cur_mse = ret['mse']\n",
    "            cur_auroc = ret_outcome['auroc']\n",
    "            if cur_mse < best_mse:\n",
    "                print('------------ Save FOLD-BEST model - MSE: %.4f ------------' % cur_mse, flush=True)\n",
    "                logger.info('------------ Save FOLD-BEST model - MSE: %.4f ------------' % cur_mse)\n",
    "                metrics.print_metrics_regression(y_true_flatten, y_pred_flatten)\n",
    "                best_mse = cur_mse\n",
    "                best_mad = ret['mad']\n",
    "                state = {\n",
    "                    'net': model.state_dict(),\n",
    "                    'optimizer': optimizer.state_dict(),\n",
    "                    'epoch': each_epoch\n",
    "                }\n",
    "                torch.save(state, target_file_name + '_' + str(fold_count))\n",
    "\n",
    "                if cur_mse < global_best:\n",
    "                    global_best = cur_mse\n",
    "                    state = {\n",
    "                        'net': model.state_dict(),\n",
    "                        'optimizer': optimizer.state_dict(),\n",
    "                        'epoch': each_epoch\n",
    "                    }\n",
    "                    torch.save(state, target_file_name)\n",
    "                    print('------------ Save best model - MSE: %.4f ------------' % cur_mse, flush=True)\n",
    "                    logger.info('------------ Save best model - MSE: %.4f ------------' % cur_mse)\n",
    "            if cur_auroc > best_auroc:\n",
    "                print('------------ auroc-BEST model - auroc: %.4f ------------' % cur_auroc, flush=True)\n",
    "                logger.info('------------ auroc-BEST model - auroc: %.4f ------------' % cur_auroc)\n",
    "                best_auroc = ret_outcome['auroc']\n",
    "                best_auprc = ret_outcome['auprc']\n",
    "\n",
    "        print('Fold %d, mse = %.4f, mad = %.4f' % (fold_count, ret['mse'], ret['mad']), flush=True)\n",
    "        logger.info('Fold %d, mse = %.4f, mad = %.4f' % (fold_count, ret['mse'], ret['mad']))\n",
    "\n",
    "    mse.append(best_mse)\n",
    "    mad.append(best_mad)\n",
    "    auroc.append(best_auroc)\n",
    "    auprc.append(best_auprc)\n",
    "    total_train_loss.append(fold_train_loss)\n",
    "    total_valid_loss.append(fold_valid_loss)\n",
    "\n",
    "\n",
    "print('mse %.4f(%.4f)' % (np.mean(mse), np.std(mse)))\n",
    "print('mad %.4f(%.4f)' % (np.mean(mad), np.std(mad)))\n",
    "print('auroc %.4f(%.4f)' % (np.mean(auroc), np.std(auroc)))\n",
    "print('auprc %.4f(%.4f)' % (np.mean(auprc), np.std(auprc)))\n",
    "logger.info('mse %.4f(%.4f)' % (np.mean(mse), np.std(mse)))\n",
    "logger.info('mad %.4f(%.4f)' % (np.mean(mad), np.std(mad)))\n",
    "logger.info('auroc %.4f(%.4f)' % (np.mean(auroc), np.std(auroc)))\n",
    "logger.info('auprc %.4f(%.4f)' % (np.mean(auprc), np.std(auprc)))"
   ]
  },
  {
   "cell_type": "code",
   "execution_count": 111,
   "metadata": {},
   "outputs": [
    {
     "name": "stderr",
     "output_type": "stream",
     "text": [
      "2025-02-23 22:15:32,123 - INFO - best fold: 1\n"
     ]
    },
    {
     "name": "stdout",
     "output_type": "stream",
     "text": [
      "best fold: 1\n"
     ]
    },
    {
     "data": {
      "text/plain": [
       "[27.357332813431746,\n",
       " 42.68925896772803,\n",
       " 28.986524912723997,\n",
       " 32.98009543859958,\n",
       " 38.42528787557058]"
      ]
     },
     "execution_count": 111,
     "metadata": {},
     "output_type": "execute_result"
    }
   ],
   "source": [
    "print(f\"best fold: {np.argmin(mse) + 1}\")\n",
    "logger.info(f\"best fold: {np.argmin(mse) + 1}\")\n",
    "mse"
   ]
  },
  {
   "cell_type": "code",
   "execution_count": null,
   "metadata": {},
   "outputs": [],
   "source": [
    "with open('history.pkl', 'wb') as f:\n",
    "    pickle.dump(history, f)"
   ]
  },
  {
   "cell_type": "code",
   "execution_count": null,
   "metadata": {},
   "outputs": [],
   "source": []
  }
 ],
 "metadata": {
  "kernelspec": {
   "display_name": "Python 3",
   "language": "python",
   "name": "python3"
  },
  "language_info": {
   "codemirror_mode": {
    "name": "ipython",
    "version": 3
   },
   "file_extension": ".py",
   "mimetype": "text/x-python",
   "name": "python",
   "nbconvert_exporter": "python",
   "pygments_lexer": "ipython3",
   "version": "3.7.16"
  },
  "toc": {
   "base_numbering": 1,
   "nav_menu": {},
   "number_sections": true,
   "sideBar": true,
   "skip_h1_title": false,
   "title_cell": "Table of Contents",
   "title_sidebar": "Contents",
   "toc_cell": false,
   "toc_position": {},
   "toc_section_display": true,
   "toc_window_display": false
  }
 },
 "nbformat": 4,
 "nbformat_minor": 2
}
